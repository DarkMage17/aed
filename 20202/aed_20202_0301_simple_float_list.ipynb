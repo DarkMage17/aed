{
  "nbformat": 4,
  "nbformat_minor": 0,
  "metadata": {
    "colab": {
      "name": "aed 20202 0301 simple float list.ipynb",
      "provenance": [],
      "collapsed_sections": [],
      "authorship_tag": "ABX9TyOMCgtcRL0Uu6IoXGMbLlrf",
      "include_colab_link": true
    },
    "kernelspec": {
      "name": "python3",
      "display_name": "Python 3"
    }
  },
  "cells": [
    {
      "cell_type": "markdown",
      "metadata": {
        "id": "view-in-github",
        "colab_type": "text"
      },
      "source": [
        "<a href=\"https://colab.research.google.com/github/pcsilcan/aed/blob/master/20202/aed_20202_0301_simple_float_list.ipynb\" target=\"_parent\"><img src=\"https://colab.research.google.com/assets/colab-badge.svg\" alt=\"Open In Colab\"/></a>"
      ]
    },
    {
      "cell_type": "markdown",
      "metadata": {
        "id": "U1XHbw6NDj_F",
        "colab_type": "text"
      },
      "source": [
        "# Simple Linked List of Floats\n",
        "## Header File - list.h"
      ]
    },
    {
      "cell_type": "code",
      "metadata": {
        "id": "L4sjUSTB_ysQ",
        "colab_type": "code",
        "colab": {
          "base_uri": "https://localhost:8080/",
          "height": 34
        },
        "outputId": "5d27826c-8fbd-4c62-dac5-dca2c6ee5e8e"
      },
      "source": [
        "%%writefile list.h\n",
        "#ifndef __LIST_H__\n",
        "#define __LIST_H__\n",
        "\n",
        "class List {\n",
        "    struct Node;\n",
        "\n",
        "    Node*   head;\n",
        "    int     len;\n",
        "public:\n",
        "    List(): head(nullptr), len(0) {}\n",
        "    ~List();\n",
        "\n",
        "    int     size        ();\n",
        "    bool    empty       ();\n",
        "\n",
        "    void    addFirst    (float elem);\n",
        "    void    addPos      (float elem, int pos);\n",
        "    void    addLast     (float elem);\n",
        "\n",
        "    void    removeFirst ();\n",
        "    void    removePos   (int pos);\n",
        "    void    removeLast  ();\n",
        "\n",
        "    void    editFirst   (float elem);\n",
        "    void    editPos     (float elem, int pos);\n",
        "    void    editLast    (float elem);\n",
        "\n",
        "    float   getFirst    ();\n",
        "    float   get         (int pos);\n",
        "    float   getLast     ();\n",
        "\n",
        "    int     find        (float elem);\n",
        "    int*    findAll     (float elem);\n",
        "};\n",
        "\n",
        "#endif"
      ],
      "execution_count": null,
      "outputs": [
        {
          "output_type": "stream",
          "text": [
            "Writing list.h\n"
          ],
          "name": "stdout"
        }
      ]
    },
    {
      "cell_type": "markdown",
      "metadata": {
        "id": "zbwdLNmdDzF8",
        "colab_type": "text"
      },
      "source": [
        "## Implementation of Node struct"
      ]
    },
    {
      "cell_type": "code",
      "metadata": {
        "id": "T1Mr2QnJAz2b",
        "colab_type": "code",
        "colab": {
          "base_uri": "https://localhost:8080/",
          "height": 34
        },
        "outputId": "6e7ab520-78f5-4418-b64a-ba8eebfcc0f0"
      },
      "source": [
        "%%writefile node.h\n",
        "#include \"list.h\"\n",
        "\n",
        "struct List::Node {\n",
        "    float elem;\n",
        "    Node* next;\n",
        "\n",
        "    Node(float elem, Node* next=nullptr): elem(elem), next(next) {}\n",
        "};"
      ],
      "execution_count": null,
      "outputs": [
        {
          "output_type": "stream",
          "text": [
            "Writing node.h\n"
          ],
          "name": "stdout"
        }
      ]
    },
    {
      "cell_type": "markdown",
      "metadata": {
        "id": "hZ13UqNoD8NQ",
        "colab_type": "text"
      },
      "source": [
        "## Implementation of List methods"
      ]
    },
    {
      "cell_type": "code",
      "metadata": {
        "id": "pbTLdfisD_PC",
        "colab_type": "code",
        "colab": {
          "base_uri": "https://localhost:8080/",
          "height": 34
        },
        "outputId": "7b05c6cd-4b74-4a3f-dc7b-884950c0e7ac"
      },
      "source": [
        "%%writefile list.cpp\n",
        "#include \"list.h\"\n",
        "#include \"node.h\"\n",
        "\n",
        "List::~List() {\n",
        "    while (head != nullptr) {\n",
        "        Node* aux = head;\n",
        "        head = head->next;\n",
        "        delete aux;\n",
        "    }\n",
        "}\n",
        "\n",
        "int     List::size        () {\n",
        "    return len;\n",
        "}\n",
        "bool    List::empty       () {\n",
        "    return len == 0;\n",
        "}\n",
        "\n",
        "void    List::addFirst    (float elem) {\n",
        "    head = new Node(elem, head);\n",
        "    ++len;\n",
        "}\n",
        "void    List::addPos      (float elem, int pos) {\n",
        "    if (pos < 0 || pos > len) return;\n",
        "    if (pos == 0) {\n",
        "        addFirst(elem);\n",
        "    } else {\n",
        "        Node* aux = head;\n",
        "        for (int i = 1; i < pos; ++i) {\n",
        "            aux = aux->next;\n",
        "        }\n",
        "        aux->next = new Node(elem, aux->next);\n",
        "        ++len;\n",
        "    }\n",
        "}\n",
        "void    List::addLast     (float elem) {\n",
        "    addPos(elem, len);\n",
        "}\n",
        "\n",
        "void    List::removeFirst () {\n",
        "    if (len > 0) {\n",
        "        Node* aux = head;\n",
        "        head = head->next;\n",
        "        delete aux;\n",
        "        --len;\n",
        "    }\n",
        "}\n",
        "void    List::removePos   (int pos) {\n",
        "    if (pos < 0 || pos >= len) return;\n",
        "    if (pos == 0) {\n",
        "        removeFirst();\n",
        "    }\n",
        "    else {\n",
        "        Node* aux = head;\n",
        "        for (int i = 1; i < pos; ++i) {\n",
        "            aux = aux->next;\n",
        "        }\n",
        "        Node* aux2 = aux->next;\n",
        "        aux->next = aux2->next;\n",
        "        delete aux2;\n",
        "        --len;\n",
        "    }\n",
        "}\n",
        "void    List::removeLast  () {\n",
        "    removePos(len-1);\n",
        "}\n",
        "\n",
        "void    List::editFirst   (float elem) {\n",
        "    if (len > 0) {\n",
        "        head->elem = elem;\n",
        "    }\n",
        "}\n",
        "void    List::editPos     (float elem, int pos) {\n",
        "    if (pos < 0 || pos >= len) return;\n",
        "    Node* aux = head;\n",
        "    for (int i = 0; i < pos; ++i) {\n",
        "        aux = aux->next;\n",
        "    }\n",
        "    aux->elem = elem;\n",
        "}\n",
        "void    List::editLast    (float elem) {\n",
        "    editPos(elem, len-1);\n",
        "}\n",
        "\n",
        "float   List::getFirst    () {\n",
        "    if (len > 0) {\n",
        "        return head->elem;\n",
        "    } else {\n",
        "        -.0;\n",
        "    }\n",
        "}\n",
        "float   List::get         (int pos) {\n",
        "    if (pos < 0 || pos >= len) -.0;\n",
        "    Node* aux = head;\n",
        "    for (int i = 0; i < pos; ++i) {\n",
        "        aux = aux->next;\n",
        "    }\n",
        "    return aux->elem;\n",
        "}\n",
        "float   List::getLast     () { \n",
        "    return get(len-1);\n",
        "}\n",
        "\n",
        "int     List::find        (float elem) {\n",
        "    Node* aux = head;\n",
        "    for (int i = 0; i < len; ++i) {\n",
        "        if (aux->elem == elem) {\n",
        "            return i;\n",
        "        }\n",
        "        aux = aux->next;\n",
        "    }\n",
        "    return -1;\n",
        "}\n",
        "int*    List::findAll     (float elem) {\n",
        "    return nullptr;\n",
        "}"
      ],
      "execution_count": null,
      "outputs": [
        {
          "output_type": "stream",
          "text": [
            "Writing list.cpp\n"
          ],
          "name": "stdout"
        }
      ]
    },
    {
      "cell_type": "markdown",
      "metadata": {
        "id": "RLqCLOC8E-L-",
        "colab_type": "text"
      },
      "source": [
        "### Testing the list"
      ]
    },
    {
      "cell_type": "code",
      "metadata": {
        "id": "BsXHau0eE9it",
        "colab_type": "code",
        "colab": {
          "base_uri": "https://localhost:8080/",
          "height": 34
        },
        "outputId": "cfa2549f-6982-4538-e7c0-930b4fc850ed"
      },
      "source": [
        "%%writefile main.cpp\n",
        "#include <iostream>\n",
        "#include \"list.h\"\n",
        "\n",
        "using namespace std;\n",
        "\n",
        "int main() {\n",
        "    List* lst = new List();\n",
        "\n",
        "    cout << lst->size() << endl;\n",
        "\n",
        "    lst->addFirst(10.5);\n",
        "    lst->addFirst(7.7);\n",
        "\n",
        "    cout << lst->size() << endl;\n",
        "    cout << lst->getFirst() << endl;\n",
        "\n",
        "    delete lst;\n",
        "    return 0;\n",
        "}"
      ],
      "execution_count": null,
      "outputs": [
        {
          "output_type": "stream",
          "text": [
            "Writing main.cpp\n"
          ],
          "name": "stdout"
        }
      ]
    },
    {
      "cell_type": "code",
      "metadata": {
        "id": "nflZdBy5FRi0",
        "colab_type": "code",
        "colab": {
          "base_uri": "https://localhost:8080/",
          "height": 67
        },
        "outputId": "38140153-2472-435c-a2e9-2ec14e67f666"
      },
      "source": [
        "%%script bash\n",
        "g++ *.cpp && ./a.out"
      ],
      "execution_count": null,
      "outputs": [
        {
          "output_type": "stream",
          "text": [
            "0\n",
            "2\n",
            "7.7\n"
          ],
          "name": "stdout"
        }
      ]
    },
    {
      "cell_type": "markdown",
      "metadata": {
        "id": "mYz--PY6WDQH",
        "colab_type": "text"
      },
      "source": [
        "## Ejercicio!\n",
        "Usando nuestra lista de flotantes, implemente una aplicación que permita:\n",
        "* registrar números\n",
        "* eliminar un número dada su posición en la lista\n",
        "* buscar un número y obtener su posición\n",
        "* listar todos los elementos de la lista\n"
      ]
    },
    {
      "cell_type": "code",
      "metadata": {
        "id": "F07KexkTFcpt",
        "colab_type": "code",
        "colab": {}
      },
      "source": [
        ""
      ],
      "execution_count": null,
      "outputs": []
    }
  ]
}