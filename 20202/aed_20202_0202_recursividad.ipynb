{
  "nbformat": 4,
  "nbformat_minor": 0,
  "metadata": {
    "colab": {
      "name": "aed 20202 0202 recursividad.ipynb",
      "provenance": [],
      "authorship_tag": "ABX9TyOPj/H4ccUqhunLFf5Ai5O3",
      "include_colab_link": true
    },
    "kernelspec": {
      "name": "python3",
      "display_name": "Python 3"
    }
  },
  "cells": [
    {
      "cell_type": "markdown",
      "metadata": {
        "id": "view-in-github",
        "colab_type": "text"
      },
      "source": [
        "<a href=\"https://colab.research.google.com/github/pcsilcan/aed/blob/master/20202/aed_20202_0202_recursividad.ipynb\" target=\"_parent\"><img src=\"https://colab.research.google.com/assets/colab-badge.svg\" alt=\"Open In Colab\"/></a>"
      ]
    },
    {
      "cell_type": "markdown",
      "metadata": {
        "id": "iY1orcZn_92a",
        "colab_type": "text"
      },
      "source": [
        "# Recursividad\n",
        "\n",
        "## Las torres de Hanoi"
      ]
    },
    {
      "cell_type": "code",
      "metadata": {
        "id": "qGm6atLF_3TQ",
        "colab_type": "code",
        "colab": {
          "base_uri": "https://localhost:8080/",
          "height": 34
        },
        "outputId": "42854983-476c-4969-b4a7-00679138bf39"
      },
      "source": [
        "%%writefile hanoi.cpp\n",
        "#include <iostream>\n",
        "\n",
        "using namespace std;\n",
        "\n",
        "// Mover los n discos del poste A al poste B usando C como auxiliar\n",
        "void hanoi(int n, char a, char b, char c) {\n",
        "    if (n > 0) { // en caso sea falso, es la 'condición de parada'\n",
        "        hanoi(n - 1, a, c, b);\n",
        "        cout << \"Mover disco \" << n << \" de \" << a << \" a \" << b << endl;\n",
        "        hanoi(n - 1, c, b, a);\n",
        "    }\n",
        "}\n",
        "\n",
        "int main() {\n",
        "    hanoi(3, 'A', 'C', 'B');\n",
        "\n",
        "    return 0;\n",
        "}"
      ],
      "execution_count": 13,
      "outputs": [
        {
          "output_type": "stream",
          "text": [
            "Overwriting hanoi.cpp\n"
          ],
          "name": "stdout"
        }
      ]
    },
    {
      "cell_type": "code",
      "metadata": {
        "id": "ci1bumgnBfTP",
        "colab_type": "code",
        "colab": {
          "base_uri": "https://localhost:8080/",
          "height": 134
        },
        "outputId": "c9898960-4259-4f85-b4eb-580e262cb939"
      },
      "source": [
        "%%script bash\n",
        "g++ hanoi.cpp && ./a.out"
      ],
      "execution_count": 14,
      "outputs": [
        {
          "output_type": "stream",
          "text": [
            "Mover disco 1 de A a C\n",
            "Mover disco 2 de A a B\n",
            "Mover disco 1 de C a B\n",
            "Mover disco 3 de A a C\n",
            "Mover disco 1 de B a A\n",
            "Mover disco 2 de B a C\n",
            "Mover disco 1 de A a C\n"
          ],
          "name": "stdout"
        }
      ]
    },
    {
      "cell_type": "markdown",
      "metadata": {
        "id": "HJE3S_pwKcQ4",
        "colab_type": "text"
      },
      "source": [
        "## Ejemplos\n",
        "Implementar una función que dado un número N, imprima los números naturales de 1 hasta N.\n",
        "\n",
        "    N? 2\n",
        "    1\n",
        "    2\n",
        "\n",
        "    N? 5\n",
        "    1\n",
        "    2\n",
        "    3\n",
        "    4\n",
        "    5"
      ]
    },
    {
      "cell_type": "code",
      "metadata": {
        "id": "NuzDcJu0BkFG",
        "colab_type": "code",
        "colab": {
          "base_uri": "https://localhost:8080/",
          "height": 34
        },
        "outputId": "9fc4dc14-affa-42f9-ba6c-825f9cc3f693"
      },
      "source": [
        "%%writefile tito.cpp\n",
        "#include <iostream>\n",
        "\n",
        "using namespace std;\n",
        "\n",
        "void contar_n(int n){\n",
        "    if (n > 0) {\n",
        "        contar_n(n-1);\n",
        "        cout << n << endl;\n",
        "    }\n",
        "}\n",
        "int main() {\n",
        "  contar_n(10);  \n",
        "  return 0;\n",
        "}"
      ],
      "execution_count": 18,
      "outputs": [
        {
          "output_type": "stream",
          "text": [
            "Overwriting tito.cpp\n"
          ],
          "name": "stdout"
        }
      ]
    },
    {
      "cell_type": "code",
      "metadata": {
        "id": "rj1Tyo7bMgt9",
        "colab_type": "code",
        "colab": {
          "base_uri": "https://localhost:8080/",
          "height": 185
        },
        "outputId": "7f2856a7-91a3-41d7-b8c9-5b8c3c97d9e3"
      },
      "source": [
        "%%script bash\n",
        "g++ tito.cpp && ./a.out"
      ],
      "execution_count": 19,
      "outputs": [
        {
          "output_type": "stream",
          "text": [
            "1\n",
            "2\n",
            "3\n",
            "4\n",
            "5\n",
            "6\n",
            "7\n",
            "8\n",
            "9\n",
            "10\n"
          ],
          "name": "stdout"
        }
      ]
    },
    {
      "cell_type": "markdown",
      "metadata": {
        "id": "3oB69Z24PefB",
        "colab_type": "text"
      },
      "source": [
        ""
      ]
    },
    {
      "cell_type": "markdown",
      "metadata": {
        "id": "KmeTYX2aPs11",
        "colab_type": "text"
      },
      "source": [
        "Implementar una función que dado un número N, imprima un triangulo de lado N\n",
        "\n",
        "    N? 5\n",
        "    *\n",
        "    * *\n",
        "    * * *\n",
        "    * * * *\n",
        "    * * * * *"
      ]
    },
    {
      "cell_type": "code",
      "metadata": {
        "id": "wibdloh4Pqmj",
        "colab_type": "code",
        "colab": {
          "base_uri": "https://localhost:8080/",
          "height": 34
        },
        "outputId": "d7b6f2e2-7ed8-4c33-93d8-8307fb067c8c"
      },
      "source": [
        "%%writefile vivian.cpp\n",
        "#include <iostream>\n",
        "using namespace std;\n",
        "\n",
        "void starline(int n) {\n",
        "    if (n > 0) {\n",
        "        cout << \"* \";\n",
        "        starline(n - 1);\n",
        "    } else {\n",
        "        cout << endl;\n",
        "    }\n",
        "}\n",
        "\n",
        "void startriangle(int n) {\n",
        "    if (n > 0) {\n",
        "        startriangle(n - 1);\n",
        "        starline(n);\n",
        "    }\n",
        "}\n",
        "\n",
        "void startriangle2(int n, int m, int i, int j) {\n",
        "    if (i < n) {\n",
        "        if (j < m) {\n",
        "            startriangle2(n, m, i, j + 1);\n",
        "            cout << \"* \";\n",
        "        } else {\n",
        "            startriangle2(n, m-1, i + 1, 0);\n",
        "            cout << endl;\n",
        "        }\n",
        "    }\n",
        "}\n",
        "\n",
        "int main(){\n",
        "\tstartriangle2(7, 7, 0, 0);\n",
        "\t\n",
        "\treturn 0;\n",
        "}"
      ],
      "execution_count": 34,
      "outputs": [
        {
          "output_type": "stream",
          "text": [
            "Overwriting vivian.cpp\n"
          ],
          "name": "stdout"
        }
      ]
    },
    {
      "cell_type": "code",
      "metadata": {
        "id": "Fx4G2Xe8SEV6",
        "colab_type": "code",
        "colab": {
          "base_uri": "https://localhost:8080/",
          "height": 151
        },
        "outputId": "be46f9ee-e338-4128-d194-3bf009c5bf43"
      },
      "source": [
        "%%script bash\n",
        "g++ vivian.cpp && ./a.out"
      ],
      "execution_count": 35,
      "outputs": [
        {
          "output_type": "stream",
          "text": [
            "\n",
            "* \n",
            "* * \n",
            "* * * \n",
            "* * * * \n",
            "* * * * * \n",
            "* * * * * * \n",
            "* * * * * * * "
          ],
          "name": "stdout"
        }
      ]
    },
    {
      "cell_type": "code",
      "metadata": {
        "id": "Yd2dVVrESFxq",
        "colab_type": "code",
        "colab": {}
      },
      "source": [
        ""
      ],
      "execution_count": null,
      "outputs": []
    }
  ]
}