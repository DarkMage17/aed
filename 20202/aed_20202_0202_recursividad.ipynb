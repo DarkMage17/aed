{
  "nbformat": 4,
  "nbformat_minor": 0,
  "metadata": {
    "colab": {
      "name": "aed 20202 0202 recursividad.ipynb",
      "provenance": [],
      "authorship_tag": "ABX9TyPWrsUunL2fre6f+IxALd+s",
      "include_colab_link": true
    },
    "kernelspec": {
      "name": "python3",
      "display_name": "Python 3"
    }
  },
  "cells": [
    {
      "cell_type": "markdown",
      "metadata": {
        "id": "view-in-github",
        "colab_type": "text"
      },
      "source": [
        "<a href=\"https://colab.research.google.com/github/pcsilcan/aed/blob/master/20202/aed_20202_0202_recursividad.ipynb\" target=\"_parent\"><img src=\"https://colab.research.google.com/assets/colab-badge.svg\" alt=\"Open In Colab\"/></a>"
      ]
    },
    {
      "cell_type": "markdown",
      "metadata": {
        "id": "iY1orcZn_92a",
        "colab_type": "text"
      },
      "source": [
        "# Recursividad"
      ]
    },
    {
      "cell_type": "code",
      "metadata": {
        "id": "50Fhd_xmEbKT",
        "colab_type": "code",
        "colab": {
          "base_uri": "https://localhost:8080/",
          "height": 34
        },
        "outputId": "5a011c98-6fe9-407a-9be1-ecb7689e8c59"
      },
      "source": [
        "%%writefile recursive1.cpp\n",
        "#include <iostream>\n",
        "\n",
        "using namespace std;\n",
        "\n",
        "void f(int n) {\n",
        "    if (n > 0) {                        // Condición de parada\n",
        "        f(n - 1);                       // llamada recursiva y progreso\n",
        "    } else {\n",
        "        cout << \"Función terminó\\n\";\n",
        "    }\n",
        "}\n",
        "\n",
        "int main() {\n",
        "    f(10);\n",
        "\n",
        "    return 0;\n",
        "}\n"
      ],
      "execution_count": 1,
      "outputs": [
        {
          "output_type": "stream",
          "text": [
            "Writing recursive1.cpp\n"
          ],
          "name": "stdout"
        }
      ]
    },
    {
      "cell_type": "markdown",
      "metadata": {
        "id": "EPhr4vXXEgiq",
        "colab_type": "text"
      },
      "source": [
        "## Las torres de Hanoi"
      ]
    },
    {
      "cell_type": "code",
      "metadata": {
        "id": "qGm6atLF_3TQ",
        "colab_type": "code",
        "colab": {
          "base_uri": "https://localhost:8080/",
          "height": 34
        },
        "outputId": "4afb7793-df7f-45d0-bea9-054a57f2f2ba"
      },
      "source": [
        "%%writefile hanoi.cpp\n",
        "#include <iostream>\n",
        "\n",
        "using namespace std;\n",
        "\n",
        "void hanoi(int n, char pini, char paux, char pfin) {\n",
        "    if (n > 0) {\n",
        "        hanoi(n - 1, pini, pfin, paux);\n",
        "        cout << \"Mover disco \" << n \n",
        "             << \" de \" << pini\n",
        "             << \" a \" << pfin << endl;\n",
        "        hanoi(n - 1, paux, pini, pfin);\n",
        "    }\n",
        "}\n",
        "\n",
        "int main() {\n",
        "    hanoi(3, 'A', 'B', 'C');\n",
        "\n",
        "    return 0;\n",
        "}"
      ],
      "execution_count": 3,
      "outputs": [
        {
          "output_type": "stream",
          "text": [
            "Overwriting hanoi.cpp\n"
          ],
          "name": "stdout"
        }
      ]
    },
    {
      "cell_type": "code",
      "metadata": {
        "id": "ci1bumgnBfTP",
        "colab_type": "code",
        "colab": {
          "base_uri": "https://localhost:8080/",
          "height": 134
        },
        "outputId": "432f16d9-dd51-4434-cb43-dfb8960a035e"
      },
      "source": [
        "%%script bash\n",
        "g++ hanoi.cpp && ./a.out"
      ],
      "execution_count": 4,
      "outputs": [
        {
          "output_type": "stream",
          "text": [
            "Mover disco 1 de A a C\n",
            "Mover disco 2 de A a B\n",
            "Mover disco 1 de C a B\n",
            "Mover disco 3 de A a C\n",
            "Mover disco 1 de B a A\n",
            "Mover disco 2 de B a C\n",
            "Mover disco 1 de A a C\n"
          ],
          "name": "stdout"
        }
      ]
    },
    {
      "cell_type": "markdown",
      "metadata": {
        "id": "HJE3S_pwKcQ4",
        "colab_type": "text"
      },
      "source": [
        "## Ejemplos\n",
        "Implementar una función que dado un número N, imprima los números naturales de 2 hasta N.\n",
        "\n",
        "    N? 2\n",
        "    1\n",
        "    2\n",
        "\n",
        "    N? 5\n",
        "    1\n",
        "    2\n",
        "    3\n",
        "    4\n",
        "    5"
      ]
    },
    {
      "cell_type": "code",
      "metadata": {
        "id": "NuzDcJu0BkFG",
        "colab_type": "code",
        "colab": {
          "base_uri": "https://localhost:8080/",
          "height": 34
        },
        "outputId": "67345ac2-322c-452f-ca1d-7c93a7d1a705"
      },
      "source": [
        "%%writefile tito.cpp\n",
        "#include <iostream>\n",
        "\n",
        "using namespace std;\n",
        "\n",
        "void f(int n){\n",
        "    if (n > 0) {\n",
        "        f(n-1);\n",
        "        cout << n << \" \";\n",
        "    }\n",
        "}\n",
        "int main() {\n",
        "  f(10);  \n",
        "  return 0;\n",
        "}"
      ],
      "execution_count": 14,
      "outputs": [
        {
          "output_type": "stream",
          "text": [
            "Overwriting tito.cpp\n"
          ],
          "name": "stdout"
        }
      ]
    },
    {
      "cell_type": "code",
      "metadata": {
        "id": "rj1Tyo7bMgt9",
        "colab_type": "code",
        "colab": {
          "base_uri": "https://localhost:8080/",
          "height": 34
        },
        "outputId": "4dd45603-fb8c-4af8-8881-b7a45f29e4f0"
      },
      "source": [
        "%%script bash\n",
        "g++ tito.cpp && ./a.out"
      ],
      "execution_count": 8,
      "outputs": [
        {
          "output_type": "stream",
          "text": [
            "1 2 3 4 5 6 7 8 9 10 "
          ],
          "name": "stdout"
        }
      ]
    },
    {
      "cell_type": "markdown",
      "metadata": {
        "id": "3oB69Z24PefB",
        "colab_type": "text"
      },
      "source": [
        "## Ejemplos\n",
        "Implementar una función que dado un número N, imprima los números naturales de 2 hasta N.\n",
        "\n",
        "    N? 2\n",
        "    2\n",
        "    1\n",
        "\n",
        "    N? 5\n",
        "    5\n",
        "    4\n",
        "    3\n",
        "    2\n",
        "    1"
      ]
    },
    {
      "cell_type": "code",
      "metadata": {
        "id": "QvcwiD8QFeKH",
        "colab_type": "code",
        "colab": {
          "base_uri": "https://localhost:8080/",
          "height": 34
        },
        "outputId": "93367731-de2b-4aab-815d-8c733d4f192c"
      },
      "source": [
        "%%writefile jupiter.cpp\n",
        "#include <iostream>\n",
        "\n",
        "using namespace std;\n",
        "\n",
        "void f(int n){\n",
        "    if (n > 0) {\n",
        "        cout << n << \" \";\n",
        "        f(n-1);\n",
        "    }\n",
        "}\n",
        "int main() {\n",
        "  f(10);  \n",
        "  return 0;\n",
        "}"
      ],
      "execution_count": 12,
      "outputs": [
        {
          "output_type": "stream",
          "text": [
            "Overwriting jupiter.cpp\n"
          ],
          "name": "stdout"
        }
      ]
    },
    {
      "cell_type": "code",
      "metadata": {
        "id": "TjA0-0w5Fjjm",
        "colab_type": "code",
        "colab": {
          "base_uri": "https://localhost:8080/",
          "height": 34
        },
        "outputId": "08ae6d08-4085-4964-cb96-c59af2d52cdb"
      },
      "source": [
        "%%script bash\n",
        "g++ jupiter.cpp && ./a.out"
      ],
      "execution_count": 13,
      "outputs": [
        {
          "output_type": "stream",
          "text": [
            "10 9 8 7 6 5 4 3 2 1 "
          ],
          "name": "stdout"
        }
      ]
    },
    {
      "cell_type": "markdown",
      "metadata": {
        "id": "KmeTYX2aPs11",
        "colab_type": "text"
      },
      "source": [
        "Implementar una función que dado un número N, imprima un triangulo de lado N\n",
        "\n",
        "    N? 5\n",
        "    *\n",
        "    * *\n",
        "    * * *\n",
        "    * * * *\n",
        "    * * * * *"
      ]
    },
    {
      "cell_type": "code",
      "metadata": {
        "id": "wibdloh4Pqmj",
        "colab_type": "code",
        "colab": {
          "base_uri": "https://localhost:8080/",
          "height": 34
        },
        "outputId": "d7b6f2e2-7ed8-4c33-93d8-8307fb067c8c"
      },
      "source": [
        "%%writefile vivian.cpp\n",
        "#include <iostream>\n",
        "using namespace std;\n",
        "\n",
        "void starline(int n) {\n",
        "    if (n > 0) {\n",
        "        cout << \"* \";\n",
        "        starline(n - 1);\n",
        "    } else {\n",
        "        cout << endl;\n",
        "    }\n",
        "}\n",
        "\n",
        "void startriangle(int n) {\n",
        "    if (n > 0) {\n",
        "        startriangle(n - 1);\n",
        "        starline(n);\n",
        "    }\n",
        "}\n",
        "\n",
        "void startriangle2(int n, int m, int i, int j) {\n",
        "    if (i < n) {\n",
        "        if (j < m) {\n",
        "            startriangle2(n, m, i, j + 1);\n",
        "            cout << \"* \";\n",
        "        } else {\n",
        "            startriangle2(n, m-1, i + 1, 0);\n",
        "            cout << endl;\n",
        "        }\n",
        "    }\n",
        "}\n",
        "\n",
        "int main(){\n",
        "\tstartriangle2(7, 7, 0, 0);\n",
        "\t\n",
        "\treturn 0;\n",
        "}"
      ],
      "execution_count": null,
      "outputs": [
        {
          "output_type": "stream",
          "text": [
            "Overwriting vivian.cpp\n"
          ],
          "name": "stdout"
        }
      ]
    },
    {
      "cell_type": "code",
      "metadata": {
        "id": "Fx4G2Xe8SEV6",
        "colab_type": "code",
        "colab": {
          "base_uri": "https://localhost:8080/",
          "height": 151
        },
        "outputId": "be46f9ee-e338-4128-d194-3bf009c5bf43"
      },
      "source": [
        "%%script bash\n",
        "g++ vivian.cpp && ./a.out"
      ],
      "execution_count": null,
      "outputs": [
        {
          "output_type": "stream",
          "text": [
            "\n",
            "* \n",
            "* * \n",
            "* * * \n",
            "* * * * \n",
            "* * * * * \n",
            "* * * * * * \n",
            "* * * * * * * "
          ],
          "name": "stdout"
        }
      ]
    },
    {
      "cell_type": "code",
      "metadata": {
        "id": "Yd2dVVrESFxq",
        "colab_type": "code",
        "colab": {}
      },
      "source": [
        ""
      ],
      "execution_count": null,
      "outputs": []
    }
  ]
}