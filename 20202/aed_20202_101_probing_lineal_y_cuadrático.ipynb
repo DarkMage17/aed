{
  "nbformat": 4,
  "nbformat_minor": 0,
  "metadata": {
    "colab": {
      "name": "aed 20202 101 probing lineal y cuadrático.ipynb",
      "provenance": [],
      "authorship_tag": "ABX9TyP/3FXBV+Gzk0ogwrvZt055",
      "include_colab_link": true
    },
    "kernelspec": {
      "name": "python3",
      "display_name": "Python 3"
    }
  },
  "cells": [
    {
      "cell_type": "markdown",
      "metadata": {
        "id": "view-in-github",
        "colab_type": "text"
      },
      "source": [
        "<a href=\"https://colab.research.google.com/github/pcsilcan/aed/blob/master/20202/aed_20202_101_probing_lineal_y_cuadr%C3%A1tico.ipynb\" target=\"_parent\"><img src=\"https://colab.research.google.com/assets/colab-badge.svg\" alt=\"Open In Colab\"/></a>"
      ]
    },
    {
      "cell_type": "markdown",
      "metadata": {
        "id": "OCkmuhGFgA_L"
      },
      "source": [
        "# Probing Lineal\n",
        "Usando un HT **falso** para probar"
      ]
    },
    {
      "cell_type": "code",
      "metadata": {
        "id": "R8NYwvgAaasr",
        "outputId": "6fbb9861-3b48-4932-80e4-bd9b6951367c",
        "colab": {
          "base_uri": "https://localhost:8080/",
          "height": 35
        }
      },
      "source": [
        "%%writefile 1.cpp\n",
        "#include <iostream>\n",
        "#include <vector>\n",
        "\n",
        "using namespace std;\n",
        "\n",
        "class pht {\n",
        "\n",
        "    vector<bool> elements;\n",
        "\n",
        "public:\n",
        "    pht(int cap) : elements(cap, false) {}\n",
        "\n",
        "    int add(int k, bool showCandidates=false) {\n",
        "        for (int i = 0; i < elements.size(); ++i) {\n",
        "            auto idx = h(k, i);\n",
        "            if (!elements[idx]) {\n",
        "                elements[idx] = true;\n",
        "                return idx;\n",
        "            } else if (showCandidates) {\n",
        "                printf(\"(%d) \", idx);\n",
        "            }\n",
        "        }\n",
        "    }\n",
        "\n",
        "private:\n",
        "    int hprima(int k) {\n",
        "        return k % 19;\n",
        "    }\n",
        "\n",
        "    int h(int k, int i) {\n",
        "        return (hprima(k) + i) % 29;\n",
        "    }\n",
        "};\n",
        "\n",
        "int main() {\n",
        "    vector<int> keys = { 6, 34, 67, 92, 96, 8, 5, 3, 2, 25, 4, 16, 44 };\n",
        "    pht* ht = new pht(29);\n",
        "\n",
        "    for (auto k : keys) {\n",
        "        printf(\"%d\\n\", ht->add(k, true));\n",
        "    }\n",
        "\n",
        "    delete ht;\n",
        "\n",
        "    return 0;\n",
        "}"
      ],
      "execution_count": 33,
      "outputs": [
        {
          "output_type": "stream",
          "text": [
            "Overwriting 1.cpp\n"
          ],
          "name": "stdout"
        }
      ]
    },
    {
      "cell_type": "code",
      "metadata": {
        "id": "4tY1G53nbG-K",
        "outputId": "e8dd7822-44e5-4800-d5a9-5cf7cd8e84eb",
        "colab": {
          "base_uri": "https://localhost:8080/",
          "height": 250
        }
      },
      "source": [
        "!g++ -std=c++17 1.cpp && ./a.out"
      ],
      "execution_count": 34,
      "outputs": [
        {
          "output_type": "stream",
          "text": [
            "6\n",
            "15\n",
            "10\n",
            "16\n",
            "1\n",
            "8\n",
            "5\n",
            "3\n",
            "2\n",
            "(6) 7\n",
            "4\n",
            "(16) 17\n",
            "(6) (7) (8) 9\n"
          ],
          "name": "stdout"
        }
      ]
    },
    {
      "cell_type": "markdown",
      "metadata": {
        "id": "5uffcOWqgUJX"
      },
      "source": [
        "# Probing Cuadrático\n",
        "Con un Hashtable falso"
      ]
    },
    {
      "cell_type": "code",
      "metadata": {
        "id": "vRCg5Gl0bMag",
        "outputId": "b08930bf-d2a0-448c-ab19-31599bdbf3be",
        "colab": {
          "base_uri": "https://localhost:8080/",
          "height": 35
        }
      },
      "source": [
        "%%writefile 2.cpp\n",
        "#include <iostream>\n",
        "#include <vector>\n",
        "\n",
        "using namespace std;\n",
        "\n",
        "class pht {\n",
        "\n",
        "    vector<bool> elements;\n",
        "    int c1 = 0;\n",
        "    int c2 = 1;\n",
        "    int m = 31;\n",
        "\n",
        "public:\n",
        "    pht(int cap) : elements(cap, false) {}\n",
        "\n",
        "    int add(int k, bool showCandidates=false) {\n",
        "        for (int i = 0; i < elements.size(); ++i) {\n",
        "            auto idx = h(k, i);\n",
        "            if (!elements[idx]) {\n",
        "                elements[idx] = true;\n",
        "                return idx;\n",
        "            } else if (showCandidates) {\n",
        "                printf(\"(%d) \", idx);\n",
        "            }\n",
        "        }\n",
        "    }\n",
        "\n",
        "private:\n",
        "    int hprima(int k) {\n",
        "        return k % 19;\n",
        "    }\n",
        "\n",
        "    int h(int k, int i) {\n",
        "        return (hprima(k) + c1*i + c2*i*i) % m;\n",
        "    }\n",
        "};\n",
        "\n",
        "int main() {\n",
        "    vector<int> keys = { 6, 34, 67, 92, 96, 8, 5, 3, 2, 25, 4, 16, 44 };\n",
        "    pht* ht = new pht(31);\n",
        "\n",
        "    for (auto k : keys) {\n",
        "        printf(\"%d\\n\", ht->add(k, true));\n",
        "    }\n",
        "\n",
        "    delete ht;\n",
        "\n",
        "    return 0;\n",
        "}"
      ],
      "execution_count": 30,
      "outputs": [
        {
          "output_type": "stream",
          "text": [
            "Writing 2.cpp\n"
          ],
          "name": "stdout"
        }
      ]
    },
    {
      "cell_type": "code",
      "metadata": {
        "id": "xtZpa3NHg8oo",
        "outputId": "ebfa2f93-5f70-4b3e-c7f9-8c9be361f60f",
        "colab": {
          "base_uri": "https://localhost:8080/",
          "height": 250
        }
      },
      "source": [
        "!g++ -std=c++17 2.cpp && ./a.out"
      ],
      "execution_count": 31,
      "outputs": [
        {
          "output_type": "stream",
          "text": [
            "6\n",
            "15\n",
            "10\n",
            "16\n",
            "1\n",
            "8\n",
            "5\n",
            "3\n",
            "2\n",
            "(6) 7\n",
            "4\n",
            "(16) 17\n",
            "(6) (7) (10) (15) 22\n"
          ],
          "name": "stdout"
        }
      ]
    },
    {
      "cell_type": "code",
      "metadata": {
        "id": "uVibgBz3hBLO"
      },
      "source": [
        ""
      ],
      "execution_count": null,
      "outputs": []
    }
  ]
}