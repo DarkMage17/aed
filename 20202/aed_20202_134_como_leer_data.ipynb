{
  "nbformat": 4,
  "nbformat_minor": 0,
  "metadata": {
    "colab": {
      "name": "aed 20202 134 como leer data.ipynb",
      "provenance": [],
      "authorship_tag": "ABX9TyMj66fBaVenml1bCpazq6B/",
      "include_colab_link": true
    },
    "kernelspec": {
      "name": "python3",
      "display_name": "Python 3"
    }
  },
  "cells": [
    {
      "cell_type": "markdown",
      "metadata": {
        "id": "view-in-github",
        "colab_type": "text"
      },
      "source": [
        "<a href=\"https://colab.research.google.com/github/pcsilcan/aed/blob/master/20202/aed_20202_134_como_leer_data.ipynb\" target=\"_parent\"><img src=\"https://colab.research.google.com/assets/colab-badge.svg\" alt=\"Open In Colab\"/></a>"
      ]
    },
    {
      "cell_type": "code",
      "metadata": {
        "id": "H7SbUbD51HWw",
        "outputId": "0cdc9cad-cc3b-42ec-e892-92cbeaeb2bbd",
        "colab": {
          "base_uri": "https://localhost:8080/"
        }
      },
      "source": [
        "%%file data.tsv\n",
        "email\tnames\tlastname\tbirth\theight\tcity\n",
        "jose@gmail.com\tJose Maria\tCampos Lopez\t1999-08-23\t1.78\tLima\n",
        "isabel@hotmail.com\tMaria Isabel\tPerez Smith\t1999-08-23\t1.78\tArequipa"
      ],
      "execution_count": 20,
      "outputs": [
        {
          "output_type": "stream",
          "text": [
            "Overwriting data.tsv\n"
          ],
          "name": "stdout"
        }
      ]
    },
    {
      "cell_type": "code",
      "metadata": {
        "id": "WEAUt6Lf1r3H",
        "outputId": "c71e4d08-75fe-4771-99da-e2b23cd559bc",
        "colab": {
          "base_uri": "https://localhost:8080/"
        }
      },
      "source": [
        "%%file 1.cpp\n",
        "#include <iostream>\n",
        "#include <iomanip>\n",
        "#include <fstream>\n",
        "#include <sstream>\n",
        "#include <string>\n",
        "\n",
        "using namespace std;\n",
        "\n",
        "int main() {\n",
        "    ifstream file(\"data.tsv\");\n",
        "\n",
        "    if (!file.is_open()) {\n",
        "        cerr << \"No se pudo abrir el archivo\";\n",
        "        return -1;\n",
        "    }\n",
        "\n",
        "    bool titles = true;\n",
        "    string email, names, lastname, birthdate, height, city;\n",
        "    while (getline(file, email, '\\t')) {\n",
        "        getline(file, names, '\\t');\n",
        "        getline(file, lastname, '\\t');\n",
        "        getline(file, birthdate, '\\t');\n",
        "        file >> height; file.get();\n",
        "        getline(file, city);\n",
        "\n",
        "        if (titles) {\n",
        "            titles = false;\n",
        "            continue;\n",
        "        }\n",
        "\n",
        "        cout << setw(20) << email\n",
        "             << setw(15) << names\n",
        "             << setw(15) << lastname\n",
        "             << setw(12) << birthdate\n",
        "             << setw(8) << height\n",
        "             << setw(10) << city\n",
        "             << endl;    \n",
        "    }\n",
        "    file.close();\n",
        "\n",
        "    return 0;\n",
        "}"
      ],
      "execution_count": 29,
      "outputs": [
        {
          "output_type": "stream",
          "text": [
            "Overwriting 1.cpp\n"
          ],
          "name": "stdout"
        }
      ]
    },
    {
      "cell_type": "code",
      "metadata": {
        "id": "dvhJeTkJ25ya",
        "outputId": "5c77f447-3464-42f6-e498-dba35341b47c",
        "colab": {
          "base_uri": "https://localhost:8080/"
        }
      },
      "source": [
        "!g++ -std=c++17 -O2 1.cpp -o p1 && ./p1"
      ],
      "execution_count": 30,
      "outputs": [
        {
          "output_type": "stream",
          "text": [
            "      jose@gmail.com     Jose Maria   Campos Lopez  1999-08-23    1.78      Lima\n",
            "  isabel@hotmail.com   Maria Isabel    Perez Smith  1999-08-23    1.78  Arequipa\n"
          ],
          "name": "stdout"
        }
      ]
    },
    {
      "cell_type": "code",
      "metadata": {
        "id": "tASegrx53DwZ"
      },
      "source": [
        ""
      ],
      "execution_count": null,
      "outputs": []
    }
  ]
}