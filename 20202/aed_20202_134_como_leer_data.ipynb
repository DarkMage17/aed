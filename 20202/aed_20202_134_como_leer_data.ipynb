{
  "nbformat": 4,
  "nbformat_minor": 0,
  "metadata": {
    "colab": {
      "name": "aed 20202 134 como leer data.ipynb",
      "provenance": [],
      "authorship_tag": "ABX9TyNggo//lzTx8ddeG1fgYncg",
      "include_colab_link": true
    },
    "kernelspec": {
      "name": "python3",
      "display_name": "Python 3"
    }
  },
  "cells": [
    {
      "cell_type": "markdown",
      "metadata": {
        "id": "view-in-github",
        "colab_type": "text"
      },
      "source": [
        "<a href=\"https://colab.research.google.com/github/pcsilcan/aed/blob/master/20202/aed_20202_134_como_leer_data.ipynb\" target=\"_parent\"><img src=\"https://colab.research.google.com/assets/colab-badge.svg\" alt=\"Open In Colab\"/></a>"
      ]
    },
    {
      "cell_type": "code",
      "metadata": {
        "id": "H7SbUbD51HWw",
        "outputId": "98291547-66c1-4e1f-fe14-c42e43a50889",
        "colab": {
          "base_uri": "https://localhost:8080/"
        }
      },
      "source": [
        "%%writefile data.tsv\n",
        "jose@gmail.com\tJose Maria\tCampos Lopez\t1999-08-23\t1.78\tLima\n",
        "isabel@hotmail.com\tMaria Isabel\tPerez Smith\t1999-08-23\t1.78\tArequipa"
      ],
      "execution_count": 11,
      "outputs": [
        {
          "output_type": "stream",
          "text": [
            "Writing data.tsv\n"
          ],
          "name": "stdout"
        }
      ]
    },
    {
      "cell_type": "code",
      "metadata": {
        "id": "WEAUt6Lf1r3H",
        "outputId": "cafbfe4f-4ff0-433d-80ad-34e728c23e7e",
        "colab": {
          "base_uri": "https://localhost:8080/"
        }
      },
      "source": [
        "%%writefile 1.cpp\n",
        "#include <iostream>\n",
        "#include <fstream>\n",
        "#include <sstream>\n",
        "#include <string>\n",
        "\n",
        "using namespace std;\n",
        "\n",
        "int main() {\n",
        "    ifstream file(\"data.tsv\");\n",
        "\n",
        "    if (!file.is_open()) {\n",
        "        cerr << \"No se pudo abrir el archivo\";\n",
        "        return -1;\n",
        "    }\n",
        "\n",
        "    string email, names, lastname, birthdate, height, city;\n",
        "    while (getline(file, email, '\\t')) {\n",
        "        getline(file, names, '\\t');\n",
        "        getline(file, lastname, '\\t');\n",
        "        getline(file, birthdate, '\\t');\n",
        "        file >> height; file.get();\n",
        "        getline(file, city);\n",
        "\n",
        "        cout << email << endl;\n",
        "        cout << names << endl;\n",
        "        cout << lastname << endl;\n",
        "        cout << birthdate << endl;\n",
        "        cout << height << endl;\n",
        "        cout << city << endl << endl;\n",
        "    }\n",
        "    file.close();\n",
        "\n",
        "    return 0;\n",
        "}"
      ],
      "execution_count": 19,
      "outputs": [
        {
          "output_type": "stream",
          "text": [
            "Overwriting 1.cpp\n"
          ],
          "name": "stdout"
        }
      ]
    },
    {
      "cell_type": "code",
      "metadata": {
        "id": "dvhJeTkJ25ya",
        "outputId": "0a4a0740-e80c-4585-c4b7-f4c2110f6227",
        "colab": {
          "base_uri": "https://localhost:8080/"
        }
      },
      "source": [
        "!g++ -std=c++17 -O2 1.cpp -o p1 && ./p1"
      ],
      "execution_count": 20,
      "outputs": [
        {
          "output_type": "stream",
          "text": [
            "jose@gmail.com\n",
            "Jose Maria\n",
            "Campos Lopez\n",
            "1999-08-23\n",
            "1.78\n",
            "Lima\n",
            "\n",
            "isabel@hotmail.com\n",
            "Maria Isabel\n",
            "Perez Smith\n",
            "1999-08-23\n",
            "1.78\n",
            "Arequipa\n",
            "\n"
          ],
          "name": "stdout"
        }
      ]
    },
    {
      "cell_type": "code",
      "metadata": {
        "id": "tASegrx53DwZ"
      },
      "source": [
        ""
      ],
      "execution_count": null,
      "outputs": []
    }
  ]
}