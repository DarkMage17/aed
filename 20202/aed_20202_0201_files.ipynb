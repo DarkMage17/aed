{
  "nbformat": 4,
  "nbformat_minor": 0,
  "metadata": {
    "colab": {
      "name": "aed 20202 0201 files.ipynb",
      "provenance": [],
      "authorship_tag": "ABX9TyMe5pAvvqsz73EAILI+Jg0u",
      "include_colab_link": true
    },
    "kernelspec": {
      "name": "python3",
      "display_name": "Python 3"
    }
  },
  "cells": [
    {
      "cell_type": "markdown",
      "metadata": {
        "id": "view-in-github",
        "colab_type": "text"
      },
      "source": [
        "<a href=\"https://colab.research.google.com/github/pcsilcan/aed/blob/master/20202/aed_20202_0201_files.ipynb\" target=\"_parent\"><img src=\"https://colab.research.google.com/assets/colab-badge.svg\" alt=\"Open In Colab\"/></a>"
      ]
    },
    {
      "cell_type": "markdown",
      "metadata": {
        "id": "A47rhpLN8GS2",
        "colab_type": "text"
      },
      "source": [
        "# Archivos\n",
        "\n",
        "## Archivos Binarios o de Acceso Aleatorio\n",
        "\n",
        "### Escribir a un archivo binario"
      ]
    },
    {
      "cell_type": "code",
      "metadata": {
        "id": "ibqcn00i7sTp",
        "colab_type": "code",
        "colab": {
          "base_uri": "https://localhost:8080/",
          "height": 34
        },
        "outputId": "aad0fc80-8b58-47ec-f9b7-0facdbbdd28f"
      },
      "source": [
        "%%writefile writebinfile.cpp\n",
        "#include <iostream>\n",
        "#include <fstream>\n",
        "#include <string>\n",
        "\n",
        "using namespace std;\n",
        "\n",
        "int main() {\n",
        "    ofstream fout(\"archivo1.bin\");\n",
        "\n",
        "    char a = 'A';\n",
        "    fout.write(&a, sizeof(char));\n",
        "\n",
        "    int b = 1981;\n",
        "    fout.write((char*)&b, sizeof(int));\n",
        "\n",
        "    long long c = 123451234512351235;\n",
        "    fout.write((char*)&c, sizeof(long long));\n",
        "\n",
        "    float d = 12.49f;\n",
        "    fout.write((char*)&d, sizeof(float));\n",
        "\n",
        "    double e = 1.9e-20;\n",
        "    fout.write((char*)&e, sizeof(double));\n",
        "\n",
        "    string f = \"Todos mis amigos jalaron feo\";\n",
        "    fout.write(f.c_str(), sizeof(char)*f.size()); // no podemos escribir string directamente sino char*\n",
        "\n",
        "    float g[5] = { 1.1f, 2.2f, 3.3f, 4.4f, 5.5f };\n",
        "    fout.write((char*)g, sizeof(float)*5);\n",
        "\n",
        "    fout.close();\n",
        "\n",
        "    return 0;\n",
        "}"
      ],
      "execution_count": 1,
      "outputs": [
        {
          "output_type": "stream",
          "text": [
            "Writing writebinfile.cpp\n"
          ],
          "name": "stdout"
        }
      ]
    },
    {
      "cell_type": "code",
      "metadata": {
        "id": "yZx_IF-594xk",
        "colab_type": "code",
        "colab": {
          "base_uri": "https://localhost:8080/",
          "height": 202
        },
        "outputId": "339701b7-965c-45b7-cd3c-94f7d163afe1"
      },
      "source": [
        "%%script bash\n",
        "g++ writebinfile.cpp && ./a.out && hexdump -C archivo1.bin\n",
        "ls -l"
      ],
      "execution_count": 3,
      "outputs": [
        {
          "output_type": "stream",
          "text": [
            "00000000  41 bd 07 00 00 03 30 31  64 3e 96 b6 01 0a d7 47  |A.....01d>.....G|\n",
            "00000010  41 6e 58 f1 cb 65 6e d6  3b 54 6f 64 6f 73 20 6d  |AnX..en.;Todos m|\n",
            "00000020  69 73 20 61 6d 69 67 6f  73 20 6a 61 6c 61 72 6f  |is amigos jalaro|\n",
            "00000030  6e 20 66 65 6f cd cc 8c  3f cd cc 0c 40 33 33 53  |n feo...?...@33S|\n",
            "00000040  40 cd cc 8c 40 00 00 b0  40                       |@...@...@|\n",
            "00000049\n",
            "total 28\n",
            "-rwxr-xr-x 1 root root 13944 Aug 25 18:54 a.out\n",
            "-rw-r--r-- 1 root root    73 Aug 25 18:54 archivo1.bin\n",
            "drwxr-xr-x 1 root root  4096 Aug 24 16:35 sample_data\n",
            "-rw-r--r-- 1 root root   686 Aug 25 18:53 writebinfile.cpp\n"
          ],
          "name": "stdout"
        }
      ]
    },
    {
      "cell_type": "markdown",
      "metadata": {
        "id": "aNL4Rlpx-kdb",
        "colab_type": "text"
      },
      "source": [
        "### Leer datos de un archivo binario"
      ]
    },
    {
      "cell_type": "code",
      "metadata": {
        "id": "1kq0fNCM-D64",
        "colab_type": "code",
        "colab": {
          "base_uri": "https://localhost:8080/",
          "height": 34
        },
        "outputId": "86d3424f-459f-4514-e285-a2680133b9ea"
      },
      "source": [
        "%%writefile readinfile.cpp\n",
        "#include <iostream>\n",
        "#include <fstream>\n",
        "#include <string>\n",
        "\n",
        "using namespace std;\n",
        "\n",
        "int main() {\n",
        "    ifstream fin(\"archivo1.bin\");\n",
        "\n",
        "    char a;\n",
        "    fin.read(&a, sizeof(char));\n",
        "\n",
        "    int b;\n",
        "    fin.read((char*)&b, sizeof(int));\n",
        "\n",
        "    long long c;\n",
        "    fin.read((char*)&c, sizeof(long long));\n",
        "\n",
        "    float d;\n",
        "    fin.read((char*)&d, sizeof(float));\n",
        "\n",
        "    double e;\n",
        "    fin.read((char*)&e, sizeof(double));\n",
        "\n",
        "    char big[29] = { 0 };\n",
        "    fin.read(big, sizeof(char)*28); // debemos saber exactamente cuantos caracteres son\n",
        "    string f(big);\n",
        "\n",
        "    float g[5];\n",
        "    fin.read((char*)g, sizeof(float)*5);\n",
        "\n",
        "    fin.close();\n",
        "\n",
        "    cout << a << endl;\n",
        "    cout << b << endl;\n",
        "    cout << c << endl;\n",
        "    cout << d << endl;\n",
        "    cout << e << endl;\n",
        "    cout << f << endl;\n",
        "    for (int i = 0; i < 5; ++i) {\n",
        "        cout << g[i] << \" \";\n",
        "    }\n",
        "\n",
        "    return 0;\n",
        "}"
      ],
      "execution_count": 10,
      "outputs": [
        {
          "output_type": "stream",
          "text": [
            "Overwriting readinfile.cpp\n"
          ],
          "name": "stdout"
        }
      ]
    },
    {
      "cell_type": "code",
      "metadata": {
        "id": "h83n9XG1ANVT",
        "colab_type": "code",
        "colab": {
          "base_uri": "https://localhost:8080/",
          "height": 134
        },
        "outputId": "b9399ce4-5fd6-45d4-b3da-1735f61fcbc7"
      },
      "source": [
        "%%script bash\n",
        "g++ readinfile.cpp && ./a.out"
      ],
      "execution_count": 11,
      "outputs": [
        {
          "output_type": "stream",
          "text": [
            "A\n",
            "1981\n",
            "123451234512351235\n",
            "12.49\n",
            "1.9e-20\n",
            "Todos mis amigos jalaron feo\n",
            "1.1 2.2 3.3 4.4 5.5 "
          ],
          "name": "stdout"
        }
      ]
    },
    {
      "cell_type": "markdown",
      "metadata": {
        "id": "lTUYdSPCIOfa",
        "colab_type": "text"
      },
      "source": [
        "### Escribir structs en archivo binario"
      ]
    },
    {
      "cell_type": "code",
      "metadata": {
        "id": "1Is2NJkQAX2w",
        "colab_type": "code",
        "colab": {
          "base_uri": "https://localhost:8080/",
          "height": 34
        },
        "outputId": "d4784f35-9f77-4fc4-f786-5115000e53d5"
      },
      "source": [
        "%%writefile savestructbin.cpp\n",
        "#include <iostream>\n",
        "#include <fstream>\n",
        "#include <string>\n",
        "#include <string.h>\n",
        "\n",
        "using namespace std;\n",
        "\n",
        "struct Product {\n",
        "    int     id;\n",
        "    float   cost;\n",
        "    char    desc[100];\n",
        "};\n",
        "\n",
        "Product newProd(int id, float cost, const char* desc) {\n",
        "    Product p;\n",
        "    p.id = id;\n",
        "    p.cost = cost;\n",
        "    strcpy(p.desc, desc);\n",
        "\n",
        "    return p;\n",
        "}\n",
        "\n",
        "int main() {\n",
        "    ofstream f(\"products.bin\");\n",
        "    Product p[5];\n",
        "    \n",
        "    p[0] = newProd(1, 1.5, \"Pan con tamal\");\n",
        "    p[1] = newProd(2, 1.0, \"Quinoa\");\n",
        "    p[2] = newProd(3, 1.2, \"Pan con camote\");\n",
        "    p[3] = newProd(4, 2.5, \"Pan con lomito\");\n",
        "    p[4] = newProd(5, 1.8, \"Pan con palta\");\n",
        "\n",
        "    int n = 5;\n",
        "    f.write((char*)&n, sizeof(int));\n",
        "    f.write((char*)p, sizeof(Product)*n);\n",
        "\n",
        "    f.close();\n",
        "\n",
        "    return 0;\n",
        "}"
      ],
      "execution_count": 19,
      "outputs": [
        {
          "output_type": "stream",
          "text": [
            "Overwriting savestructbin.cpp\n"
          ],
          "name": "stdout"
        }
      ]
    },
    {
      "cell_type": "code",
      "metadata": {
        "id": "_hQ-gQe1I8FI",
        "colab_type": "code",
        "colab": {
          "base_uri": "https://localhost:8080/",
          "height": 605
        },
        "outputId": "99465dc1-d3b0-431f-a3bc-d4d23df9ef06"
      },
      "source": [
        "%%script bash\n",
        "g++ savestructbin.cpp && ./a.out && hexdump -C products.bin"
      ],
      "execution_count": 20,
      "outputs": [
        {
          "output_type": "stream",
          "text": [
            "00000000  05 00 00 00 01 00 00 00  00 00 c0 3f 50 61 6e 20  |...........?Pan |\n",
            "00000010  63 6f 6e 20 74 61 6d 61  6c 00 00 00 00 00 00 00  |con tamal.......|\n",
            "00000020  00 00 00 00 e0 e9 9c 33  66 7f 00 00 f0 fe 66 33  |.......3f.....f3|\n",
            "00000030  66 7f 00 00 40 dd d3 67  fc 7f 00 00 5a 97 c5 33  |f...@..g....Z..3|\n",
            "00000040  66 7f 00 00 01 f9 9c 33  66 7f 00 00 06 00 00 00  |f......3f.......|\n",
            "00000050  00 00 00 00 c0 f9 9c 33  66 7f 00 00 00 dd d3 67  |.......3f......g|\n",
            "00000060  fc 7f 00 00 b8 ea 9c 33  66 7f 00 00 c0 f9 9c 33  |.......3f......3|\n",
            "00000070  02 00 00 00 00 00 80 3f  51 75 69 6e 6f 61 00 20  |.......?Quinoa. |\n",
            "00000080  74 61 6d 61 6c 00 00 00  00 00 00 00 00 00 00 00  |tamal...........|\n",
            "00000090  e0 e9 9c 33 66 7f 00 00  f0 fe 66 33 66 7f 00 00  |...3f.....f3f...|\n",
            "000000a0  40 dd d3 67 fc 7f 00 00  5a 97 c5 33 66 7f 00 00  |@..g....Z..3f...|\n",
            "000000b0  01 f9 9c 33 66 7f 00 00  06 00 00 00 00 00 00 00  |...3f...........|\n",
            "000000c0  c0 f9 9c 33 66 7f 00 00  00 dd d3 67 fc 7f 00 00  |...3f......g....|\n",
            "000000d0  b8 ea 9c 33 66 7f 00 00  c0 f9 9c 33 03 00 00 00  |...3f......3....|\n",
            "000000e0  9a 99 99 3f 50 61 6e 20  63 6f 6e 20 63 61 6d 6f  |...?Pan con camo|\n",
            "000000f0  74 65 00 00 00 00 00 00  00 00 00 00 e0 e9 9c 33  |te.............3|\n",
            "00000100  66 7f 00 00 f0 fe 66 33  66 7f 00 00 40 dd d3 67  |f.....f3f...@..g|\n",
            "00000110  fc 7f 00 00 5a 97 c5 33  66 7f 00 00 01 f9 9c 33  |....Z..3f......3|\n",
            "00000120  66 7f 00 00 06 00 00 00  00 00 00 00 c0 f9 9c 33  |f..............3|\n",
            "00000130  66 7f 00 00 00 dd d3 67  fc 7f 00 00 b8 ea 9c 33  |f......g.......3|\n",
            "00000140  66 7f 00 00 c0 f9 9c 33  04 00 00 00 00 00 20 40  |f......3...... @|\n",
            "00000150  50 61 6e 20 63 6f 6e 20  6c 6f 6d 69 74 6f 00 00  |Pan con lomito..|\n",
            "00000160  00 00 00 00 00 00 00 00  e0 e9 9c 33 66 7f 00 00  |...........3f...|\n",
            "00000170  f0 fe 66 33 66 7f 00 00  40 dd d3 67 fc 7f 00 00  |..f3f...@..g....|\n",
            "00000180  5a 97 c5 33 66 7f 00 00  01 f9 9c 33 66 7f 00 00  |Z..3f......3f...|\n",
            "00000190  06 00 00 00 00 00 00 00  c0 f9 9c 33 66 7f 00 00  |...........3f...|\n",
            "000001a0  00 dd d3 67 fc 7f 00 00  b8 ea 9c 33 66 7f 00 00  |...g.......3f...|\n",
            "000001b0  c0 f9 9c 33 05 00 00 00  66 66 e6 3f 50 61 6e 20  |...3....ff.?Pan |\n",
            "000001c0  63 6f 6e 20 70 61 6c 74  61 00 00 00 00 00 00 00  |con palta.......|\n",
            "000001d0  00 00 00 00 e0 e9 9c 33  66 7f 00 00 f0 fe 66 33  |.......3f.....f3|\n",
            "000001e0  66 7f 00 00 40 dd d3 67  fc 7f 00 00 5a 97 c5 33  |f...@..g....Z..3|\n",
            "000001f0  66 7f 00 00 01 f9 9c 33  66 7f 00 00 06 00 00 00  |f......3f.......|\n",
            "00000200  00 00 00 00 c0 f9 9c 33  66 7f 00 00 00 dd d3 67  |.......3f......g|\n",
            "00000210  fc 7f 00 00 b8 ea 9c 33  66 7f 00 00 c0 f9 9c 33  |.......3f......3|\n",
            "00000220\n"
          ],
          "name": "stdout"
        }
      ]
    },
    {
      "cell_type": "markdown",
      "metadata": {
        "id": "szEhq9aiKYVT",
        "colab_type": "text"
      },
      "source": [
        "### Leer structs de archivo"
      ]
    },
    {
      "cell_type": "code",
      "metadata": {
        "id": "THf_eqAaKApA",
        "colab_type": "code",
        "colab": {
          "base_uri": "https://localhost:8080/",
          "height": 34
        },
        "outputId": "b4cf780e-9d96-4ecc-cc67-b3cff630a12e"
      },
      "source": [
        "%%writefile readstructbin.cpp\n",
        "#include <iostream>\n",
        "#include <fstream>\n",
        "#include <string>\n",
        "#include <string.h>\n",
        "\n",
        "using namespace std;\n",
        "\n",
        "struct Product {\n",
        "    int     id;\n",
        "    float   cost;\n",
        "    char    desc[100];\n",
        "};\n",
        "\n",
        "int main() {\n",
        "    ifstream f(\"products.bin\");\n",
        "    Product p[5];\n",
        "\n",
        "    f.seekg(0, f.end);\n",
        "    int size = f.tellg();\n",
        "    f.seekg(0, f.beg);\n",
        "\n",
        "    cout << \"File size: \" << size << \" bytes\\n\";\n",
        "    \n",
        "    int n;\n",
        "    f.read((char*)&n, sizeof(int));\n",
        "    f.read((char*)p, sizeof(Product)*n);\n",
        "\n",
        "    f.close();\n",
        "\n",
        "    for (int i = 0; i < n; ++i) {\n",
        "        cout << p[i].id << \"\\t\"\n",
        "             << p[i].cost << \"\\t\"\n",
        "             << string(p[i].desc) << endl;\n",
        "    }\n",
        "\n",
        "    return 0;\n",
        "}"
      ],
      "execution_count": 23,
      "outputs": [
        {
          "output_type": "stream",
          "text": [
            "Writing readstructbin.cpp\n"
          ],
          "name": "stdout"
        }
      ]
    },
    {
      "cell_type": "code",
      "metadata": {
        "id": "99mkzR61LI5K",
        "colab_type": "code",
        "colab": {
          "base_uri": "https://localhost:8080/",
          "height": 118
        },
        "outputId": "0fe26bb2-d770-418e-dcf4-a4468985db30"
      },
      "source": [
        "%%script bash\n",
        "g++ readstructbin.cpp && ./a.out"
      ],
      "execution_count": 24,
      "outputs": [
        {
          "output_type": "stream",
          "text": [
            "File size: 544 bytes\n",
            "1\t1.5\tPan con tamal\n",
            "2\t1\tQuinoa\n",
            "3\t1.2\tPan con camote\n",
            "4\t2.5\tPan con lomito\n",
            "5\t1.8\tPan con palta\n"
          ],
          "name": "stdout"
        }
      ]
    },
    {
      "cell_type": "code",
      "metadata": {
        "id": "6eEBmXn2LPpD",
        "colab_type": "code",
        "colab": {
          "base_uri": "https://localhost:8080/",
          "height": 168
        },
        "outputId": "187eee09-7d38-429a-d486-21c80475dacc"
      },
      "source": [
        "ls -l"
      ],
      "execution_count": 25,
      "outputs": [
        {
          "output_type": "stream",
          "text": [
            "total 44\n",
            "-rwxr-xr-x 1 root root 14392 Aug 25 19:51 \u001b[0m\u001b[01;32ma.out\u001b[0m*\n",
            "-rw-r--r-- 1 root root    73 Aug 25 18:54 archivo1.bin\n",
            "-rw-r--r-- 1 root root   544 Aug 25 19:47 products.bin\n",
            "-rw-r--r-- 1 root root   776 Aug 25 19:06 readinfile.cpp\n",
            "-rw-r--r-- 1 root root   639 Aug 25 19:51 readstructbin.cpp\n",
            "drwxr-xr-x 1 root root  4096 Aug 24 16:35 \u001b[01;34msample_data\u001b[0m/\n",
            "-rw-r--r-- 1 root root   639 Aug 25 19:51 savestructbin.cpp\n",
            "-rw-r--r-- 1 root root   737 Aug 25 19:03 writebinfile.cpp\n"
          ],
          "name": "stdout"
        }
      ]
    },
    {
      "cell_type": "code",
      "metadata": {
        "id": "YujTYKaGLU5c",
        "colab_type": "code",
        "colab": {}
      },
      "source": [
        ""
      ],
      "execution_count": null,
      "outputs": []
    }
  ]
}