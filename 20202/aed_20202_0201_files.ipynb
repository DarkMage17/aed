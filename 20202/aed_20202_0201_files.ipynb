{
  "nbformat": 4,
  "nbformat_minor": 0,
  "metadata": {
    "colab": {
      "name": "aed 20202 0201 files.ipynb",
      "provenance": [],
      "authorship_tag": "ABX9TyPWVibe6BIxcwNgGVVHTcAJ",
      "include_colab_link": true
    },
    "kernelspec": {
      "name": "python3",
      "display_name": "Python 3"
    }
  },
  "cells": [
    {
      "cell_type": "markdown",
      "metadata": {
        "id": "view-in-github",
        "colab_type": "text"
      },
      "source": [
        "<a href=\"https://colab.research.google.com/github/pcsilcan/aed/blob/master/20202/aed_20202_0201_files.ipynb\" target=\"_parent\"><img src=\"https://colab.research.google.com/assets/colab-badge.svg\" alt=\"Open In Colab\"/></a>"
      ]
    },
    {
      "cell_type": "markdown",
      "metadata": {
        "id": "d-OWhsyxgSWe",
        "colab_type": "text"
      },
      "source": [
        "# Archivos!\n",
        "\n",
        "## Archivos Binarios\n",
        "\n",
        "### Escribiendo a un archivo binario"
      ]
    },
    {
      "cell_type": "code",
      "metadata": {
        "id": "SWLLLb5TgMS6",
        "colab_type": "code",
        "colab": {
          "base_uri": "https://localhost:8080/",
          "height": 34
        },
        "outputId": "dc6d8c76-9f0a-4297-ef18-3f54936f7c4d"
      },
      "source": [
        "%%writefile writebinfile.cpp\n",
        "#include <iostream>\n",
        "#include <fstream>\n",
        "#include <string>\n",
        "\n",
        "using namespace std;\n",
        "\n",
        "int main() {\n",
        "    ofstream fout(\"archivo1.bin\");\n",
        "\n",
        "    char a = 'A';\n",
        "    int b = 1981;\n",
        "    float c = 17.89;\n",
        "    long long d = 1234567890;\n",
        "    double e = 1.9e-20;\n",
        "    string f = \"mis amigos jalaron\";\n",
        "    float g[5] = { 1.1, 2.3, 3.3, 4.4, 5.5 };\n",
        "\n",
        "    fout.write(&a, sizeof(char));\n",
        "    fout.write((char*)&b, sizeof(int));\n",
        "    fout.write((char*)&c, sizeof(float));\n",
        "    fout.write((char*)&d, sizeof(long long));\n",
        "    fout.write((char*)&e, sizeof(double));\n",
        "    fout.write(f.c_str(), sizeof(char)*f.size()); // string es objeto!\n",
        "    fout.write((char*)g, sizeof(float)*5);\n",
        "\n",
        "    fout.close();\n",
        "\n",
        "    return 0;\n",
        "}"
      ],
      "execution_count": 3,
      "outputs": [
        {
          "output_type": "stream",
          "text": [
            "Overwriting writebinfile.cpp\n"
          ],
          "name": "stdout"
        }
      ]
    },
    {
      "cell_type": "code",
      "metadata": {
        "id": "WzXTP9WZid90",
        "colab_type": "code",
        "colab": {}
      },
      "source": [
        "%%script bash\n",
        "g++ writebinfile.cpp && ./a.out"
      ],
      "execution_count": 4,
      "outputs": []
    },
    {
      "cell_type": "code",
      "metadata": {
        "id": "suVz44_iii2x",
        "colab_type": "code",
        "colab": {
          "base_uri": "https://localhost:8080/",
          "height": 101
        },
        "outputId": "1f31e721-1adf-4f03-c308-2767026a6bb5"
      },
      "source": [
        "!hexdump -C archivo1.bin"
      ],
      "execution_count": 6,
      "outputs": [
        {
          "output_type": "stream",
          "text": [
            "00000000  41 bd 07 00 00 b8 1e 8f  41 d2 02 96 49 00 00 00  |A.......A...I...|\n",
            "00000010  00 6e 58 f1 cb 65 6e d6  3b 6d 69 73 20 61 6d 69  |.nX..en.;mis ami|\n",
            "00000020  67 6f 73 20 6a 61 6c 61  72 6f 6e cd cc 8c 3f 33  |gos jalaron...?3|\n",
            "00000030  33 13 40 33 33 53 40 cd  cc 8c 40 00 00 b0 40     |3.@33S@...@...@|\n",
            "0000003f\n"
          ],
          "name": "stdout"
        }
      ]
    },
    {
      "cell_type": "code",
      "metadata": {
        "id": "omD2KzvGirCD",
        "colab_type": "code",
        "colab": {
          "base_uri": "https://localhost:8080/",
          "height": 34
        },
        "outputId": "98e4f21e-40e7-47d8-811a-f7a9c8226d51"
      },
      "source": [
        "int(\"7bd\", 16)"
      ],
      "execution_count": 16,
      "outputs": [
        {
          "output_type": "execute_result",
          "data": {
            "text/plain": [
              "1981"
            ]
          },
          "metadata": {
            "tags": []
          },
          "execution_count": 16
        }
      ]
    },
    {
      "cell_type": "markdown",
      "metadata": {
        "id": "DWsTzGyulzQA",
        "colab_type": "text"
      },
      "source": [
        "### Leyendo de un archivo binario"
      ]
    },
    {
      "cell_type": "code",
      "metadata": {
        "id": "-DSJv62SjgMJ",
        "colab_type": "code",
        "colab": {
          "base_uri": "https://localhost:8080/",
          "height": 34
        },
        "outputId": "e243657d-ba7d-49ef-fa6a-75fe22a91222"
      },
      "source": [
        "%%writefile readbinfile.cpp\n",
        "#include <iostream>\n",
        "#include <fstream>\n",
        "#include <string>\n",
        "\n",
        "using namespace std;\n",
        "\n",
        "int main() {\n",
        "    ifstream fin(\"archivo1.bin\");\n",
        "\n",
        "    char a;\n",
        "    int b;\n",
        "    float c;\n",
        "    long long d;\n",
        "    double e;\n",
        "    char f[19] = { 0 };\n",
        "    float g[5];\n",
        "\n",
        "    fin.read(&a, sizeof(char));\n",
        "    fin.read((char*)&b, sizeof(int));\n",
        "    fin.read((char*)&c, sizeof(float));\n",
        "    fin.read((char*)&d, sizeof(long long));\n",
        "    fin.read((char*)&e, sizeof(double));\n",
        "    fin.read(f, sizeof(char)*18);\n",
        "    string strf(f);\n",
        "    fin.read((char*)g, sizeof(float)*5);\n",
        "\n",
        "    fin.close();\n",
        "\n",
        "    cout << a << endl;\n",
        "    cout << b << endl;\n",
        "    cout << c << endl;\n",
        "    cout << d << endl;\n",
        "    cout << e << endl;\n",
        "    cout << strf << endl;\n",
        "    for (int i = 0; i < 5; i++) {\n",
        "        cout << g[i] << \" \";\n",
        "    }\n",
        "\n",
        "    return 0;\n",
        "}"
      ],
      "execution_count": 23,
      "outputs": [
        {
          "output_type": "stream",
          "text": [
            "Overwriting readbinfile.cpp\n"
          ],
          "name": "stdout"
        }
      ]
    },
    {
      "cell_type": "code",
      "metadata": {
        "id": "dx9etbs3mh62",
        "colab_type": "code",
        "colab": {
          "base_uri": "https://localhost:8080/",
          "height": 134
        },
        "outputId": "8078c1b2-b80f-4911-cd97-7dd01826c5be"
      },
      "source": [
        "%%script bash\n",
        "g++ readbinfile.cpp && ./a.out"
      ],
      "execution_count": 24,
      "outputs": [
        {
          "output_type": "stream",
          "text": [
            "A\n",
            "1981\n",
            "17.89\n",
            "1234567890\n",
            "1.9e-20\n",
            "mis amigos jalaron\n",
            "1.1 2.3 3.3 4.4 5.5 "
          ],
          "name": "stdout"
        }
      ]
    },
    {
      "cell_type": "code",
      "metadata": {
        "id": "Yt5rpsOvmouu",
        "colab_type": "code",
        "colab": {}
      },
      "source": [
        ""
      ],
      "execution_count": null,
      "outputs": []
    }
  ]
}