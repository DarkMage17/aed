{
  "nbformat": 4,
  "nbformat_minor": 0,
  "metadata": {
    "colab": {
      "name": "aed 20202 0201 files.ipynb",
      "provenance": [],
      "authorship_tag": "ABX9TyPx1NxrhJFpZTX7R6ImnnkG",
      "include_colab_link": true
    },
    "kernelspec": {
      "name": "python3",
      "display_name": "Python 3"
    }
  },
  "cells": [
    {
      "cell_type": "markdown",
      "metadata": {
        "id": "view-in-github",
        "colab_type": "text"
      },
      "source": [
        "<a href=\"https://colab.research.google.com/github/pcsilcan/aed/blob/master/20202/aed_20202_0201_files.ipynb\" target=\"_parent\"><img src=\"https://colab.research.google.com/assets/colab-badge.svg\" alt=\"Open In Colab\"/></a>"
      ]
    },
    {
      "cell_type": "markdown",
      "metadata": {
        "id": "A47rhpLN8GS2",
        "colab_type": "text"
      },
      "source": [
        "# Archivos\n",
        "\n",
        "## Archivos Binarios o de Acceso Aleatorio\n",
        "\n",
        "### Escribir a un archivo binario"
      ]
    },
    {
      "cell_type": "code",
      "metadata": {
        "id": "ibqcn00i7sTp",
        "colab_type": "code",
        "colab": {
          "base_uri": "https://localhost:8080/",
          "height": 34
        },
        "outputId": "aad0fc80-8b58-47ec-f9b7-0facdbbdd28f"
      },
      "source": [
        "%%writefile writebinfile.cpp\n",
        "#include <iostream>\n",
        "#include <fstream>\n",
        "#include <string>\n",
        "\n",
        "using namespace std;\n",
        "\n",
        "int main() {\n",
        "    ofstream fout(\"archivo1.bin\");\n",
        "\n",
        "    char a = 'A';\n",
        "    fout.write(&a, sizeof(char));\n",
        "\n",
        "    int b = 1981;\n",
        "    fout.write((char*)&b, sizeof(int));\n",
        "\n",
        "    long long c = 123451234512351235;\n",
        "    fout.write((char*)&c, sizeof(long long));\n",
        "\n",
        "    float d = 12.49f;\n",
        "    fout.write((char*)&d, sizeof(float));\n",
        "\n",
        "    double e = 1.9e-20;\n",
        "    fout.write((char*)&e, sizeof(double));\n",
        "\n",
        "    string f = \"Todos mis amigos jalaron feo\";\n",
        "    fout.write(f.c_str(), sizeof(char)*f.size()); // no podemos escribir string directamente sino char*\n",
        "\n",
        "    float g[5] = { 1.1f, 2.2f, 3.3f, 4.4f, 5.5f };\n",
        "    fout.write((char*)g, sizeof(float)*5);\n",
        "\n",
        "    fout.close();\n",
        "\n",
        "    return 0;\n",
        "}"
      ],
      "execution_count": 1,
      "outputs": [
        {
          "output_type": "stream",
          "text": [
            "Writing writebinfile.cpp\n"
          ],
          "name": "stdout"
        }
      ]
    },
    {
      "cell_type": "code",
      "metadata": {
        "id": "yZx_IF-594xk",
        "colab_type": "code",
        "colab": {
          "base_uri": "https://localhost:8080/",
          "height": 202
        },
        "outputId": "339701b7-965c-45b7-cd3c-94f7d163afe1"
      },
      "source": [
        "%%script bash\n",
        "g++ writebinfile.cpp && ./a.out && hexdump -C archivo1.bin\n",
        "ls -l"
      ],
      "execution_count": 3,
      "outputs": [
        {
          "output_type": "stream",
          "text": [
            "00000000  41 bd 07 00 00 03 30 31  64 3e 96 b6 01 0a d7 47  |A.....01d>.....G|\n",
            "00000010  41 6e 58 f1 cb 65 6e d6  3b 54 6f 64 6f 73 20 6d  |AnX..en.;Todos m|\n",
            "00000020  69 73 20 61 6d 69 67 6f  73 20 6a 61 6c 61 72 6f  |is amigos jalaro|\n",
            "00000030  6e 20 66 65 6f cd cc 8c  3f cd cc 0c 40 33 33 53  |n feo...?...@33S|\n",
            "00000040  40 cd cc 8c 40 00 00 b0  40                       |@...@...@|\n",
            "00000049\n",
            "total 28\n",
            "-rwxr-xr-x 1 root root 13944 Aug 25 18:54 a.out\n",
            "-rw-r--r-- 1 root root    73 Aug 25 18:54 archivo1.bin\n",
            "drwxr-xr-x 1 root root  4096 Aug 24 16:35 sample_data\n",
            "-rw-r--r-- 1 root root   686 Aug 25 18:53 writebinfile.cpp\n"
          ],
          "name": "stdout"
        }
      ]
    },
    {
      "cell_type": "markdown",
      "metadata": {
        "id": "aNL4Rlpx-kdb",
        "colab_type": "text"
      },
      "source": [
        "### Leer datos de un archivo binario"
      ]
    },
    {
      "cell_type": "code",
      "metadata": {
        "id": "1kq0fNCM-D64",
        "colab_type": "code",
        "colab": {
          "base_uri": "https://localhost:8080/",
          "height": 34
        },
        "outputId": "86d3424f-459f-4514-e285-a2680133b9ea"
      },
      "source": [
        "%%writefile readinfile.cpp\n",
        "#include <iostream>\n",
        "#include <fstream>\n",
        "#include <string>\n",
        "\n",
        "using namespace std;\n",
        "\n",
        "int main() {\n",
        "    ifstream fin(\"archivo1.bin\");\n",
        "\n",
        "    char a;\n",
        "    fin.read(&a, sizeof(char));\n",
        "\n",
        "    int b;\n",
        "    fin.read((char*)&b, sizeof(int));\n",
        "\n",
        "    long long c;\n",
        "    fin.read((char*)&c, sizeof(long long));\n",
        "\n",
        "    float d;\n",
        "    fin.read((char*)&d, sizeof(float));\n",
        "\n",
        "    double e;\n",
        "    fin.read((char*)&e, sizeof(double));\n",
        "\n",
        "    char big[29] = { 0 };\n",
        "    fin.read(big, sizeof(char)*28); // debemos saber exactamente cuantos caracteres son\n",
        "    string f(big);\n",
        "\n",
        "    float g[5];\n",
        "    fin.read((char*)g, sizeof(float)*5);\n",
        "\n",
        "    fin.close();\n",
        "\n",
        "    cout << a << endl;\n",
        "    cout << b << endl;\n",
        "    cout << c << endl;\n",
        "    cout << d << endl;\n",
        "    cout << e << endl;\n",
        "    cout << f << endl;\n",
        "    for (int i = 0; i < 5; ++i) {\n",
        "        cout << g[i] << \" \";\n",
        "    }\n",
        "\n",
        "    return 0;\n",
        "}"
      ],
      "execution_count": 10,
      "outputs": [
        {
          "output_type": "stream",
          "text": [
            "Overwriting readinfile.cpp\n"
          ],
          "name": "stdout"
        }
      ]
    },
    {
      "cell_type": "code",
      "metadata": {
        "id": "h83n9XG1ANVT",
        "colab_type": "code",
        "colab": {
          "base_uri": "https://localhost:8080/",
          "height": 134
        },
        "outputId": "b9399ce4-5fd6-45d4-b3da-1735f61fcbc7"
      },
      "source": [
        "%%script bash\n",
        "g++ readinfile.cpp && ./a.out"
      ],
      "execution_count": 11,
      "outputs": [
        {
          "output_type": "stream",
          "text": [
            "A\n",
            "1981\n",
            "123451234512351235\n",
            "12.49\n",
            "1.9e-20\n",
            "Todos mis amigos jalaron feo\n",
            "1.1 2.2 3.3 4.4 5.5 "
          ],
          "name": "stdout"
        }
      ]
    },
    {
      "cell_type": "code",
      "metadata": {
        "id": "1Is2NJkQAX2w",
        "colab_type": "code",
        "colab": {}
      },
      "source": [
        ""
      ],
      "execution_count": null,
      "outputs": []
    }
  ]
}