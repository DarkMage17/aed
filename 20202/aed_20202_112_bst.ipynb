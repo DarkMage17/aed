{
  "nbformat": 4,
  "nbformat_minor": 0,
  "metadata": {
    "colab": {
      "name": "aed 20202 112 bst.ipynb",
      "provenance": [],
      "collapsed_sections": [],
      "authorship_tag": "ABX9TyN91v4wjgcrrTA+xsG3jWV8",
      "include_colab_link": true
    },
    "kernelspec": {
      "name": "python3",
      "display_name": "Python 3"
    }
  },
  "cells": [
    {
      "cell_type": "markdown",
      "metadata": {
        "id": "view-in-github",
        "colab_type": "text"
      },
      "source": [
        "<a href=\"https://colab.research.google.com/github/pcsilcan/aed/blob/master/20202/aed_20202_112_bst.ipynb\" target=\"_parent\"><img src=\"https://colab.research.google.com/assets/colab-badge.svg\" alt=\"Open In Colab\"/></a>"
      ]
    },
    {
      "cell_type": "code",
      "metadata": {
        "id": "9A4YoUBqFbWo",
        "outputId": "591ba5c1-49fb-44d6-a0b0-a385cb6581fe",
        "colab": {
          "base_uri": "https://localhost:8080/"
        }
      },
      "source": [
        "%%writefile bst.h\n",
        "#pragma once\n",
        "\n",
        "#include <functional>\n",
        "#include <string>\n",
        "#include <fstream>\n",
        "\n",
        "using namespace std;\n",
        "\n",
        "template <typename T, typename R=T>\n",
        "class Bst {\n",
        "    struct Node {\n",
        "        T       elem;\n",
        "        Node*   left;\n",
        "        Node*   right;\n",
        "\n",
        "        Node(T elem, Node* left=nullptr, Node* right=nullptr)\n",
        "            : elem(elem), left(left), right(right) {}\n",
        "    };\n",
        "\n",
        "    using lmbKey    = function<R(T)>;\n",
        "    using lmbP      = function<void(T)>;\n",
        "\n",
        "    Node*   root;\n",
        "    int     len;\n",
        "    lmbKey  key;\n",
        "public:\n",
        "    Bst(lmbKey key=[](T a) {return a;}) : root(nullptr), len(0), key(key) {}\n",
        "    ~Bst()                      { destroy(root); }\n",
        "\n",
        "    void add(T elem)            { add(root, elem); }\n",
        "    void inOrder(lmbP proc)     { inOrder(root, proc); }\n",
        "\n",
        "    T find(R attr) {\n",
        "        auto node = find(root, attr);\n",
        "        return node == nullptr? nullptr: node->elem;\n",
        "    }\n",
        "    T greatest() {\n",
        "        if (root == nullptr) {\n",
        "            return nullptr;\n",
        "        } else {\n",
        "            auto node = greatest(root);\n",
        "            return node->elem;\n",
        "        }\n",
        "    }\n",
        "    void remove(R attr) {\n",
        "        auto node = find(root, attr);\n",
        "        if (node == nullptr) return;\n",
        "        if (node->left == nullptr) {\n",
        "            Node* aux = node;\n",
        "            node = node->right;\n",
        "            delete aux;\n",
        "        } else {\n",
        "            auto cand = greatest(node->left);\n",
        "            node->elem = cand->elem;\n",
        "            Node* aux = cand;\n",
        "            cand = cand->left;\n",
        "            delete aux;\n",
        "        }\n",
        "    }\n",
        "\n",
        "//-------------------------------------------------------------------\n",
        "// CÓDIGO SUPER OPCIONAL (NO ES NECESARIO ENTENDER NI USAR SI NO DESEA)\n",
        "//-------------------------------------------------------------------\n",
        "    void generateDot(std::string filename) {\n",
        "        if (root != nullptr) {\n",
        "            std::ofstream file(filename);\n",
        "            file << \"digraph G {\\n\";\n",
        "            generate(root, file);\n",
        "            file << \"}\";\n",
        "        }\n",
        "    }\n",
        "\n",
        "    void generate(Node* node, std::ofstream& file) {\n",
        "        if (node->left != nullptr) {\n",
        "            file << node->elem << \"->\" << node->left->elem << std::endl;\n",
        "            generate(node->left, file);\n",
        "        } else {\n",
        "            file << \"l\" << node->elem << \" [shape=point]\\n\";\n",
        "            file << node->elem << \"->l\" << node->elem << std::endl;\n",
        "        }\n",
        "        if (node->right != nullptr) {\n",
        "            file << node->elem << \"->\" << node->right->elem << std::endl;\n",
        "            generate(node->right, file);\n",
        "        } else {\n",
        "            file << \"r\" << node->elem << \" [shape=point]\\n\";\n",
        "            file << node->elem << \"->r\" << node->elem << std::endl;\n",
        "        }\n",
        "    }\n",
        "//-------------------------------------------------------------------\n",
        "// (end) CÓDIGO SUPER OPCIONAL (NO ES NECESARIO ENTENDER NI USAR SI NO DESEA)\n",
        "//-------------------------------------------------------------------\n",
        "\n",
        "private:\n",
        "    void destroy(Node* node) {\n",
        "        if (node != nullptr) {\n",
        "            destroy(node->left);\n",
        "            destroy(node->right);\n",
        "            delete node;\n",
        "        }\n",
        "    }\n",
        "    void add(Node*& node, T elem) {\n",
        "        if (node == nullptr) {\n",
        "            node = new Node(elem);\n",
        "            ++len;\n",
        "        } else if (key(elem) < key(node->elem)) {\n",
        "            add(node->left, elem);\n",
        "        } else if (key(elem) > key(node->elem)) {\n",
        "            add(node->right, elem);\n",
        "        }\n",
        "    }\n",
        "    void inOrder(Node* node, lmbP proc) {\n",
        "        if (node != nullptr) {\n",
        "            inOrder(node->left, proc);\n",
        "            proc(node->elem);\n",
        "            inOrder(node->right, proc);\n",
        "        }\n",
        "    }\n",
        "    Node*& find(Node*& node, R attr) {\n",
        "        if (node == nullptr) {\n",
        "            return dummynull;\n",
        "        } else if (attr == key(node->elem)) {\n",
        "            return node;\n",
        "        } else if (attr < key(node->elem)) {\n",
        "            return find(node->left, attr);\n",
        "        } else {\n",
        "            return find(node->right, attr);\n",
        "        }\n",
        "        // return find((attr < key(node->elem)? node->left: node->right, attr);\n",
        "    }\n",
        "    Node*& greatest(Node*& node) {\n",
        "        return node->right == nullptr? node: greatest(node->right);\n",
        "    }\n",
        "\n",
        "    // Mandrakeada\n",
        "    Node* dummynull = nullptr;\n",
        "};"
      ],
      "execution_count": 1,
      "outputs": [
        {
          "output_type": "stream",
          "text": [
            "Overwriting bst.h\n"
          ],
          "name": "stdout"
        }
      ]
    },
    {
      "cell_type": "code",
      "metadata": {
        "id": "9I-vHIwnMRgD",
        "outputId": "b8a2dda0-861a-47e8-acdd-265b7fab1c09",
        "colab": {
          "base_uri": "https://localhost:8080/"
        }
      },
      "source": [
        "%%writefile 1.cpp\n",
        "#include <iostream>\n",
        "#include <string>\n",
        "#include <stdlib.h>\n",
        "#include \"bst.h\"\n",
        "\n",
        "using namespace std;\n",
        "\n",
        "\n",
        "int main() {\n",
        "    Bst<int>* bst = new Bst<int>();\n",
        "\n",
        "    srand(1981);\n",
        "    for (int i = 0; i < 20; ++i) {\n",
        "        bst->add(rand() % 100);\n",
        "    }\n",
        "\n",
        "    bst->inOrder([](int x) { cout << x << \" \"; });\n",
        "    cout << endl;\n",
        "\n",
        "    bst->generateDot(\"1.dot\");\n",
        "\n",
        "    return 0;\n",
        "}"
      ],
      "execution_count": 2,
      "outputs": [
        {
          "output_type": "stream",
          "text": [
            "Writing 1.cpp\n"
          ],
          "name": "stdout"
        }
      ]
    },
    {
      "cell_type": "code",
      "metadata": {
        "id": "6Dz_hiHmNRV4",
        "outputId": "768e9a77-441f-4b58-8788-4cd4e9992535",
        "colab": {
          "base_uri": "https://localhost:8080/"
        }
      },
      "source": [
        "!g++ -std=c++17 -O2 -Wall 1.cpp && ./a.out"
      ],
      "execution_count": 3,
      "outputs": [
        {
          "output_type": "stream",
          "text": [
            "0 8 9 16 18 33 36 37 40 51 54 56 62 64 65 68 76 91 93 95 \n"
          ],
          "name": "stdout"
        }
      ]
    },
    {
      "cell_type": "code",
      "metadata": {
        "id": "322WBWkMNW6y",
        "outputId": "255a6169-1c67-4410-f5a9-2bad45ba0e11",
        "colab": {
          "base_uri": "https://localhost:8080/"
        }
      },
      "source": [
        "!cat 1.dot"
      ],
      "execution_count": 4,
      "outputs": [
        {
          "output_type": "stream",
          "text": [
            "digraph G {\n",
            "16->0\n",
            "l0 [shape=point]\n",
            "0->l0\n",
            "0->8\n",
            "l8 [shape=point]\n",
            "8->l8\n",
            "8->9\n",
            "l9 [shape=point]\n",
            "9->l9\n",
            "r9 [shape=point]\n",
            "9->r9\n",
            "16->33\n",
            "33->18\n",
            "l18 [shape=point]\n",
            "18->l18\n",
            "r18 [shape=point]\n",
            "18->r18\n",
            "33->37\n",
            "37->36\n",
            "l36 [shape=point]\n",
            "36->l36\n",
            "r36 [shape=point]\n",
            "36->r36\n",
            "37->56\n",
            "56->51\n",
            "51->40\n",
            "l40 [shape=point]\n",
            "40->l40\n",
            "r40 [shape=point]\n",
            "40->r40\n",
            "51->54\n",
            "l54 [shape=point]\n",
            "54->l54\n",
            "r54 [shape=point]\n",
            "54->r54\n",
            "56->91\n",
            "91->62\n",
            "l62 [shape=point]\n",
            "62->l62\n",
            "62->65\n",
            "65->64\n",
            "l64 [shape=point]\n",
            "64->l64\n",
            "r64 [shape=point]\n",
            "64->r64\n",
            "65->76\n",
            "76->68\n",
            "l68 [shape=point]\n",
            "68->l68\n",
            "r68 [shape=point]\n",
            "68->r68\n",
            "r76 [shape=point]\n",
            "76->r76\n",
            "91->93\n",
            "l93 [shape=point]\n",
            "93->l93\n",
            "93->95\n",
            "l95 [shape=point]\n",
            "95->l95\n",
            "r95 [shape=point]\n",
            "95->r95\n",
            "}"
          ],
          "name": "stdout"
        }
      ]
    },
    {
      "cell_type": "code",
      "metadata": {
        "id": "S4aUMFf8pCao",
        "outputId": "4225eb06-1225-417c-a598-e6250542dff8",
        "colab": {
          "base_uri": "https://localhost:8080/",
          "height": 900
        }
      },
      "source": [
        "import graphviz as gv\n",
        "gv.Source.from_file(\"1.dot\")"
      ],
      "execution_count": 5,
      "outputs": [
        {
          "output_type": "execute_result",
          "data": {
            "text/plain": [
              "<graphviz.files.Source at 0x7f8a8071e860>"
            ],
            "image/svg+xml": "<?xml version=\"1.0\" encoding=\"UTF-8\" standalone=\"no\"?>\n<!DOCTYPE svg PUBLIC \"-//W3C//DTD SVG 1.1//EN\"\n \"http://www.w3.org/Graphics/SVG/1.1/DTD/svg11.dtd\">\n<!-- Generated by graphviz version 2.40.1 (20161225.0304)\n -->\n<!-- Title: G Pages: 1 -->\n<svg width=\"473pt\" height=\"660pt\"\n viewBox=\"0.00 0.00 472.80 659.60\" xmlns=\"http://www.w3.org/2000/svg\" xmlns:xlink=\"http://www.w3.org/1999/xlink\">\n<g id=\"graph0\" class=\"graph\" transform=\"scale(1 1) rotate(0) translate(4 655.6)\">\n<title>G</title>\n<polygon fill=\"#ffffff\" stroke=\"transparent\" points=\"-4,4 -4,-655.6 468.8,-655.6 468.8,4 -4,4\"/>\n<!-- 16 -->\n<g id=\"node1\" class=\"node\">\n<title>16</title>\n<ellipse fill=\"none\" stroke=\"#000000\" cx=\"84.8\" cy=\"-633.6\" rx=\"27\" ry=\"18\"/>\n<text text-anchor=\"middle\" x=\"84.8\" y=\"-629.9\" font-family=\"Times,serif\" font-size=\"14.00\" fill=\"#000000\">16</text>\n</g>\n<!-- 0 -->\n<g id=\"node2\" class=\"node\">\n<title>0</title>\n<ellipse fill=\"none\" stroke=\"#000000\" cx=\"48.8\" cy=\"-561.6\" rx=\"27\" ry=\"18\"/>\n<text text-anchor=\"middle\" x=\"48.8\" y=\"-557.9\" font-family=\"Times,serif\" font-size=\"14.00\" fill=\"#000000\">0</text>\n</g>\n<!-- 16&#45;&gt;0 -->\n<g id=\"edge1\" class=\"edge\">\n<title>16&#45;&gt;0</title>\n<path fill=\"none\" stroke=\"#000000\" d=\"M76.0854,-616.1708C71.8403,-607.6807 66.6464,-597.2929 61.9337,-587.8674\"/>\n<polygon fill=\"#000000\" stroke=\"#000000\" points=\"65.037,-586.2477 57.4343,-578.8687 58.776,-589.3782 65.037,-586.2477\"/>\n</g>\n<!-- 33 -->\n<g id=\"node9\" class=\"node\">\n<title>33</title>\n<ellipse fill=\"none\" stroke=\"#000000\" cx=\"120.8\" cy=\"-561.6\" rx=\"27\" ry=\"18\"/>\n<text text-anchor=\"middle\" x=\"120.8\" y=\"-557.9\" font-family=\"Times,serif\" font-size=\"14.00\" fill=\"#000000\">33</text>\n</g>\n<!-- 16&#45;&gt;33 -->\n<g id=\"edge8\" class=\"edge\">\n<title>16&#45;&gt;33</title>\n<path fill=\"none\" stroke=\"#000000\" d=\"M93.5146,-616.1708C97.7597,-607.6807 102.9536,-597.2929 107.6663,-587.8674\"/>\n<polygon fill=\"#000000\" stroke=\"#000000\" points=\"110.824,-589.3782 112.1657,-578.8687 104.563,-586.2477 110.824,-589.3782\"/>\n</g>\n<!-- l0 -->\n<g id=\"node3\" class=\"node\">\n<title>l0</title>\n<ellipse fill=\"#000000\" stroke=\"#000000\" cx=\"1.8\" cy=\"-489.6\" rx=\"1.8\" ry=\"1.8\"/>\n</g>\n<!-- 0&#45;&gt;l0 -->\n<g id=\"edge2\" class=\"edge\">\n<title>0&#45;&gt;l0</title>\n<path fill=\"none\" stroke=\"#000000\" d=\"M37.6009,-545.1672C30.4082,-534.524 20.9256,-520.3253 12.8,-507.6 11.2626,-505.1924 9.6409,-502.5809 8.129,-500.1132\"/>\n<polygon fill=\"#000000\" stroke=\"#000000\" points=\"10.9738,-498.0533 2.8092,-491.3013 4.9811,-501.6711 10.9738,-498.0533\"/>\n</g>\n<!-- 8 -->\n<g id=\"node4\" class=\"node\">\n<title>8</title>\n<ellipse fill=\"none\" stroke=\"#000000\" cx=\"48.8\" cy=\"-489.6\" rx=\"27\" ry=\"18\"/>\n<text text-anchor=\"middle\" x=\"48.8\" y=\"-485.9\" font-family=\"Times,serif\" font-size=\"14.00\" fill=\"#000000\">8</text>\n</g>\n<!-- 0&#45;&gt;8 -->\n<g id=\"edge3\" class=\"edge\">\n<title>0&#45;&gt;8</title>\n<path fill=\"none\" stroke=\"#000000\" d=\"M48.8,-543.4314C48.8,-535.731 48.8,-526.5743 48.8,-518.0166\"/>\n<polygon fill=\"#000000\" stroke=\"#000000\" points=\"52.3001,-518.0132 48.8,-508.0133 45.3001,-518.0133 52.3001,-518.0132\"/>\n</g>\n<!-- l8 -->\n<g id=\"node5\" class=\"node\">\n<title>l8</title>\n<ellipse fill=\"#000000\" stroke=\"#000000\" cx=\"8.8\" cy=\"-417.6\" rx=\"1.8\" ry=\"1.8\"/>\n</g>\n<!-- 8&#45;&gt;l8 -->\n<g id=\"edge4\" class=\"edge\">\n<title>8&#45;&gt;l8</title>\n<path fill=\"none\" stroke=\"#000000\" d=\"M39.3206,-472.537C31.6967,-458.814 21.2216,-439.9589 14.7378,-428.288\"/>\n<polygon fill=\"#000000\" stroke=\"#000000\" points=\"17.7539,-426.51 9.8379,-419.4681 11.6348,-429.9095 17.7539,-426.51\"/>\n</g>\n<!-- 9 -->\n<g id=\"node6\" class=\"node\">\n<title>9</title>\n<ellipse fill=\"none\" stroke=\"#000000\" cx=\"55.8\" cy=\"-417.6\" rx=\"27\" ry=\"18\"/>\n<text text-anchor=\"middle\" x=\"55.8\" y=\"-413.9\" font-family=\"Times,serif\" font-size=\"14.00\" fill=\"#000000\">9</text>\n</g>\n<!-- 8&#45;&gt;9 -->\n<g id=\"edge5\" class=\"edge\">\n<title>8&#45;&gt;9</title>\n<path fill=\"none\" stroke=\"#000000\" d=\"M50.5664,-471.4314C51.315,-463.731 52.2053,-454.5743 53.0373,-446.0166\"/>\n<polygon fill=\"#000000\" stroke=\"#000000\" points=\"56.5256,-446.3051 54.0098,-436.0133 49.5585,-445.6276 56.5256,-446.3051\"/>\n</g>\n<!-- l9 -->\n<g id=\"node7\" class=\"node\">\n<title>l9</title>\n<ellipse fill=\"#000000\" stroke=\"#000000\" cx=\"44.8\" cy=\"-345.6\" rx=\"1.8\" ry=\"1.8\"/>\n</g>\n<!-- 9&#45;&gt;l9 -->\n<g id=\"edge6\" class=\"edge\">\n<title>9&#45;&gt;l9</title>\n<path fill=\"none\" stroke=\"#000000\" d=\"M53.0242,-399.4314C51.0114,-386.2567 48.3474,-368.8195 46.6046,-357.4119\"/>\n<polygon fill=\"#000000\" stroke=\"#000000\" points=\"50.0462,-356.7634 45.076,-347.4068 43.1265,-357.8207 50.0462,-356.7634\"/>\n</g>\n<!-- r9 -->\n<g id=\"node8\" class=\"node\">\n<title>r9</title>\n<ellipse fill=\"#000000\" stroke=\"#000000\" cx=\"66.8\" cy=\"-345.6\" rx=\"1.8\" ry=\"1.8\"/>\n</g>\n<!-- 9&#45;&gt;r9 -->\n<g id=\"edge7\" class=\"edge\">\n<title>9&#45;&gt;r9</title>\n<path fill=\"none\" stroke=\"#000000\" d=\"M58.5758,-399.4314C60.5886,-386.2567 63.2526,-368.8195 64.9954,-357.4119\"/>\n<polygon fill=\"#000000\" stroke=\"#000000\" points=\"68.4735,-357.8207 66.524,-347.4068 61.5538,-356.7634 68.4735,-357.8207\"/>\n</g>\n<!-- 18 -->\n<g id=\"node10\" class=\"node\">\n<title>18</title>\n<ellipse fill=\"none\" stroke=\"#000000\" cx=\"120.8\" cy=\"-489.6\" rx=\"27\" ry=\"18\"/>\n<text text-anchor=\"middle\" x=\"120.8\" y=\"-485.9\" font-family=\"Times,serif\" font-size=\"14.00\" fill=\"#000000\">18</text>\n</g>\n<!-- 33&#45;&gt;18 -->\n<g id=\"edge9\" class=\"edge\">\n<title>33&#45;&gt;18</title>\n<path fill=\"none\" stroke=\"#000000\" d=\"M120.8,-543.4314C120.8,-535.731 120.8,-526.5743 120.8,-518.0166\"/>\n<polygon fill=\"#000000\" stroke=\"#000000\" points=\"124.3001,-518.0132 120.8,-508.0133 117.3001,-518.0133 124.3001,-518.0132\"/>\n</g>\n<!-- 37 -->\n<g id=\"node13\" class=\"node\">\n<title>37</title>\n<ellipse fill=\"none\" stroke=\"#000000\" cx=\"192.8\" cy=\"-489.6\" rx=\"27\" ry=\"18\"/>\n<text text-anchor=\"middle\" x=\"192.8\" y=\"-485.9\" font-family=\"Times,serif\" font-size=\"14.00\" fill=\"#000000\">37</text>\n</g>\n<!-- 33&#45;&gt;37 -->\n<g id=\"edge12\" class=\"edge\">\n<title>33&#45;&gt;37</title>\n<path fill=\"none\" stroke=\"#000000\" d=\"M136.0693,-546.3307C145.997,-536.403 159.1153,-523.2847 170.2363,-512.1637\"/>\n<polygon fill=\"#000000\" stroke=\"#000000\" points=\"172.9564,-514.3933 177.5527,-504.8473 168.0067,-509.4436 172.9564,-514.3933\"/>\n</g>\n<!-- l18 -->\n<g id=\"node11\" class=\"node\">\n<title>l18</title>\n<ellipse fill=\"#000000\" stroke=\"#000000\" cx=\"114.8\" cy=\"-417.6\" rx=\"1.8\" ry=\"1.8\"/>\n</g>\n<!-- 18&#45;&gt;l18 -->\n<g id=\"edge10\" class=\"edge\">\n<title>18&#45;&gt;l18</title>\n<path fill=\"none\" stroke=\"#000000\" d=\"M119.2859,-471.4314C118.1881,-458.2567 116.735,-440.8195 115.7843,-429.4119\"/>\n<polygon fill=\"#000000\" stroke=\"#000000\" points=\"119.269,-429.0815 114.9506,-419.4068 112.2932,-429.6629 119.269,-429.0815\"/>\n</g>\n<!-- r18 -->\n<g id=\"node12\" class=\"node\">\n<title>r18</title>\n<ellipse fill=\"#000000\" stroke=\"#000000\" cx=\"136.8\" cy=\"-417.6\" rx=\"1.8\" ry=\"1.8\"/>\n</g>\n<!-- 18&#45;&gt;r18 -->\n<g id=\"edge11\" class=\"edge\">\n<title>18&#45;&gt;r18</title>\n<path fill=\"none\" stroke=\"#000000\" d=\"M124.8375,-471.4314C127.7652,-458.2567 131.6401,-440.8195 134.1751,-429.4119\"/>\n<polygon fill=\"#000000\" stroke=\"#000000\" points=\"137.6458,-429.9279 136.3985,-419.4068 130.8125,-428.4094 137.6458,-429.9279\"/>\n</g>\n<!-- 36 -->\n<g id=\"node14\" class=\"node\">\n<title>36</title>\n<ellipse fill=\"none\" stroke=\"#000000\" cx=\"188.8\" cy=\"-417.6\" rx=\"27\" ry=\"18\"/>\n<text text-anchor=\"middle\" x=\"188.8\" y=\"-413.9\" font-family=\"Times,serif\" font-size=\"14.00\" fill=\"#000000\">36</text>\n</g>\n<!-- 37&#45;&gt;36 -->\n<g id=\"edge13\" class=\"edge\">\n<title>37&#45;&gt;36</title>\n<path fill=\"none\" stroke=\"#000000\" d=\"M191.7906,-471.4314C191.3628,-463.731 190.8541,-454.5743 190.3787,-446.0166\"/>\n<polygon fill=\"#000000\" stroke=\"#000000\" points=\"193.8724,-445.8037 189.823,-436.0133 186.8831,-446.192 193.8724,-445.8037\"/>\n</g>\n<!-- 56 -->\n<g id=\"node17\" class=\"node\">\n<title>56</title>\n<ellipse fill=\"none\" stroke=\"#000000\" cx=\"260.8\" cy=\"-417.6\" rx=\"27\" ry=\"18\"/>\n<text text-anchor=\"middle\" x=\"260.8\" y=\"-413.9\" font-family=\"Times,serif\" font-size=\"14.00\" fill=\"#000000\">56</text>\n</g>\n<!-- 37&#45;&gt;56 -->\n<g id=\"edge16\" class=\"edge\">\n<title>37&#45;&gt;56</title>\n<path fill=\"none\" stroke=\"#000000\" d=\"M207.2211,-474.3307C216.5972,-464.403 228.9867,-451.2847 239.4899,-440.1637\"/>\n<polygon fill=\"#000000\" stroke=\"#000000\" points=\"242.078,-442.5207 246.3997,-432.8473 236.9889,-437.7143 242.078,-442.5207\"/>\n</g>\n<!-- l36 -->\n<g id=\"node15\" class=\"node\">\n<title>l36</title>\n<ellipse fill=\"#000000\" stroke=\"#000000\" cx=\"172.8\" cy=\"-345.6\" rx=\"1.8\" ry=\"1.8\"/>\n</g>\n<!-- 36&#45;&gt;l36 -->\n<g id=\"edge14\" class=\"edge\">\n<title>36&#45;&gt;l36</title>\n<path fill=\"none\" stroke=\"#000000\" d=\"M184.7625,-399.4314C181.8348,-386.2567 177.9599,-368.8195 175.4249,-357.4119\"/>\n<polygon fill=\"#000000\" stroke=\"#000000\" points=\"178.7875,-356.4094 173.2015,-347.4068 171.9542,-357.9279 178.7875,-356.4094\"/>\n</g>\n<!-- r36 -->\n<g id=\"node16\" class=\"node\">\n<title>r36</title>\n<ellipse fill=\"#000000\" stroke=\"#000000\" cx=\"194.8\" cy=\"-345.6\" rx=\"1.8\" ry=\"1.8\"/>\n</g>\n<!-- 36&#45;&gt;r36 -->\n<g id=\"edge15\" class=\"edge\">\n<title>36&#45;&gt;r36</title>\n<path fill=\"none\" stroke=\"#000000\" d=\"M190.3141,-399.4314C191.4119,-386.2567 192.865,-368.8195 193.8157,-357.4119\"/>\n<polygon fill=\"#000000\" stroke=\"#000000\" points=\"197.3068,-357.6629 194.6494,-347.4068 190.331,-357.0815 197.3068,-357.6629\"/>\n</g>\n<!-- 51 -->\n<g id=\"node18\" class=\"node\">\n<title>51</title>\n<ellipse fill=\"none\" stroke=\"#000000\" cx=\"253.8\" cy=\"-345.6\" rx=\"27\" ry=\"18\"/>\n<text text-anchor=\"middle\" x=\"253.8\" y=\"-341.9\" font-family=\"Times,serif\" font-size=\"14.00\" fill=\"#000000\">51</text>\n</g>\n<!-- 56&#45;&gt;51 -->\n<g id=\"edge17\" class=\"edge\">\n<title>56&#45;&gt;51</title>\n<path fill=\"none\" stroke=\"#000000\" d=\"M259.0336,-399.4314C258.285,-391.731 257.3947,-382.5743 256.5627,-374.0166\"/>\n<polygon fill=\"#000000\" stroke=\"#000000\" points=\"260.0415,-373.6276 255.5902,-364.0133 253.0744,-374.3051 260.0415,-373.6276\"/>\n</g>\n<!-- 91 -->\n<g id=\"node25\" class=\"node\">\n<title>91</title>\n<ellipse fill=\"none\" stroke=\"#000000\" cx=\"325.8\" cy=\"-345.6\" rx=\"27\" ry=\"18\"/>\n<text text-anchor=\"middle\" x=\"325.8\" y=\"-341.9\" font-family=\"Times,serif\" font-size=\"14.00\" fill=\"#000000\">91</text>\n</g>\n<!-- 56&#45;&gt;91 -->\n<g id=\"edge24\" class=\"edge\">\n<title>56&#45;&gt;91</title>\n<path fill=\"none\" stroke=\"#000000\" d=\"M274.904,-401.9771C283.6773,-392.259 295.1173,-379.587 304.9286,-368.7191\"/>\n<polygon fill=\"#000000\" stroke=\"#000000\" points=\"307.6204,-370.9605 311.7235,-361.1924 302.4245,-366.2698 307.6204,-370.9605\"/>\n</g>\n<!-- 40 -->\n<g id=\"node19\" class=\"node\">\n<title>40</title>\n<ellipse fill=\"none\" stroke=\"#000000\" cx=\"181.8\" cy=\"-273.6\" rx=\"27\" ry=\"18\"/>\n<text text-anchor=\"middle\" x=\"181.8\" y=\"-269.9\" font-family=\"Times,serif\" font-size=\"14.00\" fill=\"#000000\">40</text>\n</g>\n<!-- 51&#45;&gt;40 -->\n<g id=\"edge18\" class=\"edge\">\n<title>51&#45;&gt;40</title>\n<path fill=\"none\" stroke=\"#000000\" d=\"M238.5307,-330.3307C228.603,-320.403 215.4847,-307.2847 204.3637,-296.1637\"/>\n<polygon fill=\"#000000\" stroke=\"#000000\" points=\"206.5933,-293.4436 197.0473,-288.8473 201.6436,-298.3933 206.5933,-293.4436\"/>\n</g>\n<!-- 54 -->\n<g id=\"node22\" class=\"node\">\n<title>54</title>\n<ellipse fill=\"none\" stroke=\"#000000\" cx=\"253.8\" cy=\"-273.6\" rx=\"27\" ry=\"18\"/>\n<text text-anchor=\"middle\" x=\"253.8\" y=\"-269.9\" font-family=\"Times,serif\" font-size=\"14.00\" fill=\"#000000\">54</text>\n</g>\n<!-- 51&#45;&gt;54 -->\n<g id=\"edge21\" class=\"edge\">\n<title>51&#45;&gt;54</title>\n<path fill=\"none\" stroke=\"#000000\" d=\"M253.8,-327.4314C253.8,-319.731 253.8,-310.5743 253.8,-302.0166\"/>\n<polygon fill=\"#000000\" stroke=\"#000000\" points=\"257.3001,-302.0132 253.8,-292.0133 250.3001,-302.0133 257.3001,-302.0132\"/>\n</g>\n<!-- l40 -->\n<g id=\"node20\" class=\"node\">\n<title>l40</title>\n<ellipse fill=\"#000000\" stroke=\"#000000\" cx=\"170.8\" cy=\"-201.6\" rx=\"1.8\" ry=\"1.8\"/>\n</g>\n<!-- 40&#45;&gt;l40 -->\n<g id=\"edge19\" class=\"edge\">\n<title>40&#45;&gt;l40</title>\n<path fill=\"none\" stroke=\"#000000\" d=\"M179.0242,-255.4314C177.0114,-242.2567 174.3474,-224.8195 172.6046,-213.4119\"/>\n<polygon fill=\"#000000\" stroke=\"#000000\" points=\"176.0462,-212.7634 171.076,-203.4068 169.1265,-213.8207 176.0462,-212.7634\"/>\n</g>\n<!-- r40 -->\n<g id=\"node21\" class=\"node\">\n<title>r40</title>\n<ellipse fill=\"#000000\" stroke=\"#000000\" cx=\"192.8\" cy=\"-201.6\" rx=\"1.8\" ry=\"1.8\"/>\n</g>\n<!-- 40&#45;&gt;r40 -->\n<g id=\"edge20\" class=\"edge\">\n<title>40&#45;&gt;r40</title>\n<path fill=\"none\" stroke=\"#000000\" d=\"M184.5758,-255.4314C186.5886,-242.2567 189.2526,-224.8195 190.9954,-213.4119\"/>\n<polygon fill=\"#000000\" stroke=\"#000000\" points=\"194.4735,-213.8207 192.524,-203.4068 187.5538,-212.7634 194.4735,-213.8207\"/>\n</g>\n<!-- l54 -->\n<g id=\"node23\" class=\"node\">\n<title>l54</title>\n<ellipse fill=\"#000000\" stroke=\"#000000\" cx=\"232.8\" cy=\"-201.6\" rx=\"1.8\" ry=\"1.8\"/>\n</g>\n<!-- 54&#45;&gt;l54 -->\n<g id=\"edge22\" class=\"edge\">\n<title>54&#45;&gt;l54</title>\n<path fill=\"none\" stroke=\"#000000\" d=\"M248.609,-255.8022C244.7261,-242.4895 239.5287,-224.67 236.1722,-213.1618\"/>\n<polygon fill=\"#000000\" stroke=\"#000000\" points=\"239.493,-212.0471 233.3329,-203.4271 232.773,-214.0071 239.493,-212.0471\"/>\n</g>\n<!-- r54 -->\n<g id=\"node24\" class=\"node\">\n<title>r54</title>\n<ellipse fill=\"#000000\" stroke=\"#000000\" cx=\"254.8\" cy=\"-201.6\" rx=\"1.8\" ry=\"1.8\"/>\n</g>\n<!-- 54&#45;&gt;r54 -->\n<g id=\"edge23\" class=\"edge\">\n<title>54&#45;&gt;r54</title>\n<path fill=\"none\" stroke=\"#000000\" d=\"M254.0523,-255.4314C254.2353,-242.2567 254.4775,-224.8195 254.6359,-213.4119\"/>\n<polygon fill=\"#000000\" stroke=\"#000000\" points=\"258.1356,-213.4544 254.7749,-203.4068 251.1363,-213.3572 258.1356,-213.4544\"/>\n</g>\n<!-- 62 -->\n<g id=\"node26\" class=\"node\">\n<title>62</title>\n<ellipse fill=\"none\" stroke=\"#000000\" cx=\"325.8\" cy=\"-273.6\" rx=\"27\" ry=\"18\"/>\n<text text-anchor=\"middle\" x=\"325.8\" y=\"-269.9\" font-family=\"Times,serif\" font-size=\"14.00\" fill=\"#000000\">62</text>\n</g>\n<!-- 91&#45;&gt;62 -->\n<g id=\"edge25\" class=\"edge\">\n<title>91&#45;&gt;62</title>\n<path fill=\"none\" stroke=\"#000000\" d=\"M325.8,-327.4314C325.8,-319.731 325.8,-310.5743 325.8,-302.0166\"/>\n<polygon fill=\"#000000\" stroke=\"#000000\" points=\"329.3001,-302.0132 325.8,-292.0133 322.3001,-302.0133 329.3001,-302.0132\"/>\n</g>\n<!-- 93 -->\n<g id=\"node37\" class=\"node\">\n<title>93</title>\n<ellipse fill=\"none\" stroke=\"#000000\" cx=\"397.8\" cy=\"-273.6\" rx=\"27\" ry=\"18\"/>\n<text text-anchor=\"middle\" x=\"397.8\" y=\"-269.9\" font-family=\"Times,serif\" font-size=\"14.00\" fill=\"#000000\">93</text>\n</g>\n<!-- 91&#45;&gt;93 -->\n<g id=\"edge36\" class=\"edge\">\n<title>91&#45;&gt;93</title>\n<path fill=\"none\" stroke=\"#000000\" d=\"M341.0693,-330.3307C350.997,-320.403 364.1153,-307.2847 375.2363,-296.1637\"/>\n<polygon fill=\"#000000\" stroke=\"#000000\" points=\"377.9564,-298.3933 382.5527,-288.8473 373.0067,-293.4436 377.9564,-298.3933\"/>\n</g>\n<!-- l62 -->\n<g id=\"node27\" class=\"node\">\n<title>l62</title>\n<ellipse fill=\"#000000\" stroke=\"#000000\" cx=\"284.8\" cy=\"-201.6\" rx=\"1.8\" ry=\"1.8\"/>\n</g>\n<!-- 62&#45;&gt;l62 -->\n<g id=\"edge26\" class=\"edge\">\n<title>62&#45;&gt;l62</title>\n<path fill=\"none\" stroke=\"#000000\" d=\"M316.0836,-256.537C308.2691,-242.814 297.5321,-223.9589 290.8862,-212.288\"/>\n<polygon fill=\"#000000\" stroke=\"#000000\" points=\"293.8537,-210.4261 285.8638,-203.4681 287.7708,-213.89 293.8537,-210.4261\"/>\n</g>\n<!-- 65 -->\n<g id=\"node28\" class=\"node\">\n<title>65</title>\n<ellipse fill=\"none\" stroke=\"#000000\" cx=\"331.8\" cy=\"-201.6\" rx=\"27\" ry=\"18\"/>\n<text text-anchor=\"middle\" x=\"331.8\" y=\"-197.9\" font-family=\"Times,serif\" font-size=\"14.00\" fill=\"#000000\">65</text>\n</g>\n<!-- 62&#45;&gt;65 -->\n<g id=\"edge27\" class=\"edge\">\n<title>62&#45;&gt;65</title>\n<path fill=\"none\" stroke=\"#000000\" d=\"M327.3141,-255.4314C327.9558,-247.731 328.7188,-238.5743 329.4319,-230.0166\"/>\n<polygon fill=\"#000000\" stroke=\"#000000\" points=\"332.9229,-230.2694 330.2656,-220.0133 325.9471,-229.688 332.9229,-230.2694\"/>\n</g>\n<!-- 64 -->\n<g id=\"node29\" class=\"node\">\n<title>64</title>\n<ellipse fill=\"none\" stroke=\"#000000\" cx=\"295.8\" cy=\"-129.6\" rx=\"27\" ry=\"18\"/>\n<text text-anchor=\"middle\" x=\"295.8\" y=\"-125.9\" font-family=\"Times,serif\" font-size=\"14.00\" fill=\"#000000\">64</text>\n</g>\n<!-- 65&#45;&gt;64 -->\n<g id=\"edge28\" class=\"edge\">\n<title>65&#45;&gt;64</title>\n<path fill=\"none\" stroke=\"#000000\" d=\"M323.0854,-184.1708C318.8403,-175.6807 313.6464,-165.2929 308.9337,-155.8674\"/>\n<polygon fill=\"#000000\" stroke=\"#000000\" points=\"312.037,-154.2477 304.4343,-146.8687 305.776,-157.3782 312.037,-154.2477\"/>\n</g>\n<!-- 76 -->\n<g id=\"node32\" class=\"node\">\n<title>76</title>\n<ellipse fill=\"none\" stroke=\"#000000\" cx=\"367.8\" cy=\"-129.6\" rx=\"27\" ry=\"18\"/>\n<text text-anchor=\"middle\" x=\"367.8\" y=\"-125.9\" font-family=\"Times,serif\" font-size=\"14.00\" fill=\"#000000\">76</text>\n</g>\n<!-- 65&#45;&gt;76 -->\n<g id=\"edge31\" class=\"edge\">\n<title>65&#45;&gt;76</title>\n<path fill=\"none\" stroke=\"#000000\" d=\"M340.5146,-184.1708C344.7597,-175.6807 349.9536,-165.2929 354.6663,-155.8674\"/>\n<polygon fill=\"#000000\" stroke=\"#000000\" points=\"357.824,-157.3782 359.1657,-146.8687 351.563,-154.2477 357.824,-157.3782\"/>\n</g>\n<!-- l64 -->\n<g id=\"node30\" class=\"node\">\n<title>l64</title>\n<ellipse fill=\"#000000\" stroke=\"#000000\" cx=\"284.8\" cy=\"-57.6\" rx=\"1.8\" ry=\"1.8\"/>\n</g>\n<!-- 64&#45;&gt;l64 -->\n<g id=\"edge29\" class=\"edge\">\n<title>64&#45;&gt;l64</title>\n<path fill=\"none\" stroke=\"#000000\" d=\"M293.0242,-111.4314C291.0114,-98.2567 288.3474,-80.8195 286.6046,-69.4119\"/>\n<polygon fill=\"#000000\" stroke=\"#000000\" points=\"290.0462,-68.7634 285.076,-59.4068 283.1265,-69.8207 290.0462,-68.7634\"/>\n</g>\n<!-- r64 -->\n<g id=\"node31\" class=\"node\">\n<title>r64</title>\n<ellipse fill=\"#000000\" stroke=\"#000000\" cx=\"306.8\" cy=\"-57.6\" rx=\"1.8\" ry=\"1.8\"/>\n</g>\n<!-- 64&#45;&gt;r64 -->\n<g id=\"edge30\" class=\"edge\">\n<title>64&#45;&gt;r64</title>\n<path fill=\"none\" stroke=\"#000000\" d=\"M298.5758,-111.4314C300.5886,-98.2567 303.2526,-80.8195 304.9954,-69.4119\"/>\n<polygon fill=\"#000000\" stroke=\"#000000\" points=\"308.4735,-69.8207 306.524,-59.4068 301.5538,-68.7634 308.4735,-69.8207\"/>\n</g>\n<!-- 68 -->\n<g id=\"node33\" class=\"node\">\n<title>68</title>\n<ellipse fill=\"none\" stroke=\"#000000\" cx=\"360.8\" cy=\"-57.6\" rx=\"27\" ry=\"18\"/>\n<text text-anchor=\"middle\" x=\"360.8\" y=\"-53.9\" font-family=\"Times,serif\" font-size=\"14.00\" fill=\"#000000\">68</text>\n</g>\n<!-- 76&#45;&gt;68 -->\n<g id=\"edge32\" class=\"edge\">\n<title>76&#45;&gt;68</title>\n<path fill=\"none\" stroke=\"#000000\" d=\"M366.0336,-111.4314C365.285,-103.731 364.3947,-94.5743 363.5627,-86.0166\"/>\n<polygon fill=\"#000000\" stroke=\"#000000\" points=\"367.0415,-85.6276 362.5902,-76.0133 360.0744,-86.3051 367.0415,-85.6276\"/>\n</g>\n<!-- r76 -->\n<g id=\"node36\" class=\"node\">\n<title>r76</title>\n<ellipse fill=\"#000000\" stroke=\"#000000\" cx=\"407.8\" cy=\"-57.6\" rx=\"1.8\" ry=\"1.8\"/>\n</g>\n<!-- 76&#45;&gt;r76 -->\n<g id=\"edge35\" class=\"edge\">\n<title>76&#45;&gt;r76</title>\n<path fill=\"none\" stroke=\"#000000\" d=\"M377.2794,-112.537C384.9033,-98.814 395.3784,-79.9589 401.8622,-68.288\"/>\n<polygon fill=\"#000000\" stroke=\"#000000\" points=\"404.9652,-69.9095 406.7621,-59.4681 398.8461,-66.51 404.9652,-69.9095\"/>\n</g>\n<!-- l68 -->\n<g id=\"node34\" class=\"node\">\n<title>l68</title>\n<ellipse fill=\"#000000\" stroke=\"#000000\" cx=\"349.8\" cy=\"-1.8\" rx=\"1.8\" ry=\"1.8\"/>\n</g>\n<!-- 68&#45;&gt;l68 -->\n<g id=\"edge33\" class=\"edge\">\n<title>68&#45;&gt;l68</title>\n<path fill=\"none\" stroke=\"#000000\" d=\"M357.259,-39.6374C355.5738,-31.0891 353.6064,-21.1091 352.1154,-13.5455\"/>\n<polygon fill=\"#000000\" stroke=\"#000000\" points=\"355.5174,-12.7061 350.1493,-3.5719 348.6496,-14.06 355.5174,-12.7061\"/>\n</g>\n<!-- r68 -->\n<g id=\"node35\" class=\"node\">\n<title>r68</title>\n<ellipse fill=\"#000000\" stroke=\"#000000\" cx=\"371.8\" cy=\"-1.8\" rx=\"1.8\" ry=\"1.8\"/>\n</g>\n<!-- 68&#45;&gt;r68 -->\n<g id=\"edge34\" class=\"edge\">\n<title>68&#45;&gt;r68</title>\n<path fill=\"none\" stroke=\"#000000\" d=\"M364.341,-39.6374C366.0262,-31.0891 367.9936,-21.1091 369.4846,-13.5455\"/>\n<polygon fill=\"#000000\" stroke=\"#000000\" points=\"372.9504,-14.06 371.4507,-3.5719 366.0826,-12.7061 372.9504,-14.06\"/>\n</g>\n<!-- l93 -->\n<g id=\"node38\" class=\"node\">\n<title>l93</title>\n<ellipse fill=\"#000000\" stroke=\"#000000\" cx=\"390.8\" cy=\"-201.6\" rx=\"1.8\" ry=\"1.8\"/>\n</g>\n<!-- 93&#45;&gt;l93 -->\n<g id=\"edge37\" class=\"edge\">\n<title>93&#45;&gt;l93</title>\n<path fill=\"none\" stroke=\"#000000\" d=\"M396.0336,-255.4314C394.7527,-242.2567 393.0574,-224.8195 391.9484,-213.4119\"/>\n<polygon fill=\"#000000\" stroke=\"#000000\" points=\"395.427,-213.0211 390.9757,-203.4068 388.4598,-213.6985 395.427,-213.0211\"/>\n</g>\n<!-- 95 -->\n<g id=\"node39\" class=\"node\">\n<title>95</title>\n<ellipse fill=\"none\" stroke=\"#000000\" cx=\"437.8\" cy=\"-201.6\" rx=\"27\" ry=\"18\"/>\n<text text-anchor=\"middle\" x=\"437.8\" y=\"-197.9\" font-family=\"Times,serif\" font-size=\"14.00\" fill=\"#000000\">95</text>\n</g>\n<!-- 93&#45;&gt;95 -->\n<g id=\"edge38\" class=\"edge\">\n<title>93&#45;&gt;95</title>\n<path fill=\"none\" stroke=\"#000000\" d=\"M407.2794,-256.537C412.1115,-247.8393 418.0889,-237.0799 423.4696,-227.3948\"/>\n<polygon fill=\"#000000\" stroke=\"#000000\" points=\"426.5917,-228.9819 428.3886,-218.5405 420.4726,-225.5823 426.5917,-228.9819\"/>\n</g>\n<!-- l95 -->\n<g id=\"node40\" class=\"node\">\n<title>l95</title>\n<ellipse fill=\"#000000\" stroke=\"#000000\" cx=\"426.8\" cy=\"-129.6\" rx=\"1.8\" ry=\"1.8\"/>\n</g>\n<!-- 95&#45;&gt;l95 -->\n<g id=\"edge39\" class=\"edge\">\n<title>95&#45;&gt;l95</title>\n<path fill=\"none\" stroke=\"#000000\" d=\"M435.0242,-183.4314C433.0114,-170.2567 430.3474,-152.8195 428.6046,-141.4119\"/>\n<polygon fill=\"#000000\" stroke=\"#000000\" points=\"432.0462,-140.7634 427.076,-131.4068 425.1265,-141.8207 432.0462,-140.7634\"/>\n</g>\n<!-- r95 -->\n<g id=\"node41\" class=\"node\">\n<title>r95</title>\n<ellipse fill=\"#000000\" stroke=\"#000000\" cx=\"448.8\" cy=\"-129.6\" rx=\"1.8\" ry=\"1.8\"/>\n</g>\n<!-- 95&#45;&gt;r95 -->\n<g id=\"edge40\" class=\"edge\">\n<title>95&#45;&gt;r95</title>\n<path fill=\"none\" stroke=\"#000000\" d=\"M440.5758,-183.4314C442.5886,-170.2567 445.2526,-152.8195 446.9954,-141.4119\"/>\n<polygon fill=\"#000000\" stroke=\"#000000\" points=\"450.4735,-141.8207 448.524,-131.4068 443.5538,-140.7634 450.4735,-141.8207\"/>\n</g>\n</g>\n</svg>\n"
          },
          "metadata": {
            "tags": []
          },
          "execution_count": 5
        }
      ]
    },
    {
      "cell_type": "code",
      "metadata": {
        "id": "RW-GcoFkwDzu",
        "outputId": "b9456f22-68ff-45a7-bbeb-76fc7b7435d3",
        "colab": {
          "base_uri": "https://localhost:8080/"
        }
      },
      "source": [
        "%%writefile persona.h\n",
        "#ifndef __PERSONA_H__\n",
        "#define __PERSONA_H__\n",
        "\n",
        "#include <string>\n",
        "\n",
        "using std::string;\n",
        "\n",
        "class Persona {\n",
        "    string  dni;\n",
        "    string  apaterno;\n",
        "    string  amaterno;\n",
        "    string  nombres;\n",
        "    string  fecnac;\n",
        "    float   estatura;\n",
        "public:\n",
        "    Persona(string  dni=\"\",\n",
        "            string  apaterno=\"\",\n",
        "            string  amaterno=\"\",\n",
        "            string  nombres=\"\",\n",
        "            string  fecnac=\"\",\n",
        "            float   estatura=.0f) : dni(dni),\n",
        "                                    apaterno(apaterno),\n",
        "                                    amaterno(amaterno),\n",
        "                                    nombres(nombres),\n",
        "                                    fecnac(fecnac),\n",
        "                                    estatura(estatura) {}\n",
        "               \n",
        "    string  getDni()        { return dni; }\n",
        "    string  getApaterno()   { return apaterno; }\n",
        "    string  getAmaterno()   { return amaterno; }\n",
        "    string  getNombres()    { return nombres; }\n",
        "    string  getFecnac()     { return fecnac; }\n",
        "    float   getEstatura()   { return estatura; }\n",
        "    \n",
        "    void    setDni(string dni)              { this->dni         =  dni; }\n",
        "    void    setApaterno(string apaterno)    { this->apaterno    =  apaterno; }\n",
        "    void    setAmaterno(string amaterno)    { this->amaterno    =  amaterno; }\n",
        "    void    setNombres(string nombres)      { this->nombres     =  nombres; }\n",
        "    void    setFecnac(string fecnac)        { this->fecnac      =  fecnac; }\n",
        "    void    setEstatura(float estatura)     { this->estatura    =  estatura; }\n",
        "};\n",
        "\n",
        "#endif"
      ],
      "execution_count": 6,
      "outputs": [
        {
          "output_type": "stream",
          "text": [
            "Overwriting persona.h\n"
          ],
          "name": "stdout"
        }
      ]
    },
    {
      "cell_type": "code",
      "metadata": {
        "id": "GvN0yrtu7nvo",
        "outputId": "b6c8dd35-17af-44ee-927a-26f1a03ffce2",
        "colab": {
          "base_uri": "https://localhost:8080/"
        }
      },
      "source": [
        "%%writefile 2.cpp\n",
        "#include <iostream>\n",
        "#include <iomanip>\n",
        "#include <fstream>\n",
        "#include <string>\n",
        "#include <sstream>\n",
        "#include <vector>\n",
        "#include <stdlib.h>\n",
        "#include \"persona.h\"\n",
        "#include \"bst.h\"\n",
        "\n",
        "using namespace std;\n",
        "\n",
        "void loadData(vector<string>& vec, string filename) {\n",
        "    ifstream file(filename);\n",
        "    string str;\n",
        "    while (file >> str) {\n",
        "        vec.push_back(str);\n",
        "    }\n",
        "    file.close();\n",
        "}\n",
        "\n",
        "Persona* randPersona(vector<string>& names, vector<string>& lastnames, int i) {\n",
        "    stringstream ssdni, ssfec;\n",
        "    ssdni << setfill('0') << setw(8) << i;\n",
        "    ssfec << (1920 + rand() % 90) << \"-\"\n",
        "          << setfill('0') << setw(2) << (1 + rand() % 12) << \"-\"\n",
        "          << setfill('0') << setw(2) << (1 + rand() % 28);\n",
        "    return new Persona(ssdni.str(),\n",
        "                       lastnames[rand() % lastnames.size()],\n",
        "                       lastnames[rand() % lastnames.size()],\n",
        "                       names[rand() % names.size()],\n",
        "                       ssfec.str(),\n",
        "                       (90 + rand() % 160) / 100.);\n",
        "}\n",
        "\n",
        "ostream& operator<<(ostream& os, Persona* p) {\n",
        "    os << std::setw(8)  << p->getDni()\n",
        "       << std::setw(15) << p->getApaterno()\n",
        "       << std::setw(15) << p->getAmaterno()\n",
        "       << std::setw(15) << p->getNombres()\n",
        "       << std::setw(12) << p->getFecnac()\n",
        "       << std::setw(5)  << p->getEstatura();\n",
        "    return os;\n",
        "}\n",
        "\n",
        "int main() {\n",
        "    vector<string> names, lastnames;\n",
        "    loadData(names, \"names.txt\");\n",
        "    loadData(lastnames, \"lastnames.txt\");\n",
        "\n",
        "    typedef Bst<Persona*, string> bstps;\n",
        "    typedef Bst<Persona*, float>  bstpf;\n",
        "\n",
        "    bstps* bstNom = new bstps([](Persona* a) { return a->getNombres(); });\n",
        "    bstps* bstApa = new bstps([](Persona* a) { return a->getApaterno(); });\n",
        "    bstpf* bstEst = new bstpf([](Persona* a) { return a->getEstatura(); });\n",
        "\n",
        "    Persona* persona;\n",
        "\n",
        "    srand(1981);\n",
        "    for (int i = 0; i < 1000000; ++i) {\n",
        "        persona = randPersona(names, lastnames, i+1);\n",
        "        bstNom->add(persona);\n",
        "        bstApa->add(persona);\n",
        "        bstEst->add(persona);\n",
        "    }\n",
        "\n",
        "    cout << \"Personas generadas e indexadas correctamente\\n\";\n",
        "\n",
        "    persona = bstNom->find(\"Harry\");\n",
        "    if (persona != nullptr) cout << persona << endl; else cout << \":(\\n\"; \n",
        "    persona = bstNom->find(\"Zayan\");\n",
        "    if (persona != nullptr) cout << persona << endl; else cout << \":(\\n\"; \n",
        "\n",
        "    persona = bstApa->find(\"Rice\");\n",
        "    if (persona != nullptr) cout << persona << endl; else cout << \":(\\n\";\n",
        "    persona = bstApa->find(\"Smith\");\n",
        "    if (persona != nullptr) cout << persona << endl; else cout << \":(\\n\";\n",
        "    persona = bstApa->find(\"Perez\");\n",
        "    if (persona != nullptr) cout << persona << endl; else cout << \":(\\n\";\n",
        "\n",
        "    persona = bstEst->find(1.55);\n",
        "    if (persona != nullptr) cout << persona << endl; else cout << \":(\\n\";\n",
        "    persona = bstEst->find(1.99);\n",
        "    if (persona != nullptr) cout << persona << endl; else cout << \":(\\n\";\n",
        "\n",
        "    delete bstNom;\n",
        "    delete bstApa;\n",
        "    delete bstEst;\n",
        "\n",
        "    return 0;\n",
        "}\n"
      ],
      "execution_count": 12,
      "outputs": [
        {
          "output_type": "stream",
          "text": [
            "Overwriting 2.cpp\n"
          ],
          "name": "stdout"
        }
      ]
    },
    {
      "cell_type": "code",
      "metadata": {
        "id": "n3JH4eyl7gwP"
      },
      "source": [
        "!g++ -std=c++17 -O2 -Wall 2.cpp"
      ],
      "execution_count": 13,
      "outputs": []
    },
    {
      "cell_type": "code",
      "metadata": {
        "id": "z-ahvtjLh6ed",
        "outputId": "de07c4dc-8f1c-4b2e-b820-366f7ad101e1",
        "colab": {
          "base_uri": "https://localhost:8080/"
        }
      },
      "source": [
        "!./a.out"
      ],
      "execution_count": 14,
      "outputs": [
        {
          "output_type": "stream",
          "text": [
            "Personas generadas e indexadas correctamente\n",
            "00000178           Duke      Rasmussen          Harry  1986-05-04 1.38\n",
            "00000250       Thatcher         Mercer          Zayan  2001-02-10 1.88\n",
            "00000334           Rice         Dudley           Mina  1929-07-06 1.72\n",
            "00000032          Smith       Houghton         Maddie  1940-12-04 1.59\n",
            ":(\n",
            "00000246        Neville         Millar          Wendy  1940-05-11 1.55\n",
            "00000337       Houghton          Arias         Julian  2003-05-27 1.99\n"
          ],
          "name": "stdout"
        }
      ]
    },
    {
      "cell_type": "markdown",
      "metadata": {
        "id": "QctWtYZa8QBU"
      },
      "source": [
        "# Guardar esto primero!!"
      ]
    },
    {
      "cell_type": "code",
      "metadata": {
        "id": "Wapo3Wxk8O3z",
        "outputId": "e14ec1f9-16d8-4e84-ecda-4c93b0bec813",
        "colab": {
          "base_uri": "https://localhost:8080/"
        }
      },
      "source": [
        "%%writefile names.txt\n",
        "Eshaal\n",
        "Lilian\n",
        "Muskaan\n",
        "Jiya\n",
        "Mahi\n",
        "Naseem\n",
        "Afsana\n",
        "Jodi\n",
        "Lynsey\n",
        "Menachem\n",
        "Jamelia\n",
        "Harry\n",
        "Affan\n",
        "Micah\n",
        "Evie Wilson\n",
        "Miles\n",
        "Sonny\n",
        "Kingsley\n",
        "Ayah\n",
        "Gemma\n",
        "Natalya\n",
        "Beverly\n",
        "Lucie\n",
        "Cyrus\n",
        "Rickie\n",
        "Carys\n",
        "Holli\n",
        "Shakil\n",
        "Callie\n",
        "Harper\n",
        "Tj\n",
        "Joy\n",
        "Hayleigh\n",
        "Steffan\n",
        "Mina\n",
        "Melvin\n",
        "Mylo\n",
        "Seb\n",
        "Emily\n",
        "Jed\n",
        "Kiaan\n",
        "Leanna\n",
        "Martha\n",
        "Aliya\n",
        "Jarvis\n",
        "Jorja\n",
        "Rahima\n",
        "Pearce\n",
        "Jill\n",
        "Taine\n",
        "Ottilie\n",
        "Jimmie\n",
        "Sila\n",
        "Tamanna\n",
        "Briana\n",
        "Kaylan\n",
        "Wendy\n",
        "Atlanta\n",
        "Jaidan\n",
        "Alima\n",
        "Bjorn\n",
        "Darrell\n",
        "Rhodri\n",
        "Henrietta\n",
        "Homer\n",
        "Meg\n",
        "Zayan\n",
        "Ocean\n",
        "Wanda\n",
        "Aleisha\n",
        "Inayah\n",
        "Neel\n",
        "Lubna\n",
        "Caiden\n",
        "Mahira\n",
        "Muhamed\n",
        "Shamima\n",
        "Arnas\n",
        "Makenzie\n",
        "Antonina\n",
        "Sheldon\n",
        "Zayaan\n",
        "Nora\n",
        "Braydon\n",
        "Leela\n",
        "Maddie\n",
        "Kenny\n",
        "Ralphy\n",
        "Nicole\n",
        "Matteo\n",
        "Julian\n",
        "Garry\n",
        "Kaitlyn\n",
        "Hayden\n",
        "Teigan\n",
        "Kenzo\n",
        "Yusra\n",
        "Taran\n",
        "Ravi\n",
        "Jude"
      ],
      "execution_count": 9,
      "outputs": [
        {
          "output_type": "stream",
          "text": [
            "Overwriting names.txt\n"
          ],
          "name": "stdout"
        }
      ]
    },
    {
      "cell_type": "code",
      "metadata": {
        "id": "3D19e2DX8eRh",
        "outputId": "f12c273f-7854-4428-a457-aefeb1806937",
        "colab": {
          "base_uri": "https://localhost:8080/"
        }
      },
      "source": [
        "%%writefile lastnames.txt\n",
        "Whiteley\n",
        "Frost\n",
        "Handley\n",
        "Robertson\n",
        "Stanton\n",
        "West\n",
        "Kramer\n",
        "Hardy\n",
        "Holder\n",
        "Duke\n",
        "Lyons\n",
        "Mitchell\n",
        "Pennington\n",
        "Thatcher\n",
        "May\n",
        "Hardin\n",
        "Sullivan\n",
        "Greenaway\n",
        "Clifford\n",
        "Sandoval\n",
        "Barrow\n",
        "Mercer\n",
        "Clayton\n",
        "Maguire\n",
        "Rasmussen\n",
        "Ashton\n",
        "Bone\n",
        "Bowers\n",
        "Lindsay\n",
        "Owens\n",
        "Knight\n",
        "Booker\n",
        "Lowry\n",
        "Strong\n",
        "Wardle\n",
        "Nava\n",
        "Oconnor\n",
        "Ross\n",
        "Smith\n",
        "Shea\n",
        "Pearson\n",
        "Dudley\n",
        "Everett\n",
        "Ruiz\n",
        "Feeney\n",
        "Rooney\n",
        "Flowers\n",
        "Farmer\n",
        "Kirby\n",
        "Ball\n",
        "Woods\n",
        "Ballard\n",
        "Michael\n",
        "Begum\n",
        "Ritter\n",
        "Le\n",
        "Carson\n",
        "Raymond\n",
        "Bean\n",
        "Barnes\n",
        "Branch\n",
        "Rice\n",
        "Churchill\n",
        "Aldred\n",
        "Fuller\n",
        "Salt\n",
        "Hickman\n",
        "Mohammed\n",
        "Easton\n",
        "Munro\n",
        "Millar\n",
        "Mckay\n",
        "Arias\n",
        "Melton\n",
        "Butt\n",
        "Hogan\n",
        "Gregory\n",
        "Houston\n",
        "Sykes\n",
        "Parks\n",
        "Shannon\n",
        "Sanderson\n",
        "Hobbs\n",
        "Cain\n",
        "Keeling\n",
        "Neville\n",
        "Rigby\n",
        "Dougherty\n",
        "Valenzuela\n",
        "Mcfadden\n",
        "Whitmore\n",
        "North\n",
        "Reyes\n",
        "Byers\n",
        "Skinner\n",
        "Lloyd\n",
        "Battle\n",
        "Norton\n",
        "Phelps\n",
        "Houghton"
      ],
      "execution_count": 10,
      "outputs": [
        {
          "output_type": "stream",
          "text": [
            "Overwriting lastnames.txt\n"
          ],
          "name": "stdout"
        }
      ]
    },
    {
      "cell_type": "code",
      "metadata": {
        "id": "I1a_G-1v8i1j"
      },
      "source": [
        ""
      ],
      "execution_count": 10,
      "outputs": []
    }
  ]
}