{
  "nbformat": 4,
  "nbformat_minor": 0,
  "metadata": {
    "colab": {
      "name": "aed 20202 112 bst.ipynb",
      "provenance": [],
      "authorship_tag": "ABX9TyMdfQjJxerP0NPQrpnDStpd",
      "include_colab_link": true
    },
    "kernelspec": {
      "name": "python3",
      "display_name": "Python 3"
    }
  },
  "cells": [
    {
      "cell_type": "markdown",
      "metadata": {
        "id": "view-in-github",
        "colab_type": "text"
      },
      "source": [
        "<a href=\"https://colab.research.google.com/github/pcsilcan/aed/blob/master/20202/aed_20202_112_bst.ipynb\" target=\"_parent\"><img src=\"https://colab.research.google.com/assets/colab-badge.svg\" alt=\"Open In Colab\"/></a>"
      ]
    },
    {
      "cell_type": "code",
      "metadata": {
        "id": "daQS99bYijCS",
        "outputId": "7e9a78ac-abf6-428d-d129-e418bd02fd24",
        "colab": {
          "base_uri": "https://localhost:8080/",
          "height": 33
        }
      },
      "source": [
        "%%writefile bst.h\n",
        "#pragma once\n",
        "\n",
        "#include <functional>\n",
        "\n",
        "using std::function;\n",
        "\n",
        "\n",
        "template<typename T, typename R=T>\n",
        "class Bst {\n",
        "    struct Node {\n",
        "        T       elem;\n",
        "        Node*   left;\n",
        "        Node*   right;\n",
        "\n",
        "        Node(T elem, Node* left=nullptr, Node* right=nullptr)\n",
        "            : elem(elem), left(left), right(right) {}\n",
        "    };\n",
        "    \n",
        "    using fkey  = function<R(T)>;\n",
        "    using fproc = function<void(T)>;\n",
        "    using uint  = unsigned int;\n",
        "\n",
        "    Node*   root;\n",
        "    uint    len;\n",
        "    fkey    key;\n",
        "public:\n",
        "    Bst(fkey key=[](T a) { return a; }): root(nullptr), len(0), key(key) {}\n",
        "    ~Bst()                  { destroy(root); }\n",
        "\n",
        "    void add(T elem)        { add(root, elem); }\n",
        "    void inOrder(fproc f)   { inOrder(root, f); }\n",
        "\n",
        "private:\n",
        "    void destroy(Node* node) {\n",
        "        if (node != nullptr) {\n",
        "            destroy(node->left);\n",
        "            destroy(node->right);\n",
        "            delete node;\n",
        "        }\n",
        "    }\n",
        "    void add(Node*& node, T elem) {\n",
        "        if (node == nullptr) {\n",
        "            node = new Node(elem);\n",
        "            ++len;\n",
        "        } else if (key(elem) < key(node->elem)) {\n",
        "            add(node->left, elem);\n",
        "        } else {\n",
        "            add(node->right, elem);\n",
        "        }\n",
        "    }\n",
        "    void inOrder(Node* node, fproc f) {\n",
        "        if (node != nullptr) {\n",
        "            inOrder(node->left, f);\n",
        "            f(node->elem);\n",
        "            inOrder(node->right, f);\n",
        "        }\n",
        "    }\n",
        "};"
      ],
      "execution_count": 13,
      "outputs": [
        {
          "output_type": "stream",
          "text": [
            "Overwriting bst.h\n"
          ],
          "name": "stdout"
        }
      ]
    },
    {
      "cell_type": "code",
      "metadata": {
        "id": "nfPLT3tcnPix",
        "outputId": "90e7f5a7-e4bf-4387-8a4b-2eb8c896dc62",
        "colab": {
          "base_uri": "https://localhost:8080/",
          "height": 33
        }
      },
      "source": [
        "%%writefile 1.cpp\n",
        "#include <iostream>\n",
        "#include <stdlib.h>\n",
        "#include <time.h>\n",
        "#include \"bst.h\"\n",
        "\n",
        "using namespace std;\n",
        "\n",
        "int main() {\n",
        "    Bst<float>* bst1 = new Bst<float>();\n",
        "\n",
        "    for (int i = 0; i < 20; ++i) {\n",
        "        auto num = rand() % 100;\n",
        "        cout << num << \" \";\n",
        "        bst1->add(num);\n",
        "    }\n",
        "    cout << endl;\n",
        "\n",
        "    bst1->inOrder([](float x) { cout << x << \" \"; });\n",
        "    cout << endl;\n",
        "\n",
        "    delete bst1;\n",
        "\n",
        "    return 0;\n",
        "}"
      ],
      "execution_count": 14,
      "outputs": [
        {
          "output_type": "stream",
          "text": [
            "Overwriting 1.cpp\n"
          ],
          "name": "stdout"
        }
      ]
    },
    {
      "cell_type": "code",
      "metadata": {
        "id": "X8ja2CAsn3rH",
        "outputId": "34253a2b-321a-4d47-8b5d-d6d7457ae772",
        "colab": {
          "base_uri": "https://localhost:8080/",
          "height": 50
        }
      },
      "source": [
        "!g++ -std=c++17 -O2 -Wall 1.cpp && ./a.out"
      ],
      "execution_count": 15,
      "outputs": [
        {
          "output_type": "stream",
          "text": [
            "83 86 77 15 93 35 86 92 49 21 62 27 90 59 63 26 40 26 72 36 \n",
            "15 21 26 26 27 35 36 40 49 59 62 63 72 77 83 86 86 90 92 93 \n"
          ],
          "name": "stdout"
        }
      ]
    },
    {
      "cell_type": "code",
      "metadata": {
        "id": "4mfSyBc4n9ES"
      },
      "source": [
        ""
      ],
      "execution_count": null,
      "outputs": []
    }
  ]
}