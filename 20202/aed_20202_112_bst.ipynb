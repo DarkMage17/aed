{
  "nbformat": 4,
  "nbformat_minor": 0,
  "metadata": {
    "colab": {
      "name": "aed 20202 112 bst.ipynb",
      "provenance": [],
      "collapsed_sections": [],
      "authorship_tag": "ABX9TyPrkv/QWfCGQj69zYopeT0N",
      "include_colab_link": true
    },
    "kernelspec": {
      "name": "python3",
      "display_name": "Python 3"
    }
  },
  "cells": [
    {
      "cell_type": "markdown",
      "metadata": {
        "id": "view-in-github",
        "colab_type": "text"
      },
      "source": [
        "<a href=\"https://colab.research.google.com/github/pcsilcan/aed/blob/master/20202/aed_20202_112_bst.ipynb\" target=\"_parent\"><img src=\"https://colab.research.google.com/assets/colab-badge.svg\" alt=\"Open In Colab\"/></a>"
      ]
    },
    {
      "cell_type": "code",
      "metadata": {
        "id": "9A4YoUBqFbWo",
        "outputId": "1121af97-5bb2-4d7b-9ab5-93de12bce570",
        "colab": {
          "base_uri": "https://localhost:8080/"
        }
      },
      "source": [
        "%%writefile bst.h\n",
        "#pragma once\n",
        "\n",
        "#include <functional>\n",
        "#include <string>\n",
        "#include <fstream>\n",
        "\n",
        "using namespace std;\n",
        "\n",
        "template <typename T, typename R=T>\n",
        "class Bst {\n",
        "    struct Node {\n",
        "        T       elem;\n",
        "        Node*   left;\n",
        "        Node*   right;\n",
        "\n",
        "        Node(T elem, Node* left=nullptr, Node* right=nullptr)\n",
        "            : elem(elem), left(left), right(right) {}\n",
        "    };\n",
        "\n",
        "    using lmbKey    = function<R(T)>;\n",
        "    using lmbP      = function<void(T)>;\n",
        "\n",
        "    Node*   root;\n",
        "    int     len;\n",
        "    lmbKey  key;\n",
        "public:\n",
        "    Bst(lmbKey key=[](T a) {return a;}) : root(nullptr), len(0), key(key) {}\n",
        "    ~Bst()                      { destroy(root); }\n",
        "\n",
        "    void add(T elem)            { add(root, elem); }\n",
        "    void inOrder(lmbP proc)     { inOrder(root, proc); }\n",
        "\n",
        "    T find(R attr) {\n",
        "        auto node = find(root, attr);\n",
        "        return node == nullptr? nullptr: node->elem;\n",
        "    }\n",
        "    T greatest() {\n",
        "        if (root == nullptr) {\n",
        "            return nullptr;\n",
        "        } else {\n",
        "            auto node = greatest(root);\n",
        "            return node->elem;\n",
        "        }\n",
        "    }\n",
        "    void remove(R attr) {\n",
        "        Node*& node = find(root, attr); // NO USAR AUTO par atipos referencia\n",
        "        if (node == nullptr) return;\n",
        "        if (node->left == nullptr) {\n",
        "            Node* aux = node;\n",
        "            node = node->right;\n",
        "            delete aux;\n",
        "        } else {\n",
        "            Node*& cand = greatest(node->left);\n",
        "            node->elem = cand->elem;\n",
        "            Node* aux = cand;\n",
        "            cand = cand->left;\n",
        "            delete aux;\n",
        "        }\n",
        "    }\n",
        "\n",
        "//-------------------------------------------------------------------\n",
        "// CÓDIGO SUPER OPCIONAL (NO ES NECESARIO ENTENDER NI USAR SI NO DESEA)\n",
        "//-------------------------------------------------------------------\n",
        "    void generateDot(std::string filename) {\n",
        "        if (root != nullptr) {\n",
        "            std::ofstream file(filename);\n",
        "            file << \"digraph G {\\n\";\n",
        "            generate(root, file);\n",
        "            file << \"}\";\n",
        "        }\n",
        "    }\n",
        "\n",
        "    void generate(Node* node, std::ofstream& file) {\n",
        "        if (node->left != nullptr) {\n",
        "            file << node->elem << \"->\" << node->left->elem << std::endl;\n",
        "            generate(node->left, file);\n",
        "        } else {\n",
        "            file << \"l\" << node->elem << \" [shape=point]\\n\";\n",
        "            file << node->elem << \"->l\" << node->elem << std::endl;\n",
        "        }\n",
        "        if (node->right != nullptr) {\n",
        "            file << node->elem << \"->\" << node->right->elem << std::endl;\n",
        "            generate(node->right, file);\n",
        "        } else {\n",
        "            file << \"r\" << node->elem << \" [shape=point]\\n\";\n",
        "            file << node->elem << \"->r\" << node->elem << std::endl;\n",
        "        }\n",
        "    }\n",
        "//-------------------------------------------------------------------\n",
        "// (end) CÓDIGO SUPER OPCIONAL (NO ES NECESARIO ENTENDER NI USAR SI NO DESEA)\n",
        "//-------------------------------------------------------------------\n",
        "\n",
        "private:\n",
        "    void destroy(Node* node) {\n",
        "        if (node != nullptr) {\n",
        "            destroy(node->left);\n",
        "            destroy(node->right);\n",
        "            delete node;\n",
        "        }\n",
        "    }\n",
        "    void add(Node*& node, T elem) {\n",
        "        if (node == nullptr) {\n",
        "            node = new Node(elem);\n",
        "            ++len;\n",
        "        } else if (key(elem) < key(node->elem)) {\n",
        "            add(node->left, elem);\n",
        "        } else if (key(elem) > key(node->elem)) {\n",
        "            add(node->right, elem);\n",
        "        }\n",
        "    }\n",
        "    void inOrder(Node* node, lmbP proc) {\n",
        "        if (node != nullptr) {\n",
        "            inOrder(node->left, proc);\n",
        "            proc(node->elem);\n",
        "            inOrder(node->right, proc);\n",
        "        }\n",
        "    }\n",
        "    Node*& find(Node*& node, R attr) {\n",
        "        if (node == nullptr) {\n",
        "            return dummynull;\n",
        "        } else if (attr == key(node->elem)) {\n",
        "            return node;\n",
        "        } else if (attr < key(node->elem)) {\n",
        "            return find(node->left, attr);\n",
        "        } else {\n",
        "            return find(node->right, attr);\n",
        "        }\n",
        "        // return find((attr < key(node->elem)? node->left: node->right, attr);\n",
        "    }\n",
        "    Node*& greatest(Node*& node) {\n",
        "        return node->right == nullptr? node: greatest(node->right);\n",
        "    }\n",
        "\n",
        "    // Mandrakeada\n",
        "    Node* dummynull = nullptr;\n",
        "};"
      ],
      "execution_count": 23,
      "outputs": [
        {
          "output_type": "stream",
          "text": [
            "Overwriting bst.h\n"
          ],
          "name": "stdout"
        }
      ]
    },
    {
      "cell_type": "code",
      "metadata": {
        "id": "9I-vHIwnMRgD",
        "outputId": "6753543d-e6a4-48b7-b52d-809ef204b662",
        "colab": {
          "base_uri": "https://localhost:8080/"
        }
      },
      "source": [
        "%%writefile 1.cpp\n",
        "#include <iostream>\n",
        "#include <string>\n",
        "#include <stdlib.h>\n",
        "#include \"bst.h\"\n",
        "\n",
        "using namespace std;\n",
        "\n",
        "\n",
        "int main() {\n",
        "    Bst<int>* bst = new Bst<int>();\n",
        "\n",
        "    srand(1981);\n",
        "    for (int i = 0; i < 20; ++i) {\n",
        "        bst->add(rand() % 100);\n",
        "    }\n",
        "\n",
        "    bst->inOrder([](int x) { cout << x << \" \"; });\n",
        "    cout << endl;\n",
        "\n",
        "    bst->generateDot(\"1.dot\");\n",
        "\n",
        "    bst->remove(16);\n",
        "    bst->remove(51);\n",
        "    bst->remove(56);\n",
        "    bst->remove(91);\n",
        "    bst->remove(68);\n",
        "    bst->remove(66);\n",
        "\n",
        "    bst->generateDot(\"2.dot\");\n",
        "\n",
        "    return 0;\n",
        "}"
      ],
      "execution_count": 28,
      "outputs": [
        {
          "output_type": "stream",
          "text": [
            "Overwriting 1.cpp\n"
          ],
          "name": "stdout"
        }
      ]
    },
    {
      "cell_type": "code",
      "metadata": {
        "id": "6Dz_hiHmNRV4",
        "outputId": "f209f8d4-877c-4bbe-c3f0-76ad8431a221",
        "colab": {
          "base_uri": "https://localhost:8080/"
        }
      },
      "source": [
        "!g++ -std=c++17 -O2 -Wall 1.cpp && ./a.out"
      ],
      "execution_count": 29,
      "outputs": [
        {
          "output_type": "stream",
          "text": [
            "0 8 9 16 18 33 36 37 40 51 54 56 62 64 65 68 76 91 93 95 \n"
          ],
          "name": "stdout"
        }
      ]
    },
    {
      "cell_type": "code",
      "metadata": {
        "id": "S4aUMFf8pCao",
        "outputId": "700ac2c9-578c-4ba2-8452-274739fdccce",
        "colab": {
          "base_uri": "https://localhost:8080/",
          "height": 900
        }
      },
      "source": [
        "import graphviz as gv\n",
        "gv.Source.from_file(\"1.dot\")"
      ],
      "execution_count": 30,
      "outputs": [
        {
          "output_type": "execute_result",
          "data": {
            "text/plain": [
              "<graphviz.files.Source at 0x7f8a77c4f3c8>"
            ],
            "image/svg+xml": "<?xml version=\"1.0\" encoding=\"UTF-8\" standalone=\"no\"?>\n<!DOCTYPE svg PUBLIC \"-//W3C//DTD SVG 1.1//EN\"\n \"http://www.w3.org/Graphics/SVG/1.1/DTD/svg11.dtd\">\n<!-- Generated by graphviz version 2.40.1 (20161225.0304)\n -->\n<!-- Title: G Pages: 1 -->\n<svg width=\"473pt\" height=\"660pt\"\n viewBox=\"0.00 0.00 472.80 659.60\" xmlns=\"http://www.w3.org/2000/svg\" xmlns:xlink=\"http://www.w3.org/1999/xlink\">\n<g id=\"graph0\" class=\"graph\" transform=\"scale(1 1) rotate(0) translate(4 655.6)\">\n<title>G</title>\n<polygon fill=\"#ffffff\" stroke=\"transparent\" points=\"-4,4 -4,-655.6 468.8,-655.6 468.8,4 -4,4\"/>\n<!-- 16 -->\n<g id=\"node1\" class=\"node\">\n<title>16</title>\n<ellipse fill=\"none\" stroke=\"#000000\" cx=\"84.8\" cy=\"-633.6\" rx=\"27\" ry=\"18\"/>\n<text text-anchor=\"middle\" x=\"84.8\" y=\"-629.9\" font-family=\"Times,serif\" font-size=\"14.00\" fill=\"#000000\">16</text>\n</g>\n<!-- 0 -->\n<g id=\"node2\" class=\"node\">\n<title>0</title>\n<ellipse fill=\"none\" stroke=\"#000000\" cx=\"48.8\" cy=\"-561.6\" rx=\"27\" ry=\"18\"/>\n<text text-anchor=\"middle\" x=\"48.8\" y=\"-557.9\" font-family=\"Times,serif\" font-size=\"14.00\" fill=\"#000000\">0</text>\n</g>\n<!-- 16&#45;&gt;0 -->\n<g id=\"edge1\" class=\"edge\">\n<title>16&#45;&gt;0</title>\n<path fill=\"none\" stroke=\"#000000\" d=\"M76.0854,-616.1708C71.8403,-607.6807 66.6464,-597.2929 61.9337,-587.8674\"/>\n<polygon fill=\"#000000\" stroke=\"#000000\" points=\"65.037,-586.2477 57.4343,-578.8687 58.776,-589.3782 65.037,-586.2477\"/>\n</g>\n<!-- 33 -->\n<g id=\"node9\" class=\"node\">\n<title>33</title>\n<ellipse fill=\"none\" stroke=\"#000000\" cx=\"120.8\" cy=\"-561.6\" rx=\"27\" ry=\"18\"/>\n<text text-anchor=\"middle\" x=\"120.8\" y=\"-557.9\" font-family=\"Times,serif\" font-size=\"14.00\" fill=\"#000000\">33</text>\n</g>\n<!-- 16&#45;&gt;33 -->\n<g id=\"edge8\" class=\"edge\">\n<title>16&#45;&gt;33</title>\n<path fill=\"none\" stroke=\"#000000\" d=\"M93.5146,-616.1708C97.7597,-607.6807 102.9536,-597.2929 107.6663,-587.8674\"/>\n<polygon fill=\"#000000\" stroke=\"#000000\" points=\"110.824,-589.3782 112.1657,-578.8687 104.563,-586.2477 110.824,-589.3782\"/>\n</g>\n<!-- l0 -->\n<g id=\"node3\" class=\"node\">\n<title>l0</title>\n<ellipse fill=\"#000000\" stroke=\"#000000\" cx=\"1.8\" cy=\"-489.6\" rx=\"1.8\" ry=\"1.8\"/>\n</g>\n<!-- 0&#45;&gt;l0 -->\n<g id=\"edge2\" class=\"edge\">\n<title>0&#45;&gt;l0</title>\n<path fill=\"none\" stroke=\"#000000\" d=\"M37.6009,-545.1672C30.4082,-534.524 20.9256,-520.3253 12.8,-507.6 11.2626,-505.1924 9.6409,-502.5809 8.129,-500.1132\"/>\n<polygon fill=\"#000000\" stroke=\"#000000\" points=\"10.9738,-498.0533 2.8092,-491.3013 4.9811,-501.6711 10.9738,-498.0533\"/>\n</g>\n<!-- 8 -->\n<g id=\"node4\" class=\"node\">\n<title>8</title>\n<ellipse fill=\"none\" stroke=\"#000000\" cx=\"48.8\" cy=\"-489.6\" rx=\"27\" ry=\"18\"/>\n<text text-anchor=\"middle\" x=\"48.8\" y=\"-485.9\" font-family=\"Times,serif\" font-size=\"14.00\" fill=\"#000000\">8</text>\n</g>\n<!-- 0&#45;&gt;8 -->\n<g id=\"edge3\" class=\"edge\">\n<title>0&#45;&gt;8</title>\n<path fill=\"none\" stroke=\"#000000\" d=\"M48.8,-543.4314C48.8,-535.731 48.8,-526.5743 48.8,-518.0166\"/>\n<polygon fill=\"#000000\" stroke=\"#000000\" points=\"52.3001,-518.0132 48.8,-508.0133 45.3001,-518.0133 52.3001,-518.0132\"/>\n</g>\n<!-- l8 -->\n<g id=\"node5\" class=\"node\">\n<title>l8</title>\n<ellipse fill=\"#000000\" stroke=\"#000000\" cx=\"8.8\" cy=\"-417.6\" rx=\"1.8\" ry=\"1.8\"/>\n</g>\n<!-- 8&#45;&gt;l8 -->\n<g id=\"edge4\" class=\"edge\">\n<title>8&#45;&gt;l8</title>\n<path fill=\"none\" stroke=\"#000000\" d=\"M39.3206,-472.537C31.6967,-458.814 21.2216,-439.9589 14.7378,-428.288\"/>\n<polygon fill=\"#000000\" stroke=\"#000000\" points=\"17.7539,-426.51 9.8379,-419.4681 11.6348,-429.9095 17.7539,-426.51\"/>\n</g>\n<!-- 9 -->\n<g id=\"node6\" class=\"node\">\n<title>9</title>\n<ellipse fill=\"none\" stroke=\"#000000\" cx=\"55.8\" cy=\"-417.6\" rx=\"27\" ry=\"18\"/>\n<text text-anchor=\"middle\" x=\"55.8\" y=\"-413.9\" font-family=\"Times,serif\" font-size=\"14.00\" fill=\"#000000\">9</text>\n</g>\n<!-- 8&#45;&gt;9 -->\n<g id=\"edge5\" class=\"edge\">\n<title>8&#45;&gt;9</title>\n<path fill=\"none\" stroke=\"#000000\" d=\"M50.5664,-471.4314C51.315,-463.731 52.2053,-454.5743 53.0373,-446.0166\"/>\n<polygon fill=\"#000000\" stroke=\"#000000\" points=\"56.5256,-446.3051 54.0098,-436.0133 49.5585,-445.6276 56.5256,-446.3051\"/>\n</g>\n<!-- l9 -->\n<g id=\"node7\" class=\"node\">\n<title>l9</title>\n<ellipse fill=\"#000000\" stroke=\"#000000\" cx=\"44.8\" cy=\"-345.6\" rx=\"1.8\" ry=\"1.8\"/>\n</g>\n<!-- 9&#45;&gt;l9 -->\n<g id=\"edge6\" class=\"edge\">\n<title>9&#45;&gt;l9</title>\n<path fill=\"none\" stroke=\"#000000\" d=\"M53.0242,-399.4314C51.0114,-386.2567 48.3474,-368.8195 46.6046,-357.4119\"/>\n<polygon fill=\"#000000\" stroke=\"#000000\" points=\"50.0462,-356.7634 45.076,-347.4068 43.1265,-357.8207 50.0462,-356.7634\"/>\n</g>\n<!-- r9 -->\n<g id=\"node8\" class=\"node\">\n<title>r9</title>\n<ellipse fill=\"#000000\" stroke=\"#000000\" cx=\"66.8\" cy=\"-345.6\" rx=\"1.8\" ry=\"1.8\"/>\n</g>\n<!-- 9&#45;&gt;r9 -->\n<g id=\"edge7\" class=\"edge\">\n<title>9&#45;&gt;r9</title>\n<path fill=\"none\" stroke=\"#000000\" d=\"M58.5758,-399.4314C60.5886,-386.2567 63.2526,-368.8195 64.9954,-357.4119\"/>\n<polygon fill=\"#000000\" stroke=\"#000000\" points=\"68.4735,-357.8207 66.524,-347.4068 61.5538,-356.7634 68.4735,-357.8207\"/>\n</g>\n<!-- 18 -->\n<g id=\"node10\" class=\"node\">\n<title>18</title>\n<ellipse fill=\"none\" stroke=\"#000000\" cx=\"120.8\" cy=\"-489.6\" rx=\"27\" ry=\"18\"/>\n<text text-anchor=\"middle\" x=\"120.8\" y=\"-485.9\" font-family=\"Times,serif\" font-size=\"14.00\" fill=\"#000000\">18</text>\n</g>\n<!-- 33&#45;&gt;18 -->\n<g id=\"edge9\" class=\"edge\">\n<title>33&#45;&gt;18</title>\n<path fill=\"none\" stroke=\"#000000\" d=\"M120.8,-543.4314C120.8,-535.731 120.8,-526.5743 120.8,-518.0166\"/>\n<polygon fill=\"#000000\" stroke=\"#000000\" points=\"124.3001,-518.0132 120.8,-508.0133 117.3001,-518.0133 124.3001,-518.0132\"/>\n</g>\n<!-- 37 -->\n<g id=\"node13\" class=\"node\">\n<title>37</title>\n<ellipse fill=\"none\" stroke=\"#000000\" cx=\"192.8\" cy=\"-489.6\" rx=\"27\" ry=\"18\"/>\n<text text-anchor=\"middle\" x=\"192.8\" y=\"-485.9\" font-family=\"Times,serif\" font-size=\"14.00\" fill=\"#000000\">37</text>\n</g>\n<!-- 33&#45;&gt;37 -->\n<g id=\"edge12\" class=\"edge\">\n<title>33&#45;&gt;37</title>\n<path fill=\"none\" stroke=\"#000000\" d=\"M136.0693,-546.3307C145.997,-536.403 159.1153,-523.2847 170.2363,-512.1637\"/>\n<polygon fill=\"#000000\" stroke=\"#000000\" points=\"172.9564,-514.3933 177.5527,-504.8473 168.0067,-509.4436 172.9564,-514.3933\"/>\n</g>\n<!-- l18 -->\n<g id=\"node11\" class=\"node\">\n<title>l18</title>\n<ellipse fill=\"#000000\" stroke=\"#000000\" cx=\"114.8\" cy=\"-417.6\" rx=\"1.8\" ry=\"1.8\"/>\n</g>\n<!-- 18&#45;&gt;l18 -->\n<g id=\"edge10\" class=\"edge\">\n<title>18&#45;&gt;l18</title>\n<path fill=\"none\" stroke=\"#000000\" d=\"M119.2859,-471.4314C118.1881,-458.2567 116.735,-440.8195 115.7843,-429.4119\"/>\n<polygon fill=\"#000000\" stroke=\"#000000\" points=\"119.269,-429.0815 114.9506,-419.4068 112.2932,-429.6629 119.269,-429.0815\"/>\n</g>\n<!-- r18 -->\n<g id=\"node12\" class=\"node\">\n<title>r18</title>\n<ellipse fill=\"#000000\" stroke=\"#000000\" cx=\"136.8\" cy=\"-417.6\" rx=\"1.8\" ry=\"1.8\"/>\n</g>\n<!-- 18&#45;&gt;r18 -->\n<g id=\"edge11\" class=\"edge\">\n<title>18&#45;&gt;r18</title>\n<path fill=\"none\" stroke=\"#000000\" d=\"M124.8375,-471.4314C127.7652,-458.2567 131.6401,-440.8195 134.1751,-429.4119\"/>\n<polygon fill=\"#000000\" stroke=\"#000000\" points=\"137.6458,-429.9279 136.3985,-419.4068 130.8125,-428.4094 137.6458,-429.9279\"/>\n</g>\n<!-- 36 -->\n<g id=\"node14\" class=\"node\">\n<title>36</title>\n<ellipse fill=\"none\" stroke=\"#000000\" cx=\"188.8\" cy=\"-417.6\" rx=\"27\" ry=\"18\"/>\n<text text-anchor=\"middle\" x=\"188.8\" y=\"-413.9\" font-family=\"Times,serif\" font-size=\"14.00\" fill=\"#000000\">36</text>\n</g>\n<!-- 37&#45;&gt;36 -->\n<g id=\"edge13\" class=\"edge\">\n<title>37&#45;&gt;36</title>\n<path fill=\"none\" stroke=\"#000000\" d=\"M191.7906,-471.4314C191.3628,-463.731 190.8541,-454.5743 190.3787,-446.0166\"/>\n<polygon fill=\"#000000\" stroke=\"#000000\" points=\"193.8724,-445.8037 189.823,-436.0133 186.8831,-446.192 193.8724,-445.8037\"/>\n</g>\n<!-- 56 -->\n<g id=\"node17\" class=\"node\">\n<title>56</title>\n<ellipse fill=\"none\" stroke=\"#000000\" cx=\"260.8\" cy=\"-417.6\" rx=\"27\" ry=\"18\"/>\n<text text-anchor=\"middle\" x=\"260.8\" y=\"-413.9\" font-family=\"Times,serif\" font-size=\"14.00\" fill=\"#000000\">56</text>\n</g>\n<!-- 37&#45;&gt;56 -->\n<g id=\"edge16\" class=\"edge\">\n<title>37&#45;&gt;56</title>\n<path fill=\"none\" stroke=\"#000000\" d=\"M207.2211,-474.3307C216.5972,-464.403 228.9867,-451.2847 239.4899,-440.1637\"/>\n<polygon fill=\"#000000\" stroke=\"#000000\" points=\"242.078,-442.5207 246.3997,-432.8473 236.9889,-437.7143 242.078,-442.5207\"/>\n</g>\n<!-- l36 -->\n<g id=\"node15\" class=\"node\">\n<title>l36</title>\n<ellipse fill=\"#000000\" stroke=\"#000000\" cx=\"172.8\" cy=\"-345.6\" rx=\"1.8\" ry=\"1.8\"/>\n</g>\n<!-- 36&#45;&gt;l36 -->\n<g id=\"edge14\" class=\"edge\">\n<title>36&#45;&gt;l36</title>\n<path fill=\"none\" stroke=\"#000000\" d=\"M184.7625,-399.4314C181.8348,-386.2567 177.9599,-368.8195 175.4249,-357.4119\"/>\n<polygon fill=\"#000000\" stroke=\"#000000\" points=\"178.7875,-356.4094 173.2015,-347.4068 171.9542,-357.9279 178.7875,-356.4094\"/>\n</g>\n<!-- r36 -->\n<g id=\"node16\" class=\"node\">\n<title>r36</title>\n<ellipse fill=\"#000000\" stroke=\"#000000\" cx=\"194.8\" cy=\"-345.6\" rx=\"1.8\" ry=\"1.8\"/>\n</g>\n<!-- 36&#45;&gt;r36 -->\n<g id=\"edge15\" class=\"edge\">\n<title>36&#45;&gt;r36</title>\n<path fill=\"none\" stroke=\"#000000\" d=\"M190.3141,-399.4314C191.4119,-386.2567 192.865,-368.8195 193.8157,-357.4119\"/>\n<polygon fill=\"#000000\" stroke=\"#000000\" points=\"197.3068,-357.6629 194.6494,-347.4068 190.331,-357.0815 197.3068,-357.6629\"/>\n</g>\n<!-- 51 -->\n<g id=\"node18\" class=\"node\">\n<title>51</title>\n<ellipse fill=\"none\" stroke=\"#000000\" cx=\"253.8\" cy=\"-345.6\" rx=\"27\" ry=\"18\"/>\n<text text-anchor=\"middle\" x=\"253.8\" y=\"-341.9\" font-family=\"Times,serif\" font-size=\"14.00\" fill=\"#000000\">51</text>\n</g>\n<!-- 56&#45;&gt;51 -->\n<g id=\"edge17\" class=\"edge\">\n<title>56&#45;&gt;51</title>\n<path fill=\"none\" stroke=\"#000000\" d=\"M259.0336,-399.4314C258.285,-391.731 257.3947,-382.5743 256.5627,-374.0166\"/>\n<polygon fill=\"#000000\" stroke=\"#000000\" points=\"260.0415,-373.6276 255.5902,-364.0133 253.0744,-374.3051 260.0415,-373.6276\"/>\n</g>\n<!-- 91 -->\n<g id=\"node25\" class=\"node\">\n<title>91</title>\n<ellipse fill=\"none\" stroke=\"#000000\" cx=\"325.8\" cy=\"-345.6\" rx=\"27\" ry=\"18\"/>\n<text text-anchor=\"middle\" x=\"325.8\" y=\"-341.9\" font-family=\"Times,serif\" font-size=\"14.00\" fill=\"#000000\">91</text>\n</g>\n<!-- 56&#45;&gt;91 -->\n<g id=\"edge24\" class=\"edge\">\n<title>56&#45;&gt;91</title>\n<path fill=\"none\" stroke=\"#000000\" d=\"M274.904,-401.9771C283.6773,-392.259 295.1173,-379.587 304.9286,-368.7191\"/>\n<polygon fill=\"#000000\" stroke=\"#000000\" points=\"307.6204,-370.9605 311.7235,-361.1924 302.4245,-366.2698 307.6204,-370.9605\"/>\n</g>\n<!-- 40 -->\n<g id=\"node19\" class=\"node\">\n<title>40</title>\n<ellipse fill=\"none\" stroke=\"#000000\" cx=\"181.8\" cy=\"-273.6\" rx=\"27\" ry=\"18\"/>\n<text text-anchor=\"middle\" x=\"181.8\" y=\"-269.9\" font-family=\"Times,serif\" font-size=\"14.00\" fill=\"#000000\">40</text>\n</g>\n<!-- 51&#45;&gt;40 -->\n<g id=\"edge18\" class=\"edge\">\n<title>51&#45;&gt;40</title>\n<path fill=\"none\" stroke=\"#000000\" d=\"M238.5307,-330.3307C228.603,-320.403 215.4847,-307.2847 204.3637,-296.1637\"/>\n<polygon fill=\"#000000\" stroke=\"#000000\" points=\"206.5933,-293.4436 197.0473,-288.8473 201.6436,-298.3933 206.5933,-293.4436\"/>\n</g>\n<!-- 54 -->\n<g id=\"node22\" class=\"node\">\n<title>54</title>\n<ellipse fill=\"none\" stroke=\"#000000\" cx=\"253.8\" cy=\"-273.6\" rx=\"27\" ry=\"18\"/>\n<text text-anchor=\"middle\" x=\"253.8\" y=\"-269.9\" font-family=\"Times,serif\" font-size=\"14.00\" fill=\"#000000\">54</text>\n</g>\n<!-- 51&#45;&gt;54 -->\n<g id=\"edge21\" class=\"edge\">\n<title>51&#45;&gt;54</title>\n<path fill=\"none\" stroke=\"#000000\" d=\"M253.8,-327.4314C253.8,-319.731 253.8,-310.5743 253.8,-302.0166\"/>\n<polygon fill=\"#000000\" stroke=\"#000000\" points=\"257.3001,-302.0132 253.8,-292.0133 250.3001,-302.0133 257.3001,-302.0132\"/>\n</g>\n<!-- l40 -->\n<g id=\"node20\" class=\"node\">\n<title>l40</title>\n<ellipse fill=\"#000000\" stroke=\"#000000\" cx=\"170.8\" cy=\"-201.6\" rx=\"1.8\" ry=\"1.8\"/>\n</g>\n<!-- 40&#45;&gt;l40 -->\n<g id=\"edge19\" class=\"edge\">\n<title>40&#45;&gt;l40</title>\n<path fill=\"none\" stroke=\"#000000\" d=\"M179.0242,-255.4314C177.0114,-242.2567 174.3474,-224.8195 172.6046,-213.4119\"/>\n<polygon fill=\"#000000\" stroke=\"#000000\" points=\"176.0462,-212.7634 171.076,-203.4068 169.1265,-213.8207 176.0462,-212.7634\"/>\n</g>\n<!-- r40 -->\n<g id=\"node21\" class=\"node\">\n<title>r40</title>\n<ellipse fill=\"#000000\" stroke=\"#000000\" cx=\"192.8\" cy=\"-201.6\" rx=\"1.8\" ry=\"1.8\"/>\n</g>\n<!-- 40&#45;&gt;r40 -->\n<g id=\"edge20\" class=\"edge\">\n<title>40&#45;&gt;r40</title>\n<path fill=\"none\" stroke=\"#000000\" d=\"M184.5758,-255.4314C186.5886,-242.2567 189.2526,-224.8195 190.9954,-213.4119\"/>\n<polygon fill=\"#000000\" stroke=\"#000000\" points=\"194.4735,-213.8207 192.524,-203.4068 187.5538,-212.7634 194.4735,-213.8207\"/>\n</g>\n<!-- l54 -->\n<g id=\"node23\" class=\"node\">\n<title>l54</title>\n<ellipse fill=\"#000000\" stroke=\"#000000\" cx=\"232.8\" cy=\"-201.6\" rx=\"1.8\" ry=\"1.8\"/>\n</g>\n<!-- 54&#45;&gt;l54 -->\n<g id=\"edge22\" class=\"edge\">\n<title>54&#45;&gt;l54</title>\n<path fill=\"none\" stroke=\"#000000\" d=\"M248.609,-255.8022C244.7261,-242.4895 239.5287,-224.67 236.1722,-213.1618\"/>\n<polygon fill=\"#000000\" stroke=\"#000000\" points=\"239.493,-212.0471 233.3329,-203.4271 232.773,-214.0071 239.493,-212.0471\"/>\n</g>\n<!-- r54 -->\n<g id=\"node24\" class=\"node\">\n<title>r54</title>\n<ellipse fill=\"#000000\" stroke=\"#000000\" cx=\"254.8\" cy=\"-201.6\" rx=\"1.8\" ry=\"1.8\"/>\n</g>\n<!-- 54&#45;&gt;r54 -->\n<g id=\"edge23\" class=\"edge\">\n<title>54&#45;&gt;r54</title>\n<path fill=\"none\" stroke=\"#000000\" d=\"M254.0523,-255.4314C254.2353,-242.2567 254.4775,-224.8195 254.6359,-213.4119\"/>\n<polygon fill=\"#000000\" stroke=\"#000000\" points=\"258.1356,-213.4544 254.7749,-203.4068 251.1363,-213.3572 258.1356,-213.4544\"/>\n</g>\n<!-- 62 -->\n<g id=\"node26\" class=\"node\">\n<title>62</title>\n<ellipse fill=\"none\" stroke=\"#000000\" cx=\"325.8\" cy=\"-273.6\" rx=\"27\" ry=\"18\"/>\n<text text-anchor=\"middle\" x=\"325.8\" y=\"-269.9\" font-family=\"Times,serif\" font-size=\"14.00\" fill=\"#000000\">62</text>\n</g>\n<!-- 91&#45;&gt;62 -->\n<g id=\"edge25\" class=\"edge\">\n<title>91&#45;&gt;62</title>\n<path fill=\"none\" stroke=\"#000000\" d=\"M325.8,-327.4314C325.8,-319.731 325.8,-310.5743 325.8,-302.0166\"/>\n<polygon fill=\"#000000\" stroke=\"#000000\" points=\"329.3001,-302.0132 325.8,-292.0133 322.3001,-302.0133 329.3001,-302.0132\"/>\n</g>\n<!-- 93 -->\n<g id=\"node37\" class=\"node\">\n<title>93</title>\n<ellipse fill=\"none\" stroke=\"#000000\" cx=\"397.8\" cy=\"-273.6\" rx=\"27\" ry=\"18\"/>\n<text text-anchor=\"middle\" x=\"397.8\" y=\"-269.9\" font-family=\"Times,serif\" font-size=\"14.00\" fill=\"#000000\">93</text>\n</g>\n<!-- 91&#45;&gt;93 -->\n<g id=\"edge36\" class=\"edge\">\n<title>91&#45;&gt;93</title>\n<path fill=\"none\" stroke=\"#000000\" d=\"M341.0693,-330.3307C350.997,-320.403 364.1153,-307.2847 375.2363,-296.1637\"/>\n<polygon fill=\"#000000\" stroke=\"#000000\" points=\"377.9564,-298.3933 382.5527,-288.8473 373.0067,-293.4436 377.9564,-298.3933\"/>\n</g>\n<!-- l62 -->\n<g id=\"node27\" class=\"node\">\n<title>l62</title>\n<ellipse fill=\"#000000\" stroke=\"#000000\" cx=\"284.8\" cy=\"-201.6\" rx=\"1.8\" ry=\"1.8\"/>\n</g>\n<!-- 62&#45;&gt;l62 -->\n<g id=\"edge26\" class=\"edge\">\n<title>62&#45;&gt;l62</title>\n<path fill=\"none\" stroke=\"#000000\" d=\"M316.0836,-256.537C308.2691,-242.814 297.5321,-223.9589 290.8862,-212.288\"/>\n<polygon fill=\"#000000\" stroke=\"#000000\" points=\"293.8537,-210.4261 285.8638,-203.4681 287.7708,-213.89 293.8537,-210.4261\"/>\n</g>\n<!-- 65 -->\n<g id=\"node28\" class=\"node\">\n<title>65</title>\n<ellipse fill=\"none\" stroke=\"#000000\" cx=\"331.8\" cy=\"-201.6\" rx=\"27\" ry=\"18\"/>\n<text text-anchor=\"middle\" x=\"331.8\" y=\"-197.9\" font-family=\"Times,serif\" font-size=\"14.00\" fill=\"#000000\">65</text>\n</g>\n<!-- 62&#45;&gt;65 -->\n<g id=\"edge27\" class=\"edge\">\n<title>62&#45;&gt;65</title>\n<path fill=\"none\" stroke=\"#000000\" d=\"M327.3141,-255.4314C327.9558,-247.731 328.7188,-238.5743 329.4319,-230.0166\"/>\n<polygon fill=\"#000000\" stroke=\"#000000\" points=\"332.9229,-230.2694 330.2656,-220.0133 325.9471,-229.688 332.9229,-230.2694\"/>\n</g>\n<!-- 64 -->\n<g id=\"node29\" class=\"node\">\n<title>64</title>\n<ellipse fill=\"none\" stroke=\"#000000\" cx=\"295.8\" cy=\"-129.6\" rx=\"27\" ry=\"18\"/>\n<text text-anchor=\"middle\" x=\"295.8\" y=\"-125.9\" font-family=\"Times,serif\" font-size=\"14.00\" fill=\"#000000\">64</text>\n</g>\n<!-- 65&#45;&gt;64 -->\n<g id=\"edge28\" class=\"edge\">\n<title>65&#45;&gt;64</title>\n<path fill=\"none\" stroke=\"#000000\" d=\"M323.0854,-184.1708C318.8403,-175.6807 313.6464,-165.2929 308.9337,-155.8674\"/>\n<polygon fill=\"#000000\" stroke=\"#000000\" points=\"312.037,-154.2477 304.4343,-146.8687 305.776,-157.3782 312.037,-154.2477\"/>\n</g>\n<!-- 76 -->\n<g id=\"node32\" class=\"node\">\n<title>76</title>\n<ellipse fill=\"none\" stroke=\"#000000\" cx=\"367.8\" cy=\"-129.6\" rx=\"27\" ry=\"18\"/>\n<text text-anchor=\"middle\" x=\"367.8\" y=\"-125.9\" font-family=\"Times,serif\" font-size=\"14.00\" fill=\"#000000\">76</text>\n</g>\n<!-- 65&#45;&gt;76 -->\n<g id=\"edge31\" class=\"edge\">\n<title>65&#45;&gt;76</title>\n<path fill=\"none\" stroke=\"#000000\" d=\"M340.5146,-184.1708C344.7597,-175.6807 349.9536,-165.2929 354.6663,-155.8674\"/>\n<polygon fill=\"#000000\" stroke=\"#000000\" points=\"357.824,-157.3782 359.1657,-146.8687 351.563,-154.2477 357.824,-157.3782\"/>\n</g>\n<!-- l64 -->\n<g id=\"node30\" class=\"node\">\n<title>l64</title>\n<ellipse fill=\"#000000\" stroke=\"#000000\" cx=\"284.8\" cy=\"-57.6\" rx=\"1.8\" ry=\"1.8\"/>\n</g>\n<!-- 64&#45;&gt;l64 -->\n<g id=\"edge29\" class=\"edge\">\n<title>64&#45;&gt;l64</title>\n<path fill=\"none\" stroke=\"#000000\" d=\"M293.0242,-111.4314C291.0114,-98.2567 288.3474,-80.8195 286.6046,-69.4119\"/>\n<polygon fill=\"#000000\" stroke=\"#000000\" points=\"290.0462,-68.7634 285.076,-59.4068 283.1265,-69.8207 290.0462,-68.7634\"/>\n</g>\n<!-- r64 -->\n<g id=\"node31\" class=\"node\">\n<title>r64</title>\n<ellipse fill=\"#000000\" stroke=\"#000000\" cx=\"306.8\" cy=\"-57.6\" rx=\"1.8\" ry=\"1.8\"/>\n</g>\n<!-- 64&#45;&gt;r64 -->\n<g id=\"edge30\" class=\"edge\">\n<title>64&#45;&gt;r64</title>\n<path fill=\"none\" stroke=\"#000000\" d=\"M298.5758,-111.4314C300.5886,-98.2567 303.2526,-80.8195 304.9954,-69.4119\"/>\n<polygon fill=\"#000000\" stroke=\"#000000\" points=\"308.4735,-69.8207 306.524,-59.4068 301.5538,-68.7634 308.4735,-69.8207\"/>\n</g>\n<!-- 68 -->\n<g id=\"node33\" class=\"node\">\n<title>68</title>\n<ellipse fill=\"none\" stroke=\"#000000\" cx=\"360.8\" cy=\"-57.6\" rx=\"27\" ry=\"18\"/>\n<text text-anchor=\"middle\" x=\"360.8\" y=\"-53.9\" font-family=\"Times,serif\" font-size=\"14.00\" fill=\"#000000\">68</text>\n</g>\n<!-- 76&#45;&gt;68 -->\n<g id=\"edge32\" class=\"edge\">\n<title>76&#45;&gt;68</title>\n<path fill=\"none\" stroke=\"#000000\" d=\"M366.0336,-111.4314C365.285,-103.731 364.3947,-94.5743 363.5627,-86.0166\"/>\n<polygon fill=\"#000000\" stroke=\"#000000\" points=\"367.0415,-85.6276 362.5902,-76.0133 360.0744,-86.3051 367.0415,-85.6276\"/>\n</g>\n<!-- r76 -->\n<g id=\"node36\" class=\"node\">\n<title>r76</title>\n<ellipse fill=\"#000000\" stroke=\"#000000\" cx=\"407.8\" cy=\"-57.6\" rx=\"1.8\" ry=\"1.8\"/>\n</g>\n<!-- 76&#45;&gt;r76 -->\n<g id=\"edge35\" class=\"edge\">\n<title>76&#45;&gt;r76</title>\n<path fill=\"none\" stroke=\"#000000\" d=\"M377.2794,-112.537C384.9033,-98.814 395.3784,-79.9589 401.8622,-68.288\"/>\n<polygon fill=\"#000000\" stroke=\"#000000\" points=\"404.9652,-69.9095 406.7621,-59.4681 398.8461,-66.51 404.9652,-69.9095\"/>\n</g>\n<!-- l68 -->\n<g id=\"node34\" class=\"node\">\n<title>l68</title>\n<ellipse fill=\"#000000\" stroke=\"#000000\" cx=\"349.8\" cy=\"-1.8\" rx=\"1.8\" ry=\"1.8\"/>\n</g>\n<!-- 68&#45;&gt;l68 -->\n<g id=\"edge33\" class=\"edge\">\n<title>68&#45;&gt;l68</title>\n<path fill=\"none\" stroke=\"#000000\" d=\"M357.259,-39.6374C355.5738,-31.0891 353.6064,-21.1091 352.1154,-13.5455\"/>\n<polygon fill=\"#000000\" stroke=\"#000000\" points=\"355.5174,-12.7061 350.1493,-3.5719 348.6496,-14.06 355.5174,-12.7061\"/>\n</g>\n<!-- r68 -->\n<g id=\"node35\" class=\"node\">\n<title>r68</title>\n<ellipse fill=\"#000000\" stroke=\"#000000\" cx=\"371.8\" cy=\"-1.8\" rx=\"1.8\" ry=\"1.8\"/>\n</g>\n<!-- 68&#45;&gt;r68 -->\n<g id=\"edge34\" class=\"edge\">\n<title>68&#45;&gt;r68</title>\n<path fill=\"none\" stroke=\"#000000\" d=\"M364.341,-39.6374C366.0262,-31.0891 367.9936,-21.1091 369.4846,-13.5455\"/>\n<polygon fill=\"#000000\" stroke=\"#000000\" points=\"372.9504,-14.06 371.4507,-3.5719 366.0826,-12.7061 372.9504,-14.06\"/>\n</g>\n<!-- l93 -->\n<g id=\"node38\" class=\"node\">\n<title>l93</title>\n<ellipse fill=\"#000000\" stroke=\"#000000\" cx=\"390.8\" cy=\"-201.6\" rx=\"1.8\" ry=\"1.8\"/>\n</g>\n<!-- 93&#45;&gt;l93 -->\n<g id=\"edge37\" class=\"edge\">\n<title>93&#45;&gt;l93</title>\n<path fill=\"none\" stroke=\"#000000\" d=\"M396.0336,-255.4314C394.7527,-242.2567 393.0574,-224.8195 391.9484,-213.4119\"/>\n<polygon fill=\"#000000\" stroke=\"#000000\" points=\"395.427,-213.0211 390.9757,-203.4068 388.4598,-213.6985 395.427,-213.0211\"/>\n</g>\n<!-- 95 -->\n<g id=\"node39\" class=\"node\">\n<title>95</title>\n<ellipse fill=\"none\" stroke=\"#000000\" cx=\"437.8\" cy=\"-201.6\" rx=\"27\" ry=\"18\"/>\n<text text-anchor=\"middle\" x=\"437.8\" y=\"-197.9\" font-family=\"Times,serif\" font-size=\"14.00\" fill=\"#000000\">95</text>\n</g>\n<!-- 93&#45;&gt;95 -->\n<g id=\"edge38\" class=\"edge\">\n<title>93&#45;&gt;95</title>\n<path fill=\"none\" stroke=\"#000000\" d=\"M407.2794,-256.537C412.1115,-247.8393 418.0889,-237.0799 423.4696,-227.3948\"/>\n<polygon fill=\"#000000\" stroke=\"#000000\" points=\"426.5917,-228.9819 428.3886,-218.5405 420.4726,-225.5823 426.5917,-228.9819\"/>\n</g>\n<!-- l95 -->\n<g id=\"node40\" class=\"node\">\n<title>l95</title>\n<ellipse fill=\"#000000\" stroke=\"#000000\" cx=\"426.8\" cy=\"-129.6\" rx=\"1.8\" ry=\"1.8\"/>\n</g>\n<!-- 95&#45;&gt;l95 -->\n<g id=\"edge39\" class=\"edge\">\n<title>95&#45;&gt;l95</title>\n<path fill=\"none\" stroke=\"#000000\" d=\"M435.0242,-183.4314C433.0114,-170.2567 430.3474,-152.8195 428.6046,-141.4119\"/>\n<polygon fill=\"#000000\" stroke=\"#000000\" points=\"432.0462,-140.7634 427.076,-131.4068 425.1265,-141.8207 432.0462,-140.7634\"/>\n</g>\n<!-- r95 -->\n<g id=\"node41\" class=\"node\">\n<title>r95</title>\n<ellipse fill=\"#000000\" stroke=\"#000000\" cx=\"448.8\" cy=\"-129.6\" rx=\"1.8\" ry=\"1.8\"/>\n</g>\n<!-- 95&#45;&gt;r95 -->\n<g id=\"edge40\" class=\"edge\">\n<title>95&#45;&gt;r95</title>\n<path fill=\"none\" stroke=\"#000000\" d=\"M440.5758,-183.4314C442.5886,-170.2567 445.2526,-152.8195 446.9954,-141.4119\"/>\n<polygon fill=\"#000000\" stroke=\"#000000\" points=\"450.4735,-141.8207 448.524,-131.4068 443.5538,-140.7634 450.4735,-141.8207\"/>\n</g>\n</g>\n</svg>\n"
          },
          "metadata": {
            "tags": []
          },
          "execution_count": 30
        }
      ]
    },
    {
      "cell_type": "code",
      "metadata": {
        "id": "-fBqB6tnoRhO",
        "outputId": "461d94df-775e-4327-ea0e-8ee61acc6b0b",
        "colab": {
          "base_uri": "https://localhost:8080/",
          "height": 804
        }
      },
      "source": [
        "gv.Source.from_file(\"2.dot\")"
      ],
      "execution_count": 31,
      "outputs": [
        {
          "output_type": "execute_result",
          "data": {
            "text/plain": [
              "<graphviz.files.Source at 0x7f8a77c4f160>"
            ],
            "image/svg+xml": "<?xml version=\"1.0\" encoding=\"UTF-8\" standalone=\"no\"?>\n<!DOCTYPE svg PUBLIC \"-//W3C//DTD SVG 1.1//EN\"\n \"http://www.w3.org/Graphics/SVG/1.1/DTD/svg11.dtd\">\n<!-- Generated by graphviz version 2.40.1 (20161225.0304)\n -->\n<!-- Title: G Pages: 1 -->\n<svg width=\"457pt\" height=\"588pt\"\n viewBox=\"0.00 0.00 456.80 587.60\" xmlns=\"http://www.w3.org/2000/svg\" xmlns:xlink=\"http://www.w3.org/1999/xlink\">\n<g id=\"graph0\" class=\"graph\" transform=\"scale(1 1) rotate(0) translate(4 583.6)\">\n<title>G</title>\n<polygon fill=\"#ffffff\" stroke=\"transparent\" points=\"-4,4 -4,-583.6 452.8,-583.6 452.8,4 -4,4\"/>\n<!-- 9 -->\n<g id=\"node1\" class=\"node\">\n<title>9</title>\n<ellipse fill=\"none\" stroke=\"#000000\" cx=\"84.8\" cy=\"-561.6\" rx=\"27\" ry=\"18\"/>\n<text text-anchor=\"middle\" x=\"84.8\" y=\"-557.9\" font-family=\"Times,serif\" font-size=\"14.00\" fill=\"#000000\">9</text>\n</g>\n<!-- 0 -->\n<g id=\"node2\" class=\"node\">\n<title>0</title>\n<ellipse fill=\"none\" stroke=\"#000000\" cx=\"48.8\" cy=\"-489.6\" rx=\"27\" ry=\"18\"/>\n<text text-anchor=\"middle\" x=\"48.8\" y=\"-485.9\" font-family=\"Times,serif\" font-size=\"14.00\" fill=\"#000000\">0</text>\n</g>\n<!-- 9&#45;&gt;0 -->\n<g id=\"edge1\" class=\"edge\">\n<title>9&#45;&gt;0</title>\n<path fill=\"none\" stroke=\"#000000\" d=\"M76.0854,-544.1708C71.8403,-535.6807 66.6464,-525.2929 61.9337,-515.8674\"/>\n<polygon fill=\"#000000\" stroke=\"#000000\" points=\"65.037,-514.2477 57.4343,-506.8687 58.776,-517.3782 65.037,-514.2477\"/>\n</g>\n<!-- 33 -->\n<g id=\"node7\" class=\"node\">\n<title>33</title>\n<ellipse fill=\"none\" stroke=\"#000000\" cx=\"120.8\" cy=\"-489.6\" rx=\"27\" ry=\"18\"/>\n<text text-anchor=\"middle\" x=\"120.8\" y=\"-485.9\" font-family=\"Times,serif\" font-size=\"14.00\" fill=\"#000000\">33</text>\n</g>\n<!-- 9&#45;&gt;33 -->\n<g id=\"edge6\" class=\"edge\">\n<title>9&#45;&gt;33</title>\n<path fill=\"none\" stroke=\"#000000\" d=\"M93.5146,-544.1708C97.7597,-535.6807 102.9536,-525.2929 107.6663,-515.8674\"/>\n<polygon fill=\"#000000\" stroke=\"#000000\" points=\"110.824,-517.3782 112.1657,-506.8687 104.563,-514.2477 110.824,-517.3782\"/>\n</g>\n<!-- l0 -->\n<g id=\"node3\" class=\"node\">\n<title>l0</title>\n<ellipse fill=\"#000000\" stroke=\"#000000\" cx=\"1.8\" cy=\"-417.6\" rx=\"1.8\" ry=\"1.8\"/>\n</g>\n<!-- 0&#45;&gt;l0 -->\n<g id=\"edge2\" class=\"edge\">\n<title>0&#45;&gt;l0</title>\n<path fill=\"none\" stroke=\"#000000\" d=\"M37.6009,-473.1672C30.4082,-462.524 20.9256,-448.3253 12.8,-435.6 11.2626,-433.1924 9.6409,-430.5809 8.129,-428.1132\"/>\n<polygon fill=\"#000000\" stroke=\"#000000\" points=\"10.9738,-426.0533 2.8092,-419.3013 4.9811,-429.6711 10.9738,-426.0533\"/>\n</g>\n<!-- 8 -->\n<g id=\"node4\" class=\"node\">\n<title>8</title>\n<ellipse fill=\"none\" stroke=\"#000000\" cx=\"48.8\" cy=\"-417.6\" rx=\"27\" ry=\"18\"/>\n<text text-anchor=\"middle\" x=\"48.8\" y=\"-413.9\" font-family=\"Times,serif\" font-size=\"14.00\" fill=\"#000000\">8</text>\n</g>\n<!-- 0&#45;&gt;8 -->\n<g id=\"edge3\" class=\"edge\">\n<title>0&#45;&gt;8</title>\n<path fill=\"none\" stroke=\"#000000\" d=\"M48.8,-471.4314C48.8,-463.731 48.8,-454.5743 48.8,-446.0166\"/>\n<polygon fill=\"#000000\" stroke=\"#000000\" points=\"52.3001,-446.0132 48.8,-436.0133 45.3001,-446.0133 52.3001,-446.0132\"/>\n</g>\n<!-- l8 -->\n<g id=\"node5\" class=\"node\">\n<title>l8</title>\n<ellipse fill=\"#000000\" stroke=\"#000000\" cx=\"37.8\" cy=\"-345.6\" rx=\"1.8\" ry=\"1.8\"/>\n</g>\n<!-- 8&#45;&gt;l8 -->\n<g id=\"edge4\" class=\"edge\">\n<title>8&#45;&gt;l8</title>\n<path fill=\"none\" stroke=\"#000000\" d=\"M46.0242,-399.4314C44.0114,-386.2567 41.3474,-368.8195 39.6046,-357.4119\"/>\n<polygon fill=\"#000000\" stroke=\"#000000\" points=\"43.0462,-356.7634 38.076,-347.4068 36.1265,-357.8207 43.0462,-356.7634\"/>\n</g>\n<!-- r8 -->\n<g id=\"node6\" class=\"node\">\n<title>r8</title>\n<ellipse fill=\"#000000\" stroke=\"#000000\" cx=\"59.8\" cy=\"-345.6\" rx=\"1.8\" ry=\"1.8\"/>\n</g>\n<!-- 8&#45;&gt;r8 -->\n<g id=\"edge5\" class=\"edge\">\n<title>8&#45;&gt;r8</title>\n<path fill=\"none\" stroke=\"#000000\" d=\"M51.5758,-399.4314C53.5886,-386.2567 56.2526,-368.8195 57.9954,-357.4119\"/>\n<polygon fill=\"#000000\" stroke=\"#000000\" points=\"61.4735,-357.8207 59.524,-347.4068 54.5538,-356.7634 61.4735,-357.8207\"/>\n</g>\n<!-- 18 -->\n<g id=\"node8\" class=\"node\">\n<title>18</title>\n<ellipse fill=\"none\" stroke=\"#000000\" cx=\"120.8\" cy=\"-417.6\" rx=\"27\" ry=\"18\"/>\n<text text-anchor=\"middle\" x=\"120.8\" y=\"-413.9\" font-family=\"Times,serif\" font-size=\"14.00\" fill=\"#000000\">18</text>\n</g>\n<!-- 33&#45;&gt;18 -->\n<g id=\"edge7\" class=\"edge\">\n<title>33&#45;&gt;18</title>\n<path fill=\"none\" stroke=\"#000000\" d=\"M120.8,-471.4314C120.8,-463.731 120.8,-454.5743 120.8,-446.0166\"/>\n<polygon fill=\"#000000\" stroke=\"#000000\" points=\"124.3001,-446.0132 120.8,-436.0133 117.3001,-446.0133 124.3001,-446.0132\"/>\n</g>\n<!-- 37 -->\n<g id=\"node11\" class=\"node\">\n<title>37</title>\n<ellipse fill=\"none\" stroke=\"#000000\" cx=\"192.8\" cy=\"-417.6\" rx=\"27\" ry=\"18\"/>\n<text text-anchor=\"middle\" x=\"192.8\" y=\"-413.9\" font-family=\"Times,serif\" font-size=\"14.00\" fill=\"#000000\">37</text>\n</g>\n<!-- 33&#45;&gt;37 -->\n<g id=\"edge10\" class=\"edge\">\n<title>33&#45;&gt;37</title>\n<path fill=\"none\" stroke=\"#000000\" d=\"M136.0693,-474.3307C145.997,-464.403 159.1153,-451.2847 170.2363,-440.1637\"/>\n<polygon fill=\"#000000\" stroke=\"#000000\" points=\"172.9564,-442.3933 177.5527,-432.8473 168.0067,-437.4436 172.9564,-442.3933\"/>\n</g>\n<!-- l18 -->\n<g id=\"node9\" class=\"node\">\n<title>l18</title>\n<ellipse fill=\"#000000\" stroke=\"#000000\" cx=\"104.8\" cy=\"-345.6\" rx=\"1.8\" ry=\"1.8\"/>\n</g>\n<!-- 18&#45;&gt;l18 -->\n<g id=\"edge8\" class=\"edge\">\n<title>18&#45;&gt;l18</title>\n<path fill=\"none\" stroke=\"#000000\" d=\"M116.7625,-399.4314C113.8348,-386.2567 109.9599,-368.8195 107.4249,-357.4119\"/>\n<polygon fill=\"#000000\" stroke=\"#000000\" points=\"110.7875,-356.4094 105.2015,-347.4068 103.9542,-357.9279 110.7875,-356.4094\"/>\n</g>\n<!-- r18 -->\n<g id=\"node10\" class=\"node\">\n<title>r18</title>\n<ellipse fill=\"#000000\" stroke=\"#000000\" cx=\"126.8\" cy=\"-345.6\" rx=\"1.8\" ry=\"1.8\"/>\n</g>\n<!-- 18&#45;&gt;r18 -->\n<g id=\"edge9\" class=\"edge\">\n<title>18&#45;&gt;r18</title>\n<path fill=\"none\" stroke=\"#000000\" d=\"M122.3141,-399.4314C123.4119,-386.2567 124.865,-368.8195 125.8157,-357.4119\"/>\n<polygon fill=\"#000000\" stroke=\"#000000\" points=\"129.3068,-357.6629 126.6494,-347.4068 122.331,-357.0815 129.3068,-357.6629\"/>\n</g>\n<!-- 36 -->\n<g id=\"node12\" class=\"node\">\n<title>36</title>\n<ellipse fill=\"none\" stroke=\"#000000\" cx=\"185.8\" cy=\"-345.6\" rx=\"27\" ry=\"18\"/>\n<text text-anchor=\"middle\" x=\"185.8\" y=\"-341.9\" font-family=\"Times,serif\" font-size=\"14.00\" fill=\"#000000\">36</text>\n</g>\n<!-- 37&#45;&gt;36 -->\n<g id=\"edge11\" class=\"edge\">\n<title>37&#45;&gt;36</title>\n<path fill=\"none\" stroke=\"#000000\" d=\"M191.0336,-399.4314C190.285,-391.731 189.3947,-382.5743 188.5627,-374.0166\"/>\n<polygon fill=\"#000000\" stroke=\"#000000\" points=\"192.0415,-373.6276 187.5902,-364.0133 185.0744,-374.3051 192.0415,-373.6276\"/>\n</g>\n<!-- 54 -->\n<g id=\"node15\" class=\"node\">\n<title>54</title>\n<ellipse fill=\"none\" stroke=\"#000000\" cx=\"257.8\" cy=\"-345.6\" rx=\"27\" ry=\"18\"/>\n<text text-anchor=\"middle\" x=\"257.8\" y=\"-341.9\" font-family=\"Times,serif\" font-size=\"14.00\" fill=\"#000000\">54</text>\n</g>\n<!-- 37&#45;&gt;54 -->\n<g id=\"edge14\" class=\"edge\">\n<title>37&#45;&gt;54</title>\n<path fill=\"none\" stroke=\"#000000\" d=\"M206.904,-401.9771C215.6773,-392.259 227.1173,-379.587 236.9286,-368.7191\"/>\n<polygon fill=\"#000000\" stroke=\"#000000\" points=\"239.6204,-370.9605 243.7235,-361.1924 234.4245,-366.2698 239.6204,-370.9605\"/>\n</g>\n<!-- l36 -->\n<g id=\"node13\" class=\"node\">\n<title>l36</title>\n<ellipse fill=\"#000000\" stroke=\"#000000\" cx=\"174.8\" cy=\"-273.6\" rx=\"1.8\" ry=\"1.8\"/>\n</g>\n<!-- 36&#45;&gt;l36 -->\n<g id=\"edge12\" class=\"edge\">\n<title>36&#45;&gt;l36</title>\n<path fill=\"none\" stroke=\"#000000\" d=\"M183.0242,-327.4314C181.0114,-314.2567 178.3474,-296.8195 176.6046,-285.4119\"/>\n<polygon fill=\"#000000\" stroke=\"#000000\" points=\"180.0462,-284.7634 175.076,-275.4068 173.1265,-285.8207 180.0462,-284.7634\"/>\n</g>\n<!-- r36 -->\n<g id=\"node14\" class=\"node\">\n<title>r36</title>\n<ellipse fill=\"#000000\" stroke=\"#000000\" cx=\"196.8\" cy=\"-273.6\" rx=\"1.8\" ry=\"1.8\"/>\n</g>\n<!-- 36&#45;&gt;r36 -->\n<g id=\"edge13\" class=\"edge\">\n<title>36&#45;&gt;r36</title>\n<path fill=\"none\" stroke=\"#000000\" d=\"M188.5758,-327.4314C190.5886,-314.2567 193.2526,-296.8195 194.9954,-285.4119\"/>\n<polygon fill=\"#000000\" stroke=\"#000000\" points=\"198.4735,-285.8207 196.524,-275.4068 191.5538,-284.7634 198.4735,-285.8207\"/>\n</g>\n<!-- 40 -->\n<g id=\"node16\" class=\"node\">\n<title>40</title>\n<ellipse fill=\"none\" stroke=\"#000000\" cx=\"244.8\" cy=\"-273.6\" rx=\"27\" ry=\"18\"/>\n<text text-anchor=\"middle\" x=\"244.8\" y=\"-269.9\" font-family=\"Times,serif\" font-size=\"14.00\" fill=\"#000000\">40</text>\n</g>\n<!-- 54&#45;&gt;40 -->\n<g id=\"edge15\" class=\"edge\">\n<title>54&#45;&gt;40</title>\n<path fill=\"none\" stroke=\"#000000\" d=\"M254.5196,-327.4314C253.1078,-319.6125 251.425,-310.2923 249.8595,-301.6221\"/>\n<polygon fill=\"#000000\" stroke=\"#000000\" points=\"253.2556,-300.7324 248.0344,-291.5134 246.367,-301.9762 253.2556,-300.7324\"/>\n</g>\n<!-- 76 -->\n<g id=\"node19\" class=\"node\">\n<title>76</title>\n<ellipse fill=\"none\" stroke=\"#000000\" cx=\"316.8\" cy=\"-273.6\" rx=\"27\" ry=\"18\"/>\n<text text-anchor=\"middle\" x=\"316.8\" y=\"-269.9\" font-family=\"Times,serif\" font-size=\"14.00\" fill=\"#000000\">76</text>\n</g>\n<!-- 54&#45;&gt;76 -->\n<g id=\"edge18\" class=\"edge\">\n<title>54&#45;&gt;76</title>\n<path fill=\"none\" stroke=\"#000000\" d=\"M270.894,-329.6209C278.6089,-320.2061 288.5189,-308.1126 297.1555,-297.573\"/>\n<polygon fill=\"#000000\" stroke=\"#000000\" points=\"300.1115,-299.4877 303.7426,-289.5345 294.6971,-295.0509 300.1115,-299.4877\"/>\n</g>\n<!-- l40 -->\n<g id=\"node17\" class=\"node\">\n<title>l40</title>\n<ellipse fill=\"#000000\" stroke=\"#000000\" cx=\"228.8\" cy=\"-201.6\" rx=\"1.8\" ry=\"1.8\"/>\n</g>\n<!-- 40&#45;&gt;l40 -->\n<g id=\"edge16\" class=\"edge\">\n<title>40&#45;&gt;l40</title>\n<path fill=\"none\" stroke=\"#000000\" d=\"M240.7625,-255.4314C237.8348,-242.2567 233.9599,-224.8195 231.4249,-213.4119\"/>\n<polygon fill=\"#000000\" stroke=\"#000000\" points=\"234.7875,-212.4094 229.2015,-203.4068 227.9542,-213.9279 234.7875,-212.4094\"/>\n</g>\n<!-- r40 -->\n<g id=\"node18\" class=\"node\">\n<title>r40</title>\n<ellipse fill=\"#000000\" stroke=\"#000000\" cx=\"250.8\" cy=\"-201.6\" rx=\"1.8\" ry=\"1.8\"/>\n</g>\n<!-- 40&#45;&gt;r40 -->\n<g id=\"edge17\" class=\"edge\">\n<title>40&#45;&gt;r40</title>\n<path fill=\"none\" stroke=\"#000000\" d=\"M246.3141,-255.4314C247.4119,-242.2567 248.865,-224.8195 249.8157,-213.4119\"/>\n<polygon fill=\"#000000\" stroke=\"#000000\" points=\"253.3068,-213.6629 250.6494,-203.4068 246.331,-213.0815 253.3068,-213.6629\"/>\n</g>\n<!-- 62 -->\n<g id=\"node20\" class=\"node\">\n<title>62</title>\n<ellipse fill=\"none\" stroke=\"#000000\" cx=\"309.8\" cy=\"-201.6\" rx=\"27\" ry=\"18\"/>\n<text text-anchor=\"middle\" x=\"309.8\" y=\"-197.9\" font-family=\"Times,serif\" font-size=\"14.00\" fill=\"#000000\">62</text>\n</g>\n<!-- 76&#45;&gt;62 -->\n<g id=\"edge19\" class=\"edge\">\n<title>76&#45;&gt;62</title>\n<path fill=\"none\" stroke=\"#000000\" d=\"M315.0336,-255.4314C314.285,-247.731 313.3947,-238.5743 312.5627,-230.0166\"/>\n<polygon fill=\"#000000\" stroke=\"#000000\" points=\"316.0415,-229.6276 311.5902,-220.0133 309.0744,-230.3051 316.0415,-229.6276\"/>\n</g>\n<!-- 93 -->\n<g id=\"node27\" class=\"node\">\n<title>93</title>\n<ellipse fill=\"none\" stroke=\"#000000\" cx=\"381.8\" cy=\"-201.6\" rx=\"27\" ry=\"18\"/>\n<text text-anchor=\"middle\" x=\"381.8\" y=\"-197.9\" font-family=\"Times,serif\" font-size=\"14.00\" fill=\"#000000\">93</text>\n</g>\n<!-- 76&#45;&gt;93 -->\n<g id=\"edge26\" class=\"edge\">\n<title>76&#45;&gt;93</title>\n<path fill=\"none\" stroke=\"#000000\" d=\"M330.904,-257.9771C339.6773,-248.259 351.1173,-235.587 360.9286,-224.7191\"/>\n<polygon fill=\"#000000\" stroke=\"#000000\" points=\"363.6204,-226.9605 367.7235,-217.1924 358.4245,-222.2698 363.6204,-226.9605\"/>\n</g>\n<!-- l62 -->\n<g id=\"node21\" class=\"node\">\n<title>l62</title>\n<ellipse fill=\"#000000\" stroke=\"#000000\" cx=\"268.8\" cy=\"-129.6\" rx=\"1.8\" ry=\"1.8\"/>\n</g>\n<!-- 62&#45;&gt;l62 -->\n<g id=\"edge20\" class=\"edge\">\n<title>62&#45;&gt;l62</title>\n<path fill=\"none\" stroke=\"#000000\" d=\"M300.0836,-184.537C292.2691,-170.814 281.5321,-151.9589 274.8862,-140.288\"/>\n<polygon fill=\"#000000\" stroke=\"#000000\" points=\"277.8537,-138.4261 269.8638,-131.4681 271.7708,-141.89 277.8537,-138.4261\"/>\n</g>\n<!-- 65 -->\n<g id=\"node22\" class=\"node\">\n<title>65</title>\n<ellipse fill=\"none\" stroke=\"#000000\" cx=\"315.8\" cy=\"-129.6\" rx=\"27\" ry=\"18\"/>\n<text text-anchor=\"middle\" x=\"315.8\" y=\"-125.9\" font-family=\"Times,serif\" font-size=\"14.00\" fill=\"#000000\">65</text>\n</g>\n<!-- 62&#45;&gt;65 -->\n<g id=\"edge21\" class=\"edge\">\n<title>62&#45;&gt;65</title>\n<path fill=\"none\" stroke=\"#000000\" d=\"M311.3141,-183.4314C311.9558,-175.731 312.7188,-166.5743 313.4319,-158.0166\"/>\n<polygon fill=\"#000000\" stroke=\"#000000\" points=\"316.9229,-158.2694 314.2656,-148.0133 309.9471,-157.688 316.9229,-158.2694\"/>\n</g>\n<!-- 64 -->\n<g id=\"node23\" class=\"node\">\n<title>64</title>\n<ellipse fill=\"none\" stroke=\"#000000\" cx=\"292.8\" cy=\"-57.6\" rx=\"27\" ry=\"18\"/>\n<text text-anchor=\"middle\" x=\"292.8\" y=\"-53.9\" font-family=\"Times,serif\" font-size=\"14.00\" fill=\"#000000\">64</text>\n</g>\n<!-- 65&#45;&gt;64 -->\n<g id=\"edge22\" class=\"edge\">\n<title>65&#45;&gt;64</title>\n<path fill=\"none\" stroke=\"#000000\" d=\"M310.1146,-111.8022C307.5437,-103.7541 304.4466,-94.0588 301.5868,-85.1067\"/>\n<polygon fill=\"#000000\" stroke=\"#000000\" points=\"304.8768,-83.9033 298.4997,-75.4425 298.2087,-86.0334 304.8768,-83.9033\"/>\n</g>\n<!-- r65 -->\n<g id=\"node26\" class=\"node\">\n<title>r65</title>\n<ellipse fill=\"#000000\" stroke=\"#000000\" cx=\"339.8\" cy=\"-57.6\" rx=\"1.8\" ry=\"1.8\"/>\n</g>\n<!-- 65&#45;&gt;r65 -->\n<g id=\"edge25\" class=\"edge\">\n<title>65&#45;&gt;r65</title>\n<path fill=\"none\" stroke=\"#000000\" d=\"M321.7326,-111.8022C326.1702,-98.4895 332.11,-80.67 335.9461,-69.1618\"/>\n<polygon fill=\"#000000\" stroke=\"#000000\" points=\"339.349,-70.0208 339.191,-59.4271 332.7082,-67.8071 339.349,-70.0208\"/>\n</g>\n<!-- l64 -->\n<g id=\"node24\" class=\"node\">\n<title>l64</title>\n<ellipse fill=\"#000000\" stroke=\"#000000\" cx=\"281.8\" cy=\"-1.8\" rx=\"1.8\" ry=\"1.8\"/>\n</g>\n<!-- 64&#45;&gt;l64 -->\n<g id=\"edge23\" class=\"edge\">\n<title>64&#45;&gt;l64</title>\n<path fill=\"none\" stroke=\"#000000\" d=\"M289.259,-39.6374C287.5738,-31.0891 285.6064,-21.1091 284.1154,-13.5455\"/>\n<polygon fill=\"#000000\" stroke=\"#000000\" points=\"287.5174,-12.7061 282.1493,-3.5719 280.6496,-14.06 287.5174,-12.7061\"/>\n</g>\n<!-- r64 -->\n<g id=\"node25\" class=\"node\">\n<title>r64</title>\n<ellipse fill=\"#000000\" stroke=\"#000000\" cx=\"303.8\" cy=\"-1.8\" rx=\"1.8\" ry=\"1.8\"/>\n</g>\n<!-- 64&#45;&gt;r64 -->\n<g id=\"edge24\" class=\"edge\">\n<title>64&#45;&gt;r64</title>\n<path fill=\"none\" stroke=\"#000000\" d=\"M296.341,-39.6374C298.0262,-31.0891 299.9936,-21.1091 301.4846,-13.5455\"/>\n<polygon fill=\"#000000\" stroke=\"#000000\" points=\"304.9504,-14.06 303.4507,-3.5719 298.0826,-12.7061 304.9504,-14.06\"/>\n</g>\n<!-- l93 -->\n<g id=\"node28\" class=\"node\">\n<title>l93</title>\n<ellipse fill=\"#000000\" stroke=\"#000000\" cx=\"374.8\" cy=\"-129.6\" rx=\"1.8\" ry=\"1.8\"/>\n</g>\n<!-- 93&#45;&gt;l93 -->\n<g id=\"edge27\" class=\"edge\">\n<title>93&#45;&gt;l93</title>\n<path fill=\"none\" stroke=\"#000000\" d=\"M380.0336,-183.4314C378.7527,-170.2567 377.0574,-152.8195 375.9484,-141.4119\"/>\n<polygon fill=\"#000000\" stroke=\"#000000\" points=\"379.427,-141.0211 374.9757,-131.4068 372.4598,-141.6985 379.427,-141.0211\"/>\n</g>\n<!-- 95 -->\n<g id=\"node29\" class=\"node\">\n<title>95</title>\n<ellipse fill=\"none\" stroke=\"#000000\" cx=\"421.8\" cy=\"-129.6\" rx=\"27\" ry=\"18\"/>\n<text text-anchor=\"middle\" x=\"421.8\" y=\"-125.9\" font-family=\"Times,serif\" font-size=\"14.00\" fill=\"#000000\">95</text>\n</g>\n<!-- 93&#45;&gt;95 -->\n<g id=\"edge28\" class=\"edge\">\n<title>93&#45;&gt;95</title>\n<path fill=\"none\" stroke=\"#000000\" d=\"M391.2794,-184.537C396.1115,-175.8393 402.0889,-165.0799 407.4696,-155.3948\"/>\n<polygon fill=\"#000000\" stroke=\"#000000\" points=\"410.5917,-156.9819 412.3886,-146.5405 404.4726,-153.5823 410.5917,-156.9819\"/>\n</g>\n<!-- l95 -->\n<g id=\"node30\" class=\"node\">\n<title>l95</title>\n<ellipse fill=\"#000000\" stroke=\"#000000\" cx=\"410.8\" cy=\"-57.6\" rx=\"1.8\" ry=\"1.8\"/>\n</g>\n<!-- 95&#45;&gt;l95 -->\n<g id=\"edge29\" class=\"edge\">\n<title>95&#45;&gt;l95</title>\n<path fill=\"none\" stroke=\"#000000\" d=\"M419.0242,-111.4314C417.0114,-98.2567 414.3474,-80.8195 412.6046,-69.4119\"/>\n<polygon fill=\"#000000\" stroke=\"#000000\" points=\"416.0462,-68.7634 411.076,-59.4068 409.1265,-69.8207 416.0462,-68.7634\"/>\n</g>\n<!-- r95 -->\n<g id=\"node31\" class=\"node\">\n<title>r95</title>\n<ellipse fill=\"#000000\" stroke=\"#000000\" cx=\"432.8\" cy=\"-57.6\" rx=\"1.8\" ry=\"1.8\"/>\n</g>\n<!-- 95&#45;&gt;r95 -->\n<g id=\"edge30\" class=\"edge\">\n<title>95&#45;&gt;r95</title>\n<path fill=\"none\" stroke=\"#000000\" d=\"M424.5758,-111.4314C426.5886,-98.2567 429.2526,-80.8195 430.9954,-69.4119\"/>\n<polygon fill=\"#000000\" stroke=\"#000000\" points=\"434.4735,-69.8207 432.524,-59.4068 427.5538,-68.7634 434.4735,-69.8207\"/>\n</g>\n</g>\n</svg>\n"
          },
          "metadata": {
            "tags": []
          },
          "execution_count": 31
        }
      ]
    },
    {
      "cell_type": "code",
      "metadata": {
        "id": "RW-GcoFkwDzu",
        "outputId": "b9456f22-68ff-45a7-bbeb-76fc7b7435d3",
        "colab": {
          "base_uri": "https://localhost:8080/"
        }
      },
      "source": [
        "%%writefile persona.h\n",
        "#ifndef __PERSONA_H__\n",
        "#define __PERSONA_H__\n",
        "\n",
        "#include <string>\n",
        "\n",
        "using std::string;\n",
        "\n",
        "class Persona {\n",
        "    string  dni;\n",
        "    string  apaterno;\n",
        "    string  amaterno;\n",
        "    string  nombres;\n",
        "    string  fecnac;\n",
        "    float   estatura;\n",
        "public:\n",
        "    Persona(string  dni=\"\",\n",
        "            string  apaterno=\"\",\n",
        "            string  amaterno=\"\",\n",
        "            string  nombres=\"\",\n",
        "            string  fecnac=\"\",\n",
        "            float   estatura=.0f) : dni(dni),\n",
        "                                    apaterno(apaterno),\n",
        "                                    amaterno(amaterno),\n",
        "                                    nombres(nombres),\n",
        "                                    fecnac(fecnac),\n",
        "                                    estatura(estatura) {}\n",
        "               \n",
        "    string  getDni()        { return dni; }\n",
        "    string  getApaterno()   { return apaterno; }\n",
        "    string  getAmaterno()   { return amaterno; }\n",
        "    string  getNombres()    { return nombres; }\n",
        "    string  getFecnac()     { return fecnac; }\n",
        "    float   getEstatura()   { return estatura; }\n",
        "    \n",
        "    void    setDni(string dni)              { this->dni         =  dni; }\n",
        "    void    setApaterno(string apaterno)    { this->apaterno    =  apaterno; }\n",
        "    void    setAmaterno(string amaterno)    { this->amaterno    =  amaterno; }\n",
        "    void    setNombres(string nombres)      { this->nombres     =  nombres; }\n",
        "    void    setFecnac(string fecnac)        { this->fecnac      =  fecnac; }\n",
        "    void    setEstatura(float estatura)     { this->estatura    =  estatura; }\n",
        "};\n",
        "\n",
        "#endif"
      ],
      "execution_count": 6,
      "outputs": [
        {
          "output_type": "stream",
          "text": [
            "Overwriting persona.h\n"
          ],
          "name": "stdout"
        }
      ]
    },
    {
      "cell_type": "code",
      "metadata": {
        "id": "GvN0yrtu7nvo",
        "outputId": "b6c8dd35-17af-44ee-927a-26f1a03ffce2",
        "colab": {
          "base_uri": "https://localhost:8080/"
        }
      },
      "source": [
        "%%writefile 2.cpp\n",
        "#include <iostream>\n",
        "#include <iomanip>\n",
        "#include <fstream>\n",
        "#include <string>\n",
        "#include <sstream>\n",
        "#include <vector>\n",
        "#include <stdlib.h>\n",
        "#include \"persona.h\"\n",
        "#include \"bst.h\"\n",
        "\n",
        "using namespace std;\n",
        "\n",
        "void loadData(vector<string>& vec, string filename) {\n",
        "    ifstream file(filename);\n",
        "    string str;\n",
        "    while (file >> str) {\n",
        "        vec.push_back(str);\n",
        "    }\n",
        "    file.close();\n",
        "}\n",
        "\n",
        "Persona* randPersona(vector<string>& names, vector<string>& lastnames, int i) {\n",
        "    stringstream ssdni, ssfec;\n",
        "    ssdni << setfill('0') << setw(8) << i;\n",
        "    ssfec << (1920 + rand() % 90) << \"-\"\n",
        "          << setfill('0') << setw(2) << (1 + rand() % 12) << \"-\"\n",
        "          << setfill('0') << setw(2) << (1 + rand() % 28);\n",
        "    return new Persona(ssdni.str(),\n",
        "                       lastnames[rand() % lastnames.size()],\n",
        "                       lastnames[rand() % lastnames.size()],\n",
        "                       names[rand() % names.size()],\n",
        "                       ssfec.str(),\n",
        "                       (90 + rand() % 160) / 100.);\n",
        "}\n",
        "\n",
        "ostream& operator<<(ostream& os, Persona* p) {\n",
        "    os << std::setw(8)  << p->getDni()\n",
        "       << std::setw(15) << p->getApaterno()\n",
        "       << std::setw(15) << p->getAmaterno()\n",
        "       << std::setw(15) << p->getNombres()\n",
        "       << std::setw(12) << p->getFecnac()\n",
        "       << std::setw(5)  << p->getEstatura();\n",
        "    return os;\n",
        "}\n",
        "\n",
        "int main() {\n",
        "    vector<string> names, lastnames;\n",
        "    loadData(names, \"names.txt\");\n",
        "    loadData(lastnames, \"lastnames.txt\");\n",
        "\n",
        "    typedef Bst<Persona*, string> bstps;\n",
        "    typedef Bst<Persona*, float>  bstpf;\n",
        "\n",
        "    bstps* bstNom = new bstps([](Persona* a) { return a->getNombres(); });\n",
        "    bstps* bstApa = new bstps([](Persona* a) { return a->getApaterno(); });\n",
        "    bstpf* bstEst = new bstpf([](Persona* a) { return a->getEstatura(); });\n",
        "\n",
        "    Persona* persona;\n",
        "\n",
        "    srand(1981);\n",
        "    for (int i = 0; i < 1000000; ++i) {\n",
        "        persona = randPersona(names, lastnames, i+1);\n",
        "        bstNom->add(persona);\n",
        "        bstApa->add(persona);\n",
        "        bstEst->add(persona);\n",
        "    }\n",
        "\n",
        "    cout << \"Personas generadas e indexadas correctamente\\n\";\n",
        "\n",
        "    persona = bstNom->find(\"Harry\");\n",
        "    if (persona != nullptr) cout << persona << endl; else cout << \":(\\n\"; \n",
        "    persona = bstNom->find(\"Zayan\");\n",
        "    if (persona != nullptr) cout << persona << endl; else cout << \":(\\n\"; \n",
        "\n",
        "    persona = bstApa->find(\"Rice\");\n",
        "    if (persona != nullptr) cout << persona << endl; else cout << \":(\\n\";\n",
        "    persona = bstApa->find(\"Smith\");\n",
        "    if (persona != nullptr) cout << persona << endl; else cout << \":(\\n\";\n",
        "    persona = bstApa->find(\"Perez\");\n",
        "    if (persona != nullptr) cout << persona << endl; else cout << \":(\\n\";\n",
        "\n",
        "    persona = bstEst->find(1.55);\n",
        "    if (persona != nullptr) cout << persona << endl; else cout << \":(\\n\";\n",
        "    persona = bstEst->find(1.99);\n",
        "    if (persona != nullptr) cout << persona << endl; else cout << \":(\\n\";\n",
        "\n",
        "    delete bstNom;\n",
        "    delete bstApa;\n",
        "    delete bstEst;\n",
        "\n",
        "    return 0;\n",
        "}\n"
      ],
      "execution_count": 12,
      "outputs": [
        {
          "output_type": "stream",
          "text": [
            "Overwriting 2.cpp\n"
          ],
          "name": "stdout"
        }
      ]
    },
    {
      "cell_type": "code",
      "metadata": {
        "id": "n3JH4eyl7gwP"
      },
      "source": [
        "!g++ -std=c++17 -O2 -Wall 2.cpp"
      ],
      "execution_count": 13,
      "outputs": []
    },
    {
      "cell_type": "code",
      "metadata": {
        "id": "z-ahvtjLh6ed",
        "outputId": "de07c4dc-8f1c-4b2e-b820-366f7ad101e1",
        "colab": {
          "base_uri": "https://localhost:8080/"
        }
      },
      "source": [
        "!./a.out"
      ],
      "execution_count": 14,
      "outputs": [
        {
          "output_type": "stream",
          "text": [
            "Personas generadas e indexadas correctamente\n",
            "00000178           Duke      Rasmussen          Harry  1986-05-04 1.38\n",
            "00000250       Thatcher         Mercer          Zayan  2001-02-10 1.88\n",
            "00000334           Rice         Dudley           Mina  1929-07-06 1.72\n",
            "00000032          Smith       Houghton         Maddie  1940-12-04 1.59\n",
            ":(\n",
            "00000246        Neville         Millar          Wendy  1940-05-11 1.55\n",
            "00000337       Houghton          Arias         Julian  2003-05-27 1.99\n"
          ],
          "name": "stdout"
        }
      ]
    },
    {
      "cell_type": "markdown",
      "metadata": {
        "id": "QctWtYZa8QBU"
      },
      "source": [
        "# Guardar esto primero!!"
      ]
    },
    {
      "cell_type": "code",
      "metadata": {
        "id": "Wapo3Wxk8O3z",
        "outputId": "e14ec1f9-16d8-4e84-ecda-4c93b0bec813",
        "colab": {
          "base_uri": "https://localhost:8080/"
        }
      },
      "source": [
        "%%writefile names.txt\n",
        "Eshaal\n",
        "Lilian\n",
        "Muskaan\n",
        "Jiya\n",
        "Mahi\n",
        "Naseem\n",
        "Afsana\n",
        "Jodi\n",
        "Lynsey\n",
        "Menachem\n",
        "Jamelia\n",
        "Harry\n",
        "Affan\n",
        "Micah\n",
        "Evie Wilson\n",
        "Miles\n",
        "Sonny\n",
        "Kingsley\n",
        "Ayah\n",
        "Gemma\n",
        "Natalya\n",
        "Beverly\n",
        "Lucie\n",
        "Cyrus\n",
        "Rickie\n",
        "Carys\n",
        "Holli\n",
        "Shakil\n",
        "Callie\n",
        "Harper\n",
        "Tj\n",
        "Joy\n",
        "Hayleigh\n",
        "Steffan\n",
        "Mina\n",
        "Melvin\n",
        "Mylo\n",
        "Seb\n",
        "Emily\n",
        "Jed\n",
        "Kiaan\n",
        "Leanna\n",
        "Martha\n",
        "Aliya\n",
        "Jarvis\n",
        "Jorja\n",
        "Rahima\n",
        "Pearce\n",
        "Jill\n",
        "Taine\n",
        "Ottilie\n",
        "Jimmie\n",
        "Sila\n",
        "Tamanna\n",
        "Briana\n",
        "Kaylan\n",
        "Wendy\n",
        "Atlanta\n",
        "Jaidan\n",
        "Alima\n",
        "Bjorn\n",
        "Darrell\n",
        "Rhodri\n",
        "Henrietta\n",
        "Homer\n",
        "Meg\n",
        "Zayan\n",
        "Ocean\n",
        "Wanda\n",
        "Aleisha\n",
        "Inayah\n",
        "Neel\n",
        "Lubna\n",
        "Caiden\n",
        "Mahira\n",
        "Muhamed\n",
        "Shamima\n",
        "Arnas\n",
        "Makenzie\n",
        "Antonina\n",
        "Sheldon\n",
        "Zayaan\n",
        "Nora\n",
        "Braydon\n",
        "Leela\n",
        "Maddie\n",
        "Kenny\n",
        "Ralphy\n",
        "Nicole\n",
        "Matteo\n",
        "Julian\n",
        "Garry\n",
        "Kaitlyn\n",
        "Hayden\n",
        "Teigan\n",
        "Kenzo\n",
        "Yusra\n",
        "Taran\n",
        "Ravi\n",
        "Jude"
      ],
      "execution_count": 9,
      "outputs": [
        {
          "output_type": "stream",
          "text": [
            "Overwriting names.txt\n"
          ],
          "name": "stdout"
        }
      ]
    },
    {
      "cell_type": "code",
      "metadata": {
        "id": "3D19e2DX8eRh",
        "outputId": "f12c273f-7854-4428-a457-aefeb1806937",
        "colab": {
          "base_uri": "https://localhost:8080/"
        }
      },
      "source": [
        "%%writefile lastnames.txt\n",
        "Whiteley\n",
        "Frost\n",
        "Handley\n",
        "Robertson\n",
        "Stanton\n",
        "West\n",
        "Kramer\n",
        "Hardy\n",
        "Holder\n",
        "Duke\n",
        "Lyons\n",
        "Mitchell\n",
        "Pennington\n",
        "Thatcher\n",
        "May\n",
        "Hardin\n",
        "Sullivan\n",
        "Greenaway\n",
        "Clifford\n",
        "Sandoval\n",
        "Barrow\n",
        "Mercer\n",
        "Clayton\n",
        "Maguire\n",
        "Rasmussen\n",
        "Ashton\n",
        "Bone\n",
        "Bowers\n",
        "Lindsay\n",
        "Owens\n",
        "Knight\n",
        "Booker\n",
        "Lowry\n",
        "Strong\n",
        "Wardle\n",
        "Nava\n",
        "Oconnor\n",
        "Ross\n",
        "Smith\n",
        "Shea\n",
        "Pearson\n",
        "Dudley\n",
        "Everett\n",
        "Ruiz\n",
        "Feeney\n",
        "Rooney\n",
        "Flowers\n",
        "Farmer\n",
        "Kirby\n",
        "Ball\n",
        "Woods\n",
        "Ballard\n",
        "Michael\n",
        "Begum\n",
        "Ritter\n",
        "Le\n",
        "Carson\n",
        "Raymond\n",
        "Bean\n",
        "Barnes\n",
        "Branch\n",
        "Rice\n",
        "Churchill\n",
        "Aldred\n",
        "Fuller\n",
        "Salt\n",
        "Hickman\n",
        "Mohammed\n",
        "Easton\n",
        "Munro\n",
        "Millar\n",
        "Mckay\n",
        "Arias\n",
        "Melton\n",
        "Butt\n",
        "Hogan\n",
        "Gregory\n",
        "Houston\n",
        "Sykes\n",
        "Parks\n",
        "Shannon\n",
        "Sanderson\n",
        "Hobbs\n",
        "Cain\n",
        "Keeling\n",
        "Neville\n",
        "Rigby\n",
        "Dougherty\n",
        "Valenzuela\n",
        "Mcfadden\n",
        "Whitmore\n",
        "North\n",
        "Reyes\n",
        "Byers\n",
        "Skinner\n",
        "Lloyd\n",
        "Battle\n",
        "Norton\n",
        "Phelps\n",
        "Houghton"
      ],
      "execution_count": 10,
      "outputs": [
        {
          "output_type": "stream",
          "text": [
            "Overwriting lastnames.txt\n"
          ],
          "name": "stdout"
        }
      ]
    },
    {
      "cell_type": "code",
      "metadata": {
        "id": "I1a_G-1v8i1j"
      },
      "source": [
        ""
      ],
      "execution_count": 10,
      "outputs": []
    }
  ]
}