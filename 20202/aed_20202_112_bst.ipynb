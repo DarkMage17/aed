{
  "nbformat": 4,
  "nbformat_minor": 0,
  "metadata": {
    "colab": {
      "name": "aed 20202 112 bst.ipynb",
      "provenance": [],
      "collapsed_sections": [],
      "authorship_tag": "ABX9TyNB7F1S2Xxd+ci1Pmals917",
      "include_colab_link": true
    },
    "kernelspec": {
      "name": "python3",
      "display_name": "Python 3"
    }
  },
  "cells": [
    {
      "cell_type": "markdown",
      "metadata": {
        "id": "view-in-github",
        "colab_type": "text"
      },
      "source": [
        "<a href=\"https://colab.research.google.com/github/pcsilcan/aed/blob/master/20202/aed_20202_112_bst.ipynb\" target=\"_parent\"><img src=\"https://colab.research.google.com/assets/colab-badge.svg\" alt=\"Open In Colab\"/></a>"
      ]
    },
    {
      "cell_type": "code",
      "metadata": {
        "id": "9A4YoUBqFbWo",
        "outputId": "a39d7191-1d46-430c-fdce-5fe2872056cf",
        "colab": {
          "base_uri": "https://localhost:8080/"
        }
      },
      "source": [
        "%%writefile bst.h\n",
        "#pragma once\n",
        "\n",
        "#include <functional>\n",
        "#include <string>\n",
        "#include <fstream>\n",
        "\n",
        "using namespace std;\n",
        "\n",
        "template <typename T, typename R=T>\n",
        "class Bst {\n",
        "    struct Node {\n",
        "        T       elem;\n",
        "        Node*   left;\n",
        "        Node*   right;\n",
        "\n",
        "        Node(T elem, Node* left=nullptr, Node* right=nullptr)\n",
        "            : elem(elem), left(left), right(right) {}\n",
        "    };\n",
        "\n",
        "    using lmbKey    = function<R(T)>;\n",
        "    using lmbP      = function<void(T)>;\n",
        "\n",
        "    Node*   root;\n",
        "    int     len;\n",
        "    lmbKey  key;\n",
        "public:\n",
        "    Bst(lmbKey key=[](T a) {return a;}) : root(nullptr), len(0), key(key) {}\n",
        "    ~Bst()                      { destroy(root); }\n",
        "\n",
        "    void add(T elem)            { add(root, elem); }\n",
        "    void inOrder(lmbP proc)     { inOrder(root, proc); }\n",
        "\n",
        "    T find(R attr) {\n",
        "        auto node = find(root, attr);\n",
        "        return node == nullptr? nullptr: node->elem;\n",
        "    }\n",
        "    T greatest() {\n",
        "        if (root == nullptr) {\n",
        "            return nullptr;\n",
        "        } else {\n",
        "            auto node = greatest(root);\n",
        "            return node->elem;\n",
        "        }\n",
        "    }\n",
        "    void remove(R attr) {\n",
        "        auto node = find(root, attr);\n",
        "        if (node == nullptr) return;\n",
        "        if (node->left == nullptr) {\n",
        "            Node* aux = node;\n",
        "            node = node->right;\n",
        "            delete aux;\n",
        "        } else {\n",
        "            auto cand = greatest(node->left);\n",
        "            node->elem = cand->elem;\n",
        "            Node* aux = cand;\n",
        "            cand = cand->left;\n",
        "            delete aux;\n",
        "        }\n",
        "    }\n",
        "\n",
        "//-------------------------------------------------------------------\n",
        "/// CODIGO SUPER OPCIONAL (NO ES NECESARIO ENTENDERLO NI USARLO SI NO DESEA)\n",
        "//-------------------------------------------------------------------\n",
        "    void generateDot(std::string filename) {\n",
        "        if (root != nullptr) {\n",
        "            std::ofstream file(filename);\n",
        "            int cont = 0;\n",
        "            file << \"digraph G {\\n\";\n",
        "            generate(root, file, cont);\n",
        "            file << \"}\";\n",
        "        }\n",
        "    }\n",
        "\n",
        "    void generate(Node* node, std::ofstream& file, int& cont) {\n",
        "        if (node->left != nullptr) {\n",
        "            file << node->elem << \"->\" << node->left->elem << std::endl;\n",
        "            generate(node->left, file, cont);\n",
        "        } else {\n",
        "            file << \"null\" << cont << \" [shape=point]\\n\";\n",
        "            file << node->elem << \"->null\" << cont << std::endl;\n",
        "            ++cont;\n",
        "        }\n",
        "        if (node->right != nullptr) {\n",
        "            file << node->elem << \"->\" << node->right->elem << std::endl;\n",
        "            generate(node->right, file, cont);\n",
        "        } else {\n",
        "            file << \"null\" << cont << \" [shape=point]\\n\";\n",
        "            file << node->elem << \"->null\" << cont << std::endl;\n",
        "            ++cont;\n",
        "        }\n",
        "    }\n",
        "//-------------------------------------------------------------------\n",
        "/// CODIGO SUPER OPCIONAL (NO ES NECESARIO ENTENDERLO NI USARLO SI NO DESEA)\n",
        "//-------------------------------------------------------------------\n",
        "\n",
        "private:\n",
        "    void destroy(Node* node) {\n",
        "        if (node != nullptr) {\n",
        "            destroy(node->left);\n",
        "            destroy(node->right);\n",
        "            delete node;\n",
        "        }\n",
        "    }\n",
        "    void add(Node*& node, T elem) {\n",
        "        if (node == nullptr) {\n",
        "            node = new Node(elem);\n",
        "            ++len;\n",
        "        } else if (key(elem) < key(node->elem)) {\n",
        "            add(node->left, elem);\n",
        "        } else if (key(elem) > key(node->elem)) {\n",
        "            add(node->right, elem);\n",
        "        }\n",
        "    }\n",
        "    void inOrder(Node* node, lmbP proc) {\n",
        "        if (node != nullptr) {\n",
        "            inOrder(node->left, proc);\n",
        "            proc(node->elem);\n",
        "            inOrder(node->right, proc);\n",
        "        }\n",
        "    }\n",
        "    Node*& find(Node*& node, R attr) {\n",
        "        if (node == nullptr) {\n",
        "            return dummynull;\n",
        "        } else if (attr == key(node->elem)) {\n",
        "            return node;\n",
        "        } else if (attr < key(node->elem)) {\n",
        "            return find(node->left, attr);\n",
        "        } else {\n",
        "            return find(node->right, attr);\n",
        "        }\n",
        "        // return find((attr < key(node->elem)? node->left: node->right, attr);\n",
        "    }\n",
        "    Node*& greatest(Node*& node) {\n",
        "        return node->right == nullptr? node: greatest(node->right);\n",
        "    }\n",
        "\n",
        "    // Mandrakeada\n",
        "    Node* dummynull = nullptr;\n",
        "};\n",
        "\n",
        "\n",
        "int cosa(int& a) {\n",
        "    a = a * 10;\n",
        "    return a * 20;\n",
        "}"
      ],
      "execution_count": 11,
      "outputs": [
        {
          "output_type": "stream",
          "text": [
            "Overwriting bst.h\n"
          ],
          "name": "stdout"
        }
      ]
    },
    {
      "cell_type": "code",
      "metadata": {
        "id": "9I-vHIwnMRgD",
        "outputId": "2b5e4ac4-3ed8-4173-cc67-a921c0eb0c98",
        "colab": {
          "base_uri": "https://localhost:8080/"
        }
      },
      "source": [
        "%%writefile 1.cpp\n",
        "#include <iostream>\n",
        "#include <string>\n",
        "#include <stdlib.h>\n",
        "#include <time.h>\n",
        "#include \"bst.h\"\n",
        "\n",
        "using namespace std;\n",
        "\n",
        "\n",
        "int main() {\n",
        "    Bst<int>* bst = new Bst<int>();\n",
        "\n",
        "    srand(time(0));\n",
        "    for (int i = 0; i < 20; ++i) {\n",
        "        bst->add(rand() % 100);\n",
        "    }\n",
        "\n",
        "    bst->inOrder([](int x) { cout << x << \" \"; });\n",
        "    cout << endl;\n",
        "\n",
        "    bst->generateDot(\"1.dot\");\n",
        "\n",
        "    return 0;\n",
        "}"
      ],
      "execution_count": 12,
      "outputs": [
        {
          "output_type": "stream",
          "text": [
            "Overwriting 1.cpp\n"
          ],
          "name": "stdout"
        }
      ]
    },
    {
      "cell_type": "code",
      "metadata": {
        "id": "6Dz_hiHmNRV4",
        "outputId": "5b2059d8-1bcd-4ee9-81b0-2797099940a3",
        "colab": {
          "base_uri": "https://localhost:8080/"
        }
      },
      "source": [
        "!g++ -std=c++17 -O2 -Wall 1.cpp && ./a.out"
      ],
      "execution_count": 13,
      "outputs": [
        {
          "output_type": "stream",
          "text": [
            "3 6 9 18 21 25 45 47 52 56 57 60 63 67 84 92 93 95 \n"
          ],
          "name": "stdout"
        }
      ]
    },
    {
      "cell_type": "code",
      "metadata": {
        "id": "322WBWkMNW6y",
        "outputId": "aaaefc57-380a-4ccf-b73f-c2ff66c4ede0",
        "colab": {
          "base_uri": "https://localhost:8080/"
        }
      },
      "source": [
        "!cat 1.dot"
      ],
      "execution_count": 14,
      "outputs": [
        {
          "output_type": "stream",
          "text": [
            "digraph G {\n",
            "6->3\n",
            "null0 [shape=point]\n",
            "3->null0\n",
            "null1 [shape=point]\n",
            "3->null1\n",
            "6->18\n",
            "18->9\n",
            "null2 [shape=point]\n",
            "9->null2\n",
            "null3 [shape=point]\n",
            "9->null3\n",
            "18->67\n",
            "67->45\n",
            "45->21\n",
            "null4 [shape=point]\n",
            "21->null4\n",
            "21->25\n",
            "null5 [shape=point]\n",
            "25->null5\n",
            "null6 [shape=point]\n",
            "25->null6\n",
            "45->60\n",
            "60->57\n",
            "57->52\n",
            "52->47\n",
            "null7 [shape=point]\n",
            "47->null7\n",
            "null8 [shape=point]\n",
            "47->null8\n",
            "52->56\n",
            "null9 [shape=point]\n",
            "56->null9\n",
            "null10 [shape=point]\n",
            "56->null10\n",
            "null11 [shape=point]\n",
            "57->null11\n",
            "60->63\n",
            "null12 [shape=point]\n",
            "63->null12\n",
            "null13 [shape=point]\n",
            "63->null13\n",
            "67->92\n",
            "92->84\n",
            "null14 [shape=point]\n",
            "84->null14\n",
            "null15 [shape=point]\n",
            "84->null15\n",
            "92->95\n",
            "95->93\n",
            "null16 [shape=point]\n",
            "93->null16\n",
            "null17 [shape=point]\n",
            "93->null17\n",
            "null18 [shape=point]\n",
            "95->null18\n",
            "}"
          ],
          "name": "stdout"
        }
      ]
    },
    {
      "cell_type": "code",
      "metadata": {
        "id": "S4aUMFf8pCao",
        "outputId": "7032fb10-dddb-4c8d-d1ba-aa5b0c50afe0",
        "colab": {
          "base_uri": "https://localhost:8080/",
          "height": 804
        }
      },
      "source": [
        "import graphviz as gv\n",
        "gv.Source.from_file(\"1.dot\")"
      ],
      "execution_count": 15,
      "outputs": [
        {
          "output_type": "execute_result",
          "data": {
            "text/plain": [
              "<graphviz.files.Source at 0x7fed0d18b940>"
            ],
            "image/svg+xml": "<?xml version=\"1.0\" encoding=\"UTF-8\" standalone=\"no\"?>\n<!DOCTYPE svg PUBLIC \"-//W3C//DTD SVG 1.1//EN\"\n \"http://www.w3.org/Graphics/SVG/1.1/DTD/svg11.dtd\">\n<!-- Generated by graphviz version 2.40.1 (20161225.0304)\n -->\n<!-- Title: G Pages: 1 -->\n<svg width=\"374pt\" height=\"588pt\"\n viewBox=\"0.00 0.00 373.80 587.60\" xmlns=\"http://www.w3.org/2000/svg\" xmlns:xlink=\"http://www.w3.org/1999/xlink\">\n<g id=\"graph0\" class=\"graph\" transform=\"scale(1 1) rotate(0) translate(4 583.6)\">\n<title>G</title>\n<polygon fill=\"#ffffff\" stroke=\"transparent\" points=\"-4,4 -4,-583.6 369.8,-583.6 369.8,4 -4,4\"/>\n<!-- 6 -->\n<g id=\"node1\" class=\"node\">\n<title>6</title>\n<ellipse fill=\"none\" stroke=\"#000000\" cx=\"63\" cy=\"-561.6\" rx=\"27\" ry=\"18\"/>\n<text text-anchor=\"middle\" x=\"63\" y=\"-557.9\" font-family=\"Times,serif\" font-size=\"14.00\" fill=\"#000000\">6</text>\n</g>\n<!-- 3 -->\n<g id=\"node2\" class=\"node\">\n<title>3</title>\n<ellipse fill=\"none\" stroke=\"#000000\" cx=\"27\" cy=\"-489.6\" rx=\"27\" ry=\"18\"/>\n<text text-anchor=\"middle\" x=\"27\" y=\"-485.9\" font-family=\"Times,serif\" font-size=\"14.00\" fill=\"#000000\">3</text>\n</g>\n<!-- 6&#45;&gt;3 -->\n<g id=\"edge1\" class=\"edge\">\n<title>6&#45;&gt;3</title>\n<path fill=\"none\" stroke=\"#000000\" d=\"M54.2854,-544.1708C50.0403,-535.6807 44.8464,-525.2929 40.1337,-515.8674\"/>\n<polygon fill=\"#000000\" stroke=\"#000000\" points=\"43.237,-514.2477 35.6343,-506.8687 36.976,-517.3782 43.237,-514.2477\"/>\n</g>\n<!-- 18 -->\n<g id=\"node5\" class=\"node\">\n<title>18</title>\n<ellipse fill=\"none\" stroke=\"#000000\" cx=\"99\" cy=\"-489.6\" rx=\"27\" ry=\"18\"/>\n<text text-anchor=\"middle\" x=\"99\" y=\"-485.9\" font-family=\"Times,serif\" font-size=\"14.00\" fill=\"#000000\">18</text>\n</g>\n<!-- 6&#45;&gt;18 -->\n<g id=\"edge4\" class=\"edge\">\n<title>6&#45;&gt;18</title>\n<path fill=\"none\" stroke=\"#000000\" d=\"M71.7146,-544.1708C75.9597,-535.6807 81.1536,-525.2929 85.8663,-515.8674\"/>\n<polygon fill=\"#000000\" stroke=\"#000000\" points=\"89.024,-517.3782 90.3657,-506.8687 82.763,-514.2477 89.024,-517.3782\"/>\n</g>\n<!-- null0 -->\n<g id=\"node3\" class=\"node\">\n<title>null0</title>\n<ellipse fill=\"#000000\" stroke=\"#000000\" cx=\"16\" cy=\"-417.6\" rx=\"1.8\" ry=\"1.8\"/>\n</g>\n<!-- 3&#45;&gt;null0 -->\n<g id=\"edge2\" class=\"edge\">\n<title>3&#45;&gt;null0</title>\n<path fill=\"none\" stroke=\"#000000\" d=\"M24.2242,-471.4314C22.2114,-458.2567 19.5474,-440.8195 17.8046,-429.4119\"/>\n<polygon fill=\"#000000\" stroke=\"#000000\" points=\"21.2462,-428.7634 16.276,-419.4068 14.3265,-429.8207 21.2462,-428.7634\"/>\n</g>\n<!-- null1 -->\n<g id=\"node4\" class=\"node\">\n<title>null1</title>\n<ellipse fill=\"#000000\" stroke=\"#000000\" cx=\"38\" cy=\"-417.6\" rx=\"1.8\" ry=\"1.8\"/>\n</g>\n<!-- 3&#45;&gt;null1 -->\n<g id=\"edge3\" class=\"edge\">\n<title>3&#45;&gt;null1</title>\n<path fill=\"none\" stroke=\"#000000\" d=\"M29.7758,-471.4314C31.7886,-458.2567 34.4526,-440.8195 36.1954,-429.4119\"/>\n<polygon fill=\"#000000\" stroke=\"#000000\" points=\"39.6735,-429.8207 37.724,-419.4068 32.7538,-428.7634 39.6735,-429.8207\"/>\n</g>\n<!-- 9 -->\n<g id=\"node6\" class=\"node\">\n<title>9</title>\n<ellipse fill=\"none\" stroke=\"#000000\" cx=\"92\" cy=\"-417.6\" rx=\"27\" ry=\"18\"/>\n<text text-anchor=\"middle\" x=\"92\" y=\"-413.9\" font-family=\"Times,serif\" font-size=\"14.00\" fill=\"#000000\">9</text>\n</g>\n<!-- 18&#45;&gt;9 -->\n<g id=\"edge5\" class=\"edge\">\n<title>18&#45;&gt;9</title>\n<path fill=\"none\" stroke=\"#000000\" d=\"M97.2336,-471.4314C96.485,-463.731 95.5947,-454.5743 94.7627,-446.0166\"/>\n<polygon fill=\"#000000\" stroke=\"#000000\" points=\"98.2415,-445.6276 93.7902,-436.0133 91.2744,-446.3051 98.2415,-445.6276\"/>\n</g>\n<!-- 67 -->\n<g id=\"node9\" class=\"node\">\n<title>67</title>\n<ellipse fill=\"none\" stroke=\"#000000\" cx=\"164\" cy=\"-417.6\" rx=\"27\" ry=\"18\"/>\n<text text-anchor=\"middle\" x=\"164\" y=\"-413.9\" font-family=\"Times,serif\" font-size=\"14.00\" fill=\"#000000\">67</text>\n</g>\n<!-- 18&#45;&gt;67 -->\n<g id=\"edge8\" class=\"edge\">\n<title>18&#45;&gt;67</title>\n<path fill=\"none\" stroke=\"#000000\" d=\"M113.104,-473.9771C121.8773,-464.259 133.3173,-451.587 143.1286,-440.7191\"/>\n<polygon fill=\"#000000\" stroke=\"#000000\" points=\"145.8204,-442.9605 149.9235,-433.1924 140.6245,-438.2698 145.8204,-442.9605\"/>\n</g>\n<!-- null2 -->\n<g id=\"node7\" class=\"node\">\n<title>null2</title>\n<ellipse fill=\"#000000\" stroke=\"#000000\" cx=\"81\" cy=\"-345.6\" rx=\"1.8\" ry=\"1.8\"/>\n</g>\n<!-- 9&#45;&gt;null2 -->\n<g id=\"edge6\" class=\"edge\">\n<title>9&#45;&gt;null2</title>\n<path fill=\"none\" stroke=\"#000000\" d=\"M89.2242,-399.4314C87.2114,-386.2567 84.5474,-368.8195 82.8046,-357.4119\"/>\n<polygon fill=\"#000000\" stroke=\"#000000\" points=\"86.2462,-356.7634 81.276,-347.4068 79.3265,-357.8207 86.2462,-356.7634\"/>\n</g>\n<!-- null3 -->\n<g id=\"node8\" class=\"node\">\n<title>null3</title>\n<ellipse fill=\"#000000\" stroke=\"#000000\" cx=\"103\" cy=\"-345.6\" rx=\"1.8\" ry=\"1.8\"/>\n</g>\n<!-- 9&#45;&gt;null3 -->\n<g id=\"edge7\" class=\"edge\">\n<title>9&#45;&gt;null3</title>\n<path fill=\"none\" stroke=\"#000000\" d=\"M94.7758,-399.4314C96.7886,-386.2567 99.4526,-368.8195 101.1954,-357.4119\"/>\n<polygon fill=\"#000000\" stroke=\"#000000\" points=\"104.6735,-357.8207 102.724,-347.4068 97.7538,-356.7634 104.6735,-357.8207\"/>\n</g>\n<!-- 45 -->\n<g id=\"node10\" class=\"node\">\n<title>45</title>\n<ellipse fill=\"none\" stroke=\"#000000\" cx=\"151\" cy=\"-345.6\" rx=\"27\" ry=\"18\"/>\n<text text-anchor=\"middle\" x=\"151\" y=\"-341.9\" font-family=\"Times,serif\" font-size=\"14.00\" fill=\"#000000\">45</text>\n</g>\n<!-- 67&#45;&gt;45 -->\n<g id=\"edge9\" class=\"edge\">\n<title>67&#45;&gt;45</title>\n<path fill=\"none\" stroke=\"#000000\" d=\"M160.7196,-399.4314C159.3078,-391.6125 157.625,-382.2923 156.0595,-373.6221\"/>\n<polygon fill=\"#000000\" stroke=\"#000000\" points=\"159.4556,-372.7324 154.2344,-363.5134 152.567,-373.9762 159.4556,-372.7324\"/>\n</g>\n<!-- 92 -->\n<g id=\"node29\" class=\"node\">\n<title>92</title>\n<ellipse fill=\"none\" stroke=\"#000000\" cx=\"246\" cy=\"-345.6\" rx=\"27\" ry=\"18\"/>\n<text text-anchor=\"middle\" x=\"246\" y=\"-341.9\" font-family=\"Times,serif\" font-size=\"14.00\" fill=\"#000000\">92</text>\n</g>\n<!-- 67&#45;&gt;92 -->\n<g id=\"edge28\" class=\"edge\">\n<title>67&#45;&gt;92</title>\n<path fill=\"none\" stroke=\"#000000\" d=\"M180.5939,-403.0297C192.3754,-392.6851 208.384,-378.6286 221.6145,-367.0116\"/>\n<polygon fill=\"#000000\" stroke=\"#000000\" points=\"224.2256,-369.3767 229.4308,-360.1486 219.607,-364.1166 224.2256,-369.3767\"/>\n</g>\n<!-- 21 -->\n<g id=\"node11\" class=\"node\">\n<title>21</title>\n<ellipse fill=\"none\" stroke=\"#000000\" cx=\"55\" cy=\"-273.6\" rx=\"27\" ry=\"18\"/>\n<text text-anchor=\"middle\" x=\"55\" y=\"-269.9\" font-family=\"Times,serif\" font-size=\"14.00\" fill=\"#000000\">21</text>\n</g>\n<!-- 45&#45;&gt;21 -->\n<g id=\"edge10\" class=\"edge\">\n<title>45&#45;&gt;21</title>\n<path fill=\"none\" stroke=\"#000000\" d=\"M132.9431,-332.0574C118.3275,-321.0956 97.545,-305.5088 81.1152,-293.1864\"/>\n<polygon fill=\"#000000\" stroke=\"#000000\" points=\"83.0759,-290.282 72.9759,-287.0819 78.8759,-295.882 83.0759,-290.282\"/>\n</g>\n<!-- 60 -->\n<g id=\"node16\" class=\"node\">\n<title>60</title>\n<ellipse fill=\"none\" stroke=\"#000000\" cx=\"151\" cy=\"-273.6\" rx=\"27\" ry=\"18\"/>\n<text text-anchor=\"middle\" x=\"151\" y=\"-269.9\" font-family=\"Times,serif\" font-size=\"14.00\" fill=\"#000000\">60</text>\n</g>\n<!-- 45&#45;&gt;60 -->\n<g id=\"edge15\" class=\"edge\">\n<title>45&#45;&gt;60</title>\n<path fill=\"none\" stroke=\"#000000\" d=\"M151,-327.4314C151,-319.731 151,-310.5743 151,-302.0166\"/>\n<polygon fill=\"#000000\" stroke=\"#000000\" points=\"154.5001,-302.0132 151,-292.0133 147.5001,-302.0133 154.5001,-302.0132\"/>\n</g>\n<!-- null4 -->\n<g id=\"node12\" class=\"node\">\n<title>null4</title>\n<ellipse fill=\"#000000\" stroke=\"#000000\" cx=\"8\" cy=\"-201.6\" rx=\"1.8\" ry=\"1.8\"/>\n</g>\n<!-- 21&#45;&gt;null4 -->\n<g id=\"edge11\" class=\"edge\">\n<title>21&#45;&gt;null4</title>\n<path fill=\"none\" stroke=\"#000000\" d=\"M43.8009,-257.1672C36.6082,-246.524 27.1256,-232.3253 19,-219.6 17.4626,-217.1924 15.8409,-214.5809 14.329,-212.1132\"/>\n<polygon fill=\"#000000\" stroke=\"#000000\" points=\"17.1738,-210.0533 9.0092,-203.3013 11.1811,-213.6711 17.1738,-210.0533\"/>\n</g>\n<!-- 25 -->\n<g id=\"node13\" class=\"node\">\n<title>25</title>\n<ellipse fill=\"none\" stroke=\"#000000\" cx=\"55\" cy=\"-201.6\" rx=\"27\" ry=\"18\"/>\n<text text-anchor=\"middle\" x=\"55\" y=\"-197.9\" font-family=\"Times,serif\" font-size=\"14.00\" fill=\"#000000\">25</text>\n</g>\n<!-- 21&#45;&gt;25 -->\n<g id=\"edge12\" class=\"edge\">\n<title>21&#45;&gt;25</title>\n<path fill=\"none\" stroke=\"#000000\" d=\"M55,-255.4314C55,-247.731 55,-238.5743 55,-230.0166\"/>\n<polygon fill=\"#000000\" stroke=\"#000000\" points=\"58.5001,-230.0132 55,-220.0133 51.5001,-230.0133 58.5001,-230.0132\"/>\n</g>\n<!-- null5 -->\n<g id=\"node14\" class=\"node\">\n<title>null5</title>\n<ellipse fill=\"#000000\" stroke=\"#000000\" cx=\"34\" cy=\"-129.6\" rx=\"1.8\" ry=\"1.8\"/>\n</g>\n<!-- 25&#45;&gt;null5 -->\n<g id=\"edge13\" class=\"edge\">\n<title>25&#45;&gt;null5</title>\n<path fill=\"none\" stroke=\"#000000\" d=\"M49.809,-183.8022C45.9261,-170.4895 40.7287,-152.67 37.3722,-141.1618\"/>\n<polygon fill=\"#000000\" stroke=\"#000000\" points=\"40.693,-140.0471 34.5329,-131.4271 33.973,-142.0071 40.693,-140.0471\"/>\n</g>\n<!-- null6 -->\n<g id=\"node15\" class=\"node\">\n<title>null6</title>\n<ellipse fill=\"#000000\" stroke=\"#000000\" cx=\"56\" cy=\"-129.6\" rx=\"1.8\" ry=\"1.8\"/>\n</g>\n<!-- 25&#45;&gt;null6 -->\n<g id=\"edge14\" class=\"edge\">\n<title>25&#45;&gt;null6</title>\n<path fill=\"none\" stroke=\"#000000\" d=\"M55.2523,-183.4314C55.4353,-170.2567 55.6775,-152.8195 55.8359,-141.4119\"/>\n<polygon fill=\"#000000\" stroke=\"#000000\" points=\"59.3356,-141.4544 55.9749,-131.4068 52.3363,-141.3572 59.3356,-141.4544\"/>\n</g>\n<!-- 57 -->\n<g id=\"node17\" class=\"node\">\n<title>57</title>\n<ellipse fill=\"none\" stroke=\"#000000\" cx=\"127\" cy=\"-201.6\" rx=\"27\" ry=\"18\"/>\n<text text-anchor=\"middle\" x=\"127\" y=\"-197.9\" font-family=\"Times,serif\" font-size=\"14.00\" fill=\"#000000\">57</text>\n</g>\n<!-- 60&#45;&gt;57 -->\n<g id=\"edge16\" class=\"edge\">\n<title>60&#45;&gt;57</title>\n<path fill=\"none\" stroke=\"#000000\" d=\"M145.0674,-255.8022C142.3645,-247.6936 139.1043,-237.9129 136.1016,-228.9049\"/>\n<polygon fill=\"#000000\" stroke=\"#000000\" points=\"139.3471,-227.573 132.8643,-219.193 132.7063,-229.7867 139.3471,-227.573\"/>\n</g>\n<!-- 63 -->\n<g id=\"node26\" class=\"node\">\n<title>63</title>\n<ellipse fill=\"none\" stroke=\"#000000\" cx=\"199\" cy=\"-201.6\" rx=\"27\" ry=\"18\"/>\n<text text-anchor=\"middle\" x=\"199\" y=\"-197.9\" font-family=\"Times,serif\" font-size=\"14.00\" fill=\"#000000\">63</text>\n</g>\n<!-- 60&#45;&gt;63 -->\n<g id=\"edge25\" class=\"edge\">\n<title>60&#45;&gt;63</title>\n<path fill=\"none\" stroke=\"#000000\" d=\"M162.1328,-256.9008C168.1304,-247.9043 175.6502,-236.6247 182.3314,-226.6029\"/>\n<polygon fill=\"#000000\" stroke=\"#000000\" points=\"185.2927,-228.4706 187.9276,-218.2087 179.4683,-224.5877 185.2927,-228.4706\"/>\n</g>\n<!-- 52 -->\n<g id=\"node18\" class=\"node\">\n<title>52</title>\n<ellipse fill=\"none\" stroke=\"#000000\" cx=\"116\" cy=\"-129.6\" rx=\"27\" ry=\"18\"/>\n<text text-anchor=\"middle\" x=\"116\" y=\"-125.9\" font-family=\"Times,serif\" font-size=\"14.00\" fill=\"#000000\">52</text>\n</g>\n<!-- 57&#45;&gt;52 -->\n<g id=\"edge17\" class=\"edge\">\n<title>57&#45;&gt;52</title>\n<path fill=\"none\" stroke=\"#000000\" d=\"M124.2242,-183.4314C123.0297,-175.6125 121.6058,-166.2923 120.2812,-157.6221\"/>\n<polygon fill=\"#000000\" stroke=\"#000000\" points=\"123.707,-156.8701 118.7368,-147.5134 116.7873,-157.9273 123.707,-156.8701\"/>\n</g>\n<!-- null11 -->\n<g id=\"node25\" class=\"node\">\n<title>null11</title>\n<ellipse fill=\"#000000\" stroke=\"#000000\" cx=\"163\" cy=\"-129.6\" rx=\"1.8\" ry=\"1.8\"/>\n</g>\n<!-- 57&#45;&gt;null11 -->\n<g id=\"edge24\" class=\"edge\">\n<title>57&#45;&gt;null11</title>\n<path fill=\"none\" stroke=\"#000000\" d=\"M135.7146,-184.1708C142.5101,-170.5798 151.737,-152.126 157.5293,-140.5414\"/>\n<polygon fill=\"#000000\" stroke=\"#000000\" points=\"160.7345,-141.9571 162.0762,-131.4476 154.4735,-138.8266 160.7345,-141.9571\"/>\n</g>\n<!-- 47 -->\n<g id=\"node19\" class=\"node\">\n<title>47</title>\n<ellipse fill=\"none\" stroke=\"#000000\" cx=\"80\" cy=\"-57.6\" rx=\"27\" ry=\"18\"/>\n<text text-anchor=\"middle\" x=\"80\" y=\"-53.9\" font-family=\"Times,serif\" font-size=\"14.00\" fill=\"#000000\">47</text>\n</g>\n<!-- 52&#45;&gt;47 -->\n<g id=\"edge18\" class=\"edge\">\n<title>52&#45;&gt;47</title>\n<path fill=\"none\" stroke=\"#000000\" d=\"M107.2854,-112.1708C103.0403,-103.6807 97.8464,-93.2929 93.1337,-83.8674\"/>\n<polygon fill=\"#000000\" stroke=\"#000000\" points=\"96.237,-82.2477 88.6343,-74.8687 89.976,-85.3782 96.237,-82.2477\"/>\n</g>\n<!-- 56 -->\n<g id=\"node22\" class=\"node\">\n<title>56</title>\n<ellipse fill=\"none\" stroke=\"#000000\" cx=\"152\" cy=\"-57.6\" rx=\"27\" ry=\"18\"/>\n<text text-anchor=\"middle\" x=\"152\" y=\"-53.9\" font-family=\"Times,serif\" font-size=\"14.00\" fill=\"#000000\">56</text>\n</g>\n<!-- 52&#45;&gt;56 -->\n<g id=\"edge21\" class=\"edge\">\n<title>52&#45;&gt;56</title>\n<path fill=\"none\" stroke=\"#000000\" d=\"M124.7146,-112.1708C128.9597,-103.6807 134.1536,-93.2929 138.8663,-83.8674\"/>\n<polygon fill=\"#000000\" stroke=\"#000000\" points=\"142.024,-85.3782 143.3657,-74.8687 135.763,-82.2477 142.024,-85.3782\"/>\n</g>\n<!-- null7 -->\n<g id=\"node20\" class=\"node\">\n<title>null7</title>\n<ellipse fill=\"#000000\" stroke=\"#000000\" cx=\"69\" cy=\"-1.8\" rx=\"1.8\" ry=\"1.8\"/>\n</g>\n<!-- 47&#45;&gt;null7 -->\n<g id=\"edge19\" class=\"edge\">\n<title>47&#45;&gt;null7</title>\n<path fill=\"none\" stroke=\"#000000\" d=\"M76.459,-39.6374C74.7738,-31.0891 72.8064,-21.1091 71.3154,-13.5455\"/>\n<polygon fill=\"#000000\" stroke=\"#000000\" points=\"74.7174,-12.7061 69.3493,-3.5719 67.8496,-14.06 74.7174,-12.7061\"/>\n</g>\n<!-- null8 -->\n<g id=\"node21\" class=\"node\">\n<title>null8</title>\n<ellipse fill=\"#000000\" stroke=\"#000000\" cx=\"91\" cy=\"-1.8\" rx=\"1.8\" ry=\"1.8\"/>\n</g>\n<!-- 47&#45;&gt;null8 -->\n<g id=\"edge20\" class=\"edge\">\n<title>47&#45;&gt;null8</title>\n<path fill=\"none\" stroke=\"#000000\" d=\"M83.541,-39.6374C85.2262,-31.0891 87.1936,-21.1091 88.6846,-13.5455\"/>\n<polygon fill=\"#000000\" stroke=\"#000000\" points=\"92.1504,-14.06 90.6507,-3.5719 85.2826,-12.7061 92.1504,-14.06\"/>\n</g>\n<!-- null9 -->\n<g id=\"node23\" class=\"node\">\n<title>null9</title>\n<ellipse fill=\"#000000\" stroke=\"#000000\" cx=\"141\" cy=\"-1.8\" rx=\"1.8\" ry=\"1.8\"/>\n</g>\n<!-- 56&#45;&gt;null9 -->\n<g id=\"edge22\" class=\"edge\">\n<title>56&#45;&gt;null9</title>\n<path fill=\"none\" stroke=\"#000000\" d=\"M148.459,-39.6374C146.7738,-31.0891 144.8064,-21.1091 143.3154,-13.5455\"/>\n<polygon fill=\"#000000\" stroke=\"#000000\" points=\"146.7174,-12.7061 141.3493,-3.5719 139.8496,-14.06 146.7174,-12.7061\"/>\n</g>\n<!-- null10 -->\n<g id=\"node24\" class=\"node\">\n<title>null10</title>\n<ellipse fill=\"#000000\" stroke=\"#000000\" cx=\"163\" cy=\"-1.8\" rx=\"1.8\" ry=\"1.8\"/>\n</g>\n<!-- 56&#45;&gt;null10 -->\n<g id=\"edge23\" class=\"edge\">\n<title>56&#45;&gt;null10</title>\n<path fill=\"none\" stroke=\"#000000\" d=\"M155.541,-39.6374C157.2262,-31.0891 159.1936,-21.1091 160.6846,-13.5455\"/>\n<polygon fill=\"#000000\" stroke=\"#000000\" points=\"164.1504,-14.06 162.6507,-3.5719 157.2826,-12.7061 164.1504,-14.06\"/>\n</g>\n<!-- null12 -->\n<g id=\"node27\" class=\"node\">\n<title>null12</title>\n<ellipse fill=\"#000000\" stroke=\"#000000\" cx=\"188\" cy=\"-129.6\" rx=\"1.8\" ry=\"1.8\"/>\n</g>\n<!-- 63&#45;&gt;null12 -->\n<g id=\"edge26\" class=\"edge\">\n<title>63&#45;&gt;null12</title>\n<path fill=\"none\" stroke=\"#000000\" d=\"M196.2242,-183.4314C194.2114,-170.2567 191.5474,-152.8195 189.8046,-141.4119\"/>\n<polygon fill=\"#000000\" stroke=\"#000000\" points=\"193.2462,-140.7634 188.276,-131.4068 186.3265,-141.8207 193.2462,-140.7634\"/>\n</g>\n<!-- null13 -->\n<g id=\"node28\" class=\"node\">\n<title>null13</title>\n<ellipse fill=\"#000000\" stroke=\"#000000\" cx=\"210\" cy=\"-129.6\" rx=\"1.8\" ry=\"1.8\"/>\n</g>\n<!-- 63&#45;&gt;null13 -->\n<g id=\"edge27\" class=\"edge\">\n<title>63&#45;&gt;null13</title>\n<path fill=\"none\" stroke=\"#000000\" d=\"M201.7758,-183.4314C203.7886,-170.2567 206.4526,-152.8195 208.1954,-141.4119\"/>\n<polygon fill=\"#000000\" stroke=\"#000000\" points=\"211.6735,-141.8207 209.724,-131.4068 204.7538,-140.7634 211.6735,-141.8207\"/>\n</g>\n<!-- 84 -->\n<g id=\"node30\" class=\"node\">\n<title>84</title>\n<ellipse fill=\"none\" stroke=\"#000000\" cx=\"246\" cy=\"-273.6\" rx=\"27\" ry=\"18\"/>\n<text text-anchor=\"middle\" x=\"246\" y=\"-269.9\" font-family=\"Times,serif\" font-size=\"14.00\" fill=\"#000000\">84</text>\n</g>\n<!-- 92&#45;&gt;84 -->\n<g id=\"edge29\" class=\"edge\">\n<title>92&#45;&gt;84</title>\n<path fill=\"none\" stroke=\"#000000\" d=\"M246,-327.4314C246,-319.731 246,-310.5743 246,-302.0166\"/>\n<polygon fill=\"#000000\" stroke=\"#000000\" points=\"249.5001,-302.0132 246,-292.0133 242.5001,-302.0133 249.5001,-302.0132\"/>\n</g>\n<!-- 95 -->\n<g id=\"node33\" class=\"node\">\n<title>95</title>\n<ellipse fill=\"none\" stroke=\"#000000\" cx=\"318\" cy=\"-273.6\" rx=\"27\" ry=\"18\"/>\n<text text-anchor=\"middle\" x=\"318\" y=\"-269.9\" font-family=\"Times,serif\" font-size=\"14.00\" fill=\"#000000\">95</text>\n</g>\n<!-- 92&#45;&gt;95 -->\n<g id=\"edge32\" class=\"edge\">\n<title>92&#45;&gt;95</title>\n<path fill=\"none\" stroke=\"#000000\" d=\"M261.2693,-330.3307C271.197,-320.403 284.3153,-307.2847 295.4363,-296.1637\"/>\n<polygon fill=\"#000000\" stroke=\"#000000\" points=\"298.1564,-298.3933 302.7527,-288.8473 293.2067,-293.4436 298.1564,-298.3933\"/>\n</g>\n<!-- null14 -->\n<g id=\"node31\" class=\"node\">\n<title>null14</title>\n<ellipse fill=\"#000000\" stroke=\"#000000\" cx=\"246\" cy=\"-201.6\" rx=\"1.8\" ry=\"1.8\"/>\n</g>\n<!-- 84&#45;&gt;null14 -->\n<g id=\"edge30\" class=\"edge\">\n<title>84&#45;&gt;null14</title>\n<path fill=\"none\" stroke=\"#000000\" d=\"M246,-255.4314C246,-242.2567 246,-224.8195 246,-213.4119\"/>\n<polygon fill=\"#000000\" stroke=\"#000000\" points=\"249.5001,-213.4067 246,-203.4068 242.5001,-213.4068 249.5001,-213.4067\"/>\n</g>\n<!-- null15 -->\n<g id=\"node32\" class=\"node\">\n<title>null15</title>\n<ellipse fill=\"#000000\" stroke=\"#000000\" cx=\"268\" cy=\"-201.6\" rx=\"1.8\" ry=\"1.8\"/>\n</g>\n<!-- 84&#45;&gt;null15 -->\n<g id=\"edge31\" class=\"edge\">\n<title>84&#45;&gt;null15</title>\n<path fill=\"none\" stroke=\"#000000\" d=\"M251.4382,-255.8022C255.506,-242.4895 260.9508,-224.67 264.4672,-213.1618\"/>\n<polygon fill=\"#000000\" stroke=\"#000000\" points=\"267.8667,-214.0134 267.4417,-203.4271 261.1722,-211.9678 267.8667,-214.0134\"/>\n</g>\n<!-- 93 -->\n<g id=\"node34\" class=\"node\">\n<title>93</title>\n<ellipse fill=\"none\" stroke=\"#000000\" cx=\"317\" cy=\"-201.6\" rx=\"27\" ry=\"18\"/>\n<text text-anchor=\"middle\" x=\"317\" y=\"-197.9\" font-family=\"Times,serif\" font-size=\"14.00\" fill=\"#000000\">93</text>\n</g>\n<!-- 95&#45;&gt;93 -->\n<g id=\"edge33\" class=\"edge\">\n<title>95&#45;&gt;93</title>\n<path fill=\"none\" stroke=\"#000000\" d=\"M317.7477,-255.4314C317.6407,-247.731 317.5135,-238.5743 317.3947,-230.0166\"/>\n<polygon fill=\"#000000\" stroke=\"#000000\" points=\"320.8944,-229.9637 317.2557,-220.0133 313.8951,-230.0609 320.8944,-229.9637\"/>\n</g>\n<!-- null18 -->\n<g id=\"node37\" class=\"node\">\n<title>null18</title>\n<ellipse fill=\"#000000\" stroke=\"#000000\" cx=\"364\" cy=\"-201.6\" rx=\"1.8\" ry=\"1.8\"/>\n</g>\n<!-- 95&#45;&gt;null18 -->\n<g id=\"edge36\" class=\"edge\">\n<title>95&#45;&gt;null18</title>\n<path fill=\"none\" stroke=\"#000000\" d=\"M329.1504,-256.6495C336.0841,-246.0472 345.144,-232.0803 353,-219.6 354.5218,-217.1825 356.1374,-214.5671 357.6484,-212.0989\"/>\n<polygon fill=\"#000000\" stroke=\"#000000\" points=\"360.7933,-213.6627 362.9836,-203.2967 354.807,-210.0343 360.7933,-213.6627\"/>\n</g>\n<!-- null16 -->\n<g id=\"node35\" class=\"node\">\n<title>null16</title>\n<ellipse fill=\"#000000\" stroke=\"#000000\" cx=\"306\" cy=\"-129.6\" rx=\"1.8\" ry=\"1.8\"/>\n</g>\n<!-- 93&#45;&gt;null16 -->\n<g id=\"edge34\" class=\"edge\">\n<title>93&#45;&gt;null16</title>\n<path fill=\"none\" stroke=\"#000000\" d=\"M314.2242,-183.4314C312.2114,-170.2567 309.5474,-152.8195 307.8046,-141.4119\"/>\n<polygon fill=\"#000000\" stroke=\"#000000\" points=\"311.2462,-140.7634 306.276,-131.4068 304.3265,-141.8207 311.2462,-140.7634\"/>\n</g>\n<!-- null17 -->\n<g id=\"node36\" class=\"node\">\n<title>null17</title>\n<ellipse fill=\"#000000\" stroke=\"#000000\" cx=\"328\" cy=\"-129.6\" rx=\"1.8\" ry=\"1.8\"/>\n</g>\n<!-- 93&#45;&gt;null17 -->\n<g id=\"edge35\" class=\"edge\">\n<title>93&#45;&gt;null17</title>\n<path fill=\"none\" stroke=\"#000000\" d=\"M319.7758,-183.4314C321.7886,-170.2567 324.4526,-152.8195 326.1954,-141.4119\"/>\n<polygon fill=\"#000000\" stroke=\"#000000\" points=\"329.6735,-141.8207 327.724,-131.4068 322.7538,-140.7634 329.6735,-141.8207\"/>\n</g>\n</g>\n</svg>\n"
          },
          "metadata": {
            "tags": []
          },
          "execution_count": 15
        }
      ]
    },
    {
      "cell_type": "code",
      "metadata": {
        "id": "TXr2X672pRa-"
      },
      "source": [
        ""
      ],
      "execution_count": null,
      "outputs": []
    }
  ]
}