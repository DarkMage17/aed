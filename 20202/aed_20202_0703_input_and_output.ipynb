{
  "nbformat": 4,
  "nbformat_minor": 0,
  "metadata": {
    "colab": {
      "name": "aed 20202 0703 input and output.ipynb",
      "provenance": [],
      "authorship_tag": "ABX9TyPNzBjmvEREPf8tFabenjqs",
      "include_colab_link": true
    },
    "kernelspec": {
      "name": "python3",
      "display_name": "Python 3"
    }
  },
  "cells": [
    {
      "cell_type": "markdown",
      "metadata": {
        "id": "view-in-github",
        "colab_type": "text"
      },
      "source": [
        "<a href=\"https://colab.research.google.com/github/pcsilcan/aed/blob/master/20202/aed_20202_0703_input_and_output.ipynb\" target=\"_parent\"><img src=\"https://colab.research.google.com/assets/colab-badge.svg\" alt=\"Open In Colab\"/></a>"
      ]
    },
    {
      "cell_type": "markdown",
      "metadata": {
        "id": "DvXFw4XI-Unp"
      },
      "source": [
        "https://cses.fi/problemset/task/1068\n",
        "\n",
        "# Weird Algorithm\n",
        "\n",
        "Consider an algorithm that takes as input a positive integer n. If n is even, the algorithm divides it by two, and if n is odd, the algorithm multiplies it by three and adds one. The algorithm repeats this, until n is one. For example, the sequence for n=3 is as follows:\n",
        "\n",
        "$$3->10->5->16->8->4->2->1$$\n",
        "\n",
        "Your task is to simulate the execution of the algorithm for a given value of n.\n",
        "\n",
        "## Input\n",
        "\n",
        "The only input line contains an integer n.\n",
        "\n",
        "## Output\n",
        "\n",
        "Print a line that contains all values of n during the algorithm.\n",
        "\n",
        "## Constraints\n",
        "\n",
        "$$1 \\leq n \\leq 10^6$$\n",
        "\n",
        "## Example\n",
        "\n",
        "### Input:\n",
        "\n",
        "    3\n",
        "\n",
        "### Output:\n",
        "\n",
        "    3 10 5 16 8 4 2 1"
      ]
    },
    {
      "cell_type": "code",
      "metadata": {
        "id": "WD96N_Iu9RBK",
        "outputId": "7c648898-209f-4d23-b3fa-0ff52b41b98c",
        "colab": {
          "base_uri": "https://localhost:8080/",
          "height": 34
        }
      },
      "source": [
        "%%writefile weird.cpp\n",
        "#include <iostream>\n",
        "\n",
        "using namespace std;\n",
        "\n",
        "int main() {\n",
        "    int n;\n",
        "    cin >> n;\n",
        "    while (n != 1) {\n",
        "        cout << n << \" \";\n",
        "        if (n % 2 == 0) {\n",
        "            n = n / 2;\n",
        "        } else {\n",
        "            n = n * 3 + 1;\n",
        "        }\n",
        "    }\n",
        "    cout << n << endl;\n",
        "\n",
        "    return 0;\n",
        "}"
      ],
      "execution_count": 1,
      "outputs": [
        {
          "output_type": "stream",
          "text": [
            "Overwriting weird.cpp\n"
          ],
          "name": "stdout"
        }
      ]
    },
    {
      "cell_type": "code",
      "metadata": {
        "id": "udDVbO8T_rpC",
        "outputId": "47010fcb-7ac9-40fc-99ce-a84a2d49798a",
        "colab": {
          "base_uri": "https://localhost:8080/",
          "height": 34
        }
      },
      "source": [
        "%%writefile 1.in\n",
        "3"
      ],
      "execution_count": 10,
      "outputs": [
        {
          "output_type": "stream",
          "text": [
            "Overwriting 1.in\n"
          ],
          "name": "stdout"
        }
      ]
    },
    {
      "cell_type": "code",
      "metadata": {
        "id": "qkXHchmR_aqw",
        "outputId": "4e88600d-4ce8-4cb5-b9e1-4847bfa3b014",
        "colab": {
          "base_uri": "https://localhost:8080/",
          "height": 34
        }
      },
      "source": [
        "!g++ -std=c++17 -O2 weird.cpp && ./a.out < 1.in"
      ],
      "execution_count": 17,
      "outputs": [
        {
          "output_type": "stream",
          "text": [
            "3 10 5 16 8 4 2 1\n"
          ],
          "name": "stdout"
        }
      ]
    },
    {
      "cell_type": "markdown",
      "metadata": {
        "id": "HeX6zLqFLBZh"
      },
      "source": [
        "# Increasing Array\n",
        "\n",
        "You are given an array of n integers. You want to modify the array so that it is increasing, i.e., every element is at least as large as the previous element.\n",
        "\n",
        "On each turn, you may increase the value of any element by one. What is the minimum number of turns required?\n",
        "\n",
        "## Input\n",
        "\n",
        "The first input line contains an integer n: the size of the array.\n",
        "\n",
        "Then, the second line contains n integers $x_1,x_2,…,x_n$: the contents of the array.\n",
        "\n",
        "## Output\n",
        "\n",
        "Print the minimum number of turns.\n",
        "\n",
        "## Constraints\n",
        "\n",
        "$$1 \\leq n \\leq 2⋅10^5$$\n",
        "$$1 \\leq x_i \\leq 10^9$$\n",
        "\n",
        "## Example\n",
        "\n",
        "### Input:\n",
        "\n",
        "    5\n",
        "    3 2 5 1 7\n",
        "\n",
        "Output:\n",
        "\n",
        "    5"
      ]
    },
    {
      "cell_type": "code",
      "metadata": {
        "id": "RTeJNsvc_hRS",
        "outputId": "74803c6c-078b-4f4c-9a73-25f54524522b",
        "colab": {
          "base_uri": "https://localhost:8080/",
          "height": 34
        }
      },
      "source": [
        "%%writefile inc.cpp\n",
        "#include <iostream>\n",
        "#include <list>\n",
        "\n",
        "using namespace std;\n",
        "\n",
        "int main() {\n",
        "    int n;\n",
        "    cin >> n;\n",
        "    list<int> lst;\n",
        "    for (int i = 0; i < n; ++i) {\n",
        "        int e;\n",
        "        cin >> e;\n",
        "        lst.push_back(e);\n",
        "    }\n",
        "\n",
        "    int turns = 0;\n",
        "    bool first = true;\n",
        "    int prev;\n",
        "    for (auto e : lst) {\n",
        "        if (first || e >= prev) {\n",
        "            prev = e;\n",
        "            first = false;\n",
        "        } else if (e < prev) {\n",
        "            turns += prev - e;\n",
        "        }\n",
        "    }\n",
        "\n",
        "    cout << turns << endl;\n",
        "\n",
        "\n",
        "    return 0;\n",
        "}"
      ],
      "execution_count": 36,
      "outputs": [
        {
          "output_type": "stream",
          "text": [
            "Overwriting inc.cpp\n"
          ],
          "name": "stdout"
        }
      ]
    },
    {
      "cell_type": "code",
      "metadata": {
        "id": "CmWxBYW6Mbj4",
        "outputId": "38c8e8f3-358f-4198-96f1-8083b424c8b6",
        "colab": {
          "base_uri": "https://localhost:8080/",
          "height": 34
        }
      },
      "source": [
        "%%writefile 2.in\n",
        "5\n",
        "3 2 5 1 7"
      ],
      "execution_count": 37,
      "outputs": [
        {
          "output_type": "stream",
          "text": [
            "Overwriting 2.in\n"
          ],
          "name": "stdout"
        }
      ]
    },
    {
      "cell_type": "code",
      "metadata": {
        "id": "pQj1cNjwMimB",
        "outputId": "7a445de9-9821-46f4-b690-0454d8e69843",
        "colab": {
          "base_uri": "https://localhost:8080/",
          "height": 34
        }
      },
      "source": [
        "!g++ -std=c++17 -O2 inc.cpp && ./a.out < 2.in"
      ],
      "execution_count": 38,
      "outputs": [
        {
          "output_type": "stream",
          "text": [
            "5\n"
          ],
          "name": "stdout"
        }
      ]
    },
    {
      "cell_type": "code",
      "metadata": {
        "id": "2TWn5XnbMo9v"
      },
      "source": [
        ""
      ],
      "execution_count": null,
      "outputs": []
    }
  ]
}