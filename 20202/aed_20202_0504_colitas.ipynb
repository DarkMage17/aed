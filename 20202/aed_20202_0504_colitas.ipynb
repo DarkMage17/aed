{
  "nbformat": 4,
  "nbformat_minor": 0,
  "metadata": {
    "colab": {
      "name": "aed 20202 0504 colitas.ipynb",
      "provenance": [],
      "collapsed_sections": [],
      "authorship_tag": "ABX9TyMIBzO1zPM49D8wPlh1PUdr",
      "include_colab_link": true
    },
    "kernelspec": {
      "name": "python3",
      "display_name": "Python 3"
    }
  },
  "cells": [
    {
      "cell_type": "markdown",
      "metadata": {
        "id": "view-in-github",
        "colab_type": "text"
      },
      "source": [
        "<a href=\"https://colab.research.google.com/github/pcsilcan/aed/blob/master/20202/aed_20202_0504_colitas.ipynb\" target=\"_parent\"><img src=\"https://colab.research.google.com/assets/colab-badge.svg\" alt=\"Open In Colab\"/></a>"
      ]
    },
    {
      "cell_type": "code",
      "metadata": {
        "id": "a2DyzY3nFczH",
        "colab_type": "code",
        "colab": {
          "base_uri": "https://localhost:8080/",
          "height": 34
        },
        "outputId": "d8f6616e-1ad8-4dd5-e51c-0d723bf46e50"
      },
      "source": [
        "%%writefile 1.cpp\n",
        "#include <iostream>\n",
        "#include <queue>\n",
        "#include <stdlib.h>\n",
        "#include <time.h>\n",
        "\n",
        "using namespace std;\n",
        "\n",
        "void invert(queue<int>& q) {\n",
        "    queue<int> aux1, aux2;\n",
        "\n",
        "    while (q.size() > 0) {\n",
        "        while (q.size() > 1) {\n",
        "            aux1.push(q.front()); q.pop();\n",
        "        }\n",
        "        aux2.push(q.front()); q.pop();\n",
        "        while (!aux1.empty()) {\n",
        "            q.push(aux1.front()); aux1.pop();\n",
        "        }\n",
        "    }\n",
        "    while (!aux2.empty()) {\n",
        "        q.push(aux2.front()); aux2.pop();\n",
        "    }\n",
        "}\n",
        "\n",
        "int main() {\n",
        "    srand(time(0));\n",
        "    queue<int> q;\n",
        "\n",
        "    for (int i = 0; i < 10; ++i) {\n",
        "        int n = rand() % 90 + 10;\n",
        "        cout << n << \" \";\n",
        "        q.push(n);\n",
        "    }\n",
        "    cout << endl;\n",
        "    invert(q);\n",
        "    while (!q.empty()) {\n",
        "        cout << q.front() << \" \"; q.pop();\n",
        "    }\n",
        "    cout << endl;\n",
        "\n",
        "    return 0;\n",
        "}"
      ],
      "execution_count": 16,
      "outputs": [
        {
          "output_type": "stream",
          "text": [
            "Overwriting 1.cpp\n"
          ],
          "name": "stdout"
        }
      ]
    },
    {
      "cell_type": "code",
      "metadata": {
        "id": "WWCLZpySHysi",
        "colab_type": "code",
        "colab": {
          "base_uri": "https://localhost:8080/",
          "height": 50
        },
        "outputId": "75981e94-f5d1-4de7-8740-1236c91492f6"
      },
      "source": [
        "!g++ -std=c++17 -O2 1.cpp && ./a.out"
      ],
      "execution_count": 20,
      "outputs": [
        {
          "output_type": "stream",
          "text": [
            "81 63 30 33 97 92 36 20 65 59 \n",
            "59 65 20 36 92 97 33 30 63 81 \n"
          ],
          "name": "stdout"
        }
      ]
    },
    {
      "cell_type": "code",
      "metadata": {
        "id": "vcYn689wH_e_",
        "colab_type": "code",
        "colab": {}
      },
      "source": [
        ""
      ],
      "execution_count": null,
      "outputs": []
    }
  ]
}