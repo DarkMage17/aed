{
  "nbformat": 4,
  "nbformat_minor": 0,
  "metadata": {
    "colab": {
      "name": "aed 20202 0705 more about lambdas.ipynb",
      "provenance": [],
      "authorship_tag": "ABX9TyMCV51uFNMmYOulIvMWRwp8",
      "include_colab_link": true
    },
    "kernelspec": {
      "name": "python3",
      "display_name": "Python 3"
    }
  },
  "cells": [
    {
      "cell_type": "markdown",
      "metadata": {
        "id": "view-in-github",
        "colab_type": "text"
      },
      "source": [
        "<a href=\"https://colab.research.google.com/github/pcsilcan/aed/blob/master/20202/aed_20202_0705_more_about_lambdas.ipynb\" target=\"_parent\"><img src=\"https://colab.research.google.com/assets/colab-badge.svg\" alt=\"Open In Colab\"/></a>"
      ]
    },
    {
      "cell_type": "code",
      "metadata": {
        "id": "a78zGdvTr9yV",
        "outputId": "e1ec5bfc-eb27-4689-9ea4-6f14060888da",
        "colab": {
          "base_uri": "https://localhost:8080/",
          "height": 34
        }
      },
      "source": [
        "%%writefile 1.cpp\n",
        "#include <iostream>\n",
        "#include <functional>\n",
        "\n",
        "using namespace std;\n",
        "\n",
        "function<int()> makeGen(int t1, int t2) {\n",
        "    int* p1 = new int;\n",
        "    int* p2 = new int;\n",
        "    *p1 = t1;\n",
        "    *p2 = t2;\n",
        "    return [=]() {\n",
        "        auto t = *p1;\n",
        "        *p1 = *p2;\n",
        "        *p2 = t + *p2;\n",
        "        return t;\n",
        "    };\n",
        "}\n",
        "\n",
        "int main() {\n",
        "    auto gen1 = makeGen(0, 1);\n",
        "    auto gen2 = makeGen(4, 7);\n",
        "    \n",
        "    for (int i = 0; i < 10; i++) {\n",
        "        cout << gen1() << \" \";\n",
        "    }\n",
        "    cout << endl;\n",
        "    for (int i = 0; i < 10; i++) {\n",
        "        cout << gen2() << \" \";\n",
        "    }\n",
        "    cout << endl;\n",
        "}\n"
      ],
      "execution_count": 7,
      "outputs": [
        {
          "output_type": "stream",
          "text": [
            "Overwriting 1.cpp\n"
          ],
          "name": "stdout"
        }
      ]
    },
    {
      "cell_type": "code",
      "metadata": {
        "id": "GVEUG46LsbZp",
        "outputId": "be0d96b2-433a-4b81-836a-08d5c6d2f9a5",
        "colab": {
          "base_uri": "https://localhost:8080/",
          "height": 50
        }
      },
      "source": [
        "!g++ -std=c++17 1.cpp && ./a.out"
      ],
      "execution_count": 8,
      "outputs": [
        {
          "output_type": "stream",
          "text": [
            "0 1 1 2 3 5 8 13 21 34 \n",
            "4 7 11 18 29 47 76 123 199 322 \n"
          ],
          "name": "stdout"
        }
      ]
    },
    {
      "cell_type": "code",
      "metadata": {
        "id": "rBlY3_Zasgid",
        "outputId": "7aa93db0-af31-44d1-ff20-42686be49260",
        "colab": {
          "base_uri": "https://localhost:8080/",
          "height": 34
        }
      },
      "source": [
        "%%writefile list.h\n",
        "#ifndef __LIST_H__\n",
        "#define __LIST_H__\n",
        "\n",
        "#include <functional>\n",
        "\n",
        "using std::function;\n",
        "\n",
        "template<typename T, typename R=T>\n",
        "class List {\n",
        "    struct Node {\n",
        "        T       element;\n",
        "        Node*   next;\n",
        "\n",
        "        Node(T element, Node* next=nullptr): element(element), next(next) {}\n",
        "    };\n",
        "\n",
        "    Node*   head;\n",
        "    int     len;\n",
        "\n",
        "    function<R(T)> k;\n",
        "public:\n",
        "    List(function<R(T)> k=[](T a) { return a; }): head(nullptr), len(0), k(k) {}\n",
        "    ~List() { destroy(); }\n",
        "    void add(T element) {\n",
        "        head = new Node(element, head);\n",
        "        ++len;\n",
        "    }\n",
        "    int findPos(R val) {\n",
        "        auto aux = head;\n",
        "        for (int i = 0; i < len; ++i, aux = aux->next) {\n",
        "            if (k(aux->element) == val) {\n",
        "                return i;\n",
        "            }\n",
        "        }\n",
        "        return -1;\n",
        "    }\n",
        "    T find(R val) {\n",
        "        auto aux = head;\n",
        "        for (int i = 0; i < len; ++i, aux = aux->next) {\n",
        "            if (k(aux->element) == val) {\n",
        "                return aux->element;\n",
        "            }\n",
        "        }\n",
        "        return 0;\n",
        "    }\n",
        "    void process(function<void(T)> proc) {\n",
        "        auto aux = head;\n",
        "        for (int i = 0; i < len; ++i, aux = aux->next) {\n",
        "            proc(aux->element);\n",
        "        }\n",
        "    }\n",
        "\n",
        "private:\n",
        "    void destroy() {\n",
        "        while (head != nullptr) {\n",
        "            auto aux = head;\n",
        "            head = head->next;\n",
        "            delete aux;\n",
        "        }\n",
        "    }\n",
        "};\n",
        "\n",
        "#endif"
      ],
      "execution_count": 16,
      "outputs": [
        {
          "output_type": "stream",
          "text": [
            "Overwriting list.h\n"
          ],
          "name": "stdout"
        }
      ]
    },
    {
      "cell_type": "code",
      "metadata": {
        "id": "7Mg42UAvxFnX",
        "outputId": "f93182be-a616-44a0-e30b-f5e5466566b6",
        "colab": {
          "base_uri": "https://localhost:8080/",
          "height": 34
        }
      },
      "source": [
        "%%writefile main.cpp\n",
        "#include <iostream>\n",
        "#include <string>\n",
        "#include <time.h>\n",
        "#include <stdlib.h>\n",
        "\n",
        "#include \"list.h\"\n",
        "\n",
        "using namespace std;\n",
        "\n",
        "class Goomba {\n",
        "    int x, y;\n",
        "public:\n",
        "    Goomba(int x, int y) : x(x), y(y) {}\n",
        "    int getX() { return x; }\n",
        "    int getY() { return y; }\n",
        "    void setX(int x) { this->x = x; }\n",
        "    void setY(int y) { this->y = y; }\n",
        "};\n",
        "\n",
        "int main() {\n",
        "    List<Goomba*, int>* l = new List<Goomba*, int>([](Goomba* a) {\n",
        "        return a->getX();\n",
        "    });\n",
        "    srand(time(0));\n",
        "    for (int i = 0; i < 10; ++i) {\n",
        "        l->add(new Goomba(rand() % 10, rand() % 10));\n",
        "    }\n",
        "    l->process([](Goomba* a) {\n",
        "        cout << a->getX() << \", \" << a->getY() << endl;\n",
        "    });\n",
        "\n",
        "    cout << l->findPos(5) << endl;\n",
        "\n",
        "    \n",
        "    l->process([](Goomba* a) { delete a; });\n",
        "    delete l;\n",
        "\n",
        "    return 0;\n",
        "}"
      ],
      "execution_count": 35,
      "outputs": [
        {
          "output_type": "stream",
          "text": [
            "Overwriting main.cpp\n"
          ],
          "name": "stdout"
        }
      ]
    },
    {
      "cell_type": "code",
      "metadata": {
        "id": "ND9OGZ8JxJu6",
        "outputId": "5e120881-61a2-4be1-ef6c-95f3a4dbce40",
        "colab": {
          "base_uri": "https://localhost:8080/",
          "height": 202
        }
      },
      "source": [
        "!g++ -std=c++17 -O2 main.cpp && ./a.out"
      ],
      "execution_count": 40,
      "outputs": [
        {
          "output_type": "stream",
          "text": [
            "6, 2\n",
            "3, 7\n",
            "0, 3\n",
            "1, 0\n",
            "7, 1\n",
            "4, 6\n",
            "9, 9\n",
            "7, 8\n",
            "0, 3\n",
            "1, 4\n",
            "-1\n"
          ],
          "name": "stdout"
        }
      ]
    },
    {
      "cell_type": "code",
      "metadata": {
        "id": "F7Kjgr9jzxoV"
      },
      "source": [
        ""
      ],
      "execution_count": 25,
      "outputs": []
    }
  ]
}