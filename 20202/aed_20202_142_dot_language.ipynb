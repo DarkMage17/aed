{
  "nbformat": 4,
  "nbformat_minor": 0,
  "metadata": {
    "colab": {
      "name": "aed 20202 142 dot language.ipynb",
      "provenance": [],
      "authorship_tag": "ABX9TyMNrWLtfSBV8NZDTZW/H9YW",
      "include_colab_link": true
    },
    "kernelspec": {
      "name": "python3",
      "display_name": "Python 3"
    }
  },
  "cells": [
    {
      "cell_type": "markdown",
      "metadata": {
        "id": "view-in-github",
        "colab_type": "text"
      },
      "source": [
        "<a href=\"https://colab.research.google.com/github/pcsilcan/aed/blob/master/20202/aed_20202_142_dot_language.ipynb\" target=\"_parent\"><img src=\"https://colab.research.google.com/assets/colab-badge.svg\" alt=\"Open In Colab\"/></a>"
      ]
    },
    {
      "cell_type": "code",
      "metadata": {
        "colab": {
          "base_uri": "https://localhost:8080/"
        },
        "id": "UtaIrlxUX_tU",
        "outputId": "715b312c-f396-4d2e-f1a5-60afa5d511fd"
      },
      "source": [
        "%%file 1.dot\n",
        "graph \"\"\n",
        "   {\n",
        "#   node [fontsize=10,width=\".2\", height=\".2\", margin=0];\n",
        "#   graph[fontsize=8];\n",
        "   label=\"((+ (* (X) (- (- (X) (X)) (X))) (% (+ (X) (X)) (COS (- (X) (X))))) (EXP (* (X) (X))) (+ (% (EXP (SIN (+ (X) (X)))) (SIN (* (X) (EXP (* (X) (X)))))) (* (X) (X))) (% (EXP (% (X) (% (X) (X)))) (EXP (SIN (X)))))\"\n",
        "\n",
        "   subgraph cluster01\n",
        "   {\n",
        "   label=\"(+ (* (X) (- (- (X) (X)) (X))) (% (+ (X) (X)) (COS (- (X) (X)))))\"\n",
        "   n002 ;\n",
        "   n002 [label=\"+\"] ;\n",
        "   n002 -- n003 ;\n",
        "   n003 [label=\"*\"] ;\n",
        "   n003 -- n004 ;\n",
        "   n004 [label=\"X\"] ;\n",
        "   n003 -- n005 ;\n",
        "   n005 [label=\"-\"] ;\n",
        "   n005 -- n006 ;\n",
        "   n006 [label=\"-\"] ;\n",
        "   n006 -- n007 ;\n",
        "   n007 [label=\"X\"] ;\n",
        "   n006 -- n008 ;\n",
        "   n008 [label=\"X\"] ;\n",
        "   n005 -- n009 ;\n",
        "   n009 [label=\"X\"] ;\n",
        "   n002 -- n010 ;\n",
        "   n010 [label=\"%\"] ;\n",
        "   n010 -- n011 ;\n",
        "   n011 [label=\"+\"] ;\n",
        "   n011 -- n012 ;\n",
        "   n012 [label=\"X\"] ;\n",
        "   n011 -- n013 ;\n",
        "   n013 [label=\"X\"] ;\n",
        "   n010 -- n014 ;\n",
        "   n014 [label=\"COS\"] ;\n",
        "   n014 -- n015 ;\n",
        "   n015 [label=\"-\"] ;\n",
        "   n015 -- n016 ;\n",
        "   n016 [label=\"X\"] ;\n",
        "   n015 -- n017 ;\n",
        "   n017 [label=\"X\"] ;\n",
        "   }\n",
        "\n",
        "   subgraph cluster17\n",
        "   {\n",
        "   label=\"(EXP (* (X) (X)))\"\n",
        "   n018 ;\n",
        "   n018 [label=\"EXP\"] ;\n",
        "   n018 -- n019 ;\n",
        "   n019 [label=\"*\"] ;\n",
        "   n019 -- n020 ;\n",
        "   n020 [label=\"X\"] ;\n",
        "   n019 -- n021 ;\n",
        "   n021 [label=\"X\"] ;\n",
        "   }\n",
        "\n",
        "   subgraph cluster21\n",
        "   {\n",
        "   label=\"(+ (% (EXP (SIN (+ (X) (X)))) (SIN (* (X) (EXP (* (X) (X)))))) (* (X) (X)))\"\n",
        "   n022 ;\n",
        "   n022 [label=\"+\"] ;\n",
        "   n022 -- n023 ;\n",
        "   n023 [label=\"%\"] ;\n",
        "   n023 -- n024 ;\n",
        "   n024 [label=\"EXP\"] ;\n",
        "   n024 -- n025 ;\n",
        "   n025 [label=\"SIN\"] ;\n",
        "   n025 -- n026 ;\n",
        "   n026 [label=\"+\"] ;\n",
        "   n026 -- n027 ;\n",
        "   n027 [label=\"X\"] ;\n",
        "   n026 -- n028 ;\n",
        "   n028 [label=\"X\"] ;\n",
        "   n023 -- n029 ;\n",
        "   n029 [label=\"SIN\"] ;\n",
        "   n029 -- n030 ;\n",
        "   n030 [label=\"*\"] ;\n",
        "   n030 -- n031 ;\n",
        "   n031 [label=\"X\"] ;\n",
        "   n030 -- n032 ;\n",
        "   n032 [label=\"EXP\"] ;\n",
        "   n032 -- n033 ;\n",
        "   n033 [label=\"*\"] ;\n",
        "   n033 -- n034 ;\n",
        "   n034 [label=\"X\"] ;\n",
        "   n033 -- n035 ;\n",
        "   n035 [label=\"X\"] ;\n",
        "   n022 -- n036 ;\n",
        "   n036 [label=\"*\"] ;\n",
        "   n036 -- n037 ;\n",
        "   n037 [label=\"X\"] ;\n",
        "   n036 -- n038 ;\n",
        "   n038 [label=\"X\"] ;\n",
        "   }\n",
        "\n",
        "   subgraph cluster38\n",
        "   {\n",
        "   label=\"(% (EXP (% (X) (% (X) (X)))) (EXP (SIN (X))))\"\n",
        "   n039 ;\n",
        "   n039 [label=\"%\"] ;\n",
        "   n039 -- n040 ;\n",
        "   n040 [label=\"EXP\"] ;\n",
        "   n040 -- n041 ;\n",
        "   n041 [label=\"%\"] ;\n",
        "   n041 -- n042 ;\n",
        "   n042 [label=\"X\"] ;\n",
        "   n041 -- n043 ;\n",
        "   n043 [label=\"%\"] ;\n",
        "   n043 -- n044 ;\n",
        "   n044 [label=\"X\"] ;\n",
        "   n043 -- n045 ;\n",
        "   n045 [label=\"X\"] ;\n",
        "   n039 -- n046 ;\n",
        "   n046 [label=\"EXP\"] ;\n",
        "   n046 -- n047 ;\n",
        "   n047 [label=\"SIN\"] ;\n",
        "   n047 -- n048 ;\n",
        "   n048 [label=\"X\"] ;\n",
        "   }\n",
        "   }"
      ],
      "execution_count": 1,
      "outputs": [
        {
          "output_type": "stream",
          "text": [
            "Writing 1.dot\n"
          ],
          "name": "stdout"
        }
      ]
    },
    {
      "cell_type": "code",
      "metadata": {
        "id": "OBYjZ4_lYFMj"
      },
      "source": [
        "import graphviz as gv"
      ],
      "execution_count": 2,
      "outputs": []
    },
    {
      "cell_type": "code",
      "metadata": {
        "colab": {
          "base_uri": "https://localhost:8080/",
          "height": 780
        },
        "id": "aw9qIyCGYHUU",
        "outputId": "38f34768-9ca6-4f9e-984b-662fe3a1e8be"
      },
      "source": [
        "gv.Source.from_file(\"1.dot\")"
      ],
      "execution_count": 3,
      "outputs": [
        {
          "output_type": "execute_result",
          "data": {
            "text/plain": [
              "<graphviz.files.Source at 0x7fde435f8a90>"
            ],
            "image/svg+xml": "<?xml version=\"1.0\" encoding=\"UTF-8\" standalone=\"no\"?>\n<!DOCTYPE svg PUBLIC \"-//W3C//DTD SVG 1.1//EN\"\n \"http://www.w3.org/Graphics/SVG/1.1/DTD/svg11.dtd\">\n<!-- Generated by graphviz version 2.40.1 (20161225.0304)\n -->\n<!-- Pages: 1 -->\n<svg width=\"1320pt\" height=\"554pt\"\n viewBox=\"0.00 0.00 1320.00 554.00\" xmlns=\"http://www.w3.org/2000/svg\" xmlns:xlink=\"http://www.w3.org/1999/xlink\">\n<g id=\"graph0\" class=\"graph\" transform=\"scale(1 1) rotate(0) translate(4 550)\">\n<polygon fill=\"#ffffff\" stroke=\"transparent\" points=\"-4,4 -4,-550 1316,-550 1316,4 -4,4\"/>\n<text text-anchor=\"middle\" x=\"656\" y=\"-7.8\" font-family=\"Times,serif\" font-size=\"14.00\" fill=\"#000000\">((+ (* (X) (&#45; (&#45; (X) (X)) (X))) (% (+ (X) (X)) (COS (&#45; (X) (X))))) (EXP (* (X) (X))) (+ (% (EXP (SIN (+ (X) (X)))) (SIN (* (X) (EXP (* (X) (X)))))) (* (X) (X))) (% (EXP (% (X) (% (X) (X)))) (EXP (SIN (X)))))</text>\n<g id=\"clust1\" class=\"cluster\">\n<title>cluster01</title>\n<polygon fill=\"none\" stroke=\"#000000\" points=\"8,-175 8,-538 387,-538 387,-175 8,-175\"/>\n<text text-anchor=\"middle\" x=\"197.5\" y=\"-522.8\" font-family=\"Times,serif\" font-size=\"14.00\" fill=\"#000000\">(+ (* (X) (&#45; (&#45; (X) (X)) (X))) (% (+ (X) (X)) (COS (&#45; (X) (X)))))</text>\n</g>\n<g id=\"clust2\" class=\"cluster\">\n<title>cluster17</title>\n<polygon fill=\"none\" stroke=\"#000000\" points=\"395,-319 395,-538 537,-538 537,-319 395,-319\"/>\n<text text-anchor=\"middle\" x=\"466\" y=\"-522.8\" font-family=\"Times,serif\" font-size=\"14.00\" fill=\"#000000\">(EXP (* (X) (X)))</text>\n</g>\n<g id=\"clust3\" class=\"cluster\">\n<title>cluster21</title>\n<polygon fill=\"none\" stroke=\"#000000\" points=\"545,-31 545,-538 1000,-538 1000,-31 545,-31\"/>\n<text text-anchor=\"middle\" x=\"772.5\" y=\"-522.8\" font-family=\"Times,serif\" font-size=\"14.00\" fill=\"#000000\">(+ (% (EXP (SIN (+ (X) (X)))) (SIN (* (X) (EXP (* (X) (X)))))) (* (X) (X)))</text>\n</g>\n<g id=\"clust4\" class=\"cluster\">\n<title>cluster38</title>\n<polygon fill=\"none\" stroke=\"#000000\" points=\"1008,-175 1008,-538 1304,-538 1304,-175 1008,-175\"/>\n<text text-anchor=\"middle\" x=\"1156\" y=\"-522.8\" font-family=\"Times,serif\" font-size=\"14.00\" fill=\"#000000\">(% (EXP (% (X) (% (X) (X)))) (EXP (SIN (X))))</text>\n</g>\n<!-- n002 -->\n<g id=\"node1\" class=\"node\">\n<title>n002</title>\n<ellipse fill=\"none\" stroke=\"#000000\" cx=\"181\" cy=\"-489\" rx=\"27\" ry=\"18\"/>\n<text text-anchor=\"middle\" x=\"181\" y=\"-485.3\" font-family=\"Times,serif\" font-size=\"14.00\" fill=\"#000000\">+</text>\n</g>\n<!-- n003 -->\n<g id=\"node2\" class=\"node\">\n<title>n003</title>\n<ellipse fill=\"none\" stroke=\"#000000\" cx=\"128\" cy=\"-417\" rx=\"27\" ry=\"18\"/>\n<text text-anchor=\"middle\" x=\"128\" y=\"-413.3\" font-family=\"Times,serif\" font-size=\"14.00\" fill=\"#000000\">*</text>\n</g>\n<!-- n002&#45;&#45;n003 -->\n<g id=\"edge1\" class=\"edge\">\n<title>n002&#45;&#45;n003</title>\n<path fill=\"none\" stroke=\"#000000\" d=\"M168.9735,-472.6621C160.2997,-460.8788 148.6418,-445.0416 139.9789,-433.2733\"/>\n</g>\n<!-- n010 -->\n<g id=\"node9\" class=\"node\">\n<title>n010</title>\n<ellipse fill=\"none\" stroke=\"#000000\" cx=\"235\" cy=\"-417\" rx=\"27\" ry=\"18\"/>\n<text text-anchor=\"middle\" x=\"235\" y=\"-413.3\" font-family=\"Times,serif\" font-size=\"14.00\" fill=\"#000000\">%</text>\n</g>\n<!-- n002&#45;&#45;n010 -->\n<g id=\"edge8\" class=\"edge\">\n<title>n002&#45;&#45;n010</title>\n<path fill=\"none\" stroke=\"#000000\" d=\"M193.2534,-472.6621C202.0909,-460.8788 213.9688,-445.0416 222.7951,-433.2733\"/>\n</g>\n<!-- n004 -->\n<g id=\"node3\" class=\"node\">\n<title>n004</title>\n<ellipse fill=\"none\" stroke=\"#000000\" cx=\"56\" cy=\"-345\" rx=\"27\" ry=\"18\"/>\n<text text-anchor=\"middle\" x=\"56\" y=\"-341.3\" font-family=\"Times,serif\" font-size=\"14.00\" fill=\"#000000\">X</text>\n</g>\n<!-- n003&#45;&#45;n004 -->\n<g id=\"edge2\" class=\"edge\">\n<title>n003&#45;&#45;n004</title>\n<path fill=\"none\" stroke=\"#000000\" d=\"M112.7307,-401.7307C100.512,-389.512 83.4602,-372.4602 71.2473,-360.2473\"/>\n</g>\n<!-- n005 -->\n<g id=\"node4\" class=\"node\">\n<title>n005</title>\n<ellipse fill=\"none\" stroke=\"#000000\" cx=\"128\" cy=\"-345\" rx=\"27\" ry=\"18\"/>\n<text text-anchor=\"middle\" x=\"128\" y=\"-341.3\" font-family=\"Times,serif\" font-size=\"14.00\" fill=\"#000000\">&#45;</text>\n</g>\n<!-- n003&#45;&#45;n005 -->\n<g id=\"edge3\" class=\"edge\">\n<title>n003&#45;&#45;n005</title>\n<path fill=\"none\" stroke=\"#000000\" d=\"M128,-398.8314C128,-388 128,-374.2876 128,-363.4133\"/>\n</g>\n<!-- n006 -->\n<g id=\"node5\" class=\"node\">\n<title>n006</title>\n<ellipse fill=\"none\" stroke=\"#000000\" cx=\"56\" cy=\"-273\" rx=\"27\" ry=\"18\"/>\n<text text-anchor=\"middle\" x=\"56\" y=\"-269.3\" font-family=\"Times,serif\" font-size=\"14.00\" fill=\"#000000\">&#45;</text>\n</g>\n<!-- n005&#45;&#45;n006 -->\n<g id=\"edge4\" class=\"edge\">\n<title>n005&#45;&#45;n006</title>\n<path fill=\"none\" stroke=\"#000000\" d=\"M112.7307,-329.7307C100.512,-317.512 83.4602,-300.4602 71.2473,-288.2473\"/>\n</g>\n<!-- n009 -->\n<g id=\"node8\" class=\"node\">\n<title>n009</title>\n<ellipse fill=\"none\" stroke=\"#000000\" cx=\"128\" cy=\"-273\" rx=\"27\" ry=\"18\"/>\n<text text-anchor=\"middle\" x=\"128\" y=\"-269.3\" font-family=\"Times,serif\" font-size=\"14.00\" fill=\"#000000\">X</text>\n</g>\n<!-- n005&#45;&#45;n009 -->\n<g id=\"edge7\" class=\"edge\">\n<title>n005&#45;&#45;n009</title>\n<path fill=\"none\" stroke=\"#000000\" d=\"M128,-326.8314C128,-316 128,-302.2876 128,-291.4133\"/>\n</g>\n<!-- n007 -->\n<g id=\"node6\" class=\"node\">\n<title>n007</title>\n<ellipse fill=\"none\" stroke=\"#000000\" cx=\"53\" cy=\"-201\" rx=\"27\" ry=\"18\"/>\n<text text-anchor=\"middle\" x=\"53\" y=\"-197.3\" font-family=\"Times,serif\" font-size=\"14.00\" fill=\"#000000\">X</text>\n</g>\n<!-- n006&#45;&#45;n007 -->\n<g id=\"edge5\" class=\"edge\">\n<title>n006&#45;&#45;n007</title>\n<path fill=\"none\" stroke=\"#000000\" d=\"M55.243,-254.8314C54.7917,-244 54.2203,-230.2876 53.7672,-219.4133\"/>\n</g>\n<!-- n008 -->\n<g id=\"node7\" class=\"node\">\n<title>n008</title>\n<ellipse fill=\"none\" stroke=\"#000000\" cx=\"125\" cy=\"-201\" rx=\"27\" ry=\"18\"/>\n<text text-anchor=\"middle\" x=\"125\" y=\"-197.3\" font-family=\"Times,serif\" font-size=\"14.00\" fill=\"#000000\">X</text>\n</g>\n<!-- n006&#45;&#45;n008 -->\n<g id=\"edge6\" class=\"edge\">\n<title>n006&#45;&#45;n008</title>\n<path fill=\"none\" stroke=\"#000000\" d=\"M70.6331,-257.7307C82.3427,-245.512 98.684,-228.4602 110.388,-216.2473\"/>\n</g>\n<!-- n011 -->\n<g id=\"node10\" class=\"node\">\n<title>n011</title>\n<ellipse fill=\"none\" stroke=\"#000000\" cx=\"235\" cy=\"-345\" rx=\"27\" ry=\"18\"/>\n<text text-anchor=\"middle\" x=\"235\" y=\"-341.3\" font-family=\"Times,serif\" font-size=\"14.00\" fill=\"#000000\">+</text>\n</g>\n<!-- n010&#45;&#45;n011 -->\n<g id=\"edge9\" class=\"edge\">\n<title>n010&#45;&#45;n011</title>\n<path fill=\"none\" stroke=\"#000000\" d=\"M235,-398.8314C235,-388 235,-374.2876 235,-363.4133\"/>\n</g>\n<!-- n014 -->\n<g id=\"node13\" class=\"node\">\n<title>n014</title>\n<ellipse fill=\"none\" stroke=\"#000000\" cx=\"326\" cy=\"-345\" rx=\"29.4969\" ry=\"18\"/>\n<text text-anchor=\"middle\" x=\"326\" y=\"-341.3\" font-family=\"Times,serif\" font-size=\"14.00\" fill=\"#000000\">COS</text>\n</g>\n<!-- n010&#45;&#45;n014 -->\n<g id=\"edge12\" class=\"edge\">\n<title>n010&#45;&#45;n014</title>\n<path fill=\"none\" stroke=\"#000000\" d=\"M252.5457,-403.1177C268.4532,-390.5316 291.8034,-372.0566 307.8853,-359.3325\"/>\n</g>\n<!-- n012 -->\n<g id=\"node11\" class=\"node\">\n<title>n012</title>\n<ellipse fill=\"none\" stroke=\"#000000\" cx=\"200\" cy=\"-273\" rx=\"27\" ry=\"18\"/>\n<text text-anchor=\"middle\" x=\"200\" y=\"-269.3\" font-family=\"Times,serif\" font-size=\"14.00\" fill=\"#000000\">X</text>\n</g>\n<!-- n011&#45;&#45;n012 -->\n<g id=\"edge10\" class=\"edge\">\n<title>n011&#45;&#45;n012</title>\n<path fill=\"none\" stroke=\"#000000\" d=\"M226.5275,-327.5708C221.0246,-316.2506 213.8818,-301.5568 208.3945,-290.2687\"/>\n</g>\n<!-- n013 -->\n<g id=\"node12\" class=\"node\">\n<title>n013</title>\n<ellipse fill=\"none\" stroke=\"#000000\" cx=\"272\" cy=\"-273\" rx=\"27\" ry=\"18\"/>\n<text text-anchor=\"middle\" x=\"272\" y=\"-269.3\" font-family=\"Times,serif\" font-size=\"14.00\" fill=\"#000000\">X</text>\n</g>\n<!-- n011&#45;&#45;n013 -->\n<g id=\"edge11\" class=\"edge\">\n<title>n011&#45;&#45;n013</title>\n<path fill=\"none\" stroke=\"#000000\" d=\"M243.7685,-327.937C249.5811,-316.626 257.1855,-301.8282 263.0374,-290.4407\"/>\n</g>\n<!-- n015 -->\n<g id=\"node14\" class=\"node\">\n<title>n015</title>\n<ellipse fill=\"none\" stroke=\"#000000\" cx=\"344\" cy=\"-273\" rx=\"27\" ry=\"18\"/>\n<text text-anchor=\"middle\" x=\"344\" y=\"-269.3\" font-family=\"Times,serif\" font-size=\"14.00\" fill=\"#000000\">&#45;</text>\n</g>\n<!-- n014&#45;&#45;n015 -->\n<g id=\"edge13\" class=\"edge\">\n<title>n014&#45;&#45;n015</title>\n<path fill=\"none\" stroke=\"#000000\" d=\"M330.4494,-327.2022C333.2187,-316.1252 336.768,-301.928 339.5394,-290.8425\"/>\n</g>\n<!-- n016 -->\n<g id=\"node15\" class=\"node\">\n<title>n016</title>\n<ellipse fill=\"none\" stroke=\"#000000\" cx=\"277\" cy=\"-201\" rx=\"27\" ry=\"18\"/>\n<text text-anchor=\"middle\" x=\"277\" y=\"-197.3\" font-family=\"Times,serif\" font-size=\"14.00\" fill=\"#000000\">X</text>\n</g>\n<!-- n015&#45;&#45;n016 -->\n<g id=\"edge14\" class=\"edge\">\n<title>n015&#45;&#45;n016</title>\n<path fill=\"none\" stroke=\"#000000\" d=\"M329.462,-257.3771C318.2239,-245.3003 302.7406,-228.6616 291.5096,-216.5924\"/>\n</g>\n<!-- n017 -->\n<g id=\"node16\" class=\"node\">\n<title>n017</title>\n<ellipse fill=\"none\" stroke=\"#000000\" cx=\"349\" cy=\"-201\" rx=\"27\" ry=\"18\"/>\n<text text-anchor=\"middle\" x=\"349\" y=\"-197.3\" font-family=\"Times,serif\" font-size=\"14.00\" fill=\"#000000\">X</text>\n</g>\n<!-- n015&#45;&#45;n017 -->\n<g id=\"edge15\" class=\"edge\">\n<title>n015&#45;&#45;n017</title>\n<path fill=\"none\" stroke=\"#000000\" d=\"M345.2617,-254.8314C346.0139,-244 346.9661,-230.2876 347.7213,-219.4133\"/>\n</g>\n<!-- n018 -->\n<g id=\"node17\" class=\"node\">\n<title>n018</title>\n<ellipse fill=\"none\" stroke=\"#000000\" cx=\"466\" cy=\"-489\" rx=\"28.6953\" ry=\"18\"/>\n<text text-anchor=\"middle\" x=\"466\" y=\"-485.3\" font-family=\"Times,serif\" font-size=\"14.00\" fill=\"#000000\">EXP</text>\n</g>\n<!-- n019 -->\n<g id=\"node18\" class=\"node\">\n<title>n019</title>\n<ellipse fill=\"none\" stroke=\"#000000\" cx=\"466\" cy=\"-417\" rx=\"27\" ry=\"18\"/>\n<text text-anchor=\"middle\" x=\"466\" y=\"-413.3\" font-family=\"Times,serif\" font-size=\"14.00\" fill=\"#000000\">*</text>\n</g>\n<!-- n018&#45;&#45;n019 -->\n<g id=\"edge16\" class=\"edge\">\n<title>n018&#45;&#45;n019</title>\n<path fill=\"none\" stroke=\"#000000\" d=\"M466,-470.8314C466,-460 466,-446.2876 466,-435.4133\"/>\n</g>\n<!-- n020 -->\n<g id=\"node19\" class=\"node\">\n<title>n020</title>\n<ellipse fill=\"none\" stroke=\"#000000\" cx=\"430\" cy=\"-345\" rx=\"27\" ry=\"18\"/>\n<text text-anchor=\"middle\" x=\"430\" y=\"-341.3\" font-family=\"Times,serif\" font-size=\"14.00\" fill=\"#000000\">X</text>\n</g>\n<!-- n019&#45;&#45;n020 -->\n<g id=\"edge17\" class=\"edge\">\n<title>n019&#45;&#45;n020</title>\n<path fill=\"none\" stroke=\"#000000\" d=\"M457.2854,-399.5708C451.6253,-388.2506 444.2784,-373.5568 438.6343,-362.2687\"/>\n</g>\n<!-- n021 -->\n<g id=\"node20\" class=\"node\">\n<title>n021</title>\n<ellipse fill=\"none\" stroke=\"#000000\" cx=\"502\" cy=\"-345\" rx=\"27\" ry=\"18\"/>\n<text text-anchor=\"middle\" x=\"502\" y=\"-341.3\" font-family=\"Times,serif\" font-size=\"14.00\" fill=\"#000000\">X</text>\n</g>\n<!-- n019&#45;&#45;n021 -->\n<g id=\"edge18\" class=\"edge\">\n<title>n019&#45;&#45;n021</title>\n<path fill=\"none\" stroke=\"#000000\" d=\"M474.7146,-399.5708C480.3747,-388.2506 487.7216,-373.5568 493.3657,-362.2687\"/>\n</g>\n<!-- n022 -->\n<g id=\"node21\" class=\"node\">\n<title>n022</title>\n<ellipse fill=\"none\" stroke=\"#000000\" cx=\"774\" cy=\"-489\" rx=\"27\" ry=\"18\"/>\n<text text-anchor=\"middle\" x=\"774\" y=\"-485.3\" font-family=\"Times,serif\" font-size=\"14.00\" fill=\"#000000\">+</text>\n</g>\n<!-- n023 -->\n<g id=\"node22\" class=\"node\">\n<title>n023</title>\n<ellipse fill=\"none\" stroke=\"#000000\" cx=\"738\" cy=\"-417\" rx=\"27\" ry=\"18\"/>\n<text text-anchor=\"middle\" x=\"738\" y=\"-413.3\" font-family=\"Times,serif\" font-size=\"14.00\" fill=\"#000000\">%</text>\n</g>\n<!-- n022&#45;&#45;n023 -->\n<g id=\"edge19\" class=\"edge\">\n<title>n022&#45;&#45;n023</title>\n<path fill=\"none\" stroke=\"#000000\" d=\"M765.2854,-471.5708C759.6253,-460.2506 752.2784,-445.5568 746.6343,-434.2687\"/>\n</g>\n<!-- n036 -->\n<g id=\"node35\" class=\"node\">\n<title>n036</title>\n<ellipse fill=\"none\" stroke=\"#000000\" cx=\"810\" cy=\"-417\" rx=\"27\" ry=\"18\"/>\n<text text-anchor=\"middle\" x=\"810\" y=\"-413.3\" font-family=\"Times,serif\" font-size=\"14.00\" fill=\"#000000\">*</text>\n</g>\n<!-- n022&#45;&#45;n036 -->\n<g id=\"edge32\" class=\"edge\">\n<title>n022&#45;&#45;n036</title>\n<path fill=\"none\" stroke=\"#000000\" d=\"M782.7146,-471.5708C788.3747,-460.2506 795.7216,-445.5568 801.3657,-434.2687\"/>\n</g>\n<!-- n024 -->\n<g id=\"node23\" class=\"node\">\n<title>n024</title>\n<ellipse fill=\"none\" stroke=\"#000000\" cx=\"664\" cy=\"-345\" rx=\"28.6953\" ry=\"18\"/>\n<text text-anchor=\"middle\" x=\"664\" y=\"-341.3\" font-family=\"Times,serif\" font-size=\"14.00\" fill=\"#000000\">EXP</text>\n</g>\n<!-- n023&#45;&#45;n024 -->\n<g id=\"edge20\" class=\"edge\">\n<title>n023&#45;&#45;n024</title>\n<path fill=\"none\" stroke=\"#000000\" d=\"M722.6672,-402.0816C710.0516,-389.807 692.2472,-372.4838 679.5678,-360.147\"/>\n</g>\n<!-- n029 -->\n<g id=\"node28\" class=\"node\">\n<title>n029</title>\n<ellipse fill=\"none\" stroke=\"#000000\" cx=\"738\" cy=\"-345\" rx=\"27\" ry=\"18\"/>\n<text text-anchor=\"middle\" x=\"738\" y=\"-341.3\" font-family=\"Times,serif\" font-size=\"14.00\" fill=\"#000000\">SIN</text>\n</g>\n<!-- n023&#45;&#45;n029 -->\n<g id=\"edge25\" class=\"edge\">\n<title>n023&#45;&#45;n029</title>\n<path fill=\"none\" stroke=\"#000000\" d=\"M738,-398.8314C738,-388 738,-374.2876 738,-363.4133\"/>\n</g>\n<!-- n025 -->\n<g id=\"node24\" class=\"node\">\n<title>n025</title>\n<ellipse fill=\"none\" stroke=\"#000000\" cx=\"664\" cy=\"-273\" rx=\"27\" ry=\"18\"/>\n<text text-anchor=\"middle\" x=\"664\" y=\"-269.3\" font-family=\"Times,serif\" font-size=\"14.00\" fill=\"#000000\">SIN</text>\n</g>\n<!-- n024&#45;&#45;n025 -->\n<g id=\"edge21\" class=\"edge\">\n<title>n024&#45;&#45;n025</title>\n<path fill=\"none\" stroke=\"#000000\" d=\"M664,-326.8314C664,-316 664,-302.2876 664,-291.4133\"/>\n</g>\n<!-- n026 -->\n<g id=\"node25\" class=\"node\">\n<title>n026</title>\n<ellipse fill=\"none\" stroke=\"#000000\" cx=\"664\" cy=\"-201\" rx=\"27\" ry=\"18\"/>\n<text text-anchor=\"middle\" x=\"664\" y=\"-197.3\" font-family=\"Times,serif\" font-size=\"14.00\" fill=\"#000000\">+</text>\n</g>\n<!-- n025&#45;&#45;n026 -->\n<g id=\"edge22\" class=\"edge\">\n<title>n025&#45;&#45;n026</title>\n<path fill=\"none\" stroke=\"#000000\" d=\"M664,-254.8314C664,-244 664,-230.2876 664,-219.4133\"/>\n</g>\n<!-- n027 -->\n<g id=\"node26\" class=\"node\">\n<title>n027</title>\n<ellipse fill=\"none\" stroke=\"#000000\" cx=\"628\" cy=\"-129\" rx=\"27\" ry=\"18\"/>\n<text text-anchor=\"middle\" x=\"628\" y=\"-125.3\" font-family=\"Times,serif\" font-size=\"14.00\" fill=\"#000000\">X</text>\n</g>\n<!-- n026&#45;&#45;n027 -->\n<g id=\"edge23\" class=\"edge\">\n<title>n026&#45;&#45;n027</title>\n<path fill=\"none\" stroke=\"#000000\" d=\"M655.2854,-183.5708C649.6253,-172.2506 642.2784,-157.5568 636.6343,-146.2687\"/>\n</g>\n<!-- n028 -->\n<g id=\"node27\" class=\"node\">\n<title>n028</title>\n<ellipse fill=\"none\" stroke=\"#000000\" cx=\"700\" cy=\"-129\" rx=\"27\" ry=\"18\"/>\n<text text-anchor=\"middle\" x=\"700\" y=\"-125.3\" font-family=\"Times,serif\" font-size=\"14.00\" fill=\"#000000\">X</text>\n</g>\n<!-- n026&#45;&#45;n028 -->\n<g id=\"edge24\" class=\"edge\">\n<title>n026&#45;&#45;n028</title>\n<path fill=\"none\" stroke=\"#000000\" d=\"M672.7146,-183.5708C678.3747,-172.2506 685.7216,-157.5568 691.3657,-146.2687\"/>\n</g>\n<!-- n030 -->\n<g id=\"node29\" class=\"node\">\n<title>n030</title>\n<ellipse fill=\"none\" stroke=\"#000000\" cx=\"738\" cy=\"-273\" rx=\"27\" ry=\"18\"/>\n<text text-anchor=\"middle\" x=\"738\" y=\"-269.3\" font-family=\"Times,serif\" font-size=\"14.00\" fill=\"#000000\">*</text>\n</g>\n<!-- n029&#45;&#45;n030 -->\n<g id=\"edge26\" class=\"edge\">\n<title>n029&#45;&#45;n030</title>\n<path fill=\"none\" stroke=\"#000000\" d=\"M738,-326.8314C738,-316 738,-302.2876 738,-291.4133\"/>\n</g>\n<!-- n031 -->\n<g id=\"node30\" class=\"node\">\n<title>n031</title>\n<ellipse fill=\"none\" stroke=\"#000000\" cx=\"737\" cy=\"-201\" rx=\"27\" ry=\"18\"/>\n<text text-anchor=\"middle\" x=\"737\" y=\"-197.3\" font-family=\"Times,serif\" font-size=\"14.00\" fill=\"#000000\">X</text>\n</g>\n<!-- n030&#45;&#45;n031 -->\n<g id=\"edge27\" class=\"edge\">\n<title>n030&#45;&#45;n031</title>\n<path fill=\"none\" stroke=\"#000000\" d=\"M737.7477,-254.8314C737.5972,-244 737.4068,-230.2876 737.2557,-219.4133\"/>\n</g>\n<!-- n032 -->\n<g id=\"node31\" class=\"node\">\n<title>n032</title>\n<ellipse fill=\"none\" stroke=\"#000000\" cx=\"811\" cy=\"-201\" rx=\"28.6953\" ry=\"18\"/>\n<text text-anchor=\"middle\" x=\"811\" y=\"-197.3\" font-family=\"Times,serif\" font-size=\"14.00\" fill=\"#000000\">EXP</text>\n</g>\n<!-- n030&#45;&#45;n032 -->\n<g id=\"edge28\" class=\"edge\">\n<title>n030&#45;&#45;n032</title>\n<path fill=\"none\" stroke=\"#000000\" d=\"M753.1256,-258.0816C765.4872,-245.8893 782.899,-228.7161 795.3901,-216.3961\"/>\n</g>\n<!-- n033 -->\n<g id=\"node32\" class=\"node\">\n<title>n033</title>\n<ellipse fill=\"none\" stroke=\"#000000\" cx=\"811\" cy=\"-129\" rx=\"27\" ry=\"18\"/>\n<text text-anchor=\"middle\" x=\"811\" y=\"-125.3\" font-family=\"Times,serif\" font-size=\"14.00\" fill=\"#000000\">*</text>\n</g>\n<!-- n032&#45;&#45;n033 -->\n<g id=\"edge29\" class=\"edge\">\n<title>n032&#45;&#45;n033</title>\n<path fill=\"none\" stroke=\"#000000\" d=\"M811,-182.8314C811,-172 811,-158.2876 811,-147.4133\"/>\n</g>\n<!-- n034 -->\n<g id=\"node33\" class=\"node\">\n<title>n034</title>\n<ellipse fill=\"none\" stroke=\"#000000\" cx=\"775\" cy=\"-57\" rx=\"27\" ry=\"18\"/>\n<text text-anchor=\"middle\" x=\"775\" y=\"-53.3\" font-family=\"Times,serif\" font-size=\"14.00\" fill=\"#000000\">X</text>\n</g>\n<!-- n033&#45;&#45;n034 -->\n<g id=\"edge30\" class=\"edge\">\n<title>n033&#45;&#45;n034</title>\n<path fill=\"none\" stroke=\"#000000\" d=\"M802.2854,-111.5708C796.6253,-100.2506 789.2784,-85.5568 783.6343,-74.2687\"/>\n</g>\n<!-- n035 -->\n<g id=\"node34\" class=\"node\">\n<title>n035</title>\n<ellipse fill=\"none\" stroke=\"#000000\" cx=\"847\" cy=\"-57\" rx=\"27\" ry=\"18\"/>\n<text text-anchor=\"middle\" x=\"847\" y=\"-53.3\" font-family=\"Times,serif\" font-size=\"14.00\" fill=\"#000000\">X</text>\n</g>\n<!-- n033&#45;&#45;n035 -->\n<g id=\"edge31\" class=\"edge\">\n<title>n033&#45;&#45;n035</title>\n<path fill=\"none\" stroke=\"#000000\" d=\"M819.7146,-111.5708C825.3747,-100.2506 832.7216,-85.5568 838.3657,-74.2687\"/>\n</g>\n<!-- n037 -->\n<g id=\"node36\" class=\"node\">\n<title>n037</title>\n<ellipse fill=\"none\" stroke=\"#000000\" cx=\"810\" cy=\"-345\" rx=\"27\" ry=\"18\"/>\n<text text-anchor=\"middle\" x=\"810\" y=\"-341.3\" font-family=\"Times,serif\" font-size=\"14.00\" fill=\"#000000\">X</text>\n</g>\n<!-- n036&#45;&#45;n037 -->\n<g id=\"edge33\" class=\"edge\">\n<title>n036&#45;&#45;n037</title>\n<path fill=\"none\" stroke=\"#000000\" d=\"M810,-398.8314C810,-388 810,-374.2876 810,-363.4133\"/>\n</g>\n<!-- n038 -->\n<g id=\"node37\" class=\"node\">\n<title>n038</title>\n<ellipse fill=\"none\" stroke=\"#000000\" cx=\"882\" cy=\"-345\" rx=\"27\" ry=\"18\"/>\n<text text-anchor=\"middle\" x=\"882\" y=\"-341.3\" font-family=\"Times,serif\" font-size=\"14.00\" fill=\"#000000\">X</text>\n</g>\n<!-- n036&#45;&#45;n038 -->\n<g id=\"edge34\" class=\"edge\">\n<title>n036&#45;&#45;n038</title>\n<path fill=\"none\" stroke=\"#000000\" d=\"M825.2693,-401.7307C837.488,-389.512 854.5398,-372.4602 866.7527,-360.2473\"/>\n</g>\n<!-- n039 -->\n<g id=\"node38\" class=\"node\">\n<title>n039</title>\n<ellipse fill=\"none\" stroke=\"#000000\" cx=\"1150\" cy=\"-489\" rx=\"27\" ry=\"18\"/>\n<text text-anchor=\"middle\" x=\"1150\" y=\"-485.3\" font-family=\"Times,serif\" font-size=\"14.00\" fill=\"#000000\">%</text>\n</g>\n<!-- n040 -->\n<g id=\"node39\" class=\"node\">\n<title>n040</title>\n<ellipse fill=\"none\" stroke=\"#000000\" cx=\"1113\" cy=\"-417\" rx=\"28.6953\" ry=\"18\"/>\n<text text-anchor=\"middle\" x=\"1113\" y=\"-413.3\" font-family=\"Times,serif\" font-size=\"14.00\" fill=\"#000000\">EXP</text>\n</g>\n<!-- n039&#45;&#45;n040 -->\n<g id=\"edge35\" class=\"edge\">\n<title>n039&#45;&#45;n040</title>\n<path fill=\"none\" stroke=\"#000000\" d=\"M1141.2315,-471.937C1135.4189,-460.626 1127.8145,-445.8282 1121.9626,-434.4407\"/>\n</g>\n<!-- n046 -->\n<g id=\"node45\" class=\"node\">\n<title>n046</title>\n<ellipse fill=\"none\" stroke=\"#000000\" cx=\"1188\" cy=\"-417\" rx=\"28.6953\" ry=\"18\"/>\n<text text-anchor=\"middle\" x=\"1188\" y=\"-413.3\" font-family=\"Times,serif\" font-size=\"14.00\" fill=\"#000000\">EXP</text>\n</g>\n<!-- n039&#45;&#45;n046 -->\n<g id=\"edge41\" class=\"edge\">\n<title>n039&#45;&#45;n046</title>\n<path fill=\"none\" stroke=\"#000000\" d=\"M1159.0055,-471.937C1164.9752,-460.626 1172.7851,-445.8282 1178.7952,-434.4407\"/>\n</g>\n<!-- n041 -->\n<g id=\"node40\" class=\"node\">\n<title>n041</title>\n<ellipse fill=\"none\" stroke=\"#000000\" cx=\"1113\" cy=\"-345\" rx=\"27\" ry=\"18\"/>\n<text text-anchor=\"middle\" x=\"1113\" y=\"-341.3\" font-family=\"Times,serif\" font-size=\"14.00\" fill=\"#000000\">%</text>\n</g>\n<!-- n040&#45;&#45;n041 -->\n<g id=\"edge36\" class=\"edge\">\n<title>n040&#45;&#45;n041</title>\n<path fill=\"none\" stroke=\"#000000\" d=\"M1113,-398.8314C1113,-388 1113,-374.2876 1113,-363.4133\"/>\n</g>\n<!-- n042 -->\n<g id=\"node41\" class=\"node\">\n<title>n042</title>\n<ellipse fill=\"none\" stroke=\"#000000\" cx=\"1043\" cy=\"-273\" rx=\"27\" ry=\"18\"/>\n<text text-anchor=\"middle\" x=\"1043\" y=\"-269.3\" font-family=\"Times,serif\" font-size=\"14.00\" fill=\"#000000\">X</text>\n</g>\n<!-- n041&#45;&#45;n042 -->\n<g id=\"edge37\" class=\"edge\">\n<title>n041&#45;&#45;n042</title>\n<path fill=\"none\" stroke=\"#000000\" d=\"M1098.1548,-329.7307C1086.2756,-317.512 1069.6974,-300.4602 1057.8238,-288.2473\"/>\n</g>\n<!-- n043 -->\n<g id=\"node42\" class=\"node\">\n<title>n043</title>\n<ellipse fill=\"none\" stroke=\"#000000\" cx=\"1115\" cy=\"-273\" rx=\"27\" ry=\"18\"/>\n<text text-anchor=\"middle\" x=\"1115\" y=\"-269.3\" font-family=\"Times,serif\" font-size=\"14.00\" fill=\"#000000\">%</text>\n</g>\n<!-- n041&#45;&#45;n043 -->\n<g id=\"edge38\" class=\"edge\">\n<title>n041&#45;&#45;n043</title>\n<path fill=\"none\" stroke=\"#000000\" d=\"M1113.5047,-326.8314C1113.8056,-316 1114.1865,-302.2876 1114.4885,-291.4133\"/>\n</g>\n<!-- n044 -->\n<g id=\"node43\" class=\"node\">\n<title>n044</title>\n<ellipse fill=\"none\" stroke=\"#000000\" cx=\"1079\" cy=\"-201\" rx=\"27\" ry=\"18\"/>\n<text text-anchor=\"middle\" x=\"1079\" y=\"-197.3\" font-family=\"Times,serif\" font-size=\"14.00\" fill=\"#000000\">X</text>\n</g>\n<!-- n043&#45;&#45;n044 -->\n<g id=\"edge39\" class=\"edge\">\n<title>n043&#45;&#45;n044</title>\n<path fill=\"none\" stroke=\"#000000\" d=\"M1106.2854,-255.5708C1100.6253,-244.2506 1093.2784,-229.5568 1087.6343,-218.2687\"/>\n</g>\n<!-- n045 -->\n<g id=\"node44\" class=\"node\">\n<title>n045</title>\n<ellipse fill=\"none\" stroke=\"#000000\" cx=\"1151\" cy=\"-201\" rx=\"27\" ry=\"18\"/>\n<text text-anchor=\"middle\" x=\"1151\" y=\"-197.3\" font-family=\"Times,serif\" font-size=\"14.00\" fill=\"#000000\">X</text>\n</g>\n<!-- n043&#45;&#45;n045 -->\n<g id=\"edge40\" class=\"edge\">\n<title>n043&#45;&#45;n045</title>\n<path fill=\"none\" stroke=\"#000000\" d=\"M1123.7146,-255.5708C1129.3747,-244.2506 1136.7216,-229.5568 1142.3657,-218.2687\"/>\n</g>\n<!-- n047 -->\n<g id=\"node46\" class=\"node\">\n<title>n047</title>\n<ellipse fill=\"none\" stroke=\"#000000\" cx=\"1188\" cy=\"-345\" rx=\"27\" ry=\"18\"/>\n<text text-anchor=\"middle\" x=\"1188\" y=\"-341.3\" font-family=\"Times,serif\" font-size=\"14.00\" fill=\"#000000\">SIN</text>\n</g>\n<!-- n046&#45;&#45;n047 -->\n<g id=\"edge42\" class=\"edge\">\n<title>n046&#45;&#45;n047</title>\n<path fill=\"none\" stroke=\"#000000\" d=\"M1188,-398.8314C1188,-388 1188,-374.2876 1188,-363.4133\"/>\n</g>\n<!-- n048 -->\n<g id=\"node47\" class=\"node\">\n<title>n048</title>\n<ellipse fill=\"none\" stroke=\"#000000\" cx=\"1188\" cy=\"-273\" rx=\"27\" ry=\"18\"/>\n<text text-anchor=\"middle\" x=\"1188\" y=\"-269.3\" font-family=\"Times,serif\" font-size=\"14.00\" fill=\"#000000\">X</text>\n</g>\n<!-- n047&#45;&#45;n048 -->\n<g id=\"edge43\" class=\"edge\">\n<title>n047&#45;&#45;n048</title>\n<path fill=\"none\" stroke=\"#000000\" d=\"M1188,-326.8314C1188,-316 1188,-302.2876 1188,-291.4133\"/>\n</g>\n</g>\n</svg>\n"
          },
          "metadata": {
            "tags": []
          },
          "execution_count": 3
        }
      ]
    },
    {
      "cell_type": "code",
      "metadata": {
        "colab": {
          "base_uri": "https://localhost:8080/"
        },
        "id": "Vn8YKoBDYJ56",
        "outputId": "540876aa-495a-4024-9f0e-c2ca3d71fdbd"
      },
      "source": [
        "%%file 2.dot\n",
        "graph e2 {\n",
        "    0 [label=\"Hola\"]\n",
        "    1 [label=\"Mundo\"]\n",
        "    0 -- 1\n",
        "}"
      ],
      "execution_count": 4,
      "outputs": [
        {
          "output_type": "stream",
          "text": [
            "Writing 2.dot\n"
          ],
          "name": "stdout"
        }
      ]
    },
    {
      "cell_type": "code",
      "metadata": {
        "colab": {
          "base_uri": "https://localhost:8080/",
          "height": 176
        },
        "id": "DESVwRYwZDgu",
        "outputId": "2f59afaf-c53a-4b32-82a1-ac0f65e33ab3"
      },
      "source": [
        "gv.Source.from_file(\"2.dot\")"
      ],
      "execution_count": 5,
      "outputs": [
        {
          "output_type": "execute_result",
          "data": {
            "text/plain": [
              "<graphviz.files.Source at 0x7fde43618e10>"
            ],
            "image/svg+xml": "<?xml version=\"1.0\" encoding=\"UTF-8\" standalone=\"no\"?>\n<!DOCTYPE svg PUBLIC \"-//W3C//DTD SVG 1.1//EN\"\n \"http://www.w3.org/Graphics/SVG/1.1/DTD/svg11.dtd\">\n<!-- Generated by graphviz version 2.40.1 (20161225.0304)\n -->\n<!-- Title: e2 Pages: 1 -->\n<svg width=\"85pt\" height=\"116pt\"\n viewBox=\"0.00 0.00 84.69 116.00\" xmlns=\"http://www.w3.org/2000/svg\" xmlns:xlink=\"http://www.w3.org/1999/xlink\">\n<g id=\"graph0\" class=\"graph\" transform=\"scale(1 1) rotate(0) translate(4 112)\">\n<title>e2</title>\n<polygon fill=\"#ffffff\" stroke=\"transparent\" points=\"-4,4 -4,-112 80.6932,-112 80.6932,4 -4,4\"/>\n<!-- 0 -->\n<g id=\"node1\" class=\"node\">\n<title>0</title>\n<ellipse fill=\"none\" stroke=\"#000000\" cx=\"38.3466\" cy=\"-90\" rx=\"28.6953\" ry=\"18\"/>\n<text text-anchor=\"middle\" x=\"38.3466\" y=\"-86.3\" font-family=\"Times,serif\" font-size=\"14.00\" fill=\"#000000\">Hola</text>\n</g>\n<!-- 1 -->\n<g id=\"node2\" class=\"node\">\n<title>1</title>\n<ellipse fill=\"none\" stroke=\"#000000\" cx=\"38.3466\" cy=\"-18\" rx=\"38.1938\" ry=\"18\"/>\n<text text-anchor=\"middle\" x=\"38.3466\" y=\"-14.3\" font-family=\"Times,serif\" font-size=\"14.00\" fill=\"#000000\">Mundo</text>\n</g>\n<!-- 0&#45;&#45;1 -->\n<g id=\"edge1\" class=\"edge\">\n<title>0&#45;&#45;1</title>\n<path fill=\"none\" stroke=\"#000000\" d=\"M38.3466,-71.8314C38.3466,-61 38.3466,-47.2876 38.3466,-36.4133\"/>\n</g>\n</g>\n</svg>\n"
          },
          "metadata": {
            "tags": []
          },
          "execution_count": 5
        }
      ]
    },
    {
      "cell_type": "code",
      "metadata": {
        "colab": {
          "base_uri": "https://localhost:8080/"
        },
        "id": "uQ0y3wIHZGWz",
        "outputId": "f645fbca-59b2-4a43-cadd-5535b24e4978"
      },
      "source": [
        "%%file 3.dot\n",
        "digraph G {\n",
        "\n",
        "\tsubgraph cluster_0 {\n",
        "\t\tstyle=filled;\n",
        "\t\tcolor=orange;\n",
        "\t\tnode [style=filled,color=lightblue];\n",
        "\t\ta0 -> a1 -> a2 -> a3;\n",
        "\t\tlabel = \"process #1\";\n",
        "\t}\n",
        "\n",
        "\tsubgraph cluster_1 {\n",
        "\t\tnode [style=filled];\n",
        "\t\tb0 -> b1 -> b2 -> b3;\n",
        "\t\tlabel = \"process #2\";\n",
        "\t\tcolor=blue\n",
        "\t}\n",
        "\tstart -> a0;\n",
        "\tstart -> b0;\n",
        "\ta1 -> b3;\n",
        "\tb2 -> a3;\n",
        "\ta3 -> a0;\n",
        "\ta3 -> end;\n",
        "\tb3 -> end;\n",
        "\n",
        "\tstart [shape=Mdiamond];\n",
        "\tend [shape=Msquare];\n",
        "}"
      ],
      "execution_count": 7,
      "outputs": [
        {
          "output_type": "stream",
          "text": [
            "Writing 3.dot\n"
          ],
          "name": "stdout"
        }
      ]
    },
    {
      "cell_type": "code",
      "metadata": {
        "colab": {
          "base_uri": "https://localhost:8080/",
          "height": 566
        },
        "id": "-RFXSt0Eadan",
        "outputId": "c5eada56-9dbf-4382-884e-a990333f0767"
      },
      "source": [
        "gv.Source.from_file('3.dot')"
      ],
      "execution_count": 9,
      "outputs": [
        {
          "output_type": "execute_result",
          "data": {
            "text/plain": [
              "<graphviz.files.Source at 0x7fde4362ffd0>"
            ],
            "image/svg+xml": "<?xml version=\"1.0\" encoding=\"UTF-8\" standalone=\"no\"?>\n<!DOCTYPE svg PUBLIC \"-//W3C//DTD SVG 1.1//EN\"\n \"http://www.w3.org/Graphics/SVG/1.1/DTD/svg11.dtd\">\n<!-- Generated by graphviz version 2.40.1 (20161225.0304)\n -->\n<!-- Title: G Pages: 1 -->\n<svg width=\"224pt\" height=\"409pt\"\n viewBox=\"0.00 0.00 224.00 409.00\" xmlns=\"http://www.w3.org/2000/svg\" xmlns:xlink=\"http://www.w3.org/1999/xlink\">\n<g id=\"graph0\" class=\"graph\" transform=\"scale(1 1) rotate(0) translate(4 405)\">\n<title>G</title>\n<polygon fill=\"#ffffff\" stroke=\"transparent\" points=\"-4,4 -4,-405 220,-405 220,4 -4,4\"/>\n<g id=\"clust1\" class=\"cluster\">\n<title>cluster_0</title>\n<polygon fill=\"#ffa500\" stroke=\"#ffa500\" points=\"8,-66 8,-357 98,-357 98,-66 8,-66\"/>\n<text text-anchor=\"middle\" x=\"53\" y=\"-341.8\" font-family=\"Times,serif\" font-size=\"14.00\" fill=\"#000000\">process #1</text>\n</g>\n<g id=\"clust2\" class=\"cluster\">\n<title>cluster_1</title>\n<polygon fill=\"none\" stroke=\"#0000ff\" points=\"131,-66 131,-357 208,-357 208,-66 131,-66\"/>\n<text text-anchor=\"middle\" x=\"169.5\" y=\"-341.8\" font-family=\"Times,serif\" font-size=\"14.00\" fill=\"#000000\">process #2</text>\n</g>\n<!-- a0 -->\n<g id=\"node1\" class=\"node\">\n<title>a0</title>\n<ellipse fill=\"#add8e6\" stroke=\"#add8e6\" cx=\"63\" cy=\"-308\" rx=\"27\" ry=\"18\"/>\n<text text-anchor=\"middle\" x=\"63\" y=\"-304.3\" font-family=\"Times,serif\" font-size=\"14.00\" fill=\"#000000\">a0</text>\n</g>\n<!-- a1 -->\n<g id=\"node2\" class=\"node\">\n<title>a1</title>\n<ellipse fill=\"#add8e6\" stroke=\"#add8e6\" cx=\"63\" cy=\"-236\" rx=\"27\" ry=\"18\"/>\n<text text-anchor=\"middle\" x=\"63\" y=\"-232.3\" font-family=\"Times,serif\" font-size=\"14.00\" fill=\"#000000\">a1</text>\n</g>\n<!-- a0&#45;&gt;a1 -->\n<g id=\"edge1\" class=\"edge\">\n<title>a0&#45;&gt;a1</title>\n<path fill=\"none\" stroke=\"#000000\" d=\"M63,-289.8314C63,-282.131 63,-272.9743 63,-264.4166\"/>\n<polygon fill=\"#000000\" stroke=\"#000000\" points=\"66.5001,-264.4132 63,-254.4133 59.5001,-264.4133 66.5001,-264.4132\"/>\n</g>\n<!-- a2 -->\n<g id=\"node3\" class=\"node\">\n<title>a2</title>\n<ellipse fill=\"#add8e6\" stroke=\"#add8e6\" cx=\"63\" cy=\"-164\" rx=\"27\" ry=\"18\"/>\n<text text-anchor=\"middle\" x=\"63\" y=\"-160.3\" font-family=\"Times,serif\" font-size=\"14.00\" fill=\"#000000\">a2</text>\n</g>\n<!-- a1&#45;&gt;a2 -->\n<g id=\"edge2\" class=\"edge\">\n<title>a1&#45;&gt;a2</title>\n<path fill=\"none\" stroke=\"#000000\" d=\"M63,-217.8314C63,-210.131 63,-200.9743 63,-192.4166\"/>\n<polygon fill=\"#000000\" stroke=\"#000000\" points=\"66.5001,-192.4132 63,-182.4133 59.5001,-192.4133 66.5001,-192.4132\"/>\n</g>\n<!-- b3 -->\n<g id=\"node8\" class=\"node\">\n<title>b3</title>\n<ellipse fill=\"#d3d3d3\" stroke=\"#000000\" cx=\"166\" cy=\"-92\" rx=\"27\" ry=\"18\"/>\n<text text-anchor=\"middle\" x=\"166\" y=\"-88.3\" font-family=\"Times,serif\" font-size=\"14.00\" fill=\"#000000\">b3</text>\n</g>\n<!-- a1&#45;&gt;b3 -->\n<g id=\"edge9\" class=\"edge\">\n<title>a1&#45;&gt;b3</title>\n<path fill=\"none\" stroke=\"#000000\" d=\"M74.8154,-219.4814C92.8211,-194.3084 127.2483,-146.1771 148.2639,-116.7961\"/>\n<polygon fill=\"#000000\" stroke=\"#000000\" points=\"151.3514,-118.4957 154.3224,-108.326 145.6579,-114.4233 151.3514,-118.4957\"/>\n</g>\n<!-- a3 -->\n<g id=\"node4\" class=\"node\">\n<title>a3</title>\n<ellipse fill=\"#add8e6\" stroke=\"#add8e6\" cx=\"63\" cy=\"-92\" rx=\"27\" ry=\"18\"/>\n<text text-anchor=\"middle\" x=\"63\" y=\"-88.3\" font-family=\"Times,serif\" font-size=\"14.00\" fill=\"#000000\">a3</text>\n</g>\n<!-- a2&#45;&gt;a3 -->\n<g id=\"edge3\" class=\"edge\">\n<title>a2&#45;&gt;a3</title>\n<path fill=\"none\" stroke=\"#000000\" d=\"M63,-145.8314C63,-138.131 63,-128.9743 63,-120.4166\"/>\n<polygon fill=\"#000000\" stroke=\"#000000\" points=\"66.5001,-120.4132 63,-110.4133 59.5001,-120.4133 66.5001,-120.4132\"/>\n</g>\n<!-- a3&#45;&gt;a0 -->\n<g id=\"edge11\" class=\"edge\">\n<title>a3&#45;&gt;a0</title>\n<path fill=\"none\" stroke=\"#000000\" d=\"M48.8771,-107.7156C40.7465,-117.8532 31.3099,-131.7653 27,-146 13.0904,-191.9404 13.0904,-208.0596 27,-254 30.2661,-264.7873 36.4764,-275.3892 42.8313,-284.3037\"/>\n<polygon fill=\"#000000\" stroke=\"#000000\" points=\"40.0487,-286.4268 48.8771,-292.2844 45.6285,-282.1999 40.0487,-286.4268\"/>\n</g>\n<!-- end -->\n<g id=\"node10\" class=\"node\">\n<title>end</title>\n<polygon fill=\"none\" stroke=\"#000000\" points=\"133,-38 95,-38 95,0 133,0 133,-38\"/>\n<polyline fill=\"none\" stroke=\"#000000\" points=\"107,-38 95,-26 \"/>\n<polyline fill=\"none\" stroke=\"#000000\" points=\"95,-12 107,0 \"/>\n<polyline fill=\"none\" stroke=\"#000000\" points=\"121,0 133,-12 \"/>\n<polyline fill=\"none\" stroke=\"#000000\" points=\"133,-26 121,-38 \"/>\n<text text-anchor=\"middle\" x=\"114\" y=\"-15.3\" font-family=\"Times,serif\" font-size=\"14.00\" fill=\"#000000\">end</text>\n</g>\n<!-- a3&#45;&gt;end -->\n<g id=\"edge12\" class=\"edge\">\n<title>a3&#45;&gt;end</title>\n<path fill=\"none\" stroke=\"#000000\" d=\"M74.5727,-75.4352C80.5735,-66.8457 88.0588,-56.1316 94.89,-46.3535\"/>\n<polygon fill=\"#000000\" stroke=\"#000000\" points=\"97.8132,-48.2807 100.6711,-38.0786 92.0748,-44.2717 97.8132,-48.2807\"/>\n</g>\n<!-- b0 -->\n<g id=\"node5\" class=\"node\">\n<title>b0</title>\n<ellipse fill=\"#d3d3d3\" stroke=\"#000000\" cx=\"166\" cy=\"-308\" rx=\"27\" ry=\"18\"/>\n<text text-anchor=\"middle\" x=\"166\" y=\"-304.3\" font-family=\"Times,serif\" font-size=\"14.00\" fill=\"#000000\">b0</text>\n</g>\n<!-- b1 -->\n<g id=\"node6\" class=\"node\">\n<title>b1</title>\n<ellipse fill=\"#d3d3d3\" stroke=\"#000000\" cx=\"169\" cy=\"-236\" rx=\"27\" ry=\"18\"/>\n<text text-anchor=\"middle\" x=\"169\" y=\"-232.3\" font-family=\"Times,serif\" font-size=\"14.00\" fill=\"#000000\">b1</text>\n</g>\n<!-- b0&#45;&gt;b1 -->\n<g id=\"edge4\" class=\"edge\">\n<title>b0&#45;&gt;b1</title>\n<path fill=\"none\" stroke=\"#000000\" d=\"M166.757,-289.8314C167.0779,-282.131 167.4594,-272.9743 167.816,-264.4166\"/>\n<polygon fill=\"#000000\" stroke=\"#000000\" points=\"171.3133,-264.5503 168.2328,-254.4133 164.3194,-264.2589 171.3133,-264.5503\"/>\n</g>\n<!-- b2 -->\n<g id=\"node7\" class=\"node\">\n<title>b2</title>\n<ellipse fill=\"#d3d3d3\" stroke=\"#000000\" cx=\"173\" cy=\"-164\" rx=\"27\" ry=\"18\"/>\n<text text-anchor=\"middle\" x=\"173\" y=\"-160.3\" font-family=\"Times,serif\" font-size=\"14.00\" fill=\"#000000\">b2</text>\n</g>\n<!-- b1&#45;&gt;b2 -->\n<g id=\"edge5\" class=\"edge\">\n<title>b1&#45;&gt;b2</title>\n<path fill=\"none\" stroke=\"#000000\" d=\"M170.0094,-217.8314C170.4372,-210.131 170.9459,-200.9743 171.4213,-192.4166\"/>\n<polygon fill=\"#000000\" stroke=\"#000000\" points=\"174.9169,-192.592 171.977,-182.4133 167.9276,-192.2037 174.9169,-192.592\"/>\n</g>\n<!-- b2&#45;&gt;a3 -->\n<g id=\"edge10\" class=\"edge\">\n<title>b2&#45;&gt;a3</title>\n<path fill=\"none\" stroke=\"#000000\" d=\"M153.5874,-151.2936C136.258,-139.9507 110.6682,-123.201 91.1028,-110.3946\"/>\n<polygon fill=\"#000000\" stroke=\"#000000\" points=\"92.8724,-107.3698 82.5885,-104.8216 89.0387,-113.2267 92.8724,-107.3698\"/>\n</g>\n<!-- b2&#45;&gt;b3 -->\n<g id=\"edge6\" class=\"edge\">\n<title>b2&#45;&gt;b3</title>\n<path fill=\"none\" stroke=\"#000000\" d=\"M171.2336,-145.8314C170.485,-138.131 169.5947,-128.9743 168.7627,-120.4166\"/>\n<polygon fill=\"#000000\" stroke=\"#000000\" points=\"172.2415,-120.0276 167.7902,-110.4133 165.2744,-120.7051 172.2415,-120.0276\"/>\n</g>\n<!-- b3&#45;&gt;end -->\n<g id=\"edge13\" class=\"edge\">\n<title>b3&#45;&gt;end</title>\n<path fill=\"none\" stroke=\"#000000\" d=\"M154.2004,-75.4352C148.0819,-66.8457 140.4499,-56.1316 133.4847,-46.3535\"/>\n<polygon fill=\"#000000\" stroke=\"#000000\" points=\"136.2428,-44.1928 127.5902,-38.0786 130.5414,-48.2541 136.2428,-44.1928\"/>\n</g>\n<!-- start -->\n<g id=\"node9\" class=\"node\">\n<title>start</title>\n<polygon fill=\"none\" stroke=\"#000000\" points=\"114,-401 77.4659,-383 114,-365 150.5341,-383 114,-401\"/>\n<polyline fill=\"none\" stroke=\"#000000\" points=\"88.2304,-388.3035 88.2304,-377.6965 \"/>\n<polyline fill=\"none\" stroke=\"#000000\" points=\"103.2356,-370.3035 124.7644,-370.3035 \"/>\n<polyline fill=\"none\" stroke=\"#000000\" points=\"139.7696,-377.6965 139.7696,-388.3035 \"/>\n<polyline fill=\"none\" stroke=\"#000000\" points=\"124.7644,-395.6965 103.2356,-395.6965 \"/>\n<text text-anchor=\"middle\" x=\"114\" y=\"-379.3\" font-family=\"Times,serif\" font-size=\"14.00\" fill=\"#000000\">start</text>\n</g>\n<!-- start&#45;&gt;a0 -->\n<g id=\"edge7\" class=\"edge\">\n<title>start&#45;&gt;a0</title>\n<path fill=\"none\" stroke=\"#000000\" d=\"M104.6458,-369.2438C97.7501,-359.1031 88.1785,-345.0272 79.95,-332.9265\"/>\n<polygon fill=\"#000000\" stroke=\"#000000\" points=\"82.7707,-330.8502 74.2533,-324.549 76.9822,-334.7864 82.7707,-330.8502\"/>\n</g>\n<!-- start&#45;&gt;b0 -->\n<g id=\"edge8\" class=\"edge\">\n<title>start&#45;&gt;b0</title>\n<path fill=\"none\" stroke=\"#000000\" d=\"M123.5376,-369.2438C130.5685,-359.1031 140.3278,-345.0272 148.7176,-332.9265\"/>\n<polygon fill=\"#000000\" stroke=\"#000000\" points=\"151.7045,-334.7612 154.526,-324.549 145.9519,-330.7728 151.7045,-334.7612\"/>\n</g>\n</g>\n</svg>\n"
          },
          "metadata": {
            "tags": []
          },
          "execution_count": 9
        }
      ]
    },
    {
      "cell_type": "code",
      "metadata": {
        "colab": {
          "base_uri": "https://localhost:8080/"
        },
        "id": "CVLupC_HajbC",
        "outputId": "930a963f-3348-4d5a-8f3d-f61ffad36357"
      },
      "source": [
        "%%file 4.dot\n",
        "graph nombrecito {\n",
        "    0 [label=\"batman\", shape=square, color=red]\n",
        "    0 -- 1\n",
        "}"
      ],
      "execution_count": 13,
      "outputs": [
        {
          "output_type": "stream",
          "text": [
            "Overwriting 4.dot\n"
          ],
          "name": "stdout"
        }
      ]
    },
    {
      "cell_type": "code",
      "metadata": {
        "colab": {
          "base_uri": "https://localhost:8080/",
          "height": 206
        },
        "id": "z06qCzdObcBB",
        "outputId": "e974c6ed-3f3d-4348-fcc8-fec928647c91"
      },
      "source": [
        "gv.Source.from_file(\"4.dot\")"
      ],
      "execution_count": 14,
      "outputs": [
        {
          "output_type": "execute_result",
          "data": {
            "text/plain": [
              "<graphviz.files.Source at 0x7fde3b6ee4a8>"
            ],
            "image/svg+xml": "<?xml version=\"1.0\" encoding=\"UTF-8\" standalone=\"no\"?>\n<!DOCTYPE svg PUBLIC \"-//W3C//DTD SVG 1.1//EN\"\n \"http://www.w3.org/Graphics/SVG/1.1/DTD/svg11.dtd\">\n<!-- Generated by graphviz version 2.40.1 (20161225.0304)\n -->\n<!-- Title: nombrecito Pages: 1 -->\n<svg width=\"67pt\" height=\"139pt\"\n viewBox=\"0.00 0.00 67.00 139.00\" xmlns=\"http://www.w3.org/2000/svg\" xmlns:xlink=\"http://www.w3.org/1999/xlink\">\n<g id=\"graph0\" class=\"graph\" transform=\"scale(1 1) rotate(0) translate(4 135)\">\n<title>nombrecito</title>\n<polygon fill=\"#ffffff\" stroke=\"transparent\" points=\"-4,4 -4,-135 63,-135 63,4 -4,4\"/>\n<!-- 0 -->\n<g id=\"node1\" class=\"node\">\n<title>0</title>\n<polygon fill=\"none\" stroke=\"#ff0000\" points=\"59,-131 0,-131 0,-72 59,-72 59,-131\"/>\n<text text-anchor=\"middle\" x=\"29.5\" y=\"-97.8\" font-family=\"Times,serif\" font-size=\"14.00\" fill=\"#000000\">batman</text>\n</g>\n<!-- 1 -->\n<g id=\"node2\" class=\"node\">\n<title>1</title>\n<ellipse fill=\"none\" stroke=\"#000000\" cx=\"29.5\" cy=\"-18\" rx=\"27\" ry=\"18\"/>\n<text text-anchor=\"middle\" x=\"29.5\" y=\"-14.3\" font-family=\"Times,serif\" font-size=\"14.00\" fill=\"#000000\">1</text>\n</g>\n<!-- 0&#45;&#45;1 -->\n<g id=\"edge1\" class=\"edge\">\n<title>0&#45;&#45;1</title>\n<path fill=\"none\" stroke=\"#000000\" d=\"M29.5,-71.8259C29.5,-60.0133 29.5,-46.7894 29.5,-36.4052\"/>\n</g>\n</g>\n</svg>\n"
          },
          "metadata": {
            "tags": []
          },
          "execution_count": 14
        }
      ]
    },
    {
      "cell_type": "code",
      "metadata": {
        "id": "rTYVEzudboPB"
      },
      "source": [
        ""
      ],
      "execution_count": null,
      "outputs": []
    }
  ]
}