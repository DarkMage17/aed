{
  "nbformat": 4,
  "nbformat_minor": 0,
  "metadata": {
    "colab": {
      "name": "aed 20202 111.ipynb",
      "provenance": [],
      "authorship_tag": "ABX9TyOCf53+JhzjmOaVOzgi6Idt",
      "include_colab_link": true
    },
    "kernelspec": {
      "name": "python3",
      "display_name": "Python 3"
    }
  },
  "cells": [
    {
      "cell_type": "markdown",
      "metadata": {
        "id": "view-in-github",
        "colab_type": "text"
      },
      "source": [
        "<a href=\"https://colab.research.google.com/github/pcsilcan/aed/blob/master/20202/aed_20202_111.ipynb\" target=\"_parent\"><img src=\"https://colab.research.google.com/assets/colab-badge.svg\" alt=\"Open In Colab\"/></a>"
      ]
    },
    {
      "cell_type": "markdown",
      "metadata": {
        "id": "mW225tkr4jbB"
      },
      "source": [
        "# Binary Tree\n",
        "\n",
        "## Representation as an array"
      ]
    },
    {
      "cell_type": "code",
      "metadata": {
        "id": "s1ZlR6CI4MzU",
        "outputId": "683a7de1-8652-416c-bbf0-fd1b6c2f662c",
        "colab": {
          "base_uri": "https://localhost:8080/",
          "height": 34
        }
      },
      "source": [
        "%%writefile arraytree.h\n",
        "#pragma once\n",
        "\n",
        "#include <vector>\n",
        "#include <functional>\n",
        "\n",
        "using namespace std;\n",
        "\n",
        "class ArrayTree {\n",
        "    vector<float> elements;\n",
        "    int len;\n",
        "\n",
        "public:\n",
        "    ArrayTree(int cap=100): elements(cap), len(0) {}\n",
        "\n",
        "    void add(float elem) {\n",
        "        elements[len++] = elem;\n",
        "    }\n",
        "    void inOrder(function<void(float)> process) {\n",
        "        inOrder(0, process);\n",
        "    }\n",
        "    void preOrder(function<void(float)> process) {\n",
        "        preOrder(0, process);\n",
        "    }\n",
        "    void postOrder(function<void(float)> process) {\n",
        "        postOrder(0, process);\n",
        "    }\n",
        "\n",
        "private:\n",
        "    int parent(int i)       { return (i - 1) / 2; }\n",
        "    int leftChild(int i)    { return 2*i + 1; }\n",
        "    int rightChild(int i)   { return 2*i + 2; }\n",
        "    \n",
        "    void inOrder(int i, function<void(float)> process) {\n",
        "        if (i < len) {\n",
        "            inOrder(leftChild(i), process);\n",
        "            process(elements[i]);\n",
        "            inOrder(rightChild(i), process);\n",
        "        }\n",
        "    }\n",
        "    void preOrder(int i, function<void(float)> process) {\n",
        "        if (i < len) {\n",
        "            process(elements[i]);\n",
        "            preOrder(leftChild(i), process);\n",
        "            preOrder(rightChild(i), process);\n",
        "        }\n",
        "    }\n",
        "    void postOrder(int i, function<void(float)> process) {\n",
        "        if (i < len) {\n",
        "            postOrder(leftChild(i), process);\n",
        "            postOrder(rightChild(i), process);\n",
        "            process(elements[i]);\n",
        "        }\n",
        "    }\n",
        "};\n"
      ],
      "execution_count": 5,
      "outputs": [
        {
          "output_type": "stream",
          "text": [
            "Overwriting arraytree.h\n"
          ],
          "name": "stdout"
        }
      ]
    },
    {
      "cell_type": "code",
      "metadata": {
        "id": "lyZ-N0bS8Dlz",
        "outputId": "706580d7-958b-4287-fe69-5043bc244a63",
        "colab": {
          "base_uri": "https://localhost:8080/",
          "height": 34
        }
      },
      "source": [
        "%%writefile 1.cpp\n",
        "#include <iostream>\n",
        "#include \"arraytree.h\"\n",
        "\n",
        "using namespace std;\n",
        "\n",
        "int main() {\n",
        "    ArrayTree* t = new ArrayTree();\n",
        "\n",
        "    for (int i = 1; i <= 20; ++i) {\n",
        "        t->add(i);\n",
        "    }\n",
        "\n",
        "    auto f = [](float a) { cout << a << \" \"; };\n",
        "\n",
        "    t->inOrder(f); cout << endl;\n",
        "    t->preOrder(f); cout << endl;\n",
        "    t->postOrder(f); cout << endl;\n",
        "\n",
        "    delete t;\n",
        "\n",
        "    return 0;\n",
        "}"
      ],
      "execution_count": 7,
      "outputs": [
        {
          "output_type": "stream",
          "text": [
            "Overwriting 1.cpp\n"
          ],
          "name": "stdout"
        }
      ]
    },
    {
      "cell_type": "code",
      "metadata": {
        "id": "Ac4Cq_ws8vs6",
        "outputId": "0939575b-3a14-4536-9616-a4d125cf6d14",
        "colab": {
          "base_uri": "https://localhost:8080/",
          "height": 69
        }
      },
      "source": [
        "!g++ -std=c++17 -O2 -Wall 1.cpp && ./a.out"
      ],
      "execution_count": 8,
      "outputs": [
        {
          "output_type": "stream",
          "text": [
            "16 8 17 4 18 9 19 2 20 10 5 11 1 12 6 13 3 14 7 15 \n",
            "1 2 4 8 16 17 9 18 19 5 10 20 11 3 6 12 13 7 14 15 \n",
            "16 17 8 18 19 9 4 20 10 11 5 2 12 13 6 14 15 7 3 1 \n"
          ],
          "name": "stdout"
        }
      ]
    },
    {
      "cell_type": "code",
      "metadata": {
        "id": "Gf7X4S9J82Pe"
      },
      "source": [
        ""
      ],
      "execution_count": null,
      "outputs": []
    }
  ]
}