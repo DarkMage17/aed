{
  "nbformat": 4,
  "nbformat_minor": 0,
  "metadata": {
    "colab": {
      "name": "aed 20202 103 binary search.ipynb",
      "provenance": [],
      "collapsed_sections": [],
      "authorship_tag": "ABX9TyP8NKRUw+YSOKuz5DibyXhG",
      "include_colab_link": true
    },
    "kernelspec": {
      "name": "python3",
      "display_name": "Python 3"
    }
  },
  "cells": [
    {
      "cell_type": "markdown",
      "metadata": {
        "id": "view-in-github",
        "colab_type": "text"
      },
      "source": [
        "<a href=\"https://colab.research.google.com/github/pcsilcan/aed/blob/master/20202/aed_20202_103_binary_search.ipynb\" target=\"_parent\"><img src=\"https://colab.research.google.com/assets/colab-badge.svg\" alt=\"Open In Colab\"/></a>"
      ]
    },
    {
      "cell_type": "code",
      "metadata": {
        "id": "Z1AUebqEsOU_",
        "outputId": "800158df-a500-45e9-ee47-3cfb8ddd26db",
        "colab": {
          "base_uri": "https://localhost:8080/",
          "height": 35
        }
      },
      "source": [
        "%%writefile 1.cpp\n",
        "#include <iostream>\n",
        "#include <vector>\n",
        "#include <chrono>\n",
        "#include <algorithm>\n",
        "#include <stdlib.h>\n",
        "#include <time.h>\n",
        "\n",
        "using namespace std;\n",
        "using namespace std::chrono;\n",
        "\n",
        "int simpleBinSearch(vector<int>& a, int x) {\n",
        "    int lo = 0;\n",
        "    int hi = a.size() - 1;\n",
        "    int mid;\n",
        "\n",
        "    while (lo <= hi) {\n",
        "        mid = (hi + lo) / 2;\n",
        "        if (a[mid] == x) {\n",
        "            return mid;\n",
        "        } else if (x < a[mid]) {\n",
        "            hi = mid - 1;\n",
        "        } else {\n",
        "            lo = mid + 1;\n",
        "        }\n",
        "    }\n",
        "\n",
        "    return -1;\n",
        "}\n",
        "\n",
        "int main() {\n",
        "    int n = 10000000;\n",
        "    vector<int> a(n);\n",
        "\n",
        "    srand(time(0));\n",
        "    for (int i = 0; i < n; ++i) {\n",
        "        a[i] = rand() % 1000000;\n",
        "    }\n",
        "\n",
        "    sort(a.begin(), a.end());\n",
        "\n",
        "    steady_clock::time_point begin, end;\n",
        "    int pos;\n",
        "\n",
        "    begin = steady_clock::now();\n",
        "    pos = simpleBinSearch(a, -1);\n",
        "    end = steady_clock::now();\n",
        "\n",
        "    cout << duration_cast<nanoseconds>(end - begin).count() / 1e3\n",
        "         << \" nanoseconds\" << endl;\n",
        "\n",
        "    begin = steady_clock::now();\n",
        "    for (auto val : a) {\n",
        "        if (-1 == val) {\n",
        "            break;\n",
        "        }\n",
        "    }\n",
        "    end = steady_clock::now();\n",
        "\n",
        "    cout << duration_cast<nanoseconds>(end - begin).count() / 1e3\n",
        "         << \" nanoseconds\" << endl;\n",
        "\n",
        "    return 0;\n",
        "}"
      ],
      "execution_count": null,
      "outputs": [
        {
          "output_type": "stream",
          "text": [
            "Overwriting 1.cpp\n"
          ],
          "name": "stdout"
        }
      ]
    },
    {
      "cell_type": "code",
      "metadata": {
        "id": "lTMrzANMuwK0",
        "outputId": "8a2eeed1-aedb-4066-eccf-cbaded0911eb",
        "colab": {
          "base_uri": "https://localhost:8080/",
          "height": 71
        }
      },
      "source": [
        "!g++ -std=c++17 1.cpp && ./a.out"
      ],
      "execution_count": 1,
      "outputs": [
        {
          "output_type": "stream",
          "text": [
            "\u001b[01m\u001b[Kg++:\u001b[m\u001b[K \u001b[01;31m\u001b[Kerror: \u001b[m\u001b[K1.cpp: No such file or directory\n",
            "\u001b[01m\u001b[Kg++:\u001b[m\u001b[K \u001b[01;31m\u001b[Kfatal error: \u001b[m\u001b[Kno input files\n",
            "compilation terminated.\n"
          ],
          "name": "stdout"
        }
      ]
    },
    {
      "cell_type": "code",
      "metadata": {
        "id": "xiU4dBD_u1Z6",
        "outputId": "15c73204-b904-43dd-c52b-58f315fd6dfd",
        "colab": {
          "base_uri": "https://localhost:8080/",
          "height": 35
        }
      },
      "source": [
        "%%writefile 1.cpp\n",
        "#include <algorithm>\n",
        "#include <functional>\n",
        "#include <iostream>\n",
        "#include <vector>\n",
        "#include <stdlib.h>\n",
        "#include <time.h>\n",
        "\n",
        "using namespace std;\n",
        "\n",
        "template <typename T, typename R=T>\n",
        "int simpleBinSearch(vector<T>& a, R x,\n",
        "                    function<R(T)> k=[](T a) { return a; }) {\n",
        "    int lo = 0;\n",
        "    int hi = a.size() - 1;\n",
        "    int mid;\n",
        "\n",
        "    while (lo <= hi) {\n",
        "        mid = (hi + lo) / 2;\n",
        "        if (k(a[mid]) == x) {\n",
        "            return mid;\n",
        "        } else if (x < k(a[mid])) {\n",
        "            hi = mid - 1;\n",
        "        } else {\n",
        "            lo = mid + 1;\n",
        "        }\n",
        "    }\n",
        "\n",
        "    return -1;\n",
        "}\n",
        "\n",
        "int main() {\n",
        "    int n = 100000;\n",
        "    vector<int> a(n);\n",
        "\n",
        "    srand(time(0));\n",
        "    for (int i = 0; i < n; ++i) {\n",
        "        a[i] = rand() % 1000000;\n",
        "    }\n",
        "\n",
        "    sort(a.begin(), a.end());\n",
        "\n",
        "    int pos = simpleBinSearch(a, 123456);\n",
        "\n",
        "    printf(\"%d\", pos);\n",
        "\n",
        "    return 0;\n",
        "}"
      ],
      "execution_count": 4,
      "outputs": [
        {
          "output_type": "stream",
          "text": [
            "Overwriting 1.cpp\n"
          ],
          "name": "stdout"
        }
      ]
    },
    {
      "cell_type": "code",
      "metadata": {
        "id": "QYQS4MXKh2R-",
        "outputId": "c188bd56-e6b1-4c48-b561-1f7d1b3fb4a3",
        "colab": {
          "base_uri": "https://localhost:8080/",
          "height": 35
        }
      },
      "source": [
        "!g++ -std=c++17 1.cpp && ./a.out"
      ],
      "execution_count": 5,
      "outputs": [
        {
          "output_type": "stream",
          "text": [
            "12250"
          ],
          "name": "stdout"
        }
      ]
    },
    {
      "cell_type": "code",
      "metadata": {
        "id": "jwRhNiAch_GL"
      },
      "source": [
        ""
      ],
      "execution_count": null,
      "outputs": []
    }
  ]
}