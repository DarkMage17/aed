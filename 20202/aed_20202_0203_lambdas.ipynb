{
  "nbformat": 4,
  "nbformat_minor": 0,
  "metadata": {
    "colab": {
      "name": "aed 20202 0203 lambdas.ipynb",
      "provenance": [],
      "authorship_tag": "ABX9TyN3LRK0R6UlFAt4zvEypcWt",
      "include_colab_link": true
    },
    "kernelspec": {
      "name": "python3",
      "display_name": "Python 3"
    }
  },
  "cells": [
    {
      "cell_type": "markdown",
      "metadata": {
        "id": "view-in-github",
        "colab_type": "text"
      },
      "source": [
        "<a href=\"https://colab.research.google.com/github/pcsilcan/aed/blob/master/20202/aed_20202_0203_lambdas.ipynb\" target=\"_parent\"><img src=\"https://colab.research.google.com/assets/colab-badge.svg\" alt=\"Open In Colab\"/></a>"
      ]
    },
    {
      "cell_type": "markdown",
      "metadata": {
        "id": "M30dhx_qVDBB",
        "colab_type": "text"
      },
      "source": [
        "# Lambdas!!"
      ]
    },
    {
      "cell_type": "code",
      "metadata": {
        "id": "XQ_uUTK2THV5",
        "colab_type": "code",
        "colab": {
          "base_uri": "https://localhost:8080/",
          "height": 34
        },
        "outputId": "6efca129-bb1b-48fb-f200-807b9c704f55"
      },
      "source": [
        "%%writefile lambda1.cpp\n",
        "#include <iostream>\n",
        "#include <functional>\n",
        "\n",
        "using namespace std;\n",
        "\n",
        "void operar(function<int(int, int)> operacion, int op1, int op2) {\n",
        "    cout << operacion(op1, op2) << endl;\n",
        "}\n",
        "\n",
        "int main() {\n",
        "    function<int(int, int)> sumar = [](int a, int b) {\n",
        "        return a + b;\n",
        "    };\n",
        "    function<void()> saludar = []() {\n",
        "        cout << \"Hola, Mundo!\\n\";\n",
        "    };\n",
        "    saludar();\n",
        "\n",
        "    cout << sumar(5, 6) << endl;\n",
        "\n",
        "    operar(sumar, 5, 6);\n",
        "    operar([](int x, int y) { return x * y; }, 10, 14);\n",
        "\n",
        "    int x = 10;\n",
        "    auto sumarConCaptura = [x](int y) {\n",
        "        return x + y;\n",
        "    };\n",
        "\n",
        "    cout << sumarConCaptura(20) << endl;\n",
        "\n",
        "    int y = 10;\n",
        "    auto sumarConCapturaPorRef = [&y](int z) {\n",
        "        y += z;\n",
        "    };\n",
        "\n",
        "    sumarConCapturaPorRef(5);\n",
        "    cout << y << endl;\n",
        "    sumarConCapturaPorRef(5);\n",
        "    cout << y << endl;\n",
        "    sumarConCapturaPorRef(5);\n",
        "    cout << y << endl;\n",
        "    sumarConCapturaPorRef(5);\n",
        "    cout << y << endl;\n",
        "\n",
        "    return 0;\n",
        "}"
      ],
      "execution_count": 15,
      "outputs": [
        {
          "output_type": "stream",
          "text": [
            "Overwriting lambda1.cpp\n"
          ],
          "name": "stdout"
        }
      ]
    },
    {
      "cell_type": "code",
      "metadata": {
        "id": "rWCbko9ETzcS",
        "colab_type": "code",
        "colab": {
          "base_uri": "https://localhost:8080/",
          "height": 168
        },
        "outputId": "fa569a69-8b48-4bcb-a8df-3e061ac4ada8"
      },
      "source": [
        "%%script bash\n",
        "g++ lambda1.cpp && ./a.out"
      ],
      "execution_count": 16,
      "outputs": [
        {
          "output_type": "stream",
          "text": [
            "Hola, Mundo!\n",
            "11\n",
            "11\n",
            "140\n",
            "30\n",
            "15\n",
            "20\n",
            "25\n",
            "30\n"
          ],
          "name": "stdout"
        }
      ]
    },
    {
      "cell_type": "code",
      "metadata": {
        "id": "lNqBZkHjT3CL",
        "colab_type": "code",
        "colab": {}
      },
      "source": [
        ""
      ],
      "execution_count": null,
      "outputs": []
    }
  ]
}