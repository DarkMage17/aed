{
  "nbformat": 4,
  "nbformat_minor": 0,
  "metadata": {
    "colab": {
      "name": "aed 20202 0500 pc1 question 1.ipynb",
      "provenance": [],
      "authorship_tag": "ABX9TyMW16+ktak/DmQpAdrE7gzf",
      "include_colab_link": true
    },
    "kernelspec": {
      "name": "python3",
      "display_name": "Python 3"
    }
  },
  "cells": [
    {
      "cell_type": "markdown",
      "metadata": {
        "id": "view-in-github",
        "colab_type": "text"
      },
      "source": [
        "<a href=\"https://colab.research.google.com/github/pcsilcan/aed/blob/master/20202/aed_20202_0500_pc1_question_1.ipynb\" target=\"_parent\"><img src=\"https://colab.research.google.com/assets/colab-badge.svg\" alt=\"Open In Colab\"/></a>"
      ]
    },
    {
      "cell_type": "code",
      "metadata": {
        "id": "6bhDCRwH_FZd",
        "colab_type": "code",
        "colab": {
          "base_uri": "https://localhost:8080/",
          "height": 34
        },
        "outputId": "1f6e3b45-6c9b-46a3-d35c-bb23d96e43a1"
      },
      "source": [
        "%%writefile p1.cpp\n",
        "#include <iostream>\n",
        "#include <fstream>\n",
        "#include <sstream>\n",
        "#include <vector>\n",
        "#include <functional>\n",
        "#include <math.h>\n",
        "\n",
        "using namespace std;\n",
        "\n",
        "template <typename T>\n",
        "class World {\n",
        "    vector<vector<T>> mat; // pregunta 1.1 (3 puntos)\n",
        "    int x;\n",
        "    int y;\n",
        "    int rows;\n",
        "    int cols;\n",
        "public:\n",
        "    World(int rows, int cols)\n",
        "        : mat(rows, vector<T>(cols, 0)), x(0), y(0), rows(rows), cols(cols) {}\n",
        "    void reset() {\n",
        "        x = 0;\n",
        "        y = 0;\n",
        "    }\n",
        "    int movevertical(function<int()> f) {\n",
        "        auto dist = f();\n",
        "        if (y + dist < 0) {\n",
        "            dist = -y;\n",
        "        } else if (y + dist >= rows) {\n",
        "            dist = rows - y - 1;\n",
        "        }\n",
        "        y += dist;\n",
        "        return abs(dist);\n",
        "    }\n",
        "    int movehorizontal(int dist, char dir) {\n",
        "        if (dir == 'l') {\n",
        "            dist *= -1;\n",
        "        }\n",
        "        if (x + dist < 0) {\n",
        "            dist = -x;\n",
        "        } else if (x + dist >= cols) {\n",
        "            dist = cols - x - 1;\n",
        "        }\n",
        "        x += dist;\n",
        "        return abs(dist);\n",
        "    }\n",
        "};\n",
        "\n",
        "int main() {\n",
        "    ifstream f(\"input.in\");\n",
        "    if (!f.is_open()) return -1;\n",
        "\n",
        "    int rows, cols;\n",
        "    string line, val, name;\n",
        "    char dir;\n",
        "    int dist, cont;\n",
        "\n",
        "    f >> rows >> cols;\n",
        "    World<int>* w = new World<int>(rows, cols);\n",
        "\n",
        "    while (getline(f, line)) {\n",
        "        stringstream ss(line);\n",
        "        ss >> name;\n",
        "        w->reset();\n",
        "        cont = 0;\n",
        "        while (ss >> val) {\n",
        "            dir = val[val.size() - 1];\n",
        "            val[val.size() - 1] = 0;\n",
        "            dist = stoi(val);\n",
        "            switch (dir) {\n",
        "                case 'r': cont += w->movehorizontal(dist, dir); break;\n",
        "                case 'l': cont += w->movehorizontal(dist, dir); break;\n",
        "                case 'u': cont += w->movevertical([dist](){return -dist;}); break;\n",
        "                case 'd': cont += w->movevertical([dist](){return dist;}); break;\n",
        "            }\n",
        "        }\n",
        "        if (name == \"\") continue;\n",
        "        cout << name << \": \" << cont << endl;\n",
        "    }\n",
        "\n",
        "    return 0;\n",
        "}"
      ],
      "execution_count": 44,
      "outputs": [
        {
          "output_type": "stream",
          "text": [
            "Overwriting p1.cpp\n"
          ],
          "name": "stdout"
        }
      ]
    },
    {
      "cell_type": "code",
      "metadata": {
        "id": "FY2t71t-_zcW",
        "colab_type": "code",
        "colab": {
          "base_uri": "https://localhost:8080/",
          "height": 34
        },
        "outputId": "7f274840-3862-4b28-e848-2f0f70261740"
      },
      "source": [
        "%%writefile input.in\n",
        "20 30\n",
        "A 10r 3l 2u 6d\n",
        "B 6r 6d\n",
        "C 10r 8u 12r"
      ],
      "execution_count": 1,
      "outputs": [
        {
          "output_type": "stream",
          "text": [
            "Writing input.in\n"
          ],
          "name": "stdout"
        }
      ]
    },
    {
      "cell_type": "code",
      "metadata": {
        "id": "37xLe6RW_9Fq",
        "colab_type": "code",
        "colab": {
          "base_uri": "https://localhost:8080/",
          "height": 67
        },
        "outputId": "d7f42b46-f479-4809-c1b5-ba465e02e55e"
      },
      "source": [
        "!g++ -std=c++14 p1.cpp && ./a.out"
      ],
      "execution_count": 45,
      "outputs": [
        {
          "output_type": "stream",
          "text": [
            "A: 19\n",
            "B: 12\n",
            "C: 22\n"
          ],
          "name": "stdout"
        }
      ]
    },
    {
      "cell_type": "code",
      "metadata": {
        "id": "S4-ZpvICAyo2",
        "colab_type": "code",
        "colab": {}
      },
      "source": [
        ""
      ],
      "execution_count": null,
      "outputs": []
    }
  ]
}