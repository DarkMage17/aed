{
  "nbformat": 4,
  "nbformat_minor": 0,
  "metadata": {
    "colab": {
      "name": "aed 20202 131 avl tree.ipynb",
      "provenance": [],
      "collapsed_sections": [],
      "authorship_tag": "ABX9TyP8QOQJOio9STTYGgitQ1ai",
      "include_colab_link": true
    },
    "kernelspec": {
      "name": "python3",
      "display_name": "Python 3"
    }
  },
  "cells": [
    {
      "cell_type": "markdown",
      "metadata": {
        "id": "view-in-github",
        "colab_type": "text"
      },
      "source": [
        "<a href=\"https://colab.research.google.com/github/pcsilcan/aed/blob/master/20202/aed_20202_131_avl_tree.ipynb\" target=\"_parent\"><img src=\"https://colab.research.google.com/assets/colab-badge.svg\" alt=\"Open In Colab\"/></a>"
      ]
    },
    {
      "cell_type": "markdown",
      "metadata": {
        "id": "rM9PTKapH1_x"
      },
      "source": [
        "# AVL Balanced Tree"
      ]
    },
    {
      "cell_type": "code",
      "metadata": {
        "id": "4ZpWZ25mHz9y",
        "outputId": "635560b2-ac2c-49bc-bbd8-ad205a79d1c2",
        "colab": {
          "base_uri": "https://localhost:8080/"
        }
      },
      "source": [
        "%%writefile avl.h\n",
        "#ifndef __AVL_H__\n",
        "#define __AVL_H__\n",
        "\n",
        "#include <functional>\n",
        "\n",
        "using std::function;\n",
        "\n",
        "template <typename T, typename R=T, T NONE=0>\n",
        "class Avl {\n",
        "    struct Node;\n",
        "\n",
        "    typedef function<R(T)>      lbdKey;\n",
        "    typedef function<void(T)>   lbdProc;\n",
        "\n",
        "    Node*   root;\n",
        "    int     len;\n",
        "    lbdKey  key;\n",
        "\n",
        "public:\n",
        "    Avl(lbdKey key=[](T a) {return a;}) : key(key), root(nullptr), len(0) {}\n",
        "    ~Avl() { destroy(root); }\n",
        "\n",
        "    int     height()                { return height(root); }\n",
        "    int     size()                  { return len; }\n",
        "    void    clear()                 { destroy(root); len = 0; }\n",
        "\n",
        "    void    add(T elem)             { add(root, elem); }\n",
        "    void    inOrder(lbdProc proc)   { inOrder(root, proc); }\n",
        "\n",
        "    void    remove(R attr);\n",
        "    T       find(R attr);\n",
        "\n",
        "private:\n",
        "    void    destroy(Node*& node);\n",
        "    int     height(Node* node);\n",
        "    void    add(Node*& node, T elem);\n",
        "    void    remove(Node*& node, R attr);\n",
        "    void    inOrder(Node* node, lbdProc proc);\n",
        "\n",
        "    Node*&  greater(Node*& node) {return dummynull;}\n",
        "    Node*&  find(Node*& node, R attr) {return dummynull;}\n",
        "\n",
        "    void    updateHeight(Node* node);\n",
        "    void    rotateLeft(Node*& node);\n",
        "    void    rotateRight(Node*& node);\n",
        "    void    balance(Node*& node);\n",
        "\n",
        "    Node* dummynull = nullptr;\n",
        "\n",
        "};\n",
        "\n",
        "#include \"node.cpp\"\n",
        "#include \"avl.cpp\"\n",
        "#include \"balance.cpp\"\n",
        "\n",
        "#endif"
      ],
      "execution_count": 52,
      "outputs": [
        {
          "output_type": "stream",
          "text": [
            "Overwriting avl.h\n"
          ],
          "name": "stdout"
        }
      ]
    },
    {
      "cell_type": "markdown",
      "metadata": {
        "id": "6IeIDFpur54j"
      },
      "source": [
        "## Implementación de la estructura o clase Node\n",
        "Ahora agregamos un atributo altura (height)"
      ]
    },
    {
      "cell_type": "code",
      "metadata": {
        "id": "Zgww7trhIZVp",
        "outputId": "da5d0f52-067c-4883-9e28-15e689f347ca",
        "colab": {
          "base_uri": "https://localhost:8080/"
        }
      },
      "source": [
        "%%writefile node.cpp\n",
        "#ifndef __NODE_CPP__\n",
        "#define __NODE_CPP__\n",
        "\n",
        "#include \"avl.h\"\n",
        "\n",
        "template <typename T, typename R, T NONE>\n",
        "struct Avl<T, R, NONE>::Node {\n",
        "    T       element;\n",
        "    Node*   left;\n",
        "    Node*   right;\n",
        "    int     height;\n",
        "\n",
        "    Node(T element): element(element),left(nullptr),right(nullptr),height(0) {}\n",
        "};\n",
        "\n",
        "#endif"
      ],
      "execution_count": 23,
      "outputs": [
        {
          "output_type": "stream",
          "text": [
            "Overwriting node.cpp\n"
          ],
          "name": "stdout"
        }
      ]
    },
    {
      "cell_type": "markdown",
      "metadata": {
        "id": "J49fLJBGsImZ"
      },
      "source": [
        "## Método básicos del árbol AVL\n",
        "Ahora con el método que retorna la altura del árbol"
      ]
    },
    {
      "cell_type": "code",
      "metadata": {
        "id": "rSHTt3dEM_E8",
        "outputId": "75b41ea7-1ba7-4352-9008-6894e58758bd",
        "colab": {
          "base_uri": "https://localhost:8080/"
        }
      },
      "source": [
        "%%writefile avl.cpp\n",
        "#ifndef __AVL_CPP__\n",
        "#define __AVL_CPP__\n",
        "\n",
        "#include \"avl.h\"\n",
        "\n",
        "template <typename T, typename R, T NONE>\n",
        "void    Avl<T, R, NONE>::destroy(Node*& node) {\n",
        "    if (node != nullptr) {\n",
        "        destroy(node->left);\n",
        "        destroy(node->right);\n",
        "        delete node;\n",
        "        node = nullptr;\n",
        "    }\n",
        "}\n",
        "\n",
        "template <typename T, typename R, T NONE>\n",
        "int     Avl<T, R, NONE>::height(Node* node) {\n",
        "    return node == nullptr? -1: node->height;\n",
        "}\n",
        "\n",
        "template <typename T, typename R, T NONE>\n",
        "void    Avl<T, R, NONE>::add(Node*& node, T elem) {\n",
        "    if (node == nullptr) {\n",
        "        node = new Node(elem);\n",
        "        ++len;\n",
        "    } else {\n",
        "        if (key(elem) < key(node->element)) {\n",
        "            add(node->left, elem);\n",
        "        } else {\n",
        "            add(node->right, elem);\n",
        "        }\n",
        "        balance(node); /* :O */\n",
        "    }\n",
        "}\n",
        "\n",
        "template <typename T, typename R, T NONE>\n",
        "void    Avl<T, R, NONE>::remove(R attr) {\n",
        "    // TODO do it yourself!\n",
        "}\n",
        "template <typename T, typename R, T NONE>\n",
        "void    Avl<T, R, NONE>::remove(Node*& node, R attr) {\n",
        "    // TODO do it yourself!\n",
        "}\n",
        "/*\n",
        "template <typename T, typename R, T NONE>\n",
        "Node*&  Avl<T, R, NONE>::greater(Node*& node) {\n",
        "    return node->right != nullptr? node : greater(node->right);\n",
        "}*/\n",
        "\n",
        "template <typename T, typename R, T NONE>\n",
        "void    Avl<T, R, NONE>::inOrder(Node* node, lbdProc proc) {\n",
        "    if (node != nullptr) {\n",
        "        inOrder(node->left, proc);\n",
        "        proc(node->element);\n",
        "        inOrder(node->right, proc);\n",
        "    }\n",
        "}\n",
        "\n",
        "template <typename T, typename R, T NONE>\n",
        "T       Avl<T, R, NONE>::find(R attr) {\n",
        "    Node*& node = find(root, attr);\n",
        "    return node == nullptr? NONE : node->element;\n",
        "}\n",
        "/*\n",
        "template <typename T, typename R, T NONE>\n",
        "Node*&  Avl<T, R, NONE>::find(Node*& node, R attr) {\n",
        "    if (node == nullptr) {\n",
        "        return dummynull;\n",
        "    } else if (val == key(node->element)) {\n",
        "        return node;\n",
        "    } else if (val < key(node->element)) {\n",
        "        return find(node->left, attr);\n",
        "    } else {\n",
        "        return find(node->right, attr);\n",
        "    }\n",
        "}*/\n",
        "\n",
        "#endif"
      ],
      "execution_count": 51,
      "outputs": [
        {
          "output_type": "stream",
          "text": [
            "Overwriting avl.cpp\n"
          ],
          "name": "stdout"
        }
      ]
    },
    {
      "cell_type": "markdown",
      "metadata": {
        "id": "SPpNyhumtEF0"
      },
      "source": [
        "## Médotos privados para el balanceo"
      ]
    },
    {
      "cell_type": "code",
      "metadata": {
        "id": "LizW76cMQc0q",
        "outputId": "81aae3cf-7566-4739-e3db-1ca30046f1d1",
        "colab": {
          "base_uri": "https://localhost:8080/"
        }
      },
      "source": [
        "%%writefile balance.cpp\n",
        "#ifndef __BALANCE_CPP__\n",
        "#define __BALANCE_CPP__\n",
        "\n",
        "#include \"avl.h\"\n",
        "\n",
        "#define max(a, b) (((a) > (b))? (a) : (b))\n",
        "\n",
        "template <typename T, typename R, T NONE>\n",
        "void    Avl<T, R, NONE>::updateHeight(Node* node) {\n",
        "    if (node != nullptr) {\n",
        "        node->height = max(height(node->left), height(node->right)) + 1;\n",
        "    }\n",
        "}\n",
        "\n",
        "template <typename T, typename R, T NONE>\n",
        "void Avl<T, R, NONE>::rotateLeft(Node*& node) { // X = node, Y = node->right\n",
        "    Node* aux = node->right;\n",
        "    node->right = aux->left;\n",
        "    updateHeight(node);\n",
        "    aux->left = node;\n",
        "    updateHeight(aux);\n",
        "    node = aux;\n",
        "}\n",
        "\n",
        "template <typename T, typename R, T NONE>\n",
        "void Avl<T, R, NONE>::rotateRight(Node*& node) { // Y = node, X = node->left\n",
        "    Node* aux = node->left;\n",
        "    node->left = aux->right;\n",
        "    updateHeight(node);\n",
        "    aux->right = node;\n",
        "    updateHeight(aux);\n",
        "    node = aux;\n",
        "}\n",
        "\n",
        "template <typename T, typename R, T NONE>\n",
        "void    Avl<T, R, NONE>::balance(Node*& node) {\n",
        "    int hl = height(node->left);\n",
        "    int hr = height(node->right);\n",
        "\n",
        "    if (hr - hl < -1) {\n",
        "        hl = height(node->left->left);\n",
        "        hr = height(node->left->right);\n",
        "        if (hr > hl) {\n",
        "            rotateLeft(node->left);\n",
        "        }\n",
        "        rotateRight(node);\n",
        "    } else if (hr - hl > 1) {\n",
        "        hl = height(node->right->left);\n",
        "        hr = height(node->right->right);\n",
        "        if (hl > hr) {\n",
        "            rotateRight(node->right);\n",
        "        }\n",
        "        rotateLeft(node);\n",
        "    } else {\n",
        "        updateHeight(node);\n",
        "    }\n",
        "}\n",
        "\n",
        "#endif"
      ],
      "execution_count": 36,
      "outputs": [
        {
          "output_type": "stream",
          "text": [
            "Overwriting balance.cpp\n"
          ],
          "name": "stdout"
        }
      ]
    },
    {
      "cell_type": "code",
      "metadata": {
        "id": "i8d4tkD5tcmT",
        "outputId": "6f9ee4ec-79ff-4fb3-ab4b-cea2950f5346",
        "colab": {
          "base_uri": "https://localhost:8080/"
        }
      },
      "source": [
        "%%writefile avlTest.cpp\n",
        "#include <iostream>\n",
        "#include <string>\n",
        "#include \"avl.h\"\n",
        "\n",
        "using namespace std;\n",
        "\n",
        "int main() {\n",
        "    typedef Avl<float*, float, nullptr> avlptrss;\n",
        "    avlptrss* avl = new avlptrss([](float* a) { return *a; });\n",
        "\n",
        "    for (int i = 0; i < (int)1e4; ++i) {\n",
        "        float* x = new float();\n",
        "        *x = i * 1.;\n",
        "        avl->add(x);\n",
        "    }\n",
        "\n",
        "    cout << avl->height() << endl;\n",
        "\n",
        "    delete avl;\n",
        "\n",
        "    return 0;\n",
        "}"
      ],
      "execution_count": 26,
      "outputs": [
        {
          "output_type": "stream",
          "text": [
            "Overwriting avlTest.cpp\n"
          ],
          "name": "stdout"
        }
      ]
    },
    {
      "cell_type": "code",
      "metadata": {
        "id": "UcDfw88rtjf2",
        "outputId": "839509e2-ced8-468f-a5ac-55d409b0389a",
        "colab": {
          "base_uri": "https://localhost:8080/"
        }
      },
      "source": [
        "!g++ -std=c++17 avlTest.cpp && ./a.out"
      ],
      "execution_count": 38,
      "outputs": [
        {
          "output_type": "stream",
          "text": [
            "13\n"
          ],
          "name": "stdout"
        }
      ]
    },
    {
      "cell_type": "code",
      "metadata": {
        "id": "YRG5fIFIuXrR",
        "outputId": "38d38df9-213f-455a-9687-5158a45b9561",
        "colab": {
          "base_uri": "https://localhost:8080/"
        }
      },
      "source": [
        "%%writefile avlTest2.cpp\n",
        "#include <iostream>\n",
        "#include <sstream>\n",
        "#include <string>\n",
        "#include \"avl.h\"\n",
        "\n",
        "using namespace std;\n",
        "\n",
        "int main() {\n",
        "    typedef Avl<string*, string, nullptr> avlptrss;\n",
        "    avlptrss* avl = new avlptrss([](string* a) { return *a; });\n",
        "\n",
        "    for (int i = 0; i < (int)1e6; ++i) {\n",
        "        stringstream ss;\n",
        "        ss << (i+1)*10.1;\n",
        "        avl->add(new string(ss.str()));\n",
        "    }\n",
        "\n",
        "    cout << avl->height() << endl;\n",
        "\n",
        "    delete avl;\n",
        "\n",
        "    return 0;\n",
        "}"
      ],
      "execution_count": 19,
      "outputs": [
        {
          "output_type": "stream",
          "text": [
            "Overwriting avlTest2.cpp\n"
          ],
          "name": "stdout"
        }
      ]
    },
    {
      "cell_type": "code",
      "metadata": {
        "id": "ZvIR-xUJkk3Q",
        "outputId": "ab8ae383-39b0-48ff-dd2e-cc524e2cf5d9",
        "colab": {
          "base_uri": "https://localhost:8080/"
        }
      },
      "source": [
        "!g++ -std=c++17 avlTest2.cpp && ./a.out"
      ],
      "execution_count": 50,
      "outputs": [
        {
          "output_type": "stream",
          "text": [
            "In file included from \u001b[01m\u001b[Kavl.h:53:0\u001b[m\u001b[K,\n",
            "                 from \u001b[01m\u001b[KavlTest2.cpp:4\u001b[m\u001b[K:\n",
            "\u001b[01m\u001b[Kavl.cpp:46:1:\u001b[m\u001b[K \u001b[01;31m\u001b[Kerror: \u001b[m\u001b[K‘\u001b[01m\u001b[KNode\u001b[m\u001b[K’ does not name a type\n",
            " \u001b[01;31m\u001b[KNode\u001b[m\u001b[K*&  Avl<T, R, NONE>::greater(Node*& node) {\n",
            " \u001b[01;31m\u001b[K^~~~\u001b[m\u001b[K\n"
          ],
          "name": "stdout"
        }
      ]
    },
    {
      "cell_type": "code",
      "metadata": {
        "id": "1zEYXt5gko_-",
        "outputId": "e3fff6b3-d418-4e9e-f822-94323f601257",
        "colab": {
          "base_uri": "https://localhost:8080/"
        }
      },
      "source": [
        "%%writefile persona.h\n",
        "#ifndef __PERSONA_H__\n",
        "#define __PERSONA_H__\n",
        "\n",
        "#include <string>\n",
        "\n",
        "using std::string;\n",
        "\n",
        "class Persona {\n",
        "    string  dni;\n",
        "    string  apaterno;\n",
        "    string  amaterno;\n",
        "    string  nombres;\n",
        "    string  fecnac;\n",
        "    float   estatura;\n",
        "public:\n",
        "    Persona(string  dni=\"\",\n",
        "            string  apaterno=\"\",\n",
        "            string  amaterno=\"\",\n",
        "            string  nombres=\"\",\n",
        "            string  fecnac=\"\",\n",
        "            float   estatura=.0f) : dni(dni),\n",
        "                                    apaterno(apaterno),\n",
        "                                    amaterno(amaterno),\n",
        "                                    nombres(nombres),\n",
        "                                    fecnac(fecnac),\n",
        "                                    estatura(estatura) {}\n",
        "               \n",
        "    string  getDni()        { return dni; }\n",
        "    string  getApaterno()   { return apaterno; }\n",
        "    string  getAmaterno()   { return amaterno; }\n",
        "    string  getNombres()    { return nombres; }\n",
        "    string  getFecnac()     { return fecnac; }\n",
        "    float   getEstatura()   { return estatura; }\n",
        "    \n",
        "    void    setDni(string dni)              { this->dni         =  dni; }\n",
        "    void    setApaterno(string apaterno)    { this->apaterno    =  apaterno; }\n",
        "    void    setAmaterno(string amaterno)    { this->amaterno    =  amaterno; }\n",
        "    void    setNombres(string nombres)      { this->nombres     =  nombres; }\n",
        "    void    setFecnac(string fecnac)        { this->fecnac      =  fecnac; }\n",
        "    void    setEstatura(float estatura)     { this->estatura    =  estatura; }\n",
        "};\n",
        "\n",
        "#endif"
      ],
      "execution_count": 39,
      "outputs": [
        {
          "output_type": "stream",
          "text": [
            "Writing persona.h\n"
          ],
          "name": "stdout"
        }
      ]
    },
    {
      "cell_type": "code",
      "metadata": {
        "id": "45bq_8mRnhmd",
        "outputId": "12d66542-3593-4d08-ca6d-c0b8094ff7a6",
        "colab": {
          "base_uri": "https://localhost:8080/"
        }
      },
      "source": [
        "%%writefile avlTest3.cpp\n",
        "#include <iostream>\n",
        "#include <iomanip>\n",
        "#include <fstream>\n",
        "#include <string>\n",
        "#include <sstream>\n",
        "#include <vector>\n",
        "#include <stdlib.h>\n",
        "#include \"persona.h\"\n",
        "#include \"avl.h\"\n",
        "\n",
        "using namespace std;\n",
        "\n",
        "void loadData(vector<string>& vec, string filename) {\n",
        "    ifstream file(filename);\n",
        "    string str;\n",
        "    while (file >> str) {\n",
        "        vec.push_back(str);\n",
        "    }\n",
        "    file.close();\n",
        "}\n",
        "\n",
        "Persona* randPersona(vector<string>& names, vector<string>& lastnames, int i) {\n",
        "    stringstream ssdni, ssfec;\n",
        "    ssdni << setfill('0') << setw(8) << i;\n",
        "    ssfec << (1920 + rand() % 90) << \"-\"\n",
        "          << setfill('0') << setw(2) << (1 + rand() % 12) << \"-\"\n",
        "          << setfill('0') << setw(2) << (1 + rand() % 28);\n",
        "    return new Persona(ssdni.str(),\n",
        "                       lastnames[rand() % lastnames.size()],\n",
        "                       lastnames[rand() % lastnames.size()],\n",
        "                       names[rand() % names.size()],\n",
        "                       ssfec.str(),\n",
        "                       (90 + rand() % 160) / 100.);\n",
        "}\n",
        "\n",
        "ostream& operator<<(ostream& os, Persona* p) {\n",
        "    os << std::setw(8)  << p->getDni()\n",
        "       << std::setw(15) << p->getApaterno()\n",
        "       << std::setw(15) << p->getAmaterno()\n",
        "       << std::setw(15) << p->getNombres()\n",
        "       << std::setw(12) << p->getFecnac()\n",
        "       << std::setw(5)  << p->getEstatura();\n",
        "    return os;\n",
        "}\n",
        "\n",
        "int main() {\n",
        "    vector<string> names, lastnames;\n",
        "    loadData(names, \"names.txt\");\n",
        "    loadData(lastnames, \"lastnames.txt\");\n",
        "\n",
        "    typedef Avl<Persona*, string, nullptr> avlps;\n",
        "    typedef Avl<Persona*, float, nullptr>  avlpf;\n",
        "\n",
        "    avlps* avlNom = new avlps([](Persona* a) { return a->getNombres(); });\n",
        "    avlps* avlApa = new avlps([](Persona* a) { return a->getApaterno(); });\n",
        "    avlpf* avlEst = new avlpf([](Persona* a) { return a->getEstatura(); });\n",
        "\n",
        "    Persona* persona;\n",
        "\n",
        "    srand(1981);\n",
        "    for (int i = 0; i < 1000000; ++i) {\n",
        "        persona = randPersona(names, lastnames, i+1);\n",
        "        avlNom->add(persona);\n",
        "        avlApa->add(persona);\n",
        "        avlEst->add(persona);\n",
        "    }\n",
        "\n",
        "    cout << \"Personas generadas e indexadas correctamente\\n\";\n",
        "\n",
        "    cout << \"Altura del índice por nombre: \" << avlNom->height() << endl;\n",
        "    cout << \"Altura del índice por apellido: \" << avlApa->height() << endl;\n",
        "    cout << \"Altura del índice por estatura: \" << avlEst->height() << endl;\n",
        "\n",
        "    /* persona = avlNom->find(\"Harry\");\n",
        "    if (persona != nullptr) cout << persona << endl; else cout << \":(\\n\"; \n",
        "    persona = avlNom->find(\"Zayan\");\n",
        "    if (persona != nullptr) cout << persona << endl; else cout << \":(\\n\"; \n",
        "\n",
        "    persona = avlApa->find(\"Rice\");\n",
        "    if (persona != nullptr) cout << persona << endl; else cout << \":(\\n\";\n",
        "    persona = avlApa->find(\"Smith\");\n",
        "    if (persona != nullptr) cout << persona << endl; else cout << \":(\\n\";\n",
        "    persona = avlApa->find(\"Perez\");\n",
        "    if (persona != nullptr) cout << persona << endl; else cout << \":(\\n\";\n",
        "\n",
        "    persona = avlEst->find(1.55);\n",
        "    if (persona != nullptr) cout << persona << endl; else cout << \":(\\n\";\n",
        "    persona = avlEst->find(1.99);\n",
        "    if (persona != nullptr) cout << persona << endl; else cout << \":(\\n\"; */\n",
        "\n",
        "    avlNom->inOrder([](Persona* a) { delete a; });\n",
        "    avlApa->inOrder([](Persona* a) { delete a; });\n",
        "    avlEst->inOrder([](Persona* a) { delete a; });\n",
        "\n",
        "    delete avlNom;\n",
        "    delete avlApa;\n",
        "    delete avlEst;\n",
        "\n",
        "    return 0;\n",
        "}"
      ],
      "execution_count": 45,
      "outputs": [
        {
          "output_type": "stream",
          "text": [
            "Overwriting avlTest3.cpp\n"
          ],
          "name": "stdout"
        }
      ]
    },
    {
      "cell_type": "code",
      "metadata": {
        "id": "uFzqbSNfo7m-",
        "outputId": "560c963c-d509-46e7-8277-4127365b47b9",
        "colab": {
          "base_uri": "https://localhost:8080/"
        }
      },
      "source": [
        "!g++ -std=c++17 -O2 avlTest3.cpp -o miprograma.exe &&  ./miprograma.exe"
      ],
      "execution_count": 47,
      "outputs": [
        {
          "output_type": "stream",
          "text": [
            "Personas generadas e indexadas correctamente\n",
            "Altura del índice por nombre: 21\n",
            "Altura del índice por apellido: 21\n",
            "Altura del índice por estatura: 21\n"
          ],
          "name": "stdout"
        }
      ]
    },
    {
      "cell_type": "code",
      "metadata": {
        "id": "BxKuu1KHntCj",
        "outputId": "fdf6e2f5-1e10-4b72-9b44-514c7b532630",
        "colab": {
          "base_uri": "https://localhost:8080/"
        }
      },
      "source": [
        "%%writefile names.txt\n",
        "Eshaal\n",
        "Lilian\n",
        "Muskaan\n",
        "Jiya\n",
        "Mahi\n",
        "Naseem\n",
        "Afsana\n",
        "Jodi\n",
        "Lynsey\n",
        "Menachem\n",
        "Jamelia\n",
        "Harry\n",
        "Affan\n",
        "Micah\n",
        "Evie Wilson\n",
        "Miles\n",
        "Sonny\n",
        "Kingsley\n",
        "Ayah\n",
        "Gemma\n",
        "Natalya\n",
        "Beverly\n",
        "Lucie\n",
        "Cyrus\n",
        "Rickie\n",
        "Carys\n",
        "Holli\n",
        "Shakil\n",
        "Callie\n",
        "Harper\n",
        "Tj\n",
        "Joy\n",
        "Hayleigh\n",
        "Steffan\n",
        "Mina\n",
        "Melvin\n",
        "Mylo\n",
        "Seb\n",
        "Emily\n",
        "Jed\n",
        "Kiaan\n",
        "Leanna\n",
        "Martha\n",
        "Aliya\n",
        "Jarvis\n",
        "Jorja\n",
        "Rahima\n",
        "Pearce\n",
        "Jill\n",
        "Taine\n",
        "Ottilie\n",
        "Jimmie\n",
        "Sila\n",
        "Tamanna\n",
        "Briana\n",
        "Kaylan\n",
        "Wendy\n",
        "Atlanta\n",
        "Jaidan\n",
        "Alima\n",
        "Bjorn\n",
        "Darrell\n",
        "Rhodri\n",
        "Henrietta\n",
        "Homer\n",
        "Meg\n",
        "Zayan\n",
        "Ocean\n",
        "Wanda\n",
        "Aleisha\n",
        "Inayah\n",
        "Neel\n",
        "Lubna\n",
        "Caiden\n",
        "Mahira\n",
        "Muhamed\n",
        "Shamima\n",
        "Arnas\n",
        "Makenzie\n",
        "Antonina\n",
        "Sheldon\n",
        "Zayaan\n",
        "Nora\n",
        "Braydon\n",
        "Leela\n",
        "Maddie\n",
        "Kenny\n",
        "Ralphy\n",
        "Nicole\n",
        "Matteo\n",
        "Julian\n",
        "Garry\n",
        "Kaitlyn\n",
        "Hayden\n",
        "Teigan\n",
        "Kenzo\n",
        "Yusra\n",
        "Taran\n",
        "Ravi\n",
        "Jude"
      ],
      "execution_count": 41,
      "outputs": [
        {
          "output_type": "stream",
          "text": [
            "Writing names.txt\n"
          ],
          "name": "stdout"
        }
      ]
    },
    {
      "cell_type": "code",
      "metadata": {
        "id": "v0dSCujknygk",
        "outputId": "b4e599e5-59be-4d58-f193-d98e37ac2de6",
        "colab": {
          "base_uri": "https://localhost:8080/"
        }
      },
      "source": [
        "%%writefile lastnames.txt\n",
        "Whiteley\n",
        "Frost\n",
        "Handley\n",
        "Robertson\n",
        "Stanton\n",
        "West\n",
        "Kramer\n",
        "Hardy\n",
        "Holder\n",
        "Duke\n",
        "Lyons\n",
        "Mitchell\n",
        "Pennington\n",
        "Thatcher\n",
        "May\n",
        "Hardin\n",
        "Sullivan\n",
        "Greenaway\n",
        "Clifford\n",
        "Sandoval\n",
        "Barrow\n",
        "Mercer\n",
        "Clayton\n",
        "Maguire\n",
        "Rasmussen\n",
        "Ashton\n",
        "Bone\n",
        "Bowers\n",
        "Lindsay\n",
        "Owens\n",
        "Knight\n",
        "Booker\n",
        "Lowry\n",
        "Strong\n",
        "Wardle\n",
        "Nava\n",
        "Oconnor\n",
        "Ross\n",
        "Smith\n",
        "Shea\n",
        "Pearson\n",
        "Dudley\n",
        "Everett\n",
        "Ruiz\n",
        "Feeney\n",
        "Rooney\n",
        "Flowers\n",
        "Farmer\n",
        "Kirby\n",
        "Ball\n",
        "Woods\n",
        "Ballard\n",
        "Michael\n",
        "Begum\n",
        "Ritter\n",
        "Le\n",
        "Carson\n",
        "Raymond\n",
        "Bean\n",
        "Barnes\n",
        "Branch\n",
        "Rice\n",
        "Churchill\n",
        "Aldred\n",
        "Fuller\n",
        "Salt\n",
        "Hickman\n",
        "Mohammed\n",
        "Easton\n",
        "Munro\n",
        "Millar\n",
        "Mckay\n",
        "Arias\n",
        "Melton\n",
        "Butt\n",
        "Hogan\n",
        "Gregory\n",
        "Houston\n",
        "Sykes\n",
        "Parks\n",
        "Shannon\n",
        "Sanderson\n",
        "Hobbs\n",
        "Cain\n",
        "Keeling\n",
        "Neville\n",
        "Rigby\n",
        "Dougherty\n",
        "Valenzuela\n",
        "Mcfadden\n",
        "Whitmore\n",
        "North\n",
        "Reyes\n",
        "Byers\n",
        "Skinner\n",
        "Lloyd\n",
        "Battle\n",
        "Norton\n",
        "Phelps\n",
        "Houghton"
      ],
      "execution_count": 40,
      "outputs": [
        {
          "output_type": "stream",
          "text": [
            "Writing lastnames.txt\n"
          ],
          "name": "stdout"
        }
      ]
    },
    {
      "cell_type": "code",
      "metadata": {
        "id": "JRIcF9HynzL3"
      },
      "source": [
        ""
      ],
      "execution_count": null,
      "outputs": []
    }
  ]
}