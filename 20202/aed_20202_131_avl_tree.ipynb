{
  "nbformat": 4,
  "nbformat_minor": 0,
  "metadata": {
    "colab": {
      "name": "aed 20202 131 avl tree.ipynb",
      "provenance": [],
      "collapsed_sections": [],
      "authorship_tag": "ABX9TyNudiGxuzmOxzfGc/yxmdNj",
      "include_colab_link": true
    },
    "kernelspec": {
      "name": "python3",
      "display_name": "Python 3"
    }
  },
  "cells": [
    {
      "cell_type": "markdown",
      "metadata": {
        "id": "view-in-github",
        "colab_type": "text"
      },
      "source": [
        "<a href=\"https://colab.research.google.com/github/pcsilcan/aed/blob/master/20202/aed_20202_131_avl_tree.ipynb\" target=\"_parent\"><img src=\"https://colab.research.google.com/assets/colab-badge.svg\" alt=\"Open In Colab\"/></a>"
      ]
    },
    {
      "cell_type": "markdown",
      "metadata": {
        "id": "rM9PTKapH1_x"
      },
      "source": [
        "# AVL Balanced Tree"
      ]
    },
    {
      "cell_type": "code",
      "metadata": {
        "id": "4ZpWZ25mHz9y",
        "outputId": "cba56e08-269b-4895-a38a-1c56710c1279",
        "colab": {
          "base_uri": "https://localhost:8080/"
        }
      },
      "source": [
        "%%writefile avl.h\n",
        "#ifndef __AVL_H__\n",
        "#define __AVL_H__\n",
        "\n",
        "#include <functional>\n",
        "\n",
        "using std::function;\n",
        "\n",
        "template <typename T, typename R=T, T NONE=0>\n",
        "class Avl {\n",
        "    struct Node;\n",
        "\n",
        "    typedef function<R(T)>      lbdKey;\n",
        "    typedef function<void(T)>   lbdProc;\n",
        "\n",
        "    Node*   root;\n",
        "    int     len;\n",
        "    lbdKey  key;\n",
        "\n",
        "public:\n",
        "    Avl(lbdKey key=[](T a) {return a;}) : key(key), root(nullptr), len(0) {}\n",
        "    ~Avl() { destroy(root); }\n",
        "\n",
        "    int     height()                { return height(root); }\n",
        "    int     size()                  { return len; }\n",
        "    void    clear()                 { destroy(root); len = 0; }\n",
        "\n",
        "    void    add(T elem)             { add(root, elem); }\n",
        "    void    inOrder(lbdProc proc)   { inOrder(root, proc); }\n",
        "\n",
        "    void    remove(R attr);\n",
        "    T       find(R attr);\n",
        "\n",
        "private:\n",
        "    void    destroy(Node*& node);\n",
        "    int     height(Node* node);\n",
        "    void    add(Node*& node, T elem);\n",
        "    void    inOrder(Node* node, lbdProc proc);\n",
        "\n",
        "    Node*&  greater(Node*& node);\n",
        "    Node*&  find(Node*& node, R attr);\n",
        "\n",
        "    void    updateHeight(Node* node);\n",
        "    void    rotateLeft(Node*& node);\n",
        "    void    rotateRight(Node*& node);\n",
        "    void    balance(Node*& node);\n",
        "\n",
        "    Node* dummynull = nullptr;\n",
        "\n",
        "};\n",
        "\n",
        "#include \"node.cpp\"\n",
        "#include \"avl.cpp\"\n",
        "#include \"balance.cpp\"\n",
        "\n",
        "#endif"
      ],
      "execution_count": 1,
      "outputs": [
        {
          "output_type": "stream",
          "text": [
            "Overwriting avl.h\n"
          ],
          "name": "stdout"
        }
      ]
    },
    {
      "cell_type": "markdown",
      "metadata": {
        "id": "6IeIDFpur54j"
      },
      "source": [
        "## Implementación de la estructura o clase Node\n",
        "Ahora agregamos un atributo altura (height)"
      ]
    },
    {
      "cell_type": "code",
      "metadata": {
        "id": "Zgww7trhIZVp",
        "outputId": "0a452630-d55a-4d9d-a430-6cf3d0fc054d",
        "colab": {
          "base_uri": "https://localhost:8080/"
        }
      },
      "source": [
        "%%writefile node.cpp\n",
        "#ifndef __NODE_CPP__\n",
        "#define __NODE_CPP__\n",
        "\n",
        "#include \"avl.h\"\n",
        "\n",
        "template <typename T, typename R, T NONE>\n",
        "struct Avl<T, R, NONE>::Node {\n",
        "    T       element;\n",
        "    Node*   left;\n",
        "    Node*   right;\n",
        "    int     height;\n",
        "\n",
        "    Node(T element): element(element),left(nullptr),right(nullptr),height(0) {}\n",
        "};\n",
        "\n",
        "#endif"
      ],
      "execution_count": 2,
      "outputs": [
        {
          "output_type": "stream",
          "text": [
            "Overwriting node.cpp\n"
          ],
          "name": "stdout"
        }
      ]
    },
    {
      "cell_type": "markdown",
      "metadata": {
        "id": "J49fLJBGsImZ"
      },
      "source": [
        "## Método básicos del árbol AVL\n",
        "Ahora con el método que retorna la altura del árbol"
      ]
    },
    {
      "cell_type": "code",
      "metadata": {
        "id": "rSHTt3dEM_E8",
        "outputId": "f5d0957b-7dd9-44f9-9509-1a3937c208cc",
        "colab": {
          "base_uri": "https://localhost:8080/"
        }
      },
      "source": [
        "%%writefile avl.cpp\n",
        "#ifndef __AVL_CPP__\n",
        "#define __AVL_CPP__\n",
        "\n",
        "#include \"avl.h\"\n",
        "\n",
        "template <typename T, typename R, T NONE>\n",
        "void    Avl<T, R, NONE>::destroy(Node*& node) {\n",
        "    if (node != nullptr) {\n",
        "        destroy(node->left);\n",
        "        destroy(node->right);\n",
        "        delete node;\n",
        "        node = nullptr;\n",
        "    }\n",
        "}\n",
        "\n",
        "template <typename T, typename R, T NONE>\n",
        "int     Avl<T, R, NONE>::height(Node* node) {\n",
        "    return node == nullptr? -1: node->height;\n",
        "}\n",
        "\n",
        "template <typename T, typename R, T NONE>\n",
        "void    Avl<T, R, NONE>::add(Node*& node, T elem) {\n",
        "    if (node == nullptr) {\n",
        "        node = new Node(elem);\n",
        "        ++len;\n",
        "    } else {\n",
        "        if (key(elem) < key(node->element)) {\n",
        "            add(node->left, elem);\n",
        "        } else {\n",
        "            add(node->right, elem);\n",
        "        }\n",
        "        balance(node); /* :O */\n",
        "    }\n",
        "}\n",
        "\n",
        "template <typename T, typename R, T NONE>\n",
        "void    Avl<T, R, NONE>::remove(R attr) {\n",
        "    // TODO FALTA BALANCEAR!!\n",
        "}\n",
        "\n",
        "template <typename T, typename R, T NONE>\n",
        "struct Avl<T, R, NONE>::Node*&  Avl<T, R, NONE>::greater(Node*& node) {\n",
        "    return node->right != nullptr? node : greater(node->right);\n",
        "}\n",
        "\n",
        "template <typename T, typename R, T NONE>\n",
        "void    Avl<T, R, NONE>::inOrder(Node* node, lbdProc proc) {\n",
        "    if (node != nullptr) {\n",
        "        inOrder(node->left, proc);\n",
        "        proc(node->element);\n",
        "        inOrder(node->right, proc);\n",
        "    }\n",
        "}\n",
        "\n",
        "template <typename T, typename R, T NONE>\n",
        "T       Avl<T, R, NONE>::find(R attr) {\n",
        "    Node*& node = find(root, attr);\n",
        "    return node == nullptr? NONE : node->element;\n",
        "}\n",
        "\n",
        "template <typename T, typename R, T NONE>\n",
        "struct Avl<T, R, NONE>::Node*&  Avl<T, R, NONE>::find(Node*& node, R attr) {\n",
        "    if (node == nullptr) {\n",
        "        return dummynull;\n",
        "    } else if (attr == key(node->element)) {\n",
        "        return node;\n",
        "    } else if (attr < key(node->element)) {\n",
        "        return find(node->left, attr);\n",
        "    } else {\n",
        "        return find(node->right, attr);\n",
        "    }\n",
        "}\n",
        "\n",
        "#endif"
      ],
      "execution_count": 3,
      "outputs": [
        {
          "output_type": "stream",
          "text": [
            "Overwriting avl.cpp\n"
          ],
          "name": "stdout"
        }
      ]
    },
    {
      "cell_type": "markdown",
      "metadata": {
        "id": "SPpNyhumtEF0"
      },
      "source": [
        "## Médotos privados para el balanceo"
      ]
    },
    {
      "cell_type": "code",
      "metadata": {
        "id": "LizW76cMQc0q",
        "outputId": "e50d42ca-871f-4618-94be-f92d222af44b",
        "colab": {
          "base_uri": "https://localhost:8080/"
        }
      },
      "source": [
        "%%writefile balance.cpp\n",
        "#ifndef __BALANCE_CPP__\n",
        "#define __BALANCE_CPP__\n",
        "\n",
        "#include \"avl.h\"\n",
        "\n",
        "#define max(a, b) (((a) > (b))? (a) : (b))\n",
        "\n",
        "template <typename T, typename R, T NONE>\n",
        "void    Avl<T, R, NONE>::updateHeight(Node* node) {\n",
        "    if (node != nullptr) {\n",
        "        node->height = max(height(node->left), height(node->right)) + 1;\n",
        "    }\n",
        "}\n",
        "\n",
        "template <typename T, typename R, T NONE>\n",
        "void Avl<T, R, NONE>::rotateLeft(Node*& node) { // X = node, Y = node->right\n",
        "    Node* aux = node->right;\n",
        "    node->right = aux->left;\n",
        "    updateHeight(node);\n",
        "    aux->left = node;\n",
        "    updateHeight(aux);\n",
        "    node = aux;\n",
        "}\n",
        "\n",
        "template <typename T, typename R, T NONE>\n",
        "void Avl<T, R, NONE>::rotateRight(Node*& node) { // Y = node, X = node->left\n",
        "    Node* aux = node->left;\n",
        "    node->left = aux->right;\n",
        "    updateHeight(node);\n",
        "    aux->right = node;\n",
        "    updateHeight(aux);\n",
        "    node = aux;\n",
        "}\n",
        "\n",
        "template <typename T, typename R, T NONE>\n",
        "void    Avl<T, R, NONE>::balance(Node*& node) {\n",
        "    int hl = height(node->left);\n",
        "    int hr = height(node->right);\n",
        "\n",
        "    if (hr - hl < -1) {\n",
        "        hl = height(node->left->left);\n",
        "        hr = height(node->left->right);\n",
        "        if (hr > hl) {\n",
        "            rotateLeft(node->left);\n",
        "        }\n",
        "        rotateRight(node);\n",
        "    } else if (hr - hl > 1) {\n",
        "        hl = height(node->right->left);\n",
        "        hr = height(node->right->right);\n",
        "        if (hl > hr) {\n",
        "            rotateRight(node->right);\n",
        "        }\n",
        "        rotateLeft(node);\n",
        "    } else {\n",
        "        updateHeight(node);\n",
        "    }\n",
        "}\n",
        "\n",
        "#endif"
      ],
      "execution_count": 4,
      "outputs": [
        {
          "output_type": "stream",
          "text": [
            "Overwriting balance.cpp\n"
          ],
          "name": "stdout"
        }
      ]
    },
    {
      "cell_type": "code",
      "metadata": {
        "id": "i8d4tkD5tcmT",
        "outputId": "1280b9aa-a2bd-4099-e658-6ae4f7c64781",
        "colab": {
          "base_uri": "https://localhost:8080/"
        }
      },
      "source": [
        "%%writefile avlTest.cpp\n",
        "#include <iostream>\n",
        "#include <string>\n",
        "#include \"avl.h\"\n",
        "\n",
        "using namespace std;\n",
        "\n",
        "int main() {\n",
        "    typedef Avl<float*, float, nullptr> avlptrss;\n",
        "    avlptrss* avl = new avlptrss([](float* a) { return *a; });\n",
        "\n",
        "    for (int i = 0; i < (int)1e4; ++i) {\n",
        "        float* x = new float();\n",
        "        *x = i * 1.;\n",
        "        avl->add(x);\n",
        "    }\n",
        "\n",
        "    cout << avl->height() << endl;\n",
        "\n",
        "    delete avl;\n",
        "\n",
        "    return 0;\n",
        "}"
      ],
      "execution_count": 5,
      "outputs": [
        {
          "output_type": "stream",
          "text": [
            "Overwriting avlTest.cpp\n"
          ],
          "name": "stdout"
        }
      ]
    },
    {
      "cell_type": "code",
      "metadata": {
        "id": "UcDfw88rtjf2",
        "outputId": "6806c5a8-f33b-4799-e765-2a5d3d11e18b",
        "colab": {
          "base_uri": "https://localhost:8080/"
        }
      },
      "source": [
        "!g++ -std=c++17 avlTest.cpp && ./a.out"
      ],
      "execution_count": 6,
      "outputs": [
        {
          "output_type": "stream",
          "text": [
            "13\n"
          ],
          "name": "stdout"
        }
      ]
    },
    {
      "cell_type": "code",
      "metadata": {
        "id": "YRG5fIFIuXrR",
        "outputId": "3c03fa25-2e58-456e-d9af-0c1608e18ae2",
        "colab": {
          "base_uri": "https://localhost:8080/"
        }
      },
      "source": [
        "%%writefile avlTest2.cpp\n",
        "#include <iostream>\n",
        "#include <sstream>\n",
        "#include <string>\n",
        "#include \"avl.h\"\n",
        "\n",
        "using namespace std;\n",
        "\n",
        "int main() {\n",
        "    typedef Avl<string*, string, nullptr> avlptrss;\n",
        "    avlptrss* avl = new avlptrss([](string* a) { return *a; });\n",
        "\n",
        "    for (int i = 0; i < (int)1e6; ++i) {\n",
        "        stringstream ss;\n",
        "        ss << (i+1)*10.1;\n",
        "        avl->add(new string(ss.str()));\n",
        "    }\n",
        "\n",
        "    cout << avl->height() << endl;\n",
        "\n",
        "    delete avl;\n",
        "\n",
        "    return 0;\n",
        "}"
      ],
      "execution_count": 7,
      "outputs": [
        {
          "output_type": "stream",
          "text": [
            "Overwriting avlTest2.cpp\n"
          ],
          "name": "stdout"
        }
      ]
    },
    {
      "cell_type": "code",
      "metadata": {
        "id": "ZvIR-xUJkk3Q",
        "outputId": "7c5a6f2b-c6c0-4696-8ba0-f10884037c05",
        "colab": {
          "base_uri": "https://localhost:8080/"
        }
      },
      "source": [
        "!g++ -std=c++17 avlTest2.cpp && ./a.out"
      ],
      "execution_count": 8,
      "outputs": [
        {
          "output_type": "stream",
          "text": [
            "21\n"
          ],
          "name": "stdout"
        }
      ]
    },
    {
      "cell_type": "code",
      "metadata": {
        "id": "1zEYXt5gko_-",
        "outputId": "1408fd5e-6c4b-41cf-8590-1f5d52ca2b19",
        "colab": {
          "base_uri": "https://localhost:8080/"
        }
      },
      "source": [
        "%%writefile persona.h\n",
        "#ifndef __PERSONA_H__\n",
        "#define __PERSONA_H__\n",
        "\n",
        "#include <string>\n",
        "\n",
        "using std::string;\n",
        "\n",
        "class Persona {\n",
        "    string  dni;\n",
        "    string  apaterno;\n",
        "    string  amaterno;\n",
        "    string  nombres;\n",
        "    string  fecnac;\n",
        "    float   estatura;\n",
        "public:\n",
        "    Persona(string  dni=\"\",\n",
        "            string  apaterno=\"\",\n",
        "            string  amaterno=\"\",\n",
        "            string  nombres=\"\",\n",
        "            string  fecnac=\"\",\n",
        "            float   estatura=.0f) : dni(dni),\n",
        "                                    apaterno(apaterno),\n",
        "                                    amaterno(amaterno),\n",
        "                                    nombres(nombres),\n",
        "                                    fecnac(fecnac),\n",
        "                                    estatura(estatura) {}\n",
        "               \n",
        "    string  getDni()        { return dni; }\n",
        "    string  getApaterno()   { return apaterno; }\n",
        "    string  getAmaterno()   { return amaterno; }\n",
        "    string  getNombres()    { return nombres; }\n",
        "    string  getFecnac()     { return fecnac; }\n",
        "    float   getEstatura()   { return estatura; }\n",
        "    \n",
        "    void    setDni(string dni)              { this->dni         =  dni; }\n",
        "    void    setApaterno(string apaterno)    { this->apaterno    =  apaterno; }\n",
        "    void    setAmaterno(string amaterno)    { this->amaterno    =  amaterno; }\n",
        "    void    setNombres(string nombres)      { this->nombres     =  nombres; }\n",
        "    void    setFecnac(string fecnac)        { this->fecnac      =  fecnac; }\n",
        "    void    setEstatura(float estatura)     { this->estatura    =  estatura; }\n",
        "};\n",
        "\n",
        "#endif"
      ],
      "execution_count": 9,
      "outputs": [
        {
          "output_type": "stream",
          "text": [
            "Overwriting persona.h\n"
          ],
          "name": "stdout"
        }
      ]
    },
    {
      "cell_type": "code",
      "metadata": {
        "id": "45bq_8mRnhmd",
        "outputId": "5eb1df4b-1d79-4b70-a29f-36bb42646d82",
        "colab": {
          "base_uri": "https://localhost:8080/"
        }
      },
      "source": [
        "%%writefile avlTest3.cpp\n",
        "#include <iostream>\n",
        "#include <iomanip>\n",
        "#include <fstream>\n",
        "#include <string>\n",
        "#include <sstream>\n",
        "#include <vector>\n",
        "#include <stdlib.h>\n",
        "#include \"persona.h\"\n",
        "#include \"avl.h\"\n",
        "\n",
        "using namespace std;\n",
        "\n",
        "void loadData(vector<string>& vec, string filename) {\n",
        "    ifstream file(filename);\n",
        "    string str;\n",
        "    while (file >> str) {\n",
        "        vec.push_back(str);\n",
        "    }\n",
        "    file.close();\n",
        "}\n",
        "\n",
        "Persona* randPersona(vector<string>& names, vector<string>& lastnames, int i) {\n",
        "    stringstream ssdni, ssfec;\n",
        "    ssdni << setfill('0') << setw(8) << i;\n",
        "    ssfec << (1920 + rand() % 90) << \"-\"\n",
        "          << setfill('0') << setw(2) << (1 + rand() % 12) << \"-\"\n",
        "          << setfill('0') << setw(2) << (1 + rand() % 28);\n",
        "    return new Persona(ssdni.str(),\n",
        "                       lastnames[rand() % lastnames.size()],\n",
        "                       lastnames[rand() % lastnames.size()],\n",
        "                       names[rand() % names.size()],\n",
        "                       ssfec.str(),\n",
        "                       (90 + rand() % 160) / 100.);\n",
        "}\n",
        "\n",
        "ostream& operator<<(ostream& os, Persona* p) {\n",
        "    os << std::setw(8)  << p->getDni()\n",
        "       << std::setw(15) << p->getApaterno()\n",
        "       << std::setw(15) << p->getAmaterno()\n",
        "       << std::setw(15) << p->getNombres()\n",
        "       << std::setw(12) << p->getFecnac()\n",
        "       << std::setw(5)  << p->getEstatura();\n",
        "    return os;\n",
        "}\n",
        "\n",
        "int main() {\n",
        "    vector<string> names, lastnames;\n",
        "    loadData(names, \"names.txt\");\n",
        "    loadData(lastnames, \"lastnames.txt\");\n",
        "\n",
        "    typedef Avl<Persona*, string, nullptr> avlps;\n",
        "    typedef Avl<Persona*, float, nullptr>  avlpf;\n",
        "\n",
        "    avlps* avlNom = new avlps([](Persona* a) { return a->getNombres(); });\n",
        "    avlps* avlApa = new avlps([](Persona* a) { return a->getApaterno(); });\n",
        "    avlpf* avlEst = new avlpf([](Persona* a) { return a->getEstatura(); });\n",
        "\n",
        "    Persona* persona;\n",
        "\n",
        "    srand(1981);\n",
        "    for (int i = 0; i < 1000000; ++i) {\n",
        "        persona = randPersona(names, lastnames, i+1);\n",
        "        avlNom->add(persona);\n",
        "        avlApa->add(persona);\n",
        "        avlEst->add(persona);\n",
        "    }\n",
        "\n",
        "    cout << \"Personas generadas e indexadas correctamente\\n\";\n",
        "\n",
        "    cout << \"Altura del índice por nombre: \" << avlNom->height() << endl;\n",
        "    cout << \"Altura del índice por apellido: \" << avlApa->height() << endl;\n",
        "    cout << \"Altura del índice por estatura: \" << avlEst->height() << endl;\n",
        "\n",
        "    persona = avlNom->find(\"Harry\");\n",
        "    if (persona != nullptr) cout << persona << endl; else cout << \":(\\n\"; \n",
        "    persona = avlNom->find(\"Zayan\");\n",
        "    if (persona != nullptr) cout << persona << endl; else cout << \":(\\n\"; \n",
        "\n",
        "    persona = avlApa->find(\"Rice\");\n",
        "    if (persona != nullptr) cout << persona << endl; else cout << \":(\\n\";\n",
        "    persona = avlApa->find(\"Smith\");\n",
        "    if (persona != nullptr) cout << persona << endl; else cout << \":(\\n\";\n",
        "    persona = avlApa->find(\"Perez\");\n",
        "    if (persona != nullptr) cout << persona << endl; else cout << \":(\\n\";\n",
        "\n",
        "    persona = avlEst->find(1.55);\n",
        "    if (persona != nullptr) cout << persona << endl; else cout << \":(\\n\";\n",
        "    persona = avlEst->find(1.99);\n",
        "    if (persona != nullptr) cout << persona << endl; else cout << \":(\\n\";\n",
        "\n",
        "    avlNom->inOrder([](Persona* a) { delete a; });\n",
        "    avlApa->inOrder([](Persona* a) { delete a; });\n",
        "    avlEst->inOrder([](Persona* a) { delete a; });\n",
        "\n",
        "    delete avlNom;\n",
        "    delete avlApa;\n",
        "    delete avlEst;\n",
        "\n",
        "    return 0;\n",
        "}"
      ],
      "execution_count": 10,
      "outputs": [
        {
          "output_type": "stream",
          "text": [
            "Overwriting avlTest3.cpp\n"
          ],
          "name": "stdout"
        }
      ]
    },
    {
      "cell_type": "code",
      "metadata": {
        "id": "BxKuu1KHntCj",
        "outputId": "7d5fdeed-9fde-4c1f-dc38-dbc92fb97195",
        "colab": {
          "base_uri": "https://localhost:8080/"
        }
      },
      "source": [
        "%%writefile names.txt\n",
        "Eshaal\n",
        "Lilian\n",
        "Muskaan\n",
        "Jiya\n",
        "Mahi\n",
        "Naseem\n",
        "Afsana\n",
        "Jodi\n",
        "Lynsey\n",
        "Menachem\n",
        "Jamelia\n",
        "Harry\n",
        "Affan\n",
        "Micah\n",
        "Evie Wilson\n",
        "Miles\n",
        "Sonny\n",
        "Kingsley\n",
        "Ayah\n",
        "Gemma\n",
        "Natalya\n",
        "Beverly\n",
        "Lucie\n",
        "Cyrus\n",
        "Rickie\n",
        "Carys\n",
        "Holli\n",
        "Shakil\n",
        "Callie\n",
        "Harper\n",
        "Tj\n",
        "Joy\n",
        "Hayleigh\n",
        "Steffan\n",
        "Mina\n",
        "Melvin\n",
        "Mylo\n",
        "Seb\n",
        "Emily\n",
        "Jed\n",
        "Kiaan\n",
        "Leanna\n",
        "Martha\n",
        "Aliya\n",
        "Jarvis\n",
        "Jorja\n",
        "Rahima\n",
        "Pearce\n",
        "Jill\n",
        "Taine\n",
        "Ottilie\n",
        "Jimmie\n",
        "Sila\n",
        "Tamanna\n",
        "Briana\n",
        "Kaylan\n",
        "Wendy\n",
        "Atlanta\n",
        "Jaidan\n",
        "Alima\n",
        "Bjorn\n",
        "Darrell\n",
        "Rhodri\n",
        "Henrietta\n",
        "Homer\n",
        "Meg\n",
        "Zayan\n",
        "Ocean\n",
        "Wanda\n",
        "Aleisha\n",
        "Inayah\n",
        "Neel\n",
        "Lubna\n",
        "Caiden\n",
        "Mahira\n",
        "Muhamed\n",
        "Shamima\n",
        "Arnas\n",
        "Makenzie\n",
        "Antonina\n",
        "Sheldon\n",
        "Zayaan\n",
        "Nora\n",
        "Braydon\n",
        "Leela\n",
        "Maddie\n",
        "Kenny\n",
        "Ralphy\n",
        "Nicole\n",
        "Matteo\n",
        "Julian\n",
        "Garry\n",
        "Kaitlyn\n",
        "Hayden\n",
        "Teigan\n",
        "Kenzo\n",
        "Yusra\n",
        "Taran\n",
        "Ravi\n",
        "Jude"
      ],
      "execution_count": 12,
      "outputs": [
        {
          "output_type": "stream",
          "text": [
            "Overwriting names.txt\n"
          ],
          "name": "stdout"
        }
      ]
    },
    {
      "cell_type": "code",
      "metadata": {
        "id": "v0dSCujknygk",
        "outputId": "03c6d729-1700-431e-cdd5-bdd8595589e6",
        "colab": {
          "base_uri": "https://localhost:8080/"
        }
      },
      "source": [
        "%%writefile lastnames.txt\n",
        "Whiteley\n",
        "Frost\n",
        "Handley\n",
        "Robertson\n",
        "Stanton\n",
        "West\n",
        "Kramer\n",
        "Hardy\n",
        "Holder\n",
        "Duke\n",
        "Lyons\n",
        "Mitchell\n",
        "Pennington\n",
        "Thatcher\n",
        "May\n",
        "Hardin\n",
        "Sullivan\n",
        "Greenaway\n",
        "Clifford\n",
        "Sandoval\n",
        "Barrow\n",
        "Mercer\n",
        "Clayton\n",
        "Maguire\n",
        "Rasmussen\n",
        "Ashton\n",
        "Bone\n",
        "Bowers\n",
        "Lindsay\n",
        "Owens\n",
        "Knight\n",
        "Booker\n",
        "Lowry\n",
        "Strong\n",
        "Wardle\n",
        "Nava\n",
        "Oconnor\n",
        "Ross\n",
        "Smith\n",
        "Shea\n",
        "Pearson\n",
        "Dudley\n",
        "Everett\n",
        "Ruiz\n",
        "Feeney\n",
        "Rooney\n",
        "Flowers\n",
        "Farmer\n",
        "Kirby\n",
        "Ball\n",
        "Woods\n",
        "Ballard\n",
        "Michael\n",
        "Begum\n",
        "Ritter\n",
        "Le\n",
        "Carson\n",
        "Raymond\n",
        "Bean\n",
        "Barnes\n",
        "Branch\n",
        "Rice\n",
        "Churchill\n",
        "Aldred\n",
        "Fuller\n",
        "Salt\n",
        "Hickman\n",
        "Mohammed\n",
        "Easton\n",
        "Munro\n",
        "Millar\n",
        "Mckay\n",
        "Arias\n",
        "Melton\n",
        "Butt\n",
        "Hogan\n",
        "Gregory\n",
        "Houston\n",
        "Sykes\n",
        "Parks\n",
        "Shannon\n",
        "Sanderson\n",
        "Hobbs\n",
        "Cain\n",
        "Keeling\n",
        "Neville\n",
        "Rigby\n",
        "Dougherty\n",
        "Valenzuela\n",
        "Mcfadden\n",
        "Whitmore\n",
        "North\n",
        "Reyes\n",
        "Byers\n",
        "Skinner\n",
        "Lloyd\n",
        "Battle\n",
        "Norton\n",
        "Phelps\n",
        "Houghton"
      ],
      "execution_count": 13,
      "outputs": [
        {
          "output_type": "stream",
          "text": [
            "Overwriting lastnames.txt\n"
          ],
          "name": "stdout"
        }
      ]
    },
    {
      "cell_type": "code",
      "metadata": {
        "id": "uFzqbSNfo7m-",
        "outputId": "030d009d-0436-4147-a913-1f5364c37b36",
        "colab": {
          "base_uri": "https://localhost:8080/"
        }
      },
      "source": [
        "!g++ -std=c++17 -O2 avlTest3.cpp -o programita && ./programita"
      ],
      "execution_count": 11,
      "outputs": [
        {
          "output_type": "stream",
          "text": [
            "Personas generadas e indexadas correctamente\n",
            "Altura del índice por nombre: 21\n",
            "Altura del índice por apellido: 21\n",
            "Altura del índice por estatura: 21\n",
            "00000178           Duke      Rasmussen          Harry  1986-05-04 1.38\n",
            "00000250       Thatcher         Mercer          Zayan  2001-02-10 1.88\n",
            "00000334           Rice         Dudley           Mina  1929-07-06 1.72\n",
            "00000142          Smith       Whiteley          Ocean  1936-12-10 1.57\n",
            ":(\n",
            "00000246        Neville         Millar          Wendy  1940-05-11 1.55\n",
            "00000337       Houghton          Arias         Julian  2003-05-27 1.99\n"
          ],
          "name": "stdout"
        }
      ]
    },
    {
      "cell_type": "code",
      "metadata": {
        "id": "JRIcF9HynzL3"
      },
      "source": [
        ""
      ],
      "execution_count": 13,
      "outputs": []
    }
  ]
}