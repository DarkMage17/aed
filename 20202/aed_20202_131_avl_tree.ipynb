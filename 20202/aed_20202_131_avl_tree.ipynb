{
  "nbformat": 4,
  "nbformat_minor": 0,
  "metadata": {
    "colab": {
      "name": "aed 20202 131 avl tree.ipynb",
      "provenance": [],
      "authorship_tag": "ABX9TyMam/WBFEUCmRRiWFSBi660",
      "include_colab_link": true
    },
    "kernelspec": {
      "name": "python3",
      "display_name": "Python 3"
    }
  },
  "cells": [
    {
      "cell_type": "markdown",
      "metadata": {
        "id": "view-in-github",
        "colab_type": "text"
      },
      "source": [
        "<a href=\"https://colab.research.google.com/github/pcsilcan/aed/blob/master/20202/aed_20202_131_avl_tree.ipynb\" target=\"_parent\"><img src=\"https://colab.research.google.com/assets/colab-badge.svg\" alt=\"Open In Colab\"/></a>"
      ]
    },
    {
      "cell_type": "markdown",
      "metadata": {
        "id": "rM9PTKapH1_x"
      },
      "source": [
        "# AVL Balanced Tree"
      ]
    },
    {
      "cell_type": "code",
      "metadata": {
        "id": "4ZpWZ25mHz9y",
        "outputId": "e7f0985c-528b-4830-8e21-0ed57ef9f68d",
        "colab": {
          "base_uri": "https://localhost:8080/"
        }
      },
      "source": [
        "%%writefile avl.h\n",
        "#ifndef __AVL_H__\n",
        "#define __AVL_H__\n",
        "\n",
        "#include <functional>\n",
        "\n",
        "using std::function;\n",
        "\n",
        "template <typename T, typename R=T, T NONE=0>\n",
        "class Avl {\n",
        "    struct Node;\n",
        "\n",
        "    typedef function<R(T)>      lbdKey;\n",
        "    typedef function<void(T)>   lbdProc;\n",
        "\n",
        "    Node*   root;\n",
        "    int     len;\n",
        "    lbdKey  key;\n",
        "\n",
        "public:\n",
        "    Avl(lbdKey key=[](T a) {return a;}) : key(key), root(nullptr), len(0) {}\n",
        "    ~Avl() { destroy(root); }\n",
        "\n",
        "    int     height()                { return height(root); }\n",
        "    int     size()                  { return len; }\n",
        "    int     clear()                 { destroy(root); len = 0; }\n",
        "\n",
        "    void    add(T elem)             { add(root, elem); }\n",
        "    void    inOrder(lbdProc proc)   { inOrder(root, proc); }\n",
        "\n",
        "    void    remove(R attr);\n",
        "    T       find(R attr);\n",
        "\n",
        "private:\n",
        "    void    destroy(Node*& node);\n",
        "    int     height(Node* node);\n",
        "    void    add(Node*& node, T elem);\n",
        "    void    remove(Node*& node, R attr);\n",
        "    void    inOrder(Node* node, lbdProc proc);\n",
        "\n",
        "    Node*&  greater(Node*& node) {return dummynull;}\n",
        "    Node*&  find(Node*& node, R attr) {return dummynull;}\n",
        "\n",
        "    void    updateHeight(Node* node);\n",
        "    void    rotateLeft(Node*& node);\n",
        "    void    rotateRight(Node*& node);\n",
        "    void    balance(Node*& node);\n",
        "\n",
        "    Node* dummynull = nullptr;\n",
        "\n",
        "};\n",
        "\n",
        "#include \"node.cpp\"\n",
        "#include \"avl.cpp\"\n",
        "#include \"balance.cpp\"\n",
        "\n",
        "#endif"
      ],
      "execution_count": 27,
      "outputs": [
        {
          "output_type": "stream",
          "text": [
            "Overwriting avl.h\n"
          ],
          "name": "stdout"
        }
      ]
    },
    {
      "cell_type": "markdown",
      "metadata": {
        "id": "6IeIDFpur54j"
      },
      "source": [
        "## Implementación de la estructura o clase Node\n",
        "Ahora agregamos un atributo altura (height)"
      ]
    },
    {
      "cell_type": "code",
      "metadata": {
        "id": "Zgww7trhIZVp",
        "outputId": "7225187a-520c-4069-fadf-88e646d8a7e0",
        "colab": {
          "base_uri": "https://localhost:8080/"
        }
      },
      "source": [
        "%%writefile node.cpp\n",
        "#include \"avl.h\"\n",
        "\n",
        "template <typename T, typename R, T NONE>\n",
        "struct Avl<T, R, NONE>::Node {\n",
        "    T       element;\n",
        "    Node*   left;\n",
        "    Node*   right;\n",
        "    int     height;\n",
        "\n",
        "    Node(T element): element(element),left(nullptr),right(nullptr),height(0) {}\n",
        "};"
      ],
      "execution_count": 28,
      "outputs": [
        {
          "output_type": "stream",
          "text": [
            "Overwriting node.cpp\n"
          ],
          "name": "stdout"
        }
      ]
    },
    {
      "cell_type": "markdown",
      "metadata": {
        "id": "J49fLJBGsImZ"
      },
      "source": [
        "## Método básicos del árbol AVL\n",
        "Ahora con el método que retorna la altura del árbol"
      ]
    },
    {
      "cell_type": "code",
      "metadata": {
        "id": "rSHTt3dEM_E8",
        "outputId": "e08d21f6-a729-47c2-fd7d-842a96dfdd1b",
        "colab": {
          "base_uri": "https://localhost:8080/"
        }
      },
      "source": [
        "%%writefile avl.cpp\n",
        "#include \"avl.h\"\n",
        "\n",
        "template <typename T, typename R, T NONE>\n",
        "void    Avl<T, R, NONE>::destroy(Node*& node) {\n",
        "    if (node != nullptr) {\n",
        "        destroy(node->left);\n",
        "        destroy(node->right);\n",
        "        delete node;\n",
        "        node = nullptr;\n",
        "    }\n",
        "}\n",
        "\n",
        "template <typename T, typename R, T NONE>\n",
        "int     Avl<T, R, NONE>::height(Node* node) {\n",
        "    return node == nullptr? -1: node->height;\n",
        "}\n",
        "\n",
        "template <typename T, typename R, T NONE>\n",
        "void    Avl<T, R, NONE>::add(Node*& node, T elem) {\n",
        "    if (node == nullptr) {\n",
        "        node = new Node(elem);\n",
        "        ++len;\n",
        "    } else {\n",
        "        if (key(elem) < key(node->element)) {\n",
        "            add(node->left, elem);\n",
        "        } else {\n",
        "            add(node->right, elem);\n",
        "        }\n",
        "        balance(node); /* :O */\n",
        "    }\n",
        "}\n",
        "\n",
        "template <typename T, typename R, T NONE>\n",
        "void    Avl<T, R, NONE>::remove(R attr) {\n",
        "    // TODO do it yourself!\n",
        "}\n",
        "template <typename T, typename R, T NONE>\n",
        "void    Avl<T, R, NONE>::remove(Node*& node, R attr) {\n",
        "    // TODO do it yourself!\n",
        "}\n",
        "/*\n",
        "template <typename T, typename R, T NONE>\n",
        "Node*&  Avl<T, R, NONE>::greater(Node*& node) {\n",
        "    return node->right != nullptr? node : greater(node->right);\n",
        "}*/\n",
        "\n",
        "template <typename T, typename R, T NONE>\n",
        "void    Avl<T, R, NONE>::inOrder(Node* node, lbdProc proc) {\n",
        "    if (node != nullptr) {\n",
        "        inOrder(node->left, proc);\n",
        "        proc(node->element);\n",
        "        inOrder(node->right, proc);\n",
        "    }\n",
        "}\n",
        "\n",
        "template <typename T, typename R, T NONE>\n",
        "T       Avl<T, R, NONE>::find(R attr) {\n",
        "    Node*& node = find(root, attr);\n",
        "    return node == nullptr? NONE : node->element;\n",
        "}\n",
        "/*\n",
        "template <typename T, typename R, T NONE>\n",
        "Node*&  Avl<T, R, NONE>::find(Node*& node, R attr) {\n",
        "    if (node == nullptr) {\n",
        "        return dummynull;\n",
        "    } else if (val == key(node->element)) {\n",
        "        return node;\n",
        "    } else if (val < key(node->element)) {\n",
        "        return find(node->left, attr);\n",
        "    } else {\n",
        "        return find(node->right, attr);\n",
        "    }\n",
        "}*/\n"
      ],
      "execution_count": 58,
      "outputs": [
        {
          "output_type": "stream",
          "text": [
            "Overwriting avl.cpp\n"
          ],
          "name": "stdout"
        }
      ]
    },
    {
      "cell_type": "markdown",
      "metadata": {
        "id": "SPpNyhumtEF0"
      },
      "source": [
        "## Médotos privados para el balanceo"
      ]
    },
    {
      "cell_type": "code",
      "metadata": {
        "id": "LizW76cMQc0q",
        "outputId": "111635c3-3cb9-4e37-cfa6-092bda6e06a3",
        "colab": {
          "base_uri": "https://localhost:8080/"
        }
      },
      "source": [
        "%%writefile balance.cpp\n",
        "#include \"avl.h\"\n",
        "\n",
        "#define max(a, b) (((a) > (b))? (a) : (b))\n",
        "\n",
        "template <typename T, typename R, T NONE>\n",
        "void    Avl<T, R, NONE>::updateHeight(Node* node) {\n",
        "    if (node != nullptr) {\n",
        "        node->height = max(height(node->left), height(node->right)) + 1;\n",
        "    }\n",
        "}\n",
        "\n",
        "template <typename T, typename R, T NONE>\n",
        "void    Avl<T, R, NONE>::rotateLeft(Node*& node) { // X = node, Y = node->right\n",
        "    Node* aux = node->right;\n",
        "    node->right = aux->left;\n",
        "    updateHeight(node);\n",
        "    aux->left = node;\n",
        "    updateHeight(aux);\n",
        "    node = aux;\n",
        "}\n",
        "\n",
        "template <typename T, typename R, T NONE>\n",
        "void    Avl<T, R, NONE>::rotateRight(Node*& node) { // Y = node, X = node->left\n",
        "    Node* aux = node->left;\n",
        "    node->left = aux->right;\n",
        "    updateHeight(node);\n",
        "    aux->right = node;\n",
        "    updateHeight(aux);\n",
        "    node = aux;\n",
        "}\n",
        "\n",
        "template <typename T, typename R, T NONE>\n",
        "void    Avl<T, R, NONE>::balance(Node*& node) {\n",
        "    int hl = height(node->left);\n",
        "    int hr = height(node->right);\n",
        "\n",
        "    if (hr - hl < -1) {\n",
        "        hl = height(node->left->left);\n",
        "        hr = height(node->left->right);\n",
        "        if (hr > hl) {\n",
        "            rotateLeft(node->left);\n",
        "        }\n",
        "        rotateRight(node);\n",
        "    } else if (hr - hl > 1) {\n",
        "        hl = height(node->right->left);\n",
        "        hr = height(node->right->right);\n",
        "        if (hl > hr) {\n",
        "            rotateRight(node->right);\n",
        "        }\n",
        "        rotateLeft(node);\n",
        "    } else {\n",
        "        updateHeight(node);\n",
        "    }\n",
        "}\n"
      ],
      "execution_count": 45,
      "outputs": [
        {
          "output_type": "stream",
          "text": [
            "Overwriting balance.cpp\n"
          ],
          "name": "stdout"
        }
      ]
    },
    {
      "cell_type": "code",
      "metadata": {
        "id": "i8d4tkD5tcmT",
        "outputId": "d5c531af-30f2-4b7f-da2c-edaf1e4645ce",
        "colab": {
          "base_uri": "https://localhost:8080/"
        }
      },
      "source": [
        "%%writefile avlTest.cpp\n",
        "#include <iostream>\n",
        "#include <string>\n",
        "#include \"avl.h\"\n",
        "\n",
        "using namespace std;\n",
        "\n",
        "int main() {\n",
        "    typedef Avl<float*, float, nullptr> avlptrss;\n",
        "    avlptrss* avl = new avlptrss([](float* a) { return *a; });\n",
        "\n",
        "    for (int i = 0; i < (int)1e4; ++i) {\n",
        "        float* x = new float();\n",
        "        *x = i * 1.;\n",
        "        avl->add(x);\n",
        "    }\n",
        "\n",
        "    cout << avl->height() << endl;\n",
        "\n",
        "    delete avl;\n",
        "\n",
        "    return 0;\n",
        "}"
      ],
      "execution_count": 56,
      "outputs": [
        {
          "output_type": "stream",
          "text": [
            "Overwriting avlTest.cpp\n"
          ],
          "name": "stdout"
        }
      ]
    },
    {
      "cell_type": "code",
      "metadata": {
        "id": "UcDfw88rtjf2",
        "outputId": "503075e9-e1dd-49eb-90ba-df97043afdee",
        "colab": {
          "base_uri": "https://localhost:8080/"
        }
      },
      "source": [
        "!g++ -std=c++17 avlTest.cpp && ./a.out"
      ],
      "execution_count": 59,
      "outputs": [
        {
          "output_type": "stream",
          "text": [
            "13\n"
          ],
          "name": "stdout"
        }
      ]
    },
    {
      "cell_type": "code",
      "metadata": {
        "id": "YRG5fIFIuXrR"
      },
      "source": [
        ""
      ],
      "execution_count": null,
      "outputs": []
    }
  ]
}