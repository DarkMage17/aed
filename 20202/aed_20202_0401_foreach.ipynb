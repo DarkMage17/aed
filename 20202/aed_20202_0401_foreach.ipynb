{
  "nbformat": 4,
  "nbformat_minor": 0,
  "metadata": {
    "colab": {
      "name": "aed 20202 0401 foreach.ipynb",
      "provenance": [],
      "authorship_tag": "ABX9TyOFWLBDru/jGIp9U/abFI71",
      "include_colab_link": true
    },
    "kernelspec": {
      "name": "python3",
      "display_name": "Python 3"
    }
  },
  "cells": [
    {
      "cell_type": "markdown",
      "metadata": {
        "id": "view-in-github",
        "colab_type": "text"
      },
      "source": [
        "<a href=\"https://colab.research.google.com/github/pcsilcan/aed/blob/master/20202/aed_20202_0401_foreach.ipynb\" target=\"_parent\"><img src=\"https://colab.research.google.com/assets/colab-badge.svg\" alt=\"Open In Colab\"/></a>"
      ]
    },
    {
      "cell_type": "markdown",
      "metadata": {
        "id": "ahnA8H3Ag3Lq",
        "colab_type": "text"
      },
      "source": [
        "# Iteradores\n",
        "Problema: recorrer colecciones"
      ]
    },
    {
      "cell_type": "code",
      "metadata": {
        "id": "keutMMiEg1cH",
        "colab_type": "code",
        "colab": {
          "base_uri": "https://localhost:8080/",
          "height": 34
        },
        "outputId": "fac25e03-c3a9-4002-f21f-7c2f3ad23752"
      },
      "source": [
        "%%writefile recorrer.cpp\n",
        "#include <iostream>\n",
        "#include <string>\n",
        "#include <vector>\n",
        "#include <list>\n",
        "\n",
        "using namespace std;\n",
        "\n",
        "int main() {\n",
        "    string          str = \"Hola esto es una simple cadena\";\n",
        "    vector<float>   vec;\n",
        "    list<double>    lst;\n",
        "    int             n = 20;\n",
        "\n",
        "    for (int i = 0; i < n; ++i) {\n",
        "        vec.push_back(i*2);\n",
        "        lst.push_front(i*2.5);\n",
        "    }\n",
        "\n",
        "    // Forma clásica de recorrer todos los elementos\n",
        "    for (int i = 0; i < str.size(); ++i) {\n",
        "        cout << str[i] << \"-\";\n",
        "    }\n",
        "    cout << endl;\n",
        "    for (int i = 0; i < vec.size(); ++i) {\n",
        "        cout << vec[i] << \"-\";\n",
        "    }\n",
        "    cout << endl;\n",
        "    while (lst.size() > 0) {\n",
        "        cout << lst.back() << \"-\";\n",
        "        lst.pop_back();\n",
        "    }\n",
        "    cout << endl;\n",
        "\n",
        "    return 0;\n",
        "}"
      ],
      "execution_count": 13,
      "outputs": [
        {
          "output_type": "stream",
          "text": [
            "Overwriting recorrer.cpp\n"
          ],
          "name": "stdout"
        }
      ]
    },
    {
      "cell_type": "code",
      "metadata": {
        "id": "2wXdwmRQijxS",
        "colab_type": "code",
        "colab": {
          "base_uri": "https://localhost:8080/",
          "height": 67
        },
        "outputId": "91b335de-9056-4244-9511-e660f84b40a3"
      },
      "source": [
        "%%script bash\n",
        "g++ recorrer.cpp && ./a.out"
      ],
      "execution_count": 14,
      "outputs": [
        {
          "output_type": "stream",
          "text": [
            "H-o-l-a- -e-s-t-o- -e-s- -u-n-a- -s-i-m-p-l-e- -c-a-d-e-n-a-\n",
            "0-2-4-6-8-10-12-14-16-18-20-22-24-26-28-30-32-34-36-38-\n",
            "0-2.5-5-7.5-10-12.5-15-17.5-20-22.5-25-27.5-30-32.5-35-37.5-40-42.5-45-47.5-\n"
          ],
          "name": "stdout"
        }
      ]
    },
    {
      "cell_type": "markdown",
      "metadata": {
        "id": "9acjCCJ9kQWw",
        "colab_type": "text"
      },
      "source": [
        "## Usando For Each"
      ]
    },
    {
      "cell_type": "code",
      "metadata": {
        "id": "kF1E3XHXipPA",
        "colab_type": "code",
        "colab": {
          "base_uri": "https://localhost:8080/",
          "height": 34
        },
        "outputId": "4fde290e-53e9-4c59-9e60-b65544520342"
      },
      "source": [
        "%%writefile foreach.cpp\n",
        "#include <iostream>\n",
        "#include <string>\n",
        "#include <vector>\n",
        "#include <list>\n",
        "\n",
        "using namespace std;\n",
        "\n",
        "int main() {\n",
        "    string          str = \"Hola esto es una simple cadena\";\n",
        "    vector<float>   vec;\n",
        "    list<double>    lst;\n",
        "    int             n = 20;\n",
        "\n",
        "    for (int i = 0; i < n; ++i) {\n",
        "        vec.push_back(i*2);\n",
        "        lst.push_front(i*2.5);\n",
        "    }\n",
        "\n",
        "    // Forma clásica de recorrer todos los elementos\n",
        "    for (char c : str) {\n",
        "        cout << c << \"-\";\n",
        "    }\n",
        "    cout << endl;\n",
        "    for (float f : vec) {\n",
        "        cout << f << \"-\";\n",
        "    }\n",
        "    cout << endl;\n",
        "    for (double d : lst) {\n",
        "        cout << d << \"-\";\n",
        "    }\n",
        "    cout << endl;\n",
        "\n",
        "    return 0;\n",
        "}"
      ],
      "execution_count": 18,
      "outputs": [
        {
          "output_type": "stream",
          "text": [
            "Overwriting foreach.cpp\n"
          ],
          "name": "stdout"
        }
      ]
    },
    {
      "cell_type": "code",
      "metadata": {
        "id": "ZTwmDYgDkiwe",
        "colab_type": "code",
        "colab": {
          "base_uri": "https://localhost:8080/",
          "height": 67
        },
        "outputId": "ee3f48e1-9342-4668-9700-c4b6b64468d5"
      },
      "source": [
        "%%script bash\n",
        "g++ foreach.cpp && ./a.out"
      ],
      "execution_count": 19,
      "outputs": [
        {
          "output_type": "stream",
          "text": [
            "H-o-l-a- -e-s-t-o- -e-s- -u-n-a- -s-i-m-p-l-e- -c-a-d-e-n-a-\n",
            "0-2-4-6-8-10-12-14-16-18-20-22-24-26-28-30-32-34-36-38-\n",
            "47.5-45-42.5-40-37.5-35-32.5-30-27.5-25-22.5-20-17.5-15-12.5-10-7.5-5-2.5-0-\n"
          ],
          "name": "stdout"
        }
      ]
    },
    {
      "cell_type": "code",
      "metadata": {
        "id": "c32JQykIknM-",
        "colab_type": "code",
        "colab": {}
      },
      "source": [
        ""
      ],
      "execution_count": null,
      "outputs": []
    }
  ]
}