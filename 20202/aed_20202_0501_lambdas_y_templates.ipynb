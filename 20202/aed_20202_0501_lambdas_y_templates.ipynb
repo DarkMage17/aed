{
  "nbformat": 4,
  "nbformat_minor": 0,
  "metadata": {
    "colab": {
      "name": "aed 20202 0501 lambdas y templates.ipynb",
      "provenance": [],
      "authorship_tag": "ABX9TyPMLNKMtkmq7XQrEqMfAviB",
      "include_colab_link": true
    },
    "kernelspec": {
      "name": "python3",
      "display_name": "Python 3"
    }
  },
  "cells": [
    {
      "cell_type": "markdown",
      "metadata": {
        "id": "view-in-github",
        "colab_type": "text"
      },
      "source": [
        "<a href=\"https://colab.research.google.com/github/pcsilcan/aed/blob/master/20202/aed_20202_0501_lambdas_y_templates.ipynb\" target=\"_parent\"><img src=\"https://colab.research.google.com/assets/colab-badge.svg\" alt=\"Open In Colab\"/></a>"
      ]
    },
    {
      "cell_type": "code",
      "metadata": {
        "id": "UfiqEMY-i33H",
        "colab_type": "code",
        "colab": {
          "base_uri": "https://localhost:8080/",
          "height": 34
        },
        "outputId": "8b9a9f40-d5fe-4d97-a090-dc9c0f12b7f3"
      },
      "source": [
        "%%writefile coolsort.h\n",
        "#ifndef __COOLSORT_H__\n",
        "#define __COOLSORT_H__\n",
        "\n",
        "#include <functional>\n",
        "#include <vector>\n",
        "\n",
        "template<typename T, typename R=T>\n",
        "void sort(std::vector<T>& vec,\n",
        "          std::function<R(T)> k=[](T a) { return a; }) {\n",
        "    for (int i = 0; i < vec.size() - 1; ++i) {\n",
        "        for (int j = 0; j < vec.size() - 1 - i; ++j) {\n",
        "            if (k(vec[j]) > k(vec[j+1])) {\n",
        "                T temp = vec[j];\n",
        "                vec[j] = vec[j+1];\n",
        "                vec[j+1] = temp;\n",
        "            }\n",
        "        }\n",
        "    }\n",
        "}\n",
        "\n",
        "#endif"
      ],
      "execution_count": 7,
      "outputs": [
        {
          "output_type": "stream",
          "text": [
            "Overwriting coolsort.h\n"
          ],
          "name": "stdout"
        }
      ]
    },
    {
      "cell_type": "code",
      "metadata": {
        "id": "_nMIVALsk4Xz",
        "colab_type": "code",
        "colab": {
          "base_uri": "https://localhost:8080/",
          "height": 34
        },
        "outputId": "488c6ff6-b3cb-470a-9506-b7a01e25e5f2"
      },
      "source": [
        "%%writefile main.cpp\n",
        "#include <iostream>\n",
        "#include <iomanip>\n",
        "#include <string>\n",
        "#include \"coolsort.h\"\n",
        "\n",
        "using namespace std;\n",
        "\n",
        "class Robot {\n",
        "    string serie;\n",
        "    string name;\n",
        "    string color;\n",
        "    float  height;\n",
        "    float  weight;\n",
        "public:\n",
        "    Robot(\n",
        "        string serie = \"\",\n",
        "        string name = \"\",\n",
        "        string color = \"\",\n",
        "        float  height = 0.,\n",
        "        float  weight = 0.)\n",
        "            :   serie(serie),\n",
        "                name(name),\n",
        "                color(color),\n",
        "                height(height),\n",
        "                weight(weight) {}\n",
        "    string  getSerie()   { return serie; }\n",
        "    string  getName()    { return name; }\n",
        "    string  getColor()   { return color; }\n",
        "    float   getHeight()  { return height; }\n",
        "    float   getWeight()  { return weight; }\n",
        "    void    setSerie(string serie)   { this->serie = serie; }\n",
        "    void    setName(string name)    { this->name = name; }\n",
        "    void    setColor(string color)   { this->color = color; }\n",
        "    void    setHeight(float height)  { this->height = height; }\n",
        "    void    setWeight(float weight)  { this->weight = weight; }\n",
        "};\n",
        "\n",
        "template <typename T>\n",
        "ostream& operator<<(ostream& os, vector<T>& vec) {\n",
        "    os << \"[ \";\n",
        "    for (auto e : vec) {\n",
        "        os << e << \" \";\n",
        "    }\n",
        "    os << \"]\";\n",
        "    return os;\n",
        "}\n",
        "ostream& operator<<(ostream& os, Robot* walle) {\n",
        "    os << \"\\n{ \"\n",
        "       << setw(10) << walle->getSerie() << \" \"\n",
        "       << setw(10) << walle->getName() << \" \"\n",
        "       << setw(10) << walle->getColor() << \" \"\n",
        "       << setw(10) << walle->getHeight() << \" \"\n",
        "       << setw(10) << walle->getWeight() << \" \"\n",
        "       << \" }\";\n",
        "    return os;\n",
        "}\n",
        "\n",
        "int main() {\n",
        "    vector<int> vec1 = { 10, 2, 8, 1, 9, 6, 3, 7, 4, 5 };\n",
        "\n",
        "    cout << vec1 << endl;\n",
        "    sort(vec1);\n",
        "    cout << vec1 << endl;\n",
        "\n",
        "    vector<Robot*> robots;\n",
        "    robots.push_back(new Robot(\"T800\", \"Arnold\", \"White\", 1.9, 120.));\n",
        "    robots.push_back(new Robot(\"AX20\", \"Rosa\", \"Yellow\", 1.6, 200.));\n",
        "    robots.push_back(new Robot(\"T1000\", \"Maria\", \"Blue\", 1.85, 1220.));\n",
        "    robots.push_back(new Robot(\"XYZ\", \"Jose\", \"Pink\", 2.9, 12.));\n",
        "    robots.push_back(new Robot(\"PQR\", \"Pedro\", \"Orange\", 3.9, 100.));\n",
        "    robots.push_back(new Robot(\"ABC\", \"Bertrand\", \"Green\", .9, 20.));\n",
        "\n",
        "    cout << robots << endl;\n",
        "    sort<Robot*, string>(robots, [](Robot* r) { return r->getSerie(); });\n",
        "    cout << robots << endl;\n",
        "    sort<Robot*, string>(robots, [](Robot* r) { return r->getName(); });\n",
        "    cout << robots << endl;\n",
        "    sort<Robot*, string>(robots, [](Robot* r) { return r->getColor(); });\n",
        "    cout << robots << endl;\n",
        "    sort<Robot*, float>(robots, [](Robot* r) { return r->getHeight(); });\n",
        "    cout << robots << endl;\n",
        "    sort<Robot*, float>(robots, [](Robot* r) { return r->getWeight(); });\n",
        "    cout << robots << endl;\n",
        "\n",
        "    for (auto r : robots) {\n",
        "        delete r;\n",
        "    }\n",
        "\n",
        "    return 0;\n",
        "}"
      ],
      "execution_count": 19,
      "outputs": [
        {
          "output_type": "stream",
          "text": [
            "Overwriting main.cpp\n"
          ],
          "name": "stdout"
        }
      ]
    },
    {
      "cell_type": "code",
      "metadata": {
        "id": "8mBaouySlsHK",
        "colab_type": "code",
        "colab": {
          "base_uri": "https://localhost:8080/",
          "height": 756
        },
        "outputId": "f4abe4fc-178a-43c2-cb43-a8c6e70e89cf"
      },
      "source": [
        "!g++ -std=c++14 main.cpp && ./a.out"
      ],
      "execution_count": 20,
      "outputs": [
        {
          "output_type": "stream",
          "text": [
            "[ 10 2 8 1 9 6 3 7 4 5 ]\n",
            "[ 1 2 3 4 5 6 7 8 9 10 ]\n",
            "[ \n",
            "{       T800     Arnold      White        1.9        120  } \n",
            "{       AX20       Rosa     Yellow        1.6        200  } \n",
            "{      T1000      Maria       Blue       1.85       1220  } \n",
            "{        XYZ       Jose       Pink        2.9         12  } \n",
            "{        PQR      Pedro     Orange        3.9        100  } \n",
            "{        ABC   Bertrand      Green        0.9         20  } ]\n",
            "[ \n",
            "{        ABC   Bertrand      Green        0.9         20  } \n",
            "{       AX20       Rosa     Yellow        1.6        200  } \n",
            "{        PQR      Pedro     Orange        3.9        100  } \n",
            "{      T1000      Maria       Blue       1.85       1220  } \n",
            "{       T800     Arnold      White        1.9        120  } \n",
            "{        XYZ       Jose       Pink        2.9         12  } ]\n",
            "[ \n",
            "{       T800     Arnold      White        1.9        120  } \n",
            "{        ABC   Bertrand      Green        0.9         20  } \n",
            "{        XYZ       Jose       Pink        2.9         12  } \n",
            "{      T1000      Maria       Blue       1.85       1220  } \n",
            "{        PQR      Pedro     Orange        3.9        100  } \n",
            "{       AX20       Rosa     Yellow        1.6        200  } ]\n",
            "[ \n",
            "{      T1000      Maria       Blue       1.85       1220  } \n",
            "{        ABC   Bertrand      Green        0.9         20  } \n",
            "{        PQR      Pedro     Orange        3.9        100  } \n",
            "{        XYZ       Jose       Pink        2.9         12  } \n",
            "{       T800     Arnold      White        1.9        120  } \n",
            "{       AX20       Rosa     Yellow        1.6        200  } ]\n",
            "[ \n",
            "{        ABC   Bertrand      Green        0.9         20  } \n",
            "{       AX20       Rosa     Yellow        1.6        200  } \n",
            "{      T1000      Maria       Blue       1.85       1220  } \n",
            "{       T800     Arnold      White        1.9        120  } \n",
            "{        XYZ       Jose       Pink        2.9         12  } \n",
            "{        PQR      Pedro     Orange        3.9        100  } ]\n",
            "[ \n",
            "{        XYZ       Jose       Pink        2.9         12  } \n",
            "{        ABC   Bertrand      Green        0.9         20  } \n",
            "{        PQR      Pedro     Orange        3.9        100  } \n",
            "{       T800     Arnold      White        1.9        120  } \n",
            "{       AX20       Rosa     Yellow        1.6        200  } \n",
            "{      T1000      Maria       Blue       1.85       1220  } ]\n"
          ],
          "name": "stdout"
        }
      ]
    },
    {
      "cell_type": "code",
      "metadata": {
        "id": "5V61JBJNl7CA",
        "colab_type": "code",
        "colab": {}
      },
      "source": [
        ""
      ],
      "execution_count": null,
      "outputs": []
    }
  ]
}