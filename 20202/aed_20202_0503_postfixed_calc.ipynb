{
  "nbformat": 4,
  "nbformat_minor": 0,
  "metadata": {
    "colab": {
      "name": "aed 2020 0503 postfixed calc.ipynb",
      "provenance": [],
      "collapsed_sections": [],
      "authorship_tag": "ABX9TyPbsaExND/NN/KYl3/6ljLl",
      "include_colab_link": true
    },
    "kernelspec": {
      "name": "python3",
      "display_name": "Python 3"
    }
  },
  "cells": [
    {
      "cell_type": "markdown",
      "metadata": {
        "id": "view-in-github",
        "colab_type": "text"
      },
      "source": [
        "<a href=\"https://colab.research.google.com/github/pcsilcan/aed/blob/master/20202/aed_2020_0503_postfixed_calc.ipynb\" target=\"_parent\"><img src=\"https://colab.research.google.com/assets/colab-badge.svg\" alt=\"Open In Colab\"/></a>"
      ]
    },
    {
      "cell_type": "markdown",
      "metadata": {
        "id": "PsFLKwgrX3h7",
        "colab_type": "text"
      },
      "source": [
        "# Pilas!"
      ]
    },
    {
      "cell_type": "code",
      "metadata": {
        "id": "pJ5btVayX27c",
        "colab_type": "code",
        "colab": {
          "base_uri": "https://localhost:8080/",
          "height": 34
        },
        "outputId": "9b512b1a-964d-46a1-98e8-1aacacbd5cc3"
      },
      "source": [
        "%%writefile stack.h\n",
        "#ifndef __PILA_H__\n",
        "#define __PILA_H__\n",
        "\n",
        "template <typename T>\n",
        "class Stack {\n",
        "    struct Node {\n",
        "        T e; Node* next;\n",
        "        Node(T e, Node* next=nullptr) : e(e), next(next) {}\n",
        "    };\n",
        "\n",
        "    Node*   _top;\n",
        "    int     len;\n",
        "public:\n",
        "    Stack() : _top(nullptr), len(0) {}\n",
        "    ~Stack() {\n",
        "        while (_top != nullptr) {\n",
        "            Node* aux = _top;\n",
        "            _top = _top->next;\n",
        "            delete aux;\n",
        "        }\n",
        "    }\n",
        "    int     size()  { return len; }\n",
        "    bool    empty() { return len == 0; }\n",
        "\n",
        "    void    push(T e) {\n",
        "        _top = new Node(e, _top);\n",
        "        ++len;\n",
        "    }\n",
        "    void    pop() {\n",
        "        if (len > 0) {\n",
        "            Node* aux = _top;\n",
        "            _top = _top->next;\n",
        "            delete aux;\n",
        "            --len;\n",
        "        }\n",
        "    }\n",
        "    T       top() {\n",
        "        if (len > 0) {\n",
        "            return _top->e;\n",
        "        }\n",
        "        return 0;\n",
        "    }\n",
        "};\n",
        "\n",
        "#endif"
      ],
      "execution_count": 19,
      "outputs": [
        {
          "output_type": "stream",
          "text": [
            "Overwriting stack.h\n"
          ],
          "name": "stdout"
        }
      ]
    },
    {
      "cell_type": "code",
      "metadata": {
        "id": "0gt5f_754Qz1",
        "colab_type": "code",
        "colab": {
          "base_uri": "https://localhost:8080/",
          "height": 34
        },
        "outputId": "762b5933-f374-48a6-af01-93dc2c205050"
      },
      "source": [
        "%%writefile post.cpp\n",
        "#include <iostream>\n",
        "#include <string>\n",
        "#include \"stack.h\"\n",
        "\n",
        "using namespace std;\n",
        "\n",
        "int main() {\n",
        "    Stack<float> operands;\n",
        "    float a, b, r;\n",
        "    string term;\n",
        "    cout << \"Expresión: \";\n",
        "    for (;;) {\n",
        "        cin >> term;\n",
        "        if (term == \".\") {\n",
        "            break;\n",
        "        } else {\n",
        "            if ((term[0] >= '0' && term[0] <= '9') ||\n",
        "                (term[0] == '-' && term.size() > 1)) {\n",
        "                operands.push(stof(term));\n",
        "            } else {\n",
        "                b = operands.top(); operands.pop();\n",
        "                a = operands.top(); operands.pop();\n",
        "                switch (term[0]) {\n",
        "                    case '+': r = a + b; break;\n",
        "                    case '-': r = a - b; break;\n",
        "                    case '*': r = a * b; break;\n",
        "                    case '/': r = a / b; break;\n",
        "                }\n",
        "                operands.push(r);\n",
        "            }\n",
        "        }\n",
        "    }\n",
        "    cout << operands.top() << endl;\n",
        "    operands.pop();\n",
        "    return 0;\n",
        "} "
      ],
      "execution_count": 20,
      "outputs": [
        {
          "output_type": "stream",
          "text": [
            "Overwriting post.cpp\n"
          ],
          "name": "stdout"
        }
      ]
    },
    {
      "cell_type": "code",
      "metadata": {
        "id": "95qVeUcq445P",
        "colab_type": "code",
        "colab": {
          "base_uri": "https://localhost:8080/",
          "height": 34
        },
        "outputId": "45160d08-2e5a-48b0-a604-758cb28ad4e7"
      },
      "source": [
        "%%writefile input.in\n",
        "-12 78 23 47 -2334 / * 34 - / + ."
      ],
      "execution_count": 21,
      "outputs": [
        {
          "output_type": "stream",
          "text": [
            "Overwriting input.in\n"
          ],
          "name": "stdout"
        }
      ]
    },
    {
      "cell_type": "code",
      "metadata": {
        "id": "kvOOfGOq6HXV",
        "colab_type": "code",
        "colab": {
          "base_uri": "https://localhost:8080/",
          "height": 34
        },
        "outputId": "cb56a30b-e764-478d-aa85-74290a79caac"
      },
      "source": [
        "!g++ -std=c++14 post.cpp && ./a.out < input.in"
      ],
      "execution_count": 22,
      "outputs": [
        {
          "output_type": "stream",
          "text": [
            "Expresión: -14.2633\n"
          ],
          "name": "stdout"
        }
      ]
    },
    {
      "cell_type": "code",
      "metadata": {
        "id": "k9LysDpNdcJ9",
        "colab_type": "code",
        "colab": {
          "base_uri": "https://localhost:8080/",
          "height": 34
        },
        "outputId": "9a137dd9-32da-4e4b-9d70-4503c49903a5"
      },
      "source": [
        "-12 + (78 / ((23 * (47 / -2334 )) - 34))"
      ],
      "execution_count": 11,
      "outputs": [
        {
          "output_type": "execute_result",
          "data": {
            "text/plain": [
              "-14.26328679587752"
            ]
          },
          "metadata": {
            "tags": []
          },
          "execution_count": 11
        }
      ]
    }
  ]
}
