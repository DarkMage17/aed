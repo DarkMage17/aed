{
  "nbformat": 4,
  "nbformat_minor": 0,
  "metadata": {
    "colab": {
      "name": "aed 20202 131 avl tree vsnet version.ipynb",
      "provenance": [],
      "collapsed_sections": [],
      "authorship_tag": "ABX9TyO/XlaCyDsqu1808pkg/OFF",
      "include_colab_link": true
    },
    "kernelspec": {
      "name": "python3",
      "display_name": "Python 3"
    }
  },
  "cells": [
    {
      "cell_type": "markdown",
      "metadata": {
        "id": "view-in-github",
        "colab_type": "text"
      },
      "source": [
        "<a href=\"https://colab.research.google.com/github/pcsilcan/aed/blob/master/20202/aed_20202_131_avl_tree_vsnet_version.ipynb\" target=\"_parent\"><img src=\"https://colab.research.google.com/assets/colab-badge.svg\" alt=\"Open In Colab\"/></a>"
      ]
    },
    {
      "cell_type": "markdown",
      "metadata": {
        "id": "rM9PTKapH1_x"
      },
      "source": [
        "# AVL Balanced Tree"
      ]
    },
    {
      "cell_type": "code",
      "metadata": {
        "id": "4ZpWZ25mHz9y",
        "outputId": "d252d158-c76e-4c2f-c329-8016fbdbc015",
        "colab": {
          "base_uri": "https://localhost:8080/"
        }
      },
      "source": [
        "%%writefile avl.h\n",
        "#ifndef __AVL_H__\n",
        "#define __AVL_H__\n",
        "\n",
        "#include <functional>\n",
        "\n",
        "using std::function;\n",
        "using std::max;\n",
        "\n",
        "template <typename T, typename R=T, T NONE=nullptr>\n",
        "class Avl {\n",
        "    struct Node {\n",
        "        T element; Node* left; Node* right; int height;\n",
        "        Node(T element): element(element),left(nullptr),right(nullptr),height(0) {}\n",
        "    };\n",
        "\n",
        "    typedef function<R(T)>      lbdKey;\n",
        "    typedef function<void(T)>   lbdProc;\n",
        "\n",
        "    Node*   root;\n",
        "    int     len;\n",
        "    lbdKey  key;\n",
        "\n",
        "public:\n",
        "    Avl(lbdKey key=[](T a) {return a;}) : key(key), root(nullptr), len(0) {}\n",
        "    ~Avl() { destroy(root); }\n",
        "\n",
        "    int     height()                { return height(root); }\n",
        "    int     size()                  { return len; }\n",
        "    void    clear()                 { destroy(root); len = 0; }\n",
        "\n",
        "    void    add(T elem)             { add(root, elem); }\n",
        "    void    inOrder(lbdProc proc)   { inOrder(root, proc); }\n",
        "\n",
        "    void remove(R attr) {\n",
        "        // TODO FALTA BALANCEAR!!\n",
        "    }\n",
        "    T find(R attr) {\n",
        "        Node*& node = find(root, attr);\n",
        "        return node == nullptr? NONE : node->element;\n",
        "    }\n",
        "\n",
        "private:\n",
        "    void destroy(Node*& node) {\n",
        "        if (node != nullptr) {\n",
        "            destroy(node->left);\n",
        "            destroy(node->right);\n",
        "            delete node;\n",
        "            node = nullptr;\n",
        "        }\n",
        "    }\n",
        "    int height(Node* node) {\n",
        "        return node == nullptr? -1: node->height;\n",
        "    }\n",
        "    void add(Node*& node, T elem) {\n",
        "        if (node == nullptr) {\n",
        "            node = new Node(elem);\n",
        "            ++len;\n",
        "        } else {\n",
        "            if (key(elem) < key(node->element)) {\n",
        "                add(node->left, elem);\n",
        "            } else {\n",
        "                add(node->right, elem);\n",
        "            }\n",
        "            balance(node); /* :O */\n",
        "        }\n",
        "    }\n",
        "    Node*& greater(Node*& node) {\n",
        "        return node->right != nullptr? node : greater(node->right);\n",
        "    }\n",
        "    void inOrder(Node* node, lbdProc proc) {\n",
        "        if (node != nullptr) {\n",
        "            inOrder(node->left, proc);\n",
        "            proc(node->element);\n",
        "            inOrder(node->right, proc);\n",
        "        }\n",
        "    }\n",
        "    Node*& find(Node*& node, R attr) {\n",
        "        if (node == nullptr) {\n",
        "            return dummynull;\n",
        "        } else if (attr == key(node->element)) {\n",
        "            return node;\n",
        "        } else if (attr < key(node->element)) {\n",
        "            return find(node->left, attr);\n",
        "        } else {\n",
        "            return find(node->right, attr);\n",
        "        }\n",
        "    }\n",
        "\n",
        "    void updateHeight(Node* node) {\n",
        "        if (node != nullptr) {\n",
        "            node->height = max(height(node->left), height(node->right)) + 1;\n",
        "        }\n",
        "    }\n",
        "    void rotateLeft(Node*& node) { // X = node, Y = node->right\n",
        "        Node* aux = node->right;\n",
        "        node->right = aux->left;\n",
        "        updateHeight(node);\n",
        "        aux->left = node;\n",
        "        updateHeight(aux);\n",
        "        node = aux;\n",
        "    }\n",
        "    void rotateRight(Node*& node) { // Y = node, X = node->left\n",
        "        Node* aux = node->left;\n",
        "        node->left = aux->right;\n",
        "        updateHeight(node);\n",
        "        aux->right = node;\n",
        "        updateHeight(aux);\n",
        "        node = aux;\n",
        "    }\n",
        "    void balance(Node*& node) {\n",
        "        int hl = height(node->left);\n",
        "        int hr = height(node->right);\n",
        "\n",
        "        if (hr - hl < -1) {\n",
        "            hl = height(node->left->left);\n",
        "            hr = height(node->left->right);\n",
        "            if (hr > hl) {\n",
        "                rotateLeft(node->left);\n",
        "            }\n",
        "            rotateRight(node);\n",
        "        } else if (hr - hl > 1) {\n",
        "            hl = height(node->right->left);\n",
        "            hr = height(node->right->right);\n",
        "            if (hl > hr) {\n",
        "                rotateRight(node->right);\n",
        "            }\n",
        "            rotateLeft(node);\n",
        "        } else {\n",
        "            updateHeight(node);\n",
        "        }\n",
        "    }\n",
        "\n",
        "    Node* dummynull = nullptr;\n",
        "};\n",
        "\n",
        "#endif"
      ],
      "execution_count": 27,
      "outputs": [
        {
          "output_type": "stream",
          "text": [
            "Overwriting avl.h\n"
          ],
          "name": "stdout"
        }
      ]
    },
    {
      "cell_type": "code",
      "metadata": {
        "id": "i8d4tkD5tcmT",
        "outputId": "b14e8fc1-0e9c-4b52-e092-9e6d6cdd2e4c",
        "colab": {
          "base_uri": "https://localhost:8080/"
        }
      },
      "source": [
        "%%writefile avlTest.cpp\n",
        "#include <iostream>\n",
        "#include <string>\n",
        "#include \"avl.h\"\n",
        "\n",
        "using namespace std;\n",
        "\n",
        "int main() {\n",
        "    typedef Avl<float*, float> avlptrss;\n",
        "    avlptrss* avl = new avlptrss([](float* a) { return *a; });\n",
        "\n",
        "    for (int i = 0; i < (int)1e4; ++i) {\n",
        "        float* x = new float();\n",
        "        *x = i * 1.;\n",
        "        avl->add(x);\n",
        "    }\n",
        "\n",
        "    cout << avl->height() << endl;\n",
        "\n",
        "    delete avl;\n",
        "\n",
        "    return 0;\n",
        "}"
      ],
      "execution_count": 28,
      "outputs": [
        {
          "output_type": "stream",
          "text": [
            "Overwriting avlTest.cpp\n"
          ],
          "name": "stdout"
        }
      ]
    },
    {
      "cell_type": "code",
      "metadata": {
        "id": "UcDfw88rtjf2",
        "outputId": "77a36228-0ee1-4d3c-afb4-a890421b754a",
        "colab": {
          "base_uri": "https://localhost:8080/"
        }
      },
      "source": [
        "!g++ -std=c++17 avlTest.cpp && ./a.out"
      ],
      "execution_count": 29,
      "outputs": [
        {
          "output_type": "stream",
          "text": [
            "13\n"
          ],
          "name": "stdout"
        }
      ]
    },
    {
      "cell_type": "code",
      "metadata": {
        "id": "YRG5fIFIuXrR",
        "outputId": "a85ab755-94bd-4132-cc75-ad317e12961f",
        "colab": {
          "base_uri": "https://localhost:8080/"
        }
      },
      "source": [
        "%%writefile avlTest2.cpp\n",
        "#include <iostream>\n",
        "#include <sstream>\n",
        "#include <string>\n",
        "#include \"avl.h\"\n",
        "\n",
        "using namespace std;\n",
        "\n",
        "int main() {\n",
        "    typedef Avl<string*, string> avlptrss;\n",
        "    avlptrss* avl = new avlptrss([](string* a) { return *a; });\n",
        "\n",
        "    for (int i = 0; i < (int)1e6; ++i) {\n",
        "        stringstream ss;\n",
        "        ss << (i+1)*10.1;\n",
        "        avl->add(new string(ss.str()));\n",
        "    }\n",
        "\n",
        "    cout << avl->height() << endl;\n",
        "\n",
        "    delete avl;\n",
        "\n",
        "    return 0;\n",
        "}"
      ],
      "execution_count": 30,
      "outputs": [
        {
          "output_type": "stream",
          "text": [
            "Overwriting avlTest2.cpp\n"
          ],
          "name": "stdout"
        }
      ]
    },
    {
      "cell_type": "code",
      "metadata": {
        "id": "ZvIR-xUJkk3Q",
        "outputId": "ad1238fa-b7ea-4559-ada3-ea75e249ffbd",
        "colab": {
          "base_uri": "https://localhost:8080/"
        }
      },
      "source": [
        "!g++ -std=c++17 avlTest2.cpp && ./a.out"
      ],
      "execution_count": 31,
      "outputs": [
        {
          "output_type": "stream",
          "text": [
            "21\n"
          ],
          "name": "stdout"
        }
      ]
    },
    {
      "cell_type": "code",
      "metadata": {
        "id": "1zEYXt5gko_-",
        "outputId": "a7c3fd72-a7da-4848-c581-9a8ec2b80fd3",
        "colab": {
          "base_uri": "https://localhost:8080/"
        }
      },
      "source": [
        "%%writefile persona.h\n",
        "#ifndef __PERSONA_H__\n",
        "#define __PERSONA_H__\n",
        "\n",
        "#include <string>\n",
        "\n",
        "using std::string;\n",
        "\n",
        "class Persona {\n",
        "    string  dni;\n",
        "    string  apaterno;\n",
        "    string  amaterno;\n",
        "    string  nombres;\n",
        "    string  fecnac;\n",
        "    float   estatura;\n",
        "public:\n",
        "    Persona(string  dni=\"\",\n",
        "            string  apaterno=\"\",\n",
        "            string  amaterno=\"\",\n",
        "            string  nombres=\"\",\n",
        "            string  fecnac=\"\",\n",
        "            float   estatura=.0f) : dni(dni),\n",
        "                                    apaterno(apaterno),\n",
        "                                    amaterno(amaterno),\n",
        "                                    nombres(nombres),\n",
        "                                    fecnac(fecnac),\n",
        "                                    estatura(estatura) {}\n",
        "               \n",
        "    string  getDni()        { return dni; }\n",
        "    string  getApaterno()   { return apaterno; }\n",
        "    string  getAmaterno()   { return amaterno; }\n",
        "    string  getNombres()    { return nombres; }\n",
        "    string  getFecnac()     { return fecnac; }\n",
        "    float   getEstatura()   { return estatura; }\n",
        "    \n",
        "    void    setDni(string dni)              { this->dni         =  dni; }\n",
        "    void    setApaterno(string apaterno)    { this->apaterno    =  apaterno; }\n",
        "    void    setAmaterno(string amaterno)    { this->amaterno    =  amaterno; }\n",
        "    void    setNombres(string nombres)      { this->nombres     =  nombres; }\n",
        "    void    setFecnac(string fecnac)        { this->fecnac      =  fecnac; }\n",
        "    void    setEstatura(float estatura)     { this->estatura    =  estatura; }\n",
        "};\n",
        "\n",
        "#endif"
      ],
      "execution_count": 32,
      "outputs": [
        {
          "output_type": "stream",
          "text": [
            "Overwriting persona.h\n"
          ],
          "name": "stdout"
        }
      ]
    },
    {
      "cell_type": "code",
      "metadata": {
        "id": "45bq_8mRnhmd",
        "outputId": "4714b993-b7e8-434b-ae87-24dfef712163",
        "colab": {
          "base_uri": "https://localhost:8080/"
        }
      },
      "source": [
        "%%writefile avlTest3.cpp\n",
        "#include <iostream>\n",
        "#include <iomanip>\n",
        "#include <fstream>\n",
        "#include <string>\n",
        "#include <sstream>\n",
        "#include <vector>\n",
        "#include <stdlib.h>\n",
        "#include \"persona.h\"\n",
        "#include \"avl.h\"\n",
        "\n",
        "using namespace std;\n",
        "\n",
        "void loadData(vector<string>& vec, string filename) {\n",
        "    ifstream file(filename);\n",
        "    string str;\n",
        "    while (file >> str) {\n",
        "        vec.push_back(str);\n",
        "    }\n",
        "    file.close();\n",
        "}\n",
        "\n",
        "Persona* randPersona(vector<string>& names, vector<string>& lastnames, int i) {\n",
        "    stringstream ssdni, ssfec;\n",
        "    ssdni << setfill('0') << setw(8) << i;\n",
        "    ssfec << (1920 + rand() % 90) << \"-\"\n",
        "          << setfill('0') << setw(2) << (1 + rand() % 12) << \"-\"\n",
        "          << setfill('0') << setw(2) << (1 + rand() % 28);\n",
        "    return new Persona(ssdni.str(),\n",
        "                       lastnames[rand() % lastnames.size()],\n",
        "                       lastnames[rand() % lastnames.size()],\n",
        "                       names[rand() % names.size()],\n",
        "                       ssfec.str(),\n",
        "                       (90 + rand() % 160) / 100.);\n",
        "}\n",
        "\n",
        "ostream& operator<<(ostream& os, Persona* p) {\n",
        "    os << std::setw(8)  << p->getDni()\n",
        "       << std::setw(15) << p->getApaterno()\n",
        "       << std::setw(15) << p->getAmaterno()\n",
        "       << std::setw(15) << p->getNombres()\n",
        "       << std::setw(12) << p->getFecnac()\n",
        "       << std::setw(5)  << p->getEstatura();\n",
        "    return os;\n",
        "}\n",
        "\n",
        "int main() {\n",
        "    vector<string> names, lastnames;\n",
        "    loadData(names, \"names.txt\");\n",
        "    loadData(lastnames, \"lastnames.txt\");\n",
        "\n",
        "    typedef Avl<Persona*, string> avlps;\n",
        "    typedef Avl<Persona*, float>  avlpf;\n",
        "\n",
        "    avlps* avlNom = new avlps([](Persona* a) { return a->getNombres(); });\n",
        "    avlps* avlApa = new avlps([](Persona* a) { return a->getApaterno(); });\n",
        "    avlpf* avlEst = new avlpf([](Persona* a) { return a->getEstatura(); });\n",
        "\n",
        "    Persona* p;\n",
        "\n",
        "    srand(1981);\n",
        "    for (int i = 0; i < 1000000; ++i) {\n",
        "        p = randPersona(names, lastnames, i+1);\n",
        "        avlNom->add(p);\n",
        "        avlApa->add(p);\n",
        "        avlEst->add(p);\n",
        "    }\n",
        "\n",
        "    cout << \"Personas generadas e indexadas correctamente\\n\";\n",
        "\n",
        "    cout << \"Altura del índice por nombre: \" << avlNom->height() << endl;\n",
        "    cout << \"Altura del índice por apellido: \" << avlApa->height() << endl;\n",
        "    cout << \"Altura del índice por estatura: \" << avlEst->height() << endl;\n",
        "    \n",
        "    if (p = avlNom->find(\"Harry\")) cout << p << endl; else cout << \":(\\n\"; \n",
        "    if (p = avlNom->find(\"Zayan\")) cout << p << endl; else cout << \":(\\n\"; \n",
        "\n",
        "    if (p = avlApa->find(\"Rice\")) cout << p << endl; else cout << \":(\\n\";\n",
        "    if (p = avlApa->find(\"Smith\")) cout << p << endl; else cout << \":(\\n\";\n",
        "    if (p = avlApa->find(\"Perez\")) cout << p << endl; else cout << \":(\\n\";\n",
        "\n",
        "    if (p = avlEst->find(1.55)) cout << p << endl; else cout << \":(\\n\";\n",
        "    if (p = avlEst->find(1.99)) cout << p << endl; else cout << \":(\\n\";\n",
        "\n",
        "    auto deleter = [](Persona* a) { delete a; };\n",
        "    avlNom->inOrder(deleter);\n",
        "    avlApa->inOrder(deleter);\n",
        "    avlEst->inOrder(deleter);\n",
        "\n",
        "    delete avlNom;\n",
        "    delete avlApa;\n",
        "    delete avlEst;\n",
        "\n",
        "    return 0;\n",
        "}"
      ],
      "execution_count": 20,
      "outputs": [
        {
          "output_type": "stream",
          "text": [
            "Overwriting avlTest3.cpp\n"
          ],
          "name": "stdout"
        }
      ]
    },
    {
      "cell_type": "code",
      "metadata": {
        "id": "BxKuu1KHntCj",
        "outputId": "e41d6520-0cc7-432c-d367-78f6379179e8",
        "colab": {
          "base_uri": "https://localhost:8080/"
        }
      },
      "source": [
        "%%writefile names.txt\n",
        "Eshaal Lilian Muskaan Jiya Mahi Naseem Afsana Jodi Lynsey Menachem Jamelia Harry\n",
        "Affan Micah Evie Wilson Miles Sonny Kingsley Ayah Gemma Natalya Beverly Lucie\n",
        "Cyrus Rickie Carys Holli Shakil Callie Harper Tj Joy Hayleigh Steffan Mina\n",
        "Melvin Mylo Seb Emily Jed Kiaan Leanna Martha Aliya Jarvis Jorja Rahima Pearce\n",
        "Jill Taine Ottilie Jimmie Sila Tamanna Briana Kaylan Wendy Atlanta Jaidan Alima\n",
        "Bjorn Darrell Rhodri Henrietta Homer Meg Zayan Ocean Wanda Aleisha Inayah Neel\n",
        "Lubna Caiden Mahira Muhamed Shamima Arnas Makenzie Antonina Sheldon Zayaan Nora\n",
        "Braydon Leela Maddie Kenny Ralphy Nicole Matteo Julian Garry Kaitlyn Hayden\n",
        "Teigan Kenzo Yusra Taran Ravi Jude"
      ],
      "execution_count": 33,
      "outputs": [
        {
          "output_type": "stream",
          "text": [
            "Overwriting names.txt\n"
          ],
          "name": "stdout"
        }
      ]
    },
    {
      "cell_type": "code",
      "metadata": {
        "id": "v0dSCujknygk",
        "outputId": "453c2beb-4966-4127-d508-b301ec231f13",
        "colab": {
          "base_uri": "https://localhost:8080/"
        }
      },
      "source": [
        "%%writefile lastnames.txt\n",
        "Whiteley Frost Handley Robertson Stanton West Kramer Hardy Holder Duke Lyons\n",
        "Mitchell Pennington Thatcher May Hardin Sullivan Greenaway Clifford Sandoval\n",
        "Barrow Mercer Clayton Maguire Rasmussen Ashton Bone Bowers Lindsay Owens Knight\n",
        "Booker Lowry Strong Wardle Nava Oconnor Ross Smith Shea Pearson Dudley Everett\n",
        "Ruiz Feeney Rooney Flowers Farmer Kirby Ball Woods Ballard Michael Begum Ritter\n",
        "Le Carson Raymond Bean Barnes Branch Rice Churchill Aldred Fuller Salt Hickman\n",
        "Mohammed Easton Munro Millar Mckay Arias Melton Butt Hogan Gregory Houston Sykes\n",
        "Parks Shannon Sanderson Hobbs Cain Keeling Neville Rigby Dougherty Valenzuela\n",
        "Mcfadden Whitmore North Reyes Byers Skinner Lloyd Battle Norton Phelps Houghton"
      ],
      "execution_count": 25,
      "outputs": [
        {
          "output_type": "stream",
          "text": [
            "Overwriting lastnames.txt\n"
          ],
          "name": "stdout"
        }
      ]
    },
    {
      "cell_type": "code",
      "metadata": {
        "id": "uFzqbSNfo7m-",
        "outputId": "c8c00d0e-24e5-44be-fc92-f534a8e9e999",
        "colab": {
          "base_uri": "https://localhost:8080/"
        }
      },
      "source": [
        "!g++ -std=c++17 -O2 avlTest3.cpp -o programita && ./programita"
      ],
      "execution_count": 26,
      "outputs": [
        {
          "output_type": "stream",
          "text": [
            "Personas generadas e indexadas correctamente\n",
            "Altura del índice por nombre: 21\n",
            "Altura del índice por apellido: 21\n",
            "Altura del índice por estatura: 21\n",
            "00000178           Duke      Rasmussen          Harry  1986-05-04 1.38\n",
            "00000250       Thatcher         Mercer          Zayan  2001-02-10 1.88\n",
            "00000334           Rice         Dudley           Mina  1929-07-06 1.72\n",
            "00000142          Smith       Whiteley          Ocean  1936-12-10 1.57\n",
            ":(\n",
            "00000246        Neville         Millar          Wendy  1940-05-11 1.55\n",
            "00000337       Houghton          Arias         Julian  2003-05-27 1.99\n"
          ],
          "name": "stdout"
        }
      ]
    },
    {
      "cell_type": "code",
      "metadata": {
        "id": "JRIcF9HynzL3"
      },
      "source": [
        ""
      ],
      "execution_count": null,
      "outputs": []
    }
  ]
}