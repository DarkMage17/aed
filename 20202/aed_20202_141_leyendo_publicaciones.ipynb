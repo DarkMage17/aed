{
  "nbformat": 4,
  "nbformat_minor": 0,
  "metadata": {
    "colab": {
      "name": "aed 20202 141 leyendo publicaciones.ipynb",
      "provenance": [],
      "authorship_tag": "ABX9TyPhljqAcl4DqdSKbxrdtvH/",
      "include_colab_link": true
    },
    "kernelspec": {
      "name": "python3",
      "display_name": "Python 3"
    }
  },
  "cells": [
    {
      "cell_type": "markdown",
      "metadata": {
        "id": "view-in-github",
        "colab_type": "text"
      },
      "source": [
        "<a href=\"https://colab.research.google.com/github/pcsilcan/aed/blob/master/20202/aed_20202_141_leyendo_publicaciones.ipynb\" target=\"_parent\"><img src=\"https://colab.research.google.com/assets/colab-badge.svg\" alt=\"Open In Colab\"/></a>"
      ]
    },
    {
      "cell_type": "code",
      "metadata": {
        "id": "H7SbUbD51HWw",
        "colab": {
          "base_uri": "https://localhost:8080/"
        },
        "outputId": "c14ea5b3-f15f-4537-aa31-833c2daee33d"
      },
      "source": [
        "!curl -O https://raw.githubusercontent.com/pcsilcan/aed/master/data/publications.tsv"
      ],
      "execution_count": null,
      "outputs": [
        {
          "output_type": "stream",
          "text": [
            "  % Total    % Received % Xferd  Average Speed   Time    Time     Time  Current\n",
            "                                 Dload  Upload   Total   Spent    Left  Speed\n",
            "100  122k  100  122k    0     0   491k      0 --:--:-- --:--:-- --:--:--  489k\n"
          ],
          "name": "stdout"
        }
      ]
    },
    {
      "cell_type": "code",
      "metadata": {
        "id": "WEAUt6Lf1r3H",
        "colab": {
          "base_uri": "https://localhost:8080/"
        },
        "outputId": "ece4117d-0485-4f07-f5fb-e741332d5bcb"
      },
      "source": [
        "%%file 1.cpp\n",
        "#include <iostream>\n",
        "#include <iomanip>\n",
        "#include <fstream>\n",
        "#include <sstream>\n",
        "#include <string>\n",
        "#include <vector>\n",
        "\n",
        "using namespace std;\n",
        "\n",
        "struct Pub {\n",
        "    string  title, desc, pubDate;\n",
        "    int     idPub, idUser, nlikes;\n",
        "\n",
        "    Pub(string title, string desc, string pubDate,\n",
        "        int idPub, int idUser, int nlikes)\n",
        "        : title(title), desc(desc), pubDate(pubDate),\n",
        "        idPub(idPub), idUser(idUser), nlikes(nlikes) {}\n",
        "};\n",
        "\n",
        "bool loadData(string filename, vector<Pub*>& pubs) {\n",
        "    ifstream file(filename);\n",
        "\n",
        "    if (!file.is_open()) {\n",
        "        cerr << \"No se pudo abrir el archivo\";\n",
        "        return false;\n",
        "    }\n",
        "\n",
        "    bool titles = true;\n",
        "    string title, desc, pubDate, idPub, idUser, nlikes;    \n",
        "    while (file >> idPub) {\n",
        "        file.get();\n",
        "        file >> idUser; file.get();\n",
        "        getline(file, title, '\\t');\n",
        "        getline(file, desc, '\\t');\n",
        "        file >> pubDate; file.get();\n",
        "        file >> nlikes; file.get();\n",
        "\n",
        "        if (titles) {\n",
        "            titles = false;\n",
        "            continue;\n",
        "        }\n",
        "        pubs.push_back(new Pub(title, desc, pubDate,\n",
        "                               stoi(idPub), stoi(idUser), stoi(nlikes)));\n",
        "    }\n",
        "    file.close();\n",
        "    return true;\n",
        "}\n",
        "\n",
        "bool savePubs(string filename, vector<Pub*>& pubs) {\n",
        "    ofstream file(filename);\n",
        "\n",
        "    if (!file.is_open()) {\n",
        "        cerr << \"No se pudo abrir el archivo\";\n",
        "        return false;\n",
        "    }\n",
        "    file << \"id\\tidU\\ttitle\\tdesc\\tfecpub\\tnlike\\n\";\n",
        "    for (auto pub : pubs) {\n",
        "        file << pub->idPub << '\\t'\n",
        "             << pub->idUser << '\\t'\n",
        "             << pub->title << '\\t'\n",
        "             << pub->desc << '\\t'\n",
        "             << pub->pubDate << '\\t'\n",
        "             << pub->nlikes << endl;\n",
        "    }\n",
        "    file.close();\n",
        "    return true;\n",
        "}\n",
        "\n",
        "int main() {\n",
        "    vector<Pub*> pubs;\n",
        "    loadData(\"publications.tsv\", pubs);\n",
        "\n",
        "    cout << pubs.size() << endl;\n",
        "\n",
        "    pubs[0]->nlikes++;\n",
        "    pubs[0]->nlikes++;\n",
        "\n",
        "    savePubs(\"publications.tsv\", pubs);\n",
        "    \n",
        "\n",
        "    return 0;\n",
        "}"
      ],
      "execution_count": null,
      "outputs": [
        {
          "output_type": "stream",
          "text": [
            "Overwriting 1.cpp\n"
          ],
          "name": "stdout"
        }
      ]
    },
    {
      "cell_type": "code",
      "metadata": {
        "id": "dvhJeTkJ25ya",
        "colab": {
          "base_uri": "https://localhost:8080/"
        },
        "outputId": "6f163748-2697-474f-c50e-2baab32304bf"
      },
      "source": [
        "!g++ -std=c++17 -O2 1.cpp -o p1 && ./p1"
      ],
      "execution_count": null,
      "outputs": [
        {
          "output_type": "stream",
          "text": [
            "998\n"
          ],
          "name": "stdout"
        }
      ]
    },
    {
      "cell_type": "code",
      "metadata": {
        "colab": {
          "base_uri": "https://localhost:8080/"
        },
        "id": "yO1g6HiSqe59",
        "outputId": "466f61f9-433e-4039-f37e-fe97a503fa18"
      },
      "source": [
        "!head publications.tsv"
      ],
      "execution_count": null,
      "outputs": [
        {
          "output_type": "stream",
          "text": [
            "id\tidU\ttitle\tdesc\tfecpub\tnlike\n",
            "3\t931\tÚltima noche antes de volver a la rutina. 😐 (@ Residencial Inclán in Santiago de Surco  Lima) https://t.co/2wytcn0d4X\tGeorge the curious🐒\t2014-12-08\t24\n",
            "4\t847\tDespués de uf!!! (@ Peña del Carajo in Barranco  Lima) https://t.co/fmYarkKJhv\tRonald Quintanilla.\t2014-12-04\t12\n",
            "5\t530\tI'm at Estacion Parque Industrial - Villa El Salvador - @lineaunope in Lima https://t.co/GU38xPKec8\tFredy_YP\t2014-02-25\t7\n",
            "6\t853\tI'm at Instituto de Gobierno USMP - @iggp_usmp in Lima https://t.co/epLPpkka6R\telsacasas\t2014-05-04\t13\n",
            "7\t507\tDemasiada puntualidad ya. (@ Hospital María Auxiliadora in San Juan de Miraflores  Lima) https://t.co/9KFlnORHBQ\tNH\t2014-02-07\t20\n",
            "8\t655\tLima en crisis https://t.co/RYgatr4Mvb\tMaría Consuelo Pardo\t2014-01-12\t11\n",
            "9\t953\tLo Conocere yo primero😊..... https://t.co/CK2y4V1nsc\tJaneth\t2014-06-07\t12\n",
            "10\t239\tI'm at Universidad Peruana de Ciencias Aplicadas - UPC - @upcedu in Chorrillos  Lima https://t.co/NYazO8qOII\tGianfogifogiCervera\t2014-10-23\t18\n",
            "11\t726\tI'm at @DonMamino in Santiago de Surco  Lima https://t.co/RMKkuWjKrp\tLilly\t2014-06-19\t15\n"
          ],
          "name": "stdout"
        }
      ]
    },
    {
      "cell_type": "code",
      "metadata": {
        "colab": {
          "base_uri": "https://localhost:8080/"
        },
        "id": "9QeBR4g9oeR5",
        "outputId": "c40e09b8-0e1b-43d0-e932-ef2a258f20b9"
      },
      "source": [
        "%%file 1.py\n",
        "import random\n",
        "for i in range(1, 1001):\n",
        "    for j in range(random.randint(3, 10)):\n",
        "        print(f'{i}\\t{random.randint(1, 1000)}')"
      ],
      "execution_count": null,
      "outputs": [
        {
          "output_type": "stream",
          "text": [
            "Writing 1.py\n"
          ],
          "name": "stdout"
        }
      ]
    },
    {
      "cell_type": "code",
      "metadata": {
        "id": "QfJc-boxqILv"
      },
      "source": [
        "!python 1.py > followers.tsv"
      ],
      "execution_count": null,
      "outputs": []
    }
  ]
}