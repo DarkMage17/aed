{
  "nbformat": 4,
  "nbformat_minor": 0,
  "metadata": {
    "colab": {
      "name": "aed 20202 101 func dispersion.ipynb",
      "provenance": [],
      "collapsed_sections": [],
      "authorship_tag": "ABX9TyOOdZ6DITSTFT8XirNuN309",
      "include_colab_link": true
    },
    "kernelspec": {
      "name": "python3",
      "display_name": "Python 3"
    }
  },
  "cells": [
    {
      "cell_type": "markdown",
      "metadata": {
        "id": "view-in-github",
        "colab_type": "text"
      },
      "source": [
        "<a href=\"https://colab.research.google.com/github/pcsilcan/aed/blob/master/20202/aed_20202_101_func_dispersion.ipynb\" target=\"_parent\"><img src=\"https://colab.research.google.com/assets/colab-badge.svg\" alt=\"Open In Colab\"/></a>"
      ]
    },
    {
      "cell_type": "code",
      "metadata": {
        "id": "6ZCxCLafEliv",
        "outputId": "a1bc4bea-2e64-4937-89ec-617043d56d91",
        "colab": {
          "base_uri": "https://localhost:8080/",
          "height": 35
        }
      },
      "source": [
        "%%writefile 1.cpp\n",
        "#include <iostream>\n",
        "#include <iomanip>\n",
        "#include <string>\n",
        "#include <math.h>\n",
        "#include <vector>\n",
        "\n",
        "using namespace std;\n",
        "\n",
        "long long compSum(string str) {\n",
        "    long long sum = 0;\n",
        "    for (char c : str) {\n",
        "        sum += c;\n",
        "    }\n",
        "    return sum;\n",
        "}\n",
        "\n",
        "long long polySum(string str) {\n",
        "    long long sum = 0;\n",
        "    int k = str.size();\n",
        "    for (char c : str) {\n",
        "        sum += (c - 'a' + 1)*pow(27, --k);\n",
        "    }\n",
        "    return sum;\n",
        "}\n",
        "\n",
        "int main() {\n",
        "    vector<string> strs = {\"alfredo\", \"cosa\", \"saco\", \"soca\",\n",
        "                           \"slp\", \"sdlo\",\n",
        "                           \"zapatito\", \"patito\", \"zapato\"};\n",
        "            \n",
        "    for (auto str : strs) {\n",
        "        cout << setw(10) << str << \": \"\n",
        "             << setw(6) << compSum(str)\n",
        "             << setw(15) << polySum(str) << endl;\n",
        "    }\n",
        "    return 1;\n",
        "}"
      ],
      "execution_count": null,
      "outputs": [
        {
          "output_type": "stream",
          "text": [
            "Overwriting 1.cpp\n"
          ],
          "name": "stdout"
        }
      ]
    },
    {
      "cell_type": "code",
      "metadata": {
        "id": "tWpR65_HG5UZ",
        "outputId": "a07940d7-80ef-4c1b-ec8e-9784d4583a9a",
        "colab": {
          "base_uri": "https://localhost:8080/",
          "height": 178
        }
      },
      "source": [
        "!g++ -std=c++17 1.cpp && ./a.out"
      ],
      "execution_count": null,
      "outputs": [
        {
          "output_type": "stream",
          "text": [
            "   alfredo:    733      563154081\n",
            "      cosa:    422          70498\n",
            "      saco:    422         374802\n",
            "      soca:    422         384994\n",
            "       slp:    335          14191\n",
            "      sdlo:    434         377232\n",
            "  zapatito:    876   272587118496\n",
            "    patito:    657      230514729\n",
            "    zapato:    655      373919235\n"
          ],
          "name": "stdout"
        }
      ]
    },
    {
      "cell_type": "code",
      "metadata": {
        "id": "bgQne-7TG_zw"
      },
      "source": [
        ""
      ],
      "execution_count": null,
      "outputs": []
    }
  ]
}