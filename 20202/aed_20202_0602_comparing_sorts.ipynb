{
  "nbformat": 4,
  "nbformat_minor": 0,
  "metadata": {
    "colab": {
      "name": "aed 20202 0602 comparing sorts.ipynb",
      "provenance": [],
      "authorship_tag": "ABX9TyNw+8lWBdsQ1I+U2loFhH5P",
      "include_colab_link": true
    },
    "kernelspec": {
      "name": "python3",
      "display_name": "Python 3"
    }
  },
  "cells": [
    {
      "cell_type": "markdown",
      "metadata": {
        "id": "view-in-github",
        "colab_type": "text"
      },
      "source": [
        "<a href=\"https://colab.research.google.com/github/pcsilcan/aed/blob/master/20202/aed_20202_0602_comparing_sorts.ipynb\" target=\"_parent\"><img src=\"https://colab.research.google.com/assets/colab-badge.svg\" alt=\"Open In Colab\"/></a>"
      ]
    },
    {
      "cell_type": "code",
      "metadata": {
        "id": "yMaaVAsiNgTm",
        "colab_type": "code",
        "colab": {
          "base_uri": "https://localhost:8080/",
          "height": 34
        },
        "outputId": "05c16f39-ee55-4d5d-fce2-7281b5fc74da"
      },
      "source": [
        "%%writefile 1.cpp\n",
        "#include <algorithm>\n",
        "#include <chrono>\n",
        "#include <iomanip>\n",
        "#include <iostream>\n",
        "#include <string>\n",
        "#include <vector>\n",
        "\n",
        "#include <stdlib.h>\n",
        "#include <time.h>\n",
        "\n",
        "using namespace std;\n",
        "using namespace std::chrono;\n",
        "\n",
        "template <typename T>\n",
        "ostream& operator<<(ostream& os, vector<T> a) {\n",
        "    os << \"[ \";\n",
        "    for (auto e : a) {\n",
        "        os << e << \" \";\n",
        "    }\n",
        "    os << \"]\";\n",
        "    return os;\n",
        "}\n",
        "\n",
        "void shuffle(vector<float>& a) {\n",
        "    for (int i = a.size() - 1; i > 0; --i) {\n",
        "        int randomPos = rand() % i;\n",
        "        swap(a[i], a[randomPos]);\n",
        "    }\n",
        "}\n",
        "\n",
        "bool isSorted(vector<float>& a) {\n",
        "    for (int i = 0; i < a.size() - 1; ++i) {\n",
        "        if (a[i] > a[i+1]) return false;\n",
        "    }\n",
        "    return true;\n",
        "}\n",
        "\n",
        "void reverse(vector<float>& a) {\n",
        "    for (int i = 0; i < a.size(); ++i) {\n",
        "        a[i] = (a.size() + 1) * 10 - (i + 1) * 10;\n",
        "    }\n",
        "}\n",
        "\n",
        "void exchangeSort(vector<float>& a) {\n",
        "    for (int i = 0; i < a.size() - 1; ++i) {\n",
        "        for (int j = i + 1; j < a.size(); ++j) {\n",
        "            if (a[i] > a[j]) {\n",
        "                swap(a[i], a[j]);\n",
        "            }\n",
        "        }\n",
        "    }\n",
        "}\n",
        "\n",
        "void bubbleSort(vector<float>& a) {\n",
        "    bool sorted;\n",
        "    for (int i = 0; i < a.size() - 1; ++i) {\n",
        "        sorted = true;\n",
        "        for (int j = 0; j < a.size() - i - 1; ++j) {\n",
        "            if (a[j] > a[j+1]) {\n",
        "                sorted = false;\n",
        "                swap(a[j], a[j+1]);\n",
        "            }\n",
        "        }\n",
        "        if (sorted) break;\n",
        "    }\n",
        "}\n",
        "\n",
        "void selectionSort(vector<float>& a) {\n",
        "    int m;\n",
        "    for (int i = 0; i < a.size() - 1; ++i) {\n",
        "        m = i;\n",
        "        for (int j = i + 1; j < a.size(); ++j) {\n",
        "            if (a[j] < a[m]) {\n",
        "                m = j;\n",
        "            }\n",
        "        }\n",
        "        if (m != i) {\n",
        "            swap(a[i], a[m]);\n",
        "        }\n",
        "    }\n",
        "}\n",
        "\n",
        "void insertionSort(vector<float>& a) {\n",
        "  for (int i = 1; i < a.size(); ++i) {\n",
        "    int j = i;\n",
        "    float e = a[i];\n",
        "    while (j > 0 && a[j - 1] > e) {\n",
        "      a[j--] = a[j - 1];\n",
        "    }\n",
        "    if (j != i) a[j] = e;\n",
        "  }\n",
        "}\n",
        "\n",
        "void testSort(void (*sort)(vector<float>&),\n",
        "              vector<float>& a, string name, bool doShuffle=true) {\n",
        "    if (doShuffle) {\n",
        "        srand(12);\n",
        "        shuffle(a);\n",
        "    }\n",
        "    steady_clock::time_point begin = steady_clock::now();\n",
        "    sort(a);\n",
        "    steady_clock::time_point end = steady_clock::now();\n",
        "\n",
        "    cout << (isSorted(a)? \"sorted\" : \"not sorted\");\n",
        "    cout << setw(16) << name << \" = \"\n",
        "         << duration_cast<nanoseconds>(end - begin).count() / 1e9\n",
        "         << \" seconds\" << endl;\n",
        "}\n",
        "\n",
        "int main() {\n",
        "\n",
        "    int n = 25000;\n",
        "    vector<float> a(n);\n",
        "\n",
        "    for (int i = 0; i < n; ++i) {\n",
        "        a[i] = (i + 1) * 10;\n",
        "    }\n",
        "\n",
        "    testSort(exchangeSort, a, \"Exchange sort\");\n",
        "    testSort(bubbleSort, a, \"Bubble sort\");\n",
        "    testSort(selectionSort, a, \"Selection sort\");\n",
        "    testSort(insertionSort, a, \"Insertion sort\");\n",
        "\n",
        "    cout << \"Reversed arrays\\n\";\n",
        "    reverse(a);\n",
        "    testSort(exchangeSort, a, \"Exchange sort\", false);\n",
        "    reverse(a);\n",
        "    testSort(bubbleSort, a, \"Bubble sort\", false);\n",
        "    reverse(a);\n",
        "    testSort(selectionSort, a, \"Selection sort\", false);\n",
        "    reverse(a);\n",
        "    testSort(insertionSort, a, \"Insertion sort\", false);\n",
        "    \n",
        "\n",
        "    return 0;\n",
        "}"
      ],
      "execution_count": 1,
      "outputs": [
        {
          "output_type": "stream",
          "text": [
            "Overwriting 1.cpp\n"
          ],
          "name": "stdout"
        }
      ]
    },
    {
      "cell_type": "code",
      "metadata": {
        "id": "fIrjps1PPhbG",
        "colab_type": "code",
        "colab": {
          "base_uri": "https://localhost:8080/",
          "height": 168
        },
        "outputId": "067b86ed-0d58-43a6-898c-798ee67742b4"
      },
      "source": [
        "!g++ -std=c++17 1.cpp && ./a.out"
      ],
      "execution_count": 2,
      "outputs": [
        {
          "output_type": "stream",
          "text": [
            "sorted   Exchange sort = 6.39652 seconds\n",
            "sorted     Bubble sort = 6.56337 seconds\n",
            "sorted  Selection sort = 2.50568 seconds\n",
            "sorted  Insertion sort = 1.32501 seconds\n",
            "Reversed arrays\n",
            "sorted   Exchange sort = 7.02294 seconds\n",
            "sorted     Bubble sort = 7.26072 seconds\n",
            "sorted  Selection sort = 2.59557 seconds\n",
            "sorted  Insertion sort = 2.63179 seconds\n"
          ],
          "name": "stdout"
        }
      ]
    }
  ]
}