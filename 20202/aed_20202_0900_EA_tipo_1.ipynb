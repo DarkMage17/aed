{
  "nbformat": 4,
  "nbformat_minor": 0,
  "metadata": {
    "colab": {
      "name": "aed 20202 0900 EA tipo 1.ipynb",
      "provenance": [],
      "authorship_tag": "ABX9TyPp1xggOaT3SALUPY5TRwRF",
      "include_colab_link": true
    },
    "kernelspec": {
      "name": "python3",
      "display_name": "Python 3"
    }
  },
  "cells": [
    {
      "cell_type": "markdown",
      "metadata": {
        "id": "view-in-github",
        "colab_type": "text"
      },
      "source": [
        "<a href=\"https://colab.research.google.com/github/pcsilcan/aed/blob/master/20202/aed_20202_0900_EA_tipo_1.ipynb\" target=\"_parent\"><img src=\"https://colab.research.google.com/assets/colab-badge.svg\" alt=\"Open In Colab\"/></a>"
      ]
    },
    {
      "cell_type": "code",
      "metadata": {
        "id": "XFjJ8aaPyYRh",
        "outputId": "ae049272-0195-492e-b256-997f1f8b5d46",
        "colab": {
          "base_uri": "https://localhost:8080/",
          "height": 35
        }
      },
      "source": [
        "%%writefile 1.cpp\n",
        "#include <iostream>\n",
        "#include <stack>\n",
        "#include <string>\n",
        "\n",
        "using namespace std;\n",
        "\n",
        "int main() {\n",
        "    stack<string> s;\n",
        "    string token;\n",
        "\n",
        "    while (cin >> token) {\n",
        "        //cout << \"\\\"\" << token << \"\\\"\" << endl;\n",
        "        if (token == \"<ul>\" || token == \"<li>\") {\n",
        "            s.push(token); //cout << \"pushing \" << token << endl;\n",
        "        } else {\n",
        "            if (token == \"</ul>\") {\n",
        "                //cout << \"top \" << s.top() << endl;\n",
        "                if (s.top() == \"<ul>\") {\n",
        "                    s.pop();\n",
        "                } else {\n",
        "                    cout << \"incorrecto\\n\";\n",
        "                    return 0;\n",
        "                }\n",
        "            } else if (token == \"</li>\") {\n",
        "                if (s.top() == \"<li>\") {\n",
        "                    s.pop();\n",
        "                } else {\n",
        "                    cout << \"incorrecto\\n\";\n",
        "                    return 0;\n",
        "                }\n",
        "            }\n",
        "        }\n",
        "    }\n",
        "    cout << \"correcto\\n\";\n",
        "\n",
        "    return 0;\n",
        "}"
      ],
      "execution_count": null,
      "outputs": [
        {
          "output_type": "stream",
          "text": [
            "Overwriting 1.cpp\n"
          ],
          "name": "stdout"
        }
      ]
    },
    {
      "cell_type": "code",
      "metadata": {
        "id": "h2ICB9CZzhyO",
        "outputId": "64217174-ffcd-41a6-9551-ebdb68e46dff",
        "colab": {
          "base_uri": "https://localhost:8080/",
          "height": 35
        }
      },
      "source": [
        "%%writefile 1.in\n",
        "<ul>\n",
        "<li> texto </li>\n",
        "<li>\n",
        "<ul>\n",
        "<li> </li>\n",
        "<li> </li>\n",
        "</ul>    \n",
        "</li>\n",
        "</ul>"
      ],
      "execution_count": null,
      "outputs": [
        {
          "output_type": "stream",
          "text": [
            "Overwriting 1.in\n"
          ],
          "name": "stdout"
        }
      ]
    },
    {
      "cell_type": "code",
      "metadata": {
        "id": "t2diqu4R0_SE",
        "outputId": "767d6bdd-a383-44a1-ebf3-ca35e2a644d2",
        "colab": {
          "base_uri": "https://localhost:8080/",
          "height": 35
        }
      },
      "source": [
        "!g++ -std=c++17 -O2 1.cpp && ./a.out < 1.in"
      ],
      "execution_count": null,
      "outputs": [
        {
          "output_type": "stream",
          "text": [
            "correcto\n"
          ],
          "name": "stdout"
        }
      ]
    },
    {
      "cell_type": "code",
      "metadata": {
        "id": "18FwVjjb1FcL"
      },
      "source": [
        ""
      ],
      "execution_count": null,
      "outputs": []
    }
  ]
}