{
  "nbformat": 4,
  "nbformat_minor": 0,
  "metadata": {
    "colab": {
      "name": "aed 0101 templates.ipynb",
      "provenance": [],
      "collapsed_sections": [],
      "authorship_tag": "ABX9TyOA4WF6Dwt0MwTiqJt7zUEM",
      "include_colab_link": true
    },
    "kernelspec": {
      "name": "python3",
      "display_name": "Python 3"
    }
  },
  "cells": [
    {
      "cell_type": "markdown",
      "metadata": {
        "id": "view-in-github",
        "colab_type": "text"
      },
      "source": [
        "<a href=\"https://colab.research.google.com/github/pcsilcan/aed/blob/master/20202/aed_0101_templates.ipynb\" target=\"_parent\"><img src=\"https://colab.research.google.com/assets/colab-badge.svg\" alt=\"Open In Colab\"/></a>"
      ]
    },
    {
      "cell_type": "markdown",
      "metadata": {
        "id": "bQMk_8f9Lbwd",
        "colab_type": "text"
      },
      "source": [
        "# C++ Templates!"
      ]
    },
    {
      "cell_type": "code",
      "metadata": {
        "id": "AElHqokcLW91",
        "colab_type": "code",
        "colab": {
          "base_uri": "https://localhost:8080/",
          "height": 34
        },
        "outputId": "7adbbd0e-9d66-4b3b-9c9a-0ef76a7e3a1a"
      },
      "source": [
        "%%writefile template1.cpp\n",
        "#include <iostream>\n",
        "#include <string>\n",
        "\n",
        "using namespace std;\n",
        "\n",
        "template <typename T>\n",
        "T sumar(T a, T b) {\n",
        "    return a + b;\n",
        "}\n",
        "\n",
        "int main() {\n",
        "\n",
        "    cout << sumar(5, 6) << endl;\n",
        "    cout << sumar(5.7, 6.1) << endl;\n",
        "    cout << sumar(5.7f, 6.1f) << endl;\n",
        "    cout << sumar(' ', ' ') << endl;\n",
        "    cout << sumar<string>(\"Hola, \", \"Mundo!\") << endl;\n",
        "\n",
        "    return 0;\n",
        "}"
      ],
      "execution_count": null,
      "outputs": [
        {
          "output_type": "stream",
          "text": [
            "Overwriting template1.cpp\n"
          ],
          "name": "stdout"
        }
      ]
    },
    {
      "cell_type": "code",
      "metadata": {
        "id": "xK7EXUggMeFh",
        "colab_type": "code",
        "colab": {
          "base_uri": "https://localhost:8080/",
          "height": 101
        },
        "outputId": "8d0623f1-648f-4f43-b83f-3c87f31e2f1b"
      },
      "source": [
        "%%script bash\n",
        "g++ template1.cpp && ./a.out"
      ],
      "execution_count": null,
      "outputs": [
        {
          "output_type": "stream",
          "text": [
            "11\n",
            "11.8\n",
            "11.8\n",
            "@\n",
            "Hola, Mundo!\n"
          ],
          "name": "stdout"
        }
      ]
    },
    {
      "cell_type": "code",
      "metadata": {
        "id": "BeYANHCAMnBR",
        "colab_type": "code",
        "colab": {
          "base_uri": "https://localhost:8080/",
          "height": 34
        },
        "outputId": "4b55d5fe-0864-4cc8-d17f-f95dbcfa367b"
      },
      "source": [
        "%%writefile template2.cpp\n",
        "#include <iostream>\n",
        "#include <string>\n",
        "\n",
        "using namespace std;\n",
        "\n",
        "template <typename T>\n",
        "T sum(T* vec, int n) {\n",
        "    T s = 0;\n",
        "    for (int i = 0; i < n; ++i) {\n",
        "        s += vec[i];\n",
        "    }\n",
        "    return s;\n",
        "}\n",
        "\n",
        "int main() {\n",
        "    int a[5] = { 1, 2, 3, 4, 5 };\n",
        "    cout << sum<int>(a, 5) << endl;\n",
        "\n",
        "    char b[2] = { ' ', ' ' };\n",
        "    cout << sum<char>(b, 2) << endl;\n",
        "\n",
        "    float c[3] = { 0.5, .5, 0. };\n",
        "    cout << sum<float>((float*)c, 3) << endl;\n",
        "\n",
        "\n",
        "    return 0;\n",
        "}"
      ],
      "execution_count": null,
      "outputs": [
        {
          "output_type": "stream",
          "text": [
            "Overwriting template2.cpp\n"
          ],
          "name": "stdout"
        }
      ]
    },
    {
      "cell_type": "code",
      "metadata": {
        "id": "ygKjDEIRPEFh",
        "colab_type": "code",
        "colab": {
          "base_uri": "https://localhost:8080/",
          "height": 67
        },
        "outputId": "874ff90d-7803-4bb4-e29d-7f45de8f33d8"
      },
      "source": [
        "%%script bash\n",
        "g++ template2.cpp && ./a.out"
      ],
      "execution_count": null,
      "outputs": [
        {
          "output_type": "stream",
          "text": [
            "15\n",
            "@\n",
            "1\n"
          ],
          "name": "stdout"
        }
      ]
    },
    {
      "cell_type": "markdown",
      "metadata": {
        "id": "_qNND3LmQ8vH",
        "colab_type": "text"
      },
      "source": [
        "### Templates y .h"
      ]
    },
    {
      "cell_type": "code",
      "metadata": {
        "id": "_Vn-6B1rPGyh",
        "colab_type": "code",
        "colab": {
          "base_uri": "https://localhost:8080/",
          "height": 34
        },
        "outputId": "2b479146-1d38-4878-f5d7-f7334462a66a"
      },
      "source": [
        "%%writefile template3.h\n",
        "#pragma once\n",
        "\n",
        "template<typename T>\n",
        "class MiClase {\n",
        "    T miAtributo;\n",
        "\n",
        "public:\n",
        "    MiClase(T miAtributo) : miAtributo(miAtributo) {}\n",
        "    T getMiAtributo();\n",
        "    void setMiAtributo(T miAtributo);\n",
        "};\n",
        "\n",
        "#include \"template3.cpp\""
      ],
      "execution_count": null,
      "outputs": [
        {
          "output_type": "stream",
          "text": [
            "Overwriting template3.h\n"
          ],
          "name": "stdout"
        }
      ]
    },
    {
      "cell_type": "code",
      "metadata": {
        "id": "Oc-appALRhwn",
        "colab_type": "code",
        "colab": {
          "base_uri": "https://localhost:8080/",
          "height": 34
        },
        "outputId": "884a5c67-a268-4d84-d7ae-21954ec8a81a"
      },
      "source": [
        "%%writefile template3.cpp\n",
        "\n",
        "#include \"template3.h\"\n",
        "\n",
        "template <typename T>\n",
        "T MiClase<T>::getMiAtributo() {\n",
        "    return miAtributo;\n",
        "}\n",
        "\n",
        "template <typename T>\n",
        "void MiClase<T>::setMiAtributo(T miAtributo) {\n",
        "    this->miAtributo = miAtributo;\n",
        "}"
      ],
      "execution_count": null,
      "outputs": [
        {
          "output_type": "stream",
          "text": [
            "Overwriting template3.cpp\n"
          ],
          "name": "stdout"
        }
      ]
    },
    {
      "cell_type": "code",
      "metadata": {
        "id": "0tX1oHLSSIUz",
        "colab_type": "code",
        "colab": {
          "base_uri": "https://localhost:8080/",
          "height": 34
        },
        "outputId": "469e9f0b-162d-4baf-d2e7-8fff2342393b"
      },
      "source": [
        "%%writefile template3Test.cpp\n",
        "#include <iostream>\n",
        "#include \"template3.h\" \n",
        "\n",
        "using namespace std;\n",
        "\n",
        "int main() {\n",
        "    MiClase<int>* mc = new MiClase<int>(10);\n",
        "\n",
        "    cout << mc->getMiAtributo() << endl;\n",
        "\n",
        "    delete mc;\n",
        "\n",
        "    return 0;\n",
        "}"
      ],
      "execution_count": null,
      "outputs": [
        {
          "output_type": "stream",
          "text": [
            "Overwriting template3Test.cpp\n"
          ],
          "name": "stdout"
        }
      ]
    },
    {
      "cell_type": "code",
      "metadata": {
        "id": "iLuF7oRESf5R",
        "colab_type": "code",
        "colab": {
          "base_uri": "https://localhost:8080/",
          "height": 34
        },
        "outputId": "d8d36ccd-b493-463b-976a-f9c63f7e42c0"
      },
      "source": [
        "%%script bash\n",
        "g++ template3Test.cpp && ./a.out"
      ],
      "execution_count": null,
      "outputs": [
        {
          "output_type": "stream",
          "text": [
            "10\n"
          ],
          "name": "stdout"
        }
      ]
    },
    {
      "cell_type": "code",
      "metadata": {
        "id": "zf9ufBqoSkxk",
        "colab_type": "code",
        "colab": {}
      },
      "source": [
        ""
      ],
      "execution_count": null,
      "outputs": []
    }
  ]
}