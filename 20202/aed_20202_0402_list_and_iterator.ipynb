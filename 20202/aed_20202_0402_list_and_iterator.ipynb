{
  "nbformat": 4,
  "nbformat_minor": 0,
  "metadata": {
    "colab": {
      "name": "aed 20202 0402 list and iterator.ipynb",
      "provenance": [],
      "collapsed_sections": [],
      "authorship_tag": "ABX9TyO4JY4UfTe6TT6l0qYtgpob",
      "include_colab_link": true
    },
    "kernelspec": {
      "name": "python3",
      "display_name": "Python 3"
    }
  },
  "cells": [
    {
      "cell_type": "markdown",
      "metadata": {
        "id": "view-in-github",
        "colab_type": "text"
      },
      "source": [
        "<a href=\"https://colab.research.google.com/github/pcsilcan/aed/blob/master/20202/aed_20202_0402_list_and_iterator.ipynb\" target=\"_parent\"><img src=\"https://colab.research.google.com/assets/colab-badge.svg\" alt=\"Open In Colab\"/></a>"
      ]
    },
    {
      "cell_type": "markdown",
      "metadata": {
        "id": "U1XHbw6NDj_F",
        "colab_type": "text"
      },
      "source": [
        "# Simple Linked List of Floats now with iterators\n",
        "## Header File - list.h"
      ]
    },
    {
      "cell_type": "code",
      "metadata": {
        "id": "L4sjUSTB_ysQ",
        "colab_type": "code",
        "colab": {
          "base_uri": "https://localhost:8080/",
          "height": 34
        },
        "outputId": "2d3fba0c-7cca-41f8-9cd7-e3654159fb7e"
      },
      "source": [
        "%%writefile list.h\n",
        "#ifndef __LIST_H__\n",
        "#define __LIST_H__\n",
        "\n",
        "class List {\n",
        "    struct Node {\n",
        "        float elem;\n",
        "        Node* next;\n",
        "\n",
        "        Node(float elem, Node* next=nullptr): elem(elem), next(next) {}\n",
        "    };\n",
        "\n",
        "    Node*   head;\n",
        "    int     len;\n",
        "public:\n",
        "    List(): head(nullptr), len(0) {}\n",
        "    ~List();\n",
        "\n",
        "    int     size        ();\n",
        "    bool    empty       ();\n",
        "\n",
        "    void    addFirst    (float elem);\n",
        "    void    addPos      (float elem, int pos);\n",
        "    void    addLast     (float elem);\n",
        "\n",
        "    void    removeFirst ();\n",
        "    void    removePos   (int pos);\n",
        "    void    removeLast  ();\n",
        "\n",
        "    void    editFirst   (float elem);\n",
        "    void    editPos     (float elem, int pos);\n",
        "    void    editLast    (float elem);\n",
        "\n",
        "    float   getFirst    ();\n",
        "    float   get         (int pos);\n",
        "    float   getLast     ();\n",
        "\n",
        "    int     find        (float elem);\n",
        "    int*    findAll     (float elem);\n",
        "\n",
        "    class iterator {\n",
        "        int     pos;\n",
        "        Node*   aux;\n",
        "    public:\n",
        "        iterator(int pos, Node* aux): pos(pos), aux(aux) {}\n",
        "\n",
        "        int operator++() {\n",
        "            ++pos;\n",
        "            aux = aux->next;\n",
        "        }\n",
        "        bool operator!=(iterator o) {\n",
        "            return this->pos != o.pos;\n",
        "        }\n",
        "        float operator*() {\n",
        "            return aux->elem;\n",
        "        }\n",
        "    };\n",
        "    \n",
        "    iterator begin();\n",
        "    iterator end();\n",
        "\n",
        "};\n",
        "\n",
        "#endif"
      ],
      "execution_count": 23,
      "outputs": [
        {
          "output_type": "stream",
          "text": [
            "Overwriting list.h\n"
          ],
          "name": "stdout"
        }
      ]
    },
    {
      "cell_type": "markdown",
      "metadata": {
        "id": "zbwdLNmdDzF8",
        "colab_type": "text"
      },
      "source": [
        "## Implementation of Node struct"
      ]
    },
    {
      "cell_type": "code",
      "metadata": {
        "id": "T1Mr2QnJAz2b",
        "colab_type": "code",
        "colab": {
          "base_uri": "https://localhost:8080/",
          "height": 34
        },
        "outputId": "ada0ebb8-5ea6-48fe-9703-2a3fa8e3f063"
      },
      "source": [
        "%%writefile node.h\n",
        "#ifndef __NODE_H__\n",
        "#define __NODE_H__\n",
        "\n",
        "#include \"list.h\"\n",
        "\n",
        "struct List::Node {\n",
        "    float elem;\n",
        "    Node* next;\n",
        "\n",
        "    Node(float elem, Node* next=nullptr): elem(elem), next(next) {}\n",
        "};\n",
        "\n",
        "#endif"
      ],
      "execution_count": 19,
      "outputs": [
        {
          "output_type": "stream",
          "text": [
            "Overwriting node.h\n"
          ],
          "name": "stdout"
        }
      ]
    },
    {
      "cell_type": "markdown",
      "metadata": {
        "id": "hZ13UqNoD8NQ",
        "colab_type": "text"
      },
      "source": [
        "## Implementation of List methods"
      ]
    },
    {
      "cell_type": "code",
      "metadata": {
        "id": "pbTLdfisD_PC",
        "colab_type": "code",
        "colab": {
          "base_uri": "https://localhost:8080/",
          "height": 34
        },
        "outputId": "15dec814-8c82-4de4-a594-c6cfaadf77fd"
      },
      "source": [
        "%%writefile list.cpp\n",
        "#include \"list.h\"\n",
        "\n",
        "List::~List() {\n",
        "    while (head != nullptr) {\n",
        "        Node* aux = head;\n",
        "        head = head->next;\n",
        "        delete aux;\n",
        "    }\n",
        "}\n",
        "\n",
        "int     List::size        () {\n",
        "    return len;\n",
        "}\n",
        "bool    List::empty       () {\n",
        "    return len == 0;\n",
        "}\n",
        "\n",
        "void    List::addFirst    (float elem) {\n",
        "    head = new Node(elem, head);\n",
        "    ++len;\n",
        "}\n",
        "void    List::addPos      (float elem, int pos) {\n",
        "    if (pos < 0 || pos > len) return;\n",
        "    if (pos == 0) {\n",
        "        addFirst(elem);\n",
        "    } else {\n",
        "        Node* aux = head;\n",
        "        for (int i = 1; i < pos; ++i) {\n",
        "            aux = aux->next;\n",
        "        }\n",
        "        aux->next = new Node(elem, aux->next);\n",
        "        ++len;\n",
        "    }\n",
        "}\n",
        "void    List::addLast     (float elem) {\n",
        "    addPos(elem, len);\n",
        "}\n",
        "\n",
        "void    List::removeFirst () {\n",
        "    if (len > 0) {\n",
        "        Node* aux = head;\n",
        "        head = head->next;\n",
        "        delete aux;\n",
        "        --len;\n",
        "    }\n",
        "}\n",
        "void    List::removePos   (int pos) {\n",
        "    if (pos < 0 || pos >= len) return;\n",
        "    if (pos == 0) {\n",
        "        removeFirst();\n",
        "    }\n",
        "    else {\n",
        "        Node* aux = head;\n",
        "        for (int i = 1; i < pos; ++i) {\n",
        "            aux = aux->next;\n",
        "        }\n",
        "        Node* aux2 = aux->next;\n",
        "        aux->next = aux2->next;\n",
        "        delete aux2;\n",
        "        --len;\n",
        "    }\n",
        "}\n",
        "void    List::removeLast  () {\n",
        "    removePos(len-1);\n",
        "}\n",
        "\n",
        "void    List::editFirst   (float elem) {\n",
        "    if (len > 0) {\n",
        "        head->elem = elem;\n",
        "    }\n",
        "}\n",
        "void    List::editPos     (float elem, int pos) {\n",
        "    if (pos < 0 || pos >= len) return;\n",
        "    Node* aux = head;\n",
        "    for (int i = 0; i < pos; ++i) {\n",
        "        aux = aux->next;\n",
        "    }\n",
        "    aux->elem = elem;\n",
        "}\n",
        "void    List::editLast    (float elem) {\n",
        "    editPos(elem, len-1);\n",
        "}\n",
        "\n",
        "float   List::getFirst    () {\n",
        "    if (len > 0) {\n",
        "        return head->elem;\n",
        "    } else {\n",
        "        -.0;\n",
        "    }\n",
        "}\n",
        "float   List::get         (int pos) {\n",
        "    if (pos < 0 || pos >= len) -.0;\n",
        "    Node* aux = head;\n",
        "    for (int i = 0; i < pos; ++i) {\n",
        "        aux = aux->next;\n",
        "    }\n",
        "    return aux->elem;\n",
        "}\n",
        "float   List::getLast     () { \n",
        "    return get(len-1);\n",
        "}\n",
        "\n",
        "int     List::find        (float elem) {\n",
        "    Node* aux = head;\n",
        "    for (int i = 0; i < len; ++i) {\n",
        "        if (aux->elem == elem) {\n",
        "            return i;\n",
        "        }\n",
        "        aux = aux->next;\n",
        "    }\n",
        "    return -1;\n",
        "}\n",
        "int*    List::findAll     (float elem) {\n",
        "    return nullptr;\n",
        "}\n",
        "\n",
        "List::iterator List::begin() {\n",
        "    return iterator(0, head);\n",
        "}\n",
        "List::iterator List::end() {\n",
        "    return iterator(len, nullptr);\n",
        "}"
      ],
      "execution_count": 24,
      "outputs": [
        {
          "output_type": "stream",
          "text": [
            "Overwriting list.cpp\n"
          ],
          "name": "stdout"
        }
      ]
    },
    {
      "cell_type": "markdown",
      "metadata": {
        "id": "RLqCLOC8E-L-",
        "colab_type": "text"
      },
      "source": [
        "### Testing the list"
      ]
    },
    {
      "cell_type": "code",
      "metadata": {
        "id": "BsXHau0eE9it",
        "colab_type": "code",
        "colab": {
          "base_uri": "https://localhost:8080/",
          "height": 34
        },
        "outputId": "0513a21d-0abf-44b3-c69c-8e2ac32bda94"
      },
      "source": [
        "%%writefile main.cpp\n",
        "#include <iostream>\n",
        "#include \"list.h\"\n",
        "\n",
        "using namespace std;\n",
        "\n",
        "int main() {\n",
        "    List lst;\n",
        "\n",
        "    cout << lst.size() << endl;\n",
        "\n",
        "    for (int i = 0; i < 20; ++i) {\n",
        "        lst.addFirst(i * 2);\n",
        "    }\n",
        "\n",
        "    cout << lst.size() << endl;\n",
        "    \n",
        "    for (float a : lst) {\n",
        "        cout << a << \" - \";\n",
        "    }\n",
        "    cout << endl;\n",
        "\n",
        "    // delete lst;\n",
        "    return 0;\n",
        "}"
      ],
      "execution_count": 29,
      "outputs": [
        {
          "output_type": "stream",
          "text": [
            "Overwriting main.cpp\n"
          ],
          "name": "stdout"
        }
      ]
    },
    {
      "cell_type": "code",
      "metadata": {
        "id": "nflZdBy5FRi0",
        "colab_type": "code",
        "colab": {
          "base_uri": "https://localhost:8080/",
          "height": 67
        },
        "outputId": "b066f848-2fda-4a7c-a789-4cf57d6d5d84"
      },
      "source": [
        "%%script bash\n",
        "g++ *.cpp && ./a.out"
      ],
      "execution_count": 30,
      "outputs": [
        {
          "output_type": "stream",
          "text": [
            "0\n",
            "20\n",
            "38 - 36 - 34 - 32 - 30 - 28 - 26 - 24 - 22 - 20 - 18 - 16 - 14 - 12 - 10 - 8 - 6 - 4 - 2 - 0 - \n"
          ],
          "name": "stdout"
        }
      ]
    },
    {
      "cell_type": "markdown",
      "metadata": {
        "id": "mYz--PY6WDQH",
        "colab_type": "text"
      },
      "source": [
        "## Ejercicio!\n",
        "Usando nuestra lista de flotantes, implemente una aplicación que permita:\n",
        "* registrar números\n",
        "* eliminar un número dada su posición en la lista\n",
        "* buscar un número y obtener su posición\n",
        "* listar todos los elementos de la lista\n"
      ]
    },
    {
      "cell_type": "code",
      "metadata": {
        "id": "F07KexkTFcpt",
        "colab_type": "code",
        "colab": {}
      },
      "source": [
        ""
      ],
      "execution_count": null,
      "outputs": []
    }
  ]
}