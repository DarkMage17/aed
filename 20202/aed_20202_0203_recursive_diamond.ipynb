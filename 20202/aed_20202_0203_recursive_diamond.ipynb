{
  "nbformat": 4,
  "nbformat_minor": 0,
  "metadata": {
    "colab": {
      "name": "aed 20202 0203 recursive diamond.ipynb",
      "provenance": [],
      "collapsed_sections": [],
      "authorship_tag": "ABX9TyPK8gsw0axj5IT6gyjv9rhi",
      "include_colab_link": true
    },
    "kernelspec": {
      "name": "python3",
      "display_name": "Python 3"
    }
  },
  "cells": [
    {
      "cell_type": "markdown",
      "metadata": {
        "id": "view-in-github",
        "colab_type": "text"
      },
      "source": [
        "<a href=\"https://colab.research.google.com/github/pcsilcan/aed/blob/master/20202/aed_20202_0203_recursive_diamond.ipynb\" target=\"_parent\"><img src=\"https://colab.research.google.com/assets/colab-badge.svg\" alt=\"Open In Colab\"/></a>"
      ]
    },
    {
      "cell_type": "code",
      "metadata": {
        "id": "6yjIM7c3UjLA",
        "colab_type": "code",
        "colab": {
          "base_uri": "https://localhost:8080/",
          "height": 34
        },
        "outputId": "20f51d58-519c-4883-fd5b-d5519f97e2bf"
      },
      "source": [
        "%%writefile rombito.cpp\n",
        "#include <iostream>\n",
        "#include <iomanip>\n",
        "\n",
        "using namespace std;\n",
        "\n",
        "void mover(int n) {\n",
        "\tif (n > 0) {\n",
        "\t\tcout << \" \";\n",
        "\t\tmover(n - 1);\n",
        "\t}\n",
        "}\n",
        "\n",
        "void dibujarH(int n, int b) { \n",
        "\tif (n > 0) {\t\t\n",
        "\t\tdibujarH(n - 1, b);\n",
        "\t\tcout << b << \" \";\n",
        "\t}\n",
        "}\n",
        "\n",
        "void dibujarV(int n, int b) {\n",
        "\tif (n > 0) {\n",
        "\t\tdibujarV(n - 1, b - 1);\n",
        "\t\tmover(20 - n);\n",
        "\t\tdibujarH(n, b);\n",
        "        cout << endl;\n",
        "\t}\n",
        "}\n",
        "void dibujarV1(int n, int b) {\n",
        "\tif (n > 0) {\n",
        "\t\tmover(21 - n);\n",
        "\t\tdibujarH(n - 1, b - 1);\n",
        "        cout << endl;\n",
        "\t\tdibujarV1(n - 1, b - 1);\n",
        "\t}\n",
        "}\n",
        "\n",
        "int main() {\n",
        "\n",
        "\tdibujarV(5, 5);\n",
        "\tdibujarV1(5, 5);\n",
        "\n",
        "\treturn 0;\n",
        "\n",
        "}"
      ],
      "execution_count": 21,
      "outputs": [
        {
          "output_type": "stream",
          "text": [
            "Overwriting rombito.cpp\n"
          ],
          "name": "stdout"
        }
      ]
    },
    {
      "cell_type": "code",
      "metadata": {
        "id": "6t7baH_TV2Lk",
        "colab_type": "code",
        "colab": {
          "base_uri": "https://localhost:8080/",
          "height": 185
        },
        "outputId": "96646b76-ee71-4837-876b-784753983fa8"
      },
      "source": [
        "%%script bash\n",
        "g++ rombito.cpp && ./a.out"
      ],
      "execution_count": 22,
      "outputs": [
        {
          "output_type": "stream",
          "text": [
            "                   1 \n",
            "                  2 2 \n",
            "                 3 3 3 \n",
            "                4 4 4 4 \n",
            "               5 5 5 5 5 \n",
            "                4 4 4 4 \n",
            "                 3 3 3 \n",
            "                  2 2 \n",
            "                   1 \n",
            "                    \n"
          ],
          "name": "stdout"
        }
      ]
    },
    {
      "cell_type": "code",
      "metadata": {
        "id": "PdPzSBhDV7li",
        "colab_type": "code",
        "colab": {}
      },
      "source": [
        ""
      ],
      "execution_count": null,
      "outputs": []
    }
  ]
}